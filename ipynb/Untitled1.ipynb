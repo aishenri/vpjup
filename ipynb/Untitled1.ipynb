{
 "cells": [
  {
   "cell_type": "code",
   "execution_count": 1,
   "metadata": {},
   "outputs": [],
   "source": [
    "from sympy import *\n",
    "from sage.calculus import *\n",
    "from sympy.integrals import laplace_transform\n",
    "from sympy.abc import t, s\n",
    "#from sympy.holonomic.holonomic import *\n",
    "#from sympy.holonomic import DifferentialOperators,  from_meijerg, from_hyper\n",
    "#from sympy.abc import x\n",
    "from sympy import ZZ "
   ]
  },
  {
   "cell_type": "code",
   "execution_count": 2,
   "metadata": {},
   "outputs": [],
   "source": [
    "x, y,b,a= symbols('x y b a  ')\n",
    "k, m, n = symbols('k m n', integer=True)\n",
    "f, g, h = symbols('f g h', cls=Function)\n",
    "init_printing(use_unicode=True) "
   ]
  },
  {
   "cell_type": "code",
   "execution_count": 6,
   "metadata": {},
   "outputs": [
    {
     "name": "stdout",
     "output_type": "stream",
     "text": [
      "hypergeometric((1, -a + 2), (2,), t)\n",
      "----\n",
      "----\n"
     ]
    }
   ],
   "source": [
    "eq= hypergeometric([1,2-a], [2], t)\n",
    "print(eq)\n",
    "print(\"----\")\n",
    "#eq3l=laplace_transform(eq,t,s)\n",
    "print(\"----\")\n",
    "#eq3l "
   ]
  },
  {
   "cell_type": "code",
   "execution_count": null,
   "metadata": {},
   "outputs": [],
   "source": []
  }
 ],
 "metadata": {
  "kernelspec": {
   "display_name": "SageMath 8.1",
   "language": "",
   "name": "sagemath"
  },
  "language_info": {
   "codemirror_mode": {
    "name": "ipython",
    "version": 2
   },
   "file_extension": ".py",
   "mimetype": "text/x-python",
   "name": "python",
   "nbconvert_exporter": "python",
   "pygments_lexer": "ipython2",
   "version": "2.7.14+"
  }
 },
 "nbformat": 4,
 "nbformat_minor": 2
}
