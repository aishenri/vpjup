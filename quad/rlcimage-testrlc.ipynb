{
 "cells": [
  {
   "cell_type": "code",
   "execution_count": 87,
   "metadata": {
    "collapsed": true,
    "deletable": true,
    "editable": true
   },
   "outputs": [],
   "source": [
    "%display latex"
   ]
  },
  {
   "cell_type": "code",
   "execution_count": 141,
   "metadata": {
    "collapsed": false,
    "deletable": true,
    "editable": true
   },
   "outputs": [
    {
     "data": {
      "text/html": [
       "<html><script type=\"math/tex; mode=display\">\\newcommand{\\Bold}[1]{\\mathbf{#1}}4 \\, \\pi^{2} y\\left(t\\right) + 2 \\, \\pi \\frac{\\partial}{\\partial t}y\\left(t\\right) + \\frac{\\partial^{2}}{(\\partial t)^{2}}y\\left(t\\right) = 4 \\, \\pi^{2} \\cos\\left(2 \\, \\pi t\\right)</script></html>"
      ],
      "text/plain": [
       "4*pi^2*y(t) + 2*pi*diff(y(t), t) + diff(y(t), t, t) == 4*pi^2*cos(2*pi*t)"
      ]
     },
     "execution_count": 141,
     "metadata": {},
     "output_type": "execute_result"
    }
   ],
   "source": [
    "var('t')\n",
    "y=function('y')(t)\n",
    "omega=2*pi*1;Q=1;f=1;\n",
    "eq=diff(y,t,2)+omega*diff(y,t)/Q+omega^2*y==omega^2*cos(2*pi*f*t);eq"
   ]
  },
  {
   "cell_type": "code",
   "execution_count": 142,
   "metadata": {
    "collapsed": false,
    "deletable": true,
    "editable": true
   },
   "outputs": [
    {
     "data": {
      "text/html": [
       "<html><script type=\"math/tex; mode=display\">\\newcommand{\\Bold}[1]{\\mathbf{#1}}4 \\, \\pi^{2} y\\left(t\\right) + 2 \\, \\pi \\frac{\\partial}{\\partial t}y\\left(t\\right) + \\frac{\\partial^{2}}{(\\partial t)^{2}}y\\left(t\\right) = 4 \\, \\pi^{2} \\cos\\left(2 \\, \\pi t\\right)</script></html>"
      ],
      "text/plain": [
       "4*pi^2*y(t) + 2*pi*diff(y(t), t) + diff(y(t), t, t) == 4*pi^2*cos(2*pi*t)"
      ]
     },
     "execution_count": 142,
     "metadata": {},
     "output_type": "execute_result"
    }
   ],
   "source": [
    "%display latex\n",
    "var('t')\n",
    "y=function('y')(t)\n",
    "omega=2*pi;Q=1;f=1;\n",
    "qu=diff(y,t,2)\\\n",
    "+omega*diff(y,t)/Q\\\n",
    "+omega^2*y==omega^2*cos(2*pi*f*t);qu"
   ]
  },
  {
   "cell_type": "code",
   "execution_count": 143,
   "metadata": {
    "collapsed": false,
    "deletable": true,
    "editable": true
   },
   "outputs": [
    {
     "data": {
      "text/html": [
       "<html><script type=\"math/tex; mode=display\">\\newcommand{\\Bold}[1]{\\mathbf{#1}}2 \\, \\pi \\frac{\\partial}{\\partial t}y\\left(t\\right) + \\frac{\\partial^{2}}{(\\partial t)^{2}}y\\left(t\\right)</script></html>"
      ],
      "text/plain": [
       "2*pi*diff(y(t), t) + diff(y(t), t, t)"
      ]
     },
     "execution_count": 143,
     "metadata": {},
     "output_type": "execute_result"
    }
   ],
   "source": [
    "diff(y,t,2)+omega*diff(y,t)"
   ]
  },
  {
   "cell_type": "code",
   "execution_count": 144,
   "metadata": {
    "collapsed": false,
    "deletable": true,
    "editable": true
   },
   "outputs": [
    {
     "data": {
      "text/html": [
       "<html><script type=\"math/tex; mode=display\">\\newcommand{\\Bold}[1]{\\mathbf{#1}}2 \\, \\pi \\frac{\\partial}{\\partial t}y\\left(t\\right)</script></html>"
      ],
      "text/plain": [
       "2*pi*diff(y(t), t)"
      ]
     },
     "execution_count": 144,
     "metadata": {},
     "output_type": "execute_result"
    }
   ],
   "source": [
    "omega*diff(y,t)"
   ]
  },
  {
   "cell_type": "code",
   "execution_count": 145,
   "metadata": {
    "collapsed": false,
    "deletable": true,
    "editable": true
   },
   "outputs": [
    {
     "data": {
      "text/html": [
       "<html><script type=\"math/tex; mode=display\">\\newcommand{\\Bold}[1]{\\mathbf{#1}}4 \\, \\pi^{2} y\\left(t\\right) + 1</script></html>"
      ],
      "text/plain": [
       "4*pi^2*y(t) + 1"
      ]
     },
     "execution_count": 145,
     "metadata": {},
     "output_type": "execute_result"
    }
   ],
   "source": [
    "Q+omega^2*y"
   ]
  },
  {
   "cell_type": "code",
   "execution_count": 146,
   "metadata": {
    "collapsed": false,
    "deletable": true,
    "editable": true
   },
   "outputs": [],
   "source": [
    "%display latex\n",
    "var('t k b ') \n",
    "x = function('x')(t) \n",
    "DE2 = diff(x,t,t) == -2*x - 1/2*diff(x,t) \n",
    "u2 = desolve(DE2, x, ivar=t)"
   ]
  },
  {
   "cell_type": "code",
   "execution_count": 147,
   "metadata": {
    "collapsed": false,
    "deletable": true,
    "editable": true
   },
   "outputs": [
    {
     "data": {
      "text/html": [
       "<html><script type=\"math/tex; mode=display\">\\newcommand{\\Bold}[1]{\\mathbf{#1}}U = I {\\left(R + R_{w}\\right)}</script></html>"
      ],
      "text/plain": [
       "U == I*(R + R_w)"
      ]
     },
     "metadata": {},
     "output_type": "display_data"
    }
   ],
   "source": [
    "var('R,R_w,I,U,U_t') \n",
    "U_t = U==I*(R+R_w)\n",
    "show(U_t)"
   ]
  },
  {
   "cell_type": "code",
   "execution_count": 148,
   "metadata": {
    "collapsed": false,
    "deletable": true,
    "editable": true
   },
   "outputs": [
    {
     "data": {
      "text/html": [
       "<html><script type=\"math/tex; mode=display\">\\newcommand{\\Bold}[1]{\\mathbf{#1}}\\left[I = \\frac{U}{R + R_{w}}\\right]</script></html>"
      ],
      "text/plain": [
       "[I == U/(R + R_w)]"
      ]
     },
     "execution_count": 148,
     "metadata": {},
     "output_type": "execute_result"
    }
   ],
   "source": [
    "eq=solve(U_t,I);eq"
   ]
  },
  {
   "cell_type": "code",
   "execution_count": 149,
   "metadata": {
    "collapsed": false,
    "deletable": true,
    "editable": true
   },
   "outputs": [
    {
     "data": {
      "text/html": [
       "<html><script type=\"math/tex; mode=display\">\\newcommand{\\Bold}[1]{\\mathbf{#1}}I^{2} R</script></html>"
      ],
      "text/plain": [
       "I^2*R"
      ]
     },
     "execution_count": 149,
     "metadata": {},
     "output_type": "execute_result"
    }
   ],
   "source": [
    "P=R*I^2;P"
   ]
  },
  {
   "cell_type": "code",
   "execution_count": 150,
   "metadata": {
    "collapsed": false,
    "deletable": true,
    "editable": true
   },
   "outputs": [
    {
     "data": {
      "text/html": [
       "<html><script type=\"math/tex; mode=display\">\\newcommand{\\Bold}[1]{\\mathbf{#1}}\\frac{R U^{2}}{{\\left(R + R_{w}\\right)}^{2}}</script></html>"
      ],
      "text/plain": [
       "R*U^2/(R + R_w)^2"
      ]
     },
     "execution_count": 150,
     "metadata": {},
     "output_type": "execute_result"
    }
   ],
   "source": [
    "P1=P.substitute(eq[0]);P1"
   ]
  },
  {
   "cell_type": "code",
   "execution_count": 151,
   "metadata": {
    "collapsed": false,
    "deletable": true,
    "editable": true
   },
   "outputs": [
    {
     "data": {
      "text/html": [
       "<html><script type=\"math/tex; mode=display\">\\newcommand{\\Bold}[1]{\\mathbf{#1}}\\frac{U^{2}}{{\\left(R + R_{w}\\right)}^{2}} - \\frac{2 \\, R U^{2}}{{\\left(R + R_{w}\\right)}^{3}} = 0</script></html>"
      ],
      "text/plain": [
       "U^2/(R + R_w)^2 - 2*R*U^2/(R + R_w)^3 == 0"
      ]
     },
     "execution_count": 151,
     "metadata": {},
     "output_type": "execute_result"
    }
   ],
   "source": [
    "P1.diff(R)==0 "
   ]
  },
  {
   "cell_type": "code",
   "execution_count": 152,
   "metadata": {
    "collapsed": false,
    "deletable": true,
    "editable": true
   },
   "outputs": [
    {
     "data": {
      "text/html": [
       "<html><script type=\"math/tex; mode=display\">\\newcommand{\\Bold}[1]{\\mathbf{#1}}\\left[R = R_{w}\\right]</script></html>"
      ],
      "text/plain": [
       "[R == R_w]"
      ]
     },
     "execution_count": 152,
     "metadata": {},
     "output_type": "execute_result"
    }
   ],
   "source": [
    "solve(_, R) "
   ]
  },
  {
   "cell_type": "code",
   "execution_count": 153,
   "metadata": {
    "collapsed": false,
    "deletable": true,
    "editable": true
   },
   "outputs": [
    {
     "data": {
      "text/html": [
       "<html><script type=\"math/tex; mode=display\">\\newcommand{\\Bold}[1]{\\mathbf{#1}}-\\frac{4 \\, U^{2}}{{\\left(R + R_{w}\\right)}^{3}} + \\frac{6 \\, R U^{2}}{{\\left(R + R_{w}\\right)}^{4}}</script></html>"
      ],
      "text/plain": [
       "-4*U^2/(R + R_w)^3 + 6*R*U^2/(R + R_w)^4"
      ]
     },
     "execution_count": 153,
     "metadata": {},
     "output_type": "execute_result"
    }
   ],
   "source": [
    "P1.diff(R, 2) "
   ]
  },
  {
   "cell_type": "code",
   "execution_count": 154,
   "metadata": {
    "collapsed": false,
    "deletable": true,
    "editable": true
   },
   "outputs": [
    {
     "data": {
      "text/html": [
       "<html><script type=\"math/tex; mode=display\">\\newcommand{\\Bold}[1]{\\mathbf{#1}}-\\frac{U^{2}}{8 \\, R_{w}^{3}}</script></html>"
      ],
      "text/plain": [
       "-1/8*U^2/R_w^3"
      ]
     },
     "execution_count": 154,
     "metadata": {},
     "output_type": "execute_result"
    }
   ],
   "source": [
    "_.substitute(R==R_w)"
   ]
  },
  {
   "cell_type": "code",
   "execution_count": 102,
   "metadata": {
    "collapsed": false,
    "deletable": true,
    "editable": true
   },
   "outputs": [
    {
     "data": {
      "text/html": [
       "<html><script type=\"math/tex; mode=display\">\\newcommand{\\Bold}[1]{\\mathbf{#1}}\\left[\\left[0 < R_{w}, U \\neq 0\\right]\\right]</script></html>"
      ],
      "text/plain": [
       "[[0 < R_w, U != 0]]"
      ]
     },
     "execution_count": 102,
     "metadata": {},
     "output_type": "execute_result"
    }
   ],
   "source": [
    "solve(_<0, R_w) "
   ]
  },
  {
   "cell_type": "code",
   "execution_count": 103,
   "metadata": {
    "collapsed": false,
    "deletable": true,
    "editable": true
   },
   "outputs": [
    {
     "data": {
      "image/png": "[encoded data removed]",
      "text/plain": [
       "Graphics object consisting of 3 graphics primitives"
      ]
     },
     "metadata": {},
     "output_type": "display_data"
    }
   ],
   "source": [
    "P2 = plot(P1.subs({U:1, R_w:2}),(R,0,10), color=\"red\",legend_label=r'$R_w=2$')\n",
    "P3 = plot(P1.subs({U:1, R_w:3}),(R,0,10), color=\"green\", legend_label=r'$R_w=3$')\n",
    "P4 = plot(P1.subs({U:1, R_w:4}),(R,0,10), color=\"blue\", legend_label=r'$R_w=4$')\n",
    "show(P2+P3+P4,figsize=4,frame=True,fontsize=8,axes=False)"
   ]
  },
  {
   "cell_type": "code",
   "execution_count": 104,
   "metadata": {
    "collapsed": false,
    "deletable": true,
    "editable": true
   },
   "outputs": [
    {
     "data": {
      "image/png": "[encoded data removed]",
      "text/plain": [
       "Graphics object consisting of 9 graphics primitives"
      ]
     },
     "metadata": {},
     "output_type": "display_data"
    }
   ],
   "source": [
    "P2l = P2 +line([(2,0),(2,0.15)], color=\"black\", thickness=0.5) +point((2, P1.subs({U:1, R_w:2, R:2}))) \n",
    "P3l = P3 +line([(3,0),(3,0.15)], color=\"black\", thickness=0.5) +point((3, P1.subs({U:1, R_w:3, R:3}))) \n",
    "P4l = P4 +line([(4,0),(4,0.15)], color=\"black\", thickness=0.5) +point((4, P1.subs({U:1, R_w:4, R:4}))) \n",
    "show(P2l+P3l+P4l,figsize=4,frame=True,fontsize=8,axes=False)"
   ]
  },
  {
   "cell_type": "code",
   "execution_count": 105,
   "metadata": {
    "collapsed": false,
    "deletable": true,
    "editable": true
   },
   "outputs": [
    {
     "data": {
      "text/html": [
       "<html><script type=\"math/tex; mode=display\">\\newcommand{\\Bold}[1]{\\mathbf{#1}}R \\ {\\mapsto}\\ \\frac{1}{4 \\, R}</script></html>"
      ],
      "text/plain": [
       "R |--> 1/4/R"
      ]
     },
     "metadata": {},
     "output_type": "display_data"
    }
   ],
   "source": [
    "p3d = plot3d(P1.substitute({U:1}), (R,0.01,1), (R_w,0.1,1)) \n",
    "f(R)=P1.substitute({U:1,R_w:R}); show(f) "
   ]
  },
  {
   "cell_type": "code",
   "execution_count": 106,
   "metadata": {
    "collapsed": false,
    "deletable": true,
    "editable": true
   },
   "outputs": [
    {
     "data": {
      "text/html": [
       "\n",
       "<iframe srcdoc=\"<!DOCTYPE html>\n",
       "<html>\n",
       "<head>\n",
       "<title></title>\n",
       "<meta charset=utf-8>\n",
       "<meta name=viewport content='width=device-width, user-scalable=no, minimum-scale=1.0, maximum-scale=1.0'>\n",
       "<style>\n",
       "\n",
       "    body { margin: 0px; overflow: hidden; }\n",
       "  \n",
       "</style>\n",
       "</head>\n",
       "\n",
       "<body>\n",
       "\n",
       "<script src=http://rawgit.com/mrdoob/three.js/r80/build/three.js></script>\n",
       "<script src=http://rawgit.com/mrdoob/three.js/r80/examples/js/controls/OrbitControls.js></script>\n",
       "\n",
       "<script>\n",
       "\n",
       "    var scene = new THREE.Scene();\n",
       "\n",
       "    var renderer = new THREE.WebGLRenderer( { antialias: true } );\n",
       "    renderer.setSize( window.innerWidth, window.innerHeight );\n",
       "    renderer.setClearColor( 0xffffff, 1 );\n",
       "    document.body.appendChild( renderer.domElement );\n",
       "\n",
       "    var options = {&quot;aspect_ratio&quot;: [1.0, 1.0, 1.0], &quot;decimals&quot;: 2, &quot;frame&quot;: true, &quot;axes&quot;: false, &quot;axes_labels&quot;: [&quot;x&quot;, &quot;y&quot;, &quot;z&quot;]};\n",
       "\n",
       "    // When animations are supported by the viewer, the value 'false'\n",
       "    // will be replaced with an option set in Python by the user\n",
       "    var animate = false; // options.animate;\n",
       "\n",
       "    var lights = [{x:0, y:0, z:10}, {x:0, y:0, z:-10}];\n",
       "    for ( var i=0 ; i < lights.length ; i++ ) {\n",
       "        var light = new THREE.DirectionalLight( 0xdddddd, 1 );\n",
       "        light.position.set( lights[i].x, lights[i].y, lights[i].z );\n",
       "        scene.add( light );\n",
       "    }\n",
       "\n",
       "    scene.add( new THREE.AmbientLight( 0x404040, 1 ) );\n",
       "\n",
       "    var b = [{x:0.01, y:0.1, z:0.0}, {x:1.0, y:1.0, z:2.5}]; // bounds\n",
       "\n",
       "    if ( b[0].x === b[1].x ) {\n",
       "        b[0].x -= 1;\n",
       "        b[1].x += 1;\n",
       "    }\n",
       "    if ( b[0].y === b[1].y ) {\n",
       "        b[0].y -= 1;\n",
       "        b[1].y += 1;\n",
       "    }\n",
       "    if ( b[0].z === b[1].z ) {\n",
       "        b[0].z -= 1;\n",
       "        b[1].z += 1;\n",
       "    }\n",
       "\n",
       "    var rRange = Math.sqrt( Math.pow( b[1].x - b[0].x, 2 )\n",
       "                            + Math.pow( b[1].x - b[0].x, 2 ) );\n",
       "    var xRange = b[1].x - b[0].x;\n",
       "    var yRange = b[1].y - b[0].y;\n",
       "    var zRange = b[1].z - b[0].z;\n",
       "\n",
       "    var ar = options.aspect_ratio;\n",
       "    var a = [ ar[0], ar[1], ar[2] ]; // aspect multipliers\n",
       "    var autoAspect = 2.5;\n",
       "    if ( zRange > autoAspect * rRange && a[2] === 1 ) a[2] = autoAspect * rRange / zRange;\n",
       "\n",
       "    var xMid = ( b[0].x + b[1].x ) / 2;\n",
       "    var yMid = ( b[0].y + b[1].y ) / 2;\n",
       "    var zMid = ( b[0].z + b[1].z ) / 2;\n",
       "\n",
       "    scene.position.set( -a[0]*xMid, -a[1]*yMid, -a[2]*zMid );\n",
       "\n",
       "    var box = new THREE.Geometry();\n",
       "    box.vertices.push( new THREE.Vector3( a[0]*b[0].x, a[1]*b[0].y, a[2]*b[0].z ) );\n",
       "    box.vertices.push( new THREE.Vector3( a[0]*b[1].x, a[1]*b[1].y, a[2]*b[1].z ) );\n",
       "    var boxMesh = new THREE.LineSegments( box );\n",
       "    if ( options.frame ) scene.add( new THREE.BoxHelper( boxMesh, 'black' ) );\n",
       "\n",
       "    if ( options.axes_labels ) {\n",
       "        var d = options.decimals; // decimals\n",
       "        var offsetRatio = 0.1;\n",
       "        var al = options.axes_labels;\n",
       "\n",
       "        var offset = offsetRatio * ( b[1].y - b[0].y );\n",
       "        var xm = xMid.toFixed(d);\n",
       "        if ( /^-0.?0*$/.test(xm) ) xm = xm.substr(1);\n",
       "        addLabel( al[0] + '=' + xm, a[0]*xMid, a[1]*b[1].y+offset, a[2]*b[0].z );\n",
       "        addLabel( ( b[0].x ).toFixed(d), a[0]*b[0].x, a[1]*b[1].y+offset, a[2]*b[0].z );\n",
       "        addLabel( ( b[1].x ).toFixed(d), a[0]*b[1].x, a[1]*b[1].y+offset, a[2]*b[0].z );\n",
       "\n",
       "        var offset = offsetRatio * ( b[1].x - b[0].x );\n",
       "        var ym = yMid.toFixed(d);\n",
       "        if ( /^-0.?0*$/.test(ym) ) ym = ym.substr(1);\n",
       "        addLabel( al[1] + '=' + ym, a[0]*b[1].x+offset, a[1]*yMid, a[2]*b[0].z );\n",
       "        addLabel( ( b[0].y ).toFixed(d), a[0]*b[1].x+offset, a[1]*b[0].y, a[2]*b[0].z );\n",
       "        addLabel( ( b[1].y ).toFixed(d), a[0]*b[1].x+offset, a[1]*b[1].y, a[2]*b[0].z );\n",
       "\n",
       "        var offset = offsetRatio * ( b[1].y - b[0].y );\n",
       "        var zm = zMid.toFixed(d);\n",
       "        if ( /^-0.?0*$/.test(zm) ) zm = zm.substr(1);\n",
       "        addLabel( al[2] + '=' + zm, a[0]*b[1].x, a[1]*b[0].y-offset, a[2]*zMid );\n",
       "        addLabel( ( b[0].z ).toFixed(d), a[0]*b[1].x, a[1]*b[0].y-offset, a[2]*b[0].z );\n",
       "        addLabel( ( b[1].z ).toFixed(d), a[0]*b[1].x, a[1]*b[0].y-offset, a[2]*b[1].z );\n",
       "    }\n",
       "\n",
       "    var texts = [];\n",
       "    for ( var i=0 ; i < texts.length ; i++ )\n",
       "        addLabel( texts[i].text, texts[i].x, texts[i].y, texts[i].z );\n",
       "\n",
       "    function addLabel( text, x, y, z ) {\n",
       "        var fontsize = 14;\n",
       "\n",
       "        var canvas = document.createElement( 'canvas' );\n",
       "        canvas.width = 128;\n",
       "        canvas.height = 32; // powers of two\n",
       "\n",
       "        var context = canvas.getContext( '2d' );\n",
       "        context.fillStyle = 'black';\n",
       "        context.font = fontsize + 'px monospace';\n",
       "        context.textAlign = 'center';\n",
       "        context.textBaseline = 'middle';\n",
       "        context.fillText( text, .5*canvas.width, .5*canvas.height );\n",
       "\n",
       "        var texture = new THREE.Texture( canvas );\n",
       "        texture.needsUpdate = true;\n",
       "\n",
       "        var sprite = new THREE.Sprite( new THREE.SpriteMaterial( { map: texture } ) );\n",
       "        sprite.position.set( x, y, z );\n",
       "        sprite.scale.set( 1, .25 ); // ratio of width to height\n",
       "        scene.add( sprite );\n",
       "    }\n",
       "\n",
       "    if ( options.axes ) scene.add( new THREE.AxisHelper( Math.min( a[0]*b[1].x, a[1]*b[1].y, a[2]*b[1].z ) ) );\n",
       "\n",
       "    var camera = new THREE.PerspectiveCamera( 45, window.innerWidth / window.innerHeight, 0.1, 1000 );\n",
       "    camera.up.set( 0, 0, 1 );\n",
       "    var cameraOut = Math.max( a[0]*xRange, a[1]*yRange, a[2]*zRange );\n",
       "    camera.position.set( cameraOut, cameraOut, cameraOut );\n",
       "    camera.lookAt( scene.position );\n",
       "\n",
       "    var controls = new THREE.OrbitControls( camera, renderer.domElement );\n",
       "    controls.addEventListener( 'change', function() { if ( !animate ) render(); } );\n",
       "\n",
       "    window.addEventListener( 'resize', function() {\n",
       "        \n",
       "        renderer.setSize( window.innerWidth, window.innerHeight );\n",
       "        camera.aspect = window.innerWidth / window.innerHeight;\n",
       "        camera.updateProjectionMatrix();\n",
       "        if ( !animate ) render();\n",
       "        \n",
       "    } );\n",
       "    \n",
       "    var points = [];\n",
       "    for ( var i=0 ; i < points.length ; i++ ) addPoint( points[i] );\n",
       "\n",
       "    function addPoint( json ) {\n",
       "        var geometry = new THREE.Geometry();\n",
       "        var v = json.point;\n",
       "        geometry.vertices.push( new THREE.Vector3( a[0]*v[0], a[1]*v[1], a[2]*v[2] ) );\n",
       "\n",
       "        var canvas = document.createElement( 'canvas' );\n",
       "        canvas.width = 128;\n",
       "        canvas.height = 128;\n",
       "\n",
       "        var context = canvas.getContext( '2d' );\n",
       "        context.arc( 64, 64, 64, 0, 2 * Math.PI );\n",
       "        context.fillStyle = json.color;\n",
       "        context.fill();\n",
       "\n",
       "        var texture = new THREE.Texture( canvas );\n",
       "        texture.needsUpdate = true;\n",
       "        var material = new THREE.PointsMaterial( { size: json.size/100, map: texture,\n",
       "                                                   transparent: true, opacity: json.opacity,\n",
       "                                                   alphaTest: .1 } );\n",
       "        scene.add( new THREE.Points( geometry, material ) );\n",
       "    }\n",
       "\n",
       "    var lines = [{points:[[0.1, 0.1, 2.5], [0.11, 0.11, 2.272727272727273], [0.12, 0.12, 2.0833333333333335], [0.13, 0.13, 1.923076923076923], [0.14, 0.14, 1.7857142857142856], [0.15000000000000002, 0.15000000000000002, 1.6666666666666665], [0.16000000000000003, 0.16000000000000003, 1.5624999999999998], [0.17000000000000004, 0.17000000000000004, 1.4705882352941173], [0.18000000000000005, 0.18000000000000005, 1.3888888888888886], [0.19000000000000006, 0.19000000000000006, 1.3157894736842102], [0.20000000000000007, 0.20000000000000007, 1.2499999999999996], [0.21000000000000008, 0.21000000000000008, 1.19047619047619], [0.22000000000000008, 0.22000000000000008, 1.136363636363636], [0.2300000000000001, 0.2300000000000001, 1.08695652173913], [0.2400000000000001, 0.2400000000000001, 1.0416666666666663], [0.2500000000000001, 0.2500000000000001, 0.9999999999999996], [0.2600000000000001, 0.2600000000000001, 0.9615384615384611], [0.27000000000000013, 0.27000000000000013, 0.9259259259259255], [0.28000000000000014, 0.28000000000000014, 0.8928571428571425], [0.29000000000000015, 0.29000000000000015, 0.862068965517241], [0.30000000000000016, 0.30000000000000016, 0.8333333333333329], [0.31000000000000016, 0.31000000000000016, 0.8064516129032254], [0.3200000000000002, 0.3200000000000002, 0.7812499999999996], [0.3300000000000002, 0.3300000000000002, 0.7575757575757571], [0.3400000000000002, 0.3400000000000002, 0.7352941176470584], [0.3500000000000002, 0.3500000000000002, 0.7142857142857139], [0.3600000000000002, 0.3600000000000002, 0.6944444444444441], [0.3700000000000002, 0.3700000000000002, 0.6756756756756753], [0.3800000000000002, 0.3800000000000002, 0.6578947368421049], [0.39000000000000024, 0.39000000000000024, 0.6410256410256406], [0.40000000000000024, 0.40000000000000024, 0.6249999999999997], [0.41000000000000025, 0.41000000000000025, 0.6097560975609753], [0.42000000000000026, 0.42000000000000026, 0.5952380952380949], [0.43000000000000027, 0.43000000000000027, 0.5813953488372089], [0.4400000000000003, 0.4400000000000003, 0.5681818181818178], [0.4500000000000003, 0.4500000000000003, 0.5555555555555552], [0.4600000000000003, 0.4600000000000003, 0.5434782608695649], [0.4700000000000003, 0.4700000000000003, 0.5319148936170209], [0.4800000000000003, 0.4800000000000003, 0.520833333333333], [0.4900000000000003, 0.4900000000000003, 0.5102040816326527], [0.5000000000000003, 0.5000000000000003, 0.49999999999999967], [0.5100000000000003, 0.5100000000000003, 0.4901960784313722], [0.5200000000000004, 0.5200000000000004, 0.48076923076923045], [0.5300000000000004, 0.5300000000000004, 0.47169811320754684], [0.5400000000000004, 0.5400000000000004, 0.46296296296296263], [0.5500000000000004, 0.5500000000000004, 0.45454545454545425], [0.5600000000000004, 0.5600000000000004, 0.4464285714285711], [0.5700000000000004, 0.5700000000000004, 0.4385964912280699], [0.5800000000000004, 0.5800000000000004, 0.4310344827586204], [0.5900000000000004, 0.5900000000000004, 0.42372881355932174], [0.6000000000000004, 0.6000000000000004, 0.41666666666666635], [0.6100000000000004, 0.6100000000000004, 0.4098360655737702], [0.6200000000000004, 0.6200000000000004, 0.4032258064516126], [0.6300000000000004, 0.6300000000000004, 0.3968253968253965], [0.6400000000000005, 0.6400000000000005, 0.3906249999999997], [0.6500000000000005, 0.6500000000000005, 0.38461538461538436], [0.6600000000000005, 0.6600000000000005, 0.3787878787878785], [0.6700000000000005, 0.6700000000000005, 0.3731343283582087], [0.6800000000000005, 0.6800000000000005, 0.36764705882352916], [0.6900000000000005, 0.6900000000000005, 0.36231884057970987], [0.7000000000000005, 0.7000000000000005, 0.3571428571428569], [0.7100000000000005, 0.7100000000000005, 0.3521126760563378], [0.7200000000000005, 0.7200000000000005, 0.347222222222222], [0.7300000000000005, 0.7300000000000005, 0.3424657534246573], [0.7400000000000005, 0.7400000000000005, 0.3378378378378376], [0.7500000000000006, 0.7500000000000006, 0.3333333333333331], [0.7600000000000006, 0.7600000000000006, 0.3289473684210524], [0.7700000000000006, 0.7700000000000006, 0.32467532467532445], [0.7800000000000006, 0.7800000000000006, 0.32051282051282026], [0.7900000000000006, 0.7900000000000006, 0.3164556962025314], [0.8000000000000006, 0.8000000000000006, 0.3124999999999998], [0.8100000000000006, 0.8100000000000006, 0.30864197530864174], [0.8200000000000006, 0.8200000000000006, 0.3048780487804876], [0.8300000000000006, 0.8300000000000006, 0.3012048192771082], [0.8400000000000006, 0.8400000000000006, 0.2976190476190474], [0.8500000000000006, 0.8500000000000006, 0.2941176470588233], [0.8600000000000007, 0.8600000000000007, 0.29069767441860445], [0.8700000000000007, 0.8700000000000007, 0.2873563218390802], [0.8800000000000007, 0.8800000000000007, 0.2840909090909089], [0.8900000000000007, 0.8900000000000007, 0.2808988764044942], [0.9000000000000007, 0.9000000000000007, 0.27777777777777757], [0.9100000000000007, 0.9100000000000007, 0.2747252747252745], [0.9200000000000007, 0.9200000000000007, 0.2717391304347824], [0.9300000000000007, 0.9300000000000007, 0.2688172043010751], [0.9400000000000007, 0.9400000000000007, 0.2659574468085104], [0.9500000000000007, 0.9500000000000007, 0.2631578947368419], [0.9600000000000007, 0.9600000000000007, 0.26041666666666646], [0.9700000000000008, 0.9700000000000008, 0.2577319587628864], [0.9800000000000008, 0.9800000000000008, 0.2551020408163263], [0.9900000000000008, 0.9900000000000008, 0.2525252525252523]], color:'red', opacity:1, linewidth:10},{points:[[0.1, 0.1, 0.0], [0.2, 0.2, 0.0], [0.30000000000000004, 0.30000000000000004, 0.0], [0.4, 0.4, 0.0], [0.5, 0.5, 0.0], [0.6, 0.6, 0.0], [0.7, 0.7, 0.0], [0.7999999999999999, 0.7999999999999999, 0.0], [0.8999999999999999, 0.8999999999999999, 0.0]], color:'gray', opacity:1, linewidth:2}];\n",
       "    for ( var i=0 ; i < lines.length ; i++ ) addLine( lines[i] );\n",
       "\n",
       "    function addLine( json ) {\n",
       "        var geometry = new THREE.Geometry();\n",
       "        for ( var i=0 ; i < json.points.length - 1 ; i++ ) {\n",
       "            var v = json.points[i];\n",
       "            geometry.vertices.push( new THREE.Vector3( a[0]*v[0], a[1]*v[1], a[2]*v[2] ) );\n",
       "            var v = json.points[i+1];\n",
       "            geometry.vertices.push( new THREE.Vector3( a[0]*v[0], a[1]*v[1], a[2]*v[2] ) );\n",
       "        }\n",
       "        var material = new THREE.LineBasicMaterial( { color: json.color, linewidth: json.linewidth,\n",
       "                                                      transparent: true, opacity: json.opacity } );\n",
       "        scene.add( new THREE.LineSegments( geometry, material ) );\n",
       "    }\n",
       "\n",
       "    var surfaces = [{vertices:[{x:0.01,y:0.1,z:0.826446},{x:0.01,y:0.123077,z:0.56467},{x:0.01,y:0.146154,z:0.410105},{x:0.01,y:0.169231,z:0.311297},{x:0.01,y:0.192308,z:0.244329},{x:0.01,y:0.215385,z:0.196857},{x:0.01,y:0.238462,z:0.161988},{x:0.01,y:0.261538,z:0.135624},{x:0.01,y:0.284615,z:0.11521},{x:0.01,y:0.307692,z:0.0990801},{x:0.01,y:0.330769,z:0.0861151},{x:0.01,y:0.353846,z:0.0755378},{x:0.01,y:0.376923,z:0.066796},{x:0.01,y:0.4,z:0.0594884},{x:0.01,y:0.423077,z:0.0533175},{x:0.01,y:0.446154,z:0.0480593},{x:0.01,y:0.469231,z:0.0435422},{x:0.01,y:0.492308,z:0.0396333},{x:0.01,y:0.515385,z:0.0362281},{x:0.01,y:0.538462,z:0.0332436},{x:0.01,y:0.561538,z:0.0306132},{x:0.01,y:0.584615,z:0.0282831},{x:0.01,y:0.607692,z:0.0262093},{x:0.01,y:0.630769,z:0.0243555},{x:0.01,y:0.653846,z:0.0226916},{x:0.01,y:0.676923,z:0.0211926},{x:0.01,y:0.7,z:0.0198373},{x:0.01,y:0.723077,z:0.0186081},{x:0.01,y:0.746154,z:0.0174896},{x:0.01,y:0.769231,z:0.016469},{x:0.01,y:0.792308,z:0.0155352},{x:0.01,y:0.815385,z:0.0146787},{x:0.01,y:0.838462,z:0.0138911},{x:0.01,y:0.861538,z:0.0131652},{x:0.01,y:0.884615,z:0.0124947},{x:0.01,y:0.907692,z:0.0118742},{x:0.01,y:0.930769,z:0.0112988},{x:0.01,y:0.953846,z:0.0107643},{x:0.01,y:0.976923,z:0.0102668},{x:0.01,y:1,z:0.00980296},{x:0.0353846,y:0.1,z:1.93053},{x:0.0353846,y:0.123077,z:1.40918},{x:0.0353846,y:0.146154,z:1.07369},{x:0.0353846,y:0.169231,z:0.845158},{x:0.0353846,y:0.192308,z:0.682524},{x:0.0353846,y:0.215385,z:0.562686},{x:0.0353846,y:0.238462,z:0.471847},{x:0.0353846,y:0.261538,z:0.401353},{x:0.0353846,y:0.284615,z:0.345553},{x:0.0353846,y:0.307692,z:0.300629},{x:0.0353846,y:0.330769,z:0.263929},{x:0.0353846,y:0.353846,z:0.233561},{x:0.0353846,y:0.376923,z:0.208148},{x:0.0353846,y:0.4,z:0.186667},{x:0.0353846,y:0.423077,z:0.168348},{x:0.0353846,y:0.446154,z:0.152599},{x:0.0353846,y:0.469231,z:0.138961},{x:0.0353846,y:0.492308,z:0.127073},{x:0.0353846,y:0.515385,z:0.116647},{x:0.0353846,y:0.538462,z:0.107454},{x:0.0353846,y:0.561538,z:0.0993065},{x:0.0353846,y:0.584615,z:0.0920515},{x:0.0353846,y:0.607692,z:0.0855635},{x:0.0353846,y:0.630769,z:0.079738},{x:0.0353846,y:0.653846,z:0.0744878},{x:0.0353846,y:0.676923,z:0.0697396},{x:0.0353846,y:0.7,z:0.0654313},{x:0.0353846,y:0.723077,z:0.0615102},{x:0.0353846,y:0.746154,z:0.0579314},{x:0.0353846,y:0.769231,z:0.054656},{x:0.0353846,y:0.792308,z:0.0516508},{x:0.0353846,y:0.815385,z:0.0488867},{x:0.0353846,y:0.838462,z:0.0463388},{x:0.0353846,y:0.861538,z:0.0439849},{x:0.0353846,y:0.884615,z:0.041806},{x:0.0353846,y:0.907692,z:0.0397851},{x:0.0353846,y:0.930769,z:0.0379072},{x:0.0353846,y:0.953846,z:0.0361592},{x:0.0353846,y:0.976923,z:0.0345294},{x:0.0353846,y:1,z:0.0330074},{x:0.0607692,y:0.1,z:2.35114},{x:0.0607692,y:0.123077,z:1.79794},{x:0.0607692,y:0.146154,z:1.41927},{x:0.0607692,y:0.169231,z:1.14876},{x:0.0607692,y:0.192308,z:0.948809},{x:0.0607692,y:0.215385,z:0.796859},{x:0.0607692,y:0.238462,z:0.67869},{x:0.0607692,y:0.261538,z:0.584982},{x:0.0607692,y:0.284615,z:0.509422},{x:0.0607692,y:0.307692,z:0.44761},{x:0.0607692,y:0.330769,z:0.396401},{x:0.0607692,y:0.353846,z:0.353503},{x:0.0607692,y:0.376923,z:0.317209},{x:0.0607692,y:0.4,z:0.286231},{x:0.0607692,y:0.423077,z:0.259579},{x:0.0607692,y:0.446154,z:0.236483},{x:0.0607692,y:0.469231,z:0.216338},{x:0.0607692,y:0.492308,z:0.198661},{x:0.0607692,y:0.515385,z:0.183066},{x:0.0607692,y:0.538462,z:0.169237},{x:0.0607692,y:0.561538,z:0.156918},{x:0.0607692,y:0.584615,z:0.145897},{x:0.0607692,y:0.607692,z:0.135997},{x:0.0607692,y:0.630769,z:0.127072},{x:0.0607692,y:0.653846,z:0.118998},{x:0.0607692,y:0.676923,z:0.111669},{x:0.0607692,y:0.7,z:0.104997},{x:0.0607692,y:0.723077,z:0.0989059},{x:0.0607692,y:0.746154,z:0.0933296},{x:0.0607692,y:0.769231,z:0.088212},{x:0.0607692,y:0.792308,z:0.083504},{x:0.0607692,y:0.815385,z:0.0791631},{x:0.0607692,y:0.838462,z:0.0751522},{x:0.0607692,y:0.861538,z:0.0714385},{x:0.0607692,y:0.884615,z:0.0679934},{x:0.0607692,y:0.907692,z:0.0647916},{x:0.0607692,y:0.930769,z:0.0618108},{x:0.0607692,y:0.953846,z:0.0590311},{x:0.0607692,y:0.976923,z:0.0564347},{x:0.0607692,y:1,z:0.054006},{x:0.0861538,y:0.1,z:2.48617},{x:0.0861538,y:0.123077,z:1.96799},{x:0.0861538,y:0.146154,z:1.59642},{x:0.0861538,y:0.169231,z:1.32095},{x:0.0861538,y:0.192308,z:1.11108},{x:0.0861538,y:0.215385,z:0.947522},{x:0.0861538,y:0.238462,z:0.817592},{x:0.0861538,y:0.261538,z:0.712663},{x:0.0861538,y:0.284615,z:0.626711},{x:0.0861538,y:0.307692,z:0.55542},{x:0.0861538,y:0.330769,z:0.495636},{x:0.0861538,y:0.353846,z:0.44501},{x:0.0861538,y:0.376923,z:0.401762},{x:0.0861538,y:0.4,z:0.364525},{x:0.0861538,y:0.423077,z:0.332235},{x:0.0861538,y:0.446154,z:0.304053},{x:0.0861538,y:0.469231,z:0.27931},{x:0.0861538,y:0.492308,z:0.257469},{x:0.0861538,y:0.515385,z:0.238094},{x:0.0861538,y:0.538462,z:0.220826},{x:0.0861538,y:0.561538,z:0.20537},{x:0.0861538,y:0.584615,z:0.191482},{x:0.0861538,y:0.607692,z:0.178957},{x:0.0861538,y:0.630769,z:0.167621},{x:0.0861538,y:0.653846,z:0.15733},{x:0.0861538,y:0.676923,z:0.147958},{x:0.0861538,y:0.7,z:0.139399},{x:0.0861538,y:0.723077,z:0.131562},{x:0.0861538,y:0.746154,z:0.124367},{x:0.0861538,y:0.769231,z:0.117748},{x:0.0861538,y:0.792308,z:0.111642},{x:0.0861538,y:0.815385,z:0.106},{x:0.0861538,y:0.838462,z:0.100775},{x:0.0861538,y:0.861538,z:0.0959268},{x:0.0861538,y:0.884615,z:0.0914203},{x:0.0861538,y:0.907692,z:0.0872241},{x:0.0861538,y:0.930769,z:0.0833103},{x:0.0861538,y:0.953846,z:0.0796541},{x:0.0861538,y:0.976923,z:0.0762334},{x:0.0861538,y:1,z:0.0730284},{x:0.111538,y:0.1,z:2.49256},{x:0.111538,y:0.123077,z:2.02634},{x:0.111538,y:0.146154,z:1.67966},{x:0.111538,y:0.169231,z:1.4149},{x:0.111538,y:0.192308,z:1.20814},{x:0.111538,y:0.215385,z:1.0436},{x:0.111538,y:0.238462,z:0.910518},{x:0.111538,y:0.261538,z:0.80136},{x:0.111538,y:0.284615,z:0.710717},{x:0.111538,y:0.307692,z:0.634627},{x:0.111538,y:0.330769,z:0.570132},{x:0.111538,y:0.353846,z:0.514992},{x:0.111538,y:0.376923,z:0.467481},{x:0.111538,y:0.4,z:0.426254},{x:0.111538,y:0.423077,z:0.390249},{x:0.111538,y:0.446154,z:0.358621},{x:0.111538,y:0.469231,z:0.330687},{x:0.111538,y:0.492308,z:0.305895},{x:0.111538,y:0.515385,z:0.283789},{x:0.111538,y:0.538462,z:0.263996},{x:0.111538,y:0.561538,z:0.246204},{x:0.111538,y:0.584615,z:0.230152},{x:0.111538,y:0.607692,z:0.21562},{x:0.111538,y:0.630769,z:0.202422},{x:0.111538,y:0.653846,z:0.190399},{x:0.111538,y:0.676923,z:0.179417},{x:0.111538,y:0.7,z:0.169358},{x:0.111538,y:0.723077,z:0.160122},{x:0.111538,y:0.746154,z:0.151622},{x:0.111538,y:0.769231,z:0.143781},{x:0.111538,y:0.792308,z:0.136532},{x:0.111538,y:0.815385,z:0.129819},{x:0.111538,y:0.838462,z:0.123588},{x:0.111538,y:0.861538,z:0.117796},{x:0.111538,y:0.884615,z:0.112401},{x:0.111538,y:0.907692,z:0.107369},{x:0.111538,y:0.930769,z:0.102667},{x:0.111538,y:0.953846,z:0.0982679},{x:0.111538,y:0.976923,z:0.0941453},{x:0.111538,y:1,z:0.0902767},{x:0.136923,y:0.1,z:2.43928},{x:0.136923,y:0.123077,z:2.02549},{x:0.136923,y:0.146154,z:1.70871},{x:0.136923,y:0.169231,z:1.46082},{x:0.136923,y:0.192308,z:1.26321},{x:0.136923,y:0.215385,z:1.10314},{x:0.136923,y:0.238462,z:0.971681},{x:0.136923,y:0.261538,z:0.86239},{x:0.136923,y:0.284615,z:0.770553},{x:0.136923,y:0.307692,z:0.69264},{x:0.136923,y:0.330769,z:0.625974},{x:0.136923,y:0.353846,z:0.568489},{x:0.136923,y:0.376923,z:0.518574},{x:0.136923,y:0.4,z:0.474955},{x:0.136923,y:0.423077,z:0.436617},{x:0.136923,y:0.446154,z:0.40274},{x:0.136923,y:0.469231,z:0.372658},{x:0.136923,y:0.492308,z:0.345825},{x:0.136923,y:0.515385,z:0.321789},{x:0.136923,y:0.538462,z:0.300175},{x:0.136923,y:0.561538,z:0.280667},{x:0.136923,y:0.584615,z:0.263001},{x:0.136923,y:0.607692,z:0.246952},{x:0.136923,y:0.630769,z:0.232328},{x:0.136923,y:0.653846,z:0.218966},{x:0.136923,y:0.676923,z:0.206725},{x:0.136923,y:0.7,z:0.195481},{x:0.136923,y:0.723077,z:0.185131},{x:0.136923,y:0.746154,z:0.175582},{x:0.136923,y:0.769231,z:0.166753},{x:0.136923,y:0.792308,z:0.158573},{x:0.136923,y:0.815385,z:0.150981},{x:0.136923,y:0.838462,z:0.143921},{x:0.136923,y:0.861538,z:0.137345},{x:0.136923,y:0.884615,z:0.13121},{x:0.136923,y:0.907692,z:0.125477},{x:0.136923,y:0.930769,z:0.120111},{x:0.136923,y:0.953846,z:0.115083},{x:0.136923,y:0.976923,z:0.110364},{x:0.136923,y:1,z:0.105929},{x:0.162308,y:0.1,z:2.35894},{x:0.162308,y:0.123077,z:1.99287},{x:0.162308,y:0.146154,z:1.70584},{x:0.162308,y:0.169231,z:1.47663},{x:0.162308,y:0.192308,z:1.2907},{x:0.162308,y:0.215385,z:1.13779},{x:0.162308,y:0.238462,z:1.01053},{x:0.162308,y:0.261538,z:0.903488},{x:0.162308,y:0.284615,z:0.812594},{x:0.162308,y:0.307692,z:0.734756},{x:0.162308,y:0.330769,z:0.66759},{x:0.162308,y:0.353846,z:0.609229},{x:0.162308,y:0.376923,z:0.5582},{x:0.162308,y:0.4,z:0.513323},{x:0.162308,y:0.423077,z:0.473649},{x:0.162308,y:0.446154,z:0.438402},{x:0.162308,y:0.469231,z:0.406949},{x:0.162308,y:0.492308,z:0.378762},{x:0.162308,y:0.515385,z:0.353406},{x:0.162308,y:0.538462,z:0.330513},{x:0.162308,y:0.561538,z:0.309775},{x:0.162308,y:0.584615,z:0.290929},{x:0.162308,y:0.607692,z:0.273752},{x:0.162308,y:0.630769,z:0.258053},{x:0.162308,y:0.653846,z:0.243666},{x:0.162308,y:0.676923,z:0.23045},{x:0.162308,y:0.7,z:0.21828},{x:0.162308,y:0.723077,z:0.20705},{x:0.162308,y:0.746154,z:0.196665},{x:0.162308,y:0.769231,z:0.187041},{x:0.162308,y:0.792308,z:0.178108},{x:0.162308,y:0.815385,z:0.169799},{x:0.162308,y:0.838462,z:0.162058},{x:0.162308,y:0.861538,z:0.154835},{x:0.162308,y:0.884615,z:0.148084},{x:0.162308,y:0.907692,z:0.141766},{x:0.162308,y:0.930769,z:0.135843},{x:0.162308,y:0.953846,z:0.130284},{x:0.162308,y:0.976923,z:0.125059},{x:0.162308,y:1,z:0.120143},{x:0.187692,y:0.1,z:2.26772},{x:0.187692,y:0.123077,z:1.94344},{x:0.187692,y:0.146154,z:1.68405},{x:0.187692,y:0.169231,z:1.47332},{x:0.187692,y:0.192308,z:1.29981},{x:0.187692,y:0.215385,z:1.15524},{x:0.187692,y:0.238462,z:1.03351},{x:0.187692,y:0.261538,z:0.930053},{x:0.187692,y:0.284615,z:0.841388},{x:0.187692,y:0.307692,z:0.764824},{x:0.187692,y:0.330769,z:0.698254},{x:0.187692,y:0.353846,z:0.640012},{x:0.187692,y:0.376923,z:0.588764},{x:0.187692,y:0.4,z:0.543434},{x:0.187692,y:0.423077,z:0.503144},{x:0.187692,y:0.446154,z:0.467174},{x:0.187692,y:0.469231,z:0.434928},{x:0.187692,y:0.492308,z:0.405909},{x:0.187692,y:0.515385,z:0.3797},{x:0.187692,y:0.538462,z:0.35595},{x:0.187692,y:0.561538,z:0.334361},{x:0.187692,y:0.584615,z:0.314678},{x:0.187692,y:0.607692,z:0.296683},{x:0.187692,y:0.630769,z:0.280188},{x:0.187692,y:0.653846,z:0.265032},{x:0.187692,y:0.676923,z:0.251073},{x:0.187692,y:0.7,z:0.238189},{x:0.187692,y:0.723077,z:0.226271},{x:0.187692,y:0.746154,z:0.215227},{x:0.187692,y:0.769231,z:0.204971},{x:0.187692,y:0.792308,z:0.195431},{x:0.187692,y:0.815385,z:0.186543},{x:0.187692,y:0.838462,z:0.178247},{x:0.187692,y:0.861538,z:0.170492},{x:0.187692,y:0.884615,z:0.163233},{x:0.187692,y:0.907692,z:0.156428},{x:0.187692,y:0.930769,z:0.150039},{x:0.187692,y:0.953846,z:0.144034},{x:0.187692,y:0.976923,z:0.138383},{x:0.187692,y:1,z:0.133057},{x:0.213077,y:0.1,z:2.17387},{x:0.213077,y:0.123077,z:1.88565},{x:0.213077,y:0.146154,z:1.65116},{x:0.213077,y:0.169231,z:1.45784},{x:0.213077,y:0.192308,z:1.29659},{x:0.213077,y:0.215385,z:1.16068},{x:0.213077,y:0.238462,z:1.04507},{x:0.213077,y:0.261538,z:0.945916},{x:0.213077,y:0.284615,z:0.86023},{x:0.213077,y:0.307692,z:0.78568},{x:0.213077,y:0.330769,z:0.720418},{x:0.213077,y:0.353846,z:0.662961},{x:0.213077,y:0.376923,z:0.612114},{x:0.213077,y:0.4,z:0.5669},{x:0.213077,y:0.423077,z:0.526517},{x:0.213077,y:0.446154,z:0.4903},{x:0.213077,y:0.469231,z:0.457695},{x:0.213077,y:0.492308,z:0.428237},{x:0.213077,y:0.515385,z:0.401535},{x:0.213077,y:0.538462,z:0.377254},{x:0.213077,y:0.561538,z:0.355111},{x:0.213077,y:0.584615,z:0.334862},{x:0.213077,y:0.607692,z:0.316296},{x:0.213077,y:0.630769,z:0.299233},{x:0.213077,y:0.653846,z:0.283515},{x:0.213077,y:0.676923,z:0.269003},{x:0.213077,y:0.7,z:0.255577},{x:0.213077,y:0.723077,z:0.243132},{x:0.213077,y:0.746154,z:0.231574},{x:0.213077,y:0.769231,z:0.220821},{x:0.213077,y:0.792308,z:0.210801},{x:0.213077,y:0.815385,z:0.201447},{x:0.213077,y:0.838462,z:0.192702},{x:0.213077,y:0.861538,z:0.184514},{x:0.213077,y:0.884615,z:0.176838},{x:0.213077,y:0.907692,z:0.169631},{x:0.213077,y:0.930769,z:0.162855},{x:0.213077,y:0.953846,z:0.156478},{x:0.213077,y:0.976923,z:0.150467},{x:0.213077,y:1,z:0.144797},{x:0.238462,y:0.1,z:2.08161},{x:0.238462,y:0.123077,z:1.82435},{x:0.238462,y:0.146154,z:1.612},{x:0.238462,y:0.169231,z:1.43467},{x:0.238462,y:0.192308,z:1.28508},{x:0.238462,y:0.215385,z:1.15771},{x:0.238462,y:0.238462,z:1.04839},{x:0.238462,y:0.261538,z:0.953846},{x:0.238462,y:0.284615,z:0.87154},{x:0.238462,y:0.307692,z:0.799445},{x:0.238462,y:0.330769,z:0.735939},{x:0.238462,y:0.353846,z:0.67971},{x:0.238462,y:0.376923,z:0.629687},{x:0.238462,y:0.4,z:0.584991},{x:0.238462,y:0.423077,z:0.544889},{x:0.238462,y:0.446154,z:0.508774},{x:0.238462,y:0.469231,z:0.476134},{x:0.238462,y:0.492308,z:0.446537},{x:0.238462,y:0.515385,z:0.419617},{x:0.238462,y:0.538462,z:0.395059},{x:0.238462,y:0.561538,z:0.372596},{x:0.238462,y:0.584615,z:0.351996},{x:0.238462,y:0.607692,z:0.333058},{x:0.238462,y:0.630769,z:0.315608},{x:0.238462,y:0.653846,z:0.299495},{x:0.238462,y:0.676923,z:0.284584},{x:0.238462,y:0.7,z:0.270761},{x:0.238462,y:0.723077,z:0.25792},{x:0.238462,y:0.746154,z:0.245972},{x:0.238462,y:0.769231,z:0.234835},{x:0.238462,y:0.792308,z:0.224438},{x:0.238462,y:0.815385,z:0.214716},{x:0.238462,y:0.838462,z:0.205612},{x:0.238462,y:0.861538,z:0.197076},{x:0.238462,y:0.884615,z:0.18906},{x:0.238462,y:0.907692,z:0.181523},{x:0.238462,y:0.930769,z:0.174429},{x:0.238462,y:0.953846,z:0.167742},{x:0.238462,y:0.976923,z:0.161432},{x:0.238462,y:1,z:0.155472},{x:0.263846,y:0.1,z:1.99304},{x:0.263846,y:0.123077,z:1.76239},{x:0.263846,y:0.146154,z:1.56958},{x:0.263846,y:0.169231,z:1.40676},{x:0.263846,y:0.192308,z:1.26803},{x:0.263846,y:0.215385,z:1.14884},{x:0.263846,y:0.238462,z:1.04571},{x:0.263846,y:0.261538,z:0.955864},{x:0.263846,y:0.284615,z:0.877119},{x:0.263846,y:0.307692,z:0.807718},{x:0.263846,y:0.330769,z:0.74624},{x:0.263846,y:0.353846,z:0.691523},{x:0.263846,y:0.376923,z:0.64261},{x:0.263846,y:0.4,z:0.598709},{x:0.263846,y:0.423077,z:0.559158},{x:0.263846,y:0.446154,z:0.5234},{x:0.263846,y:0.469231,z:0.490966},{x:0.263846,y:0.492308,z:0.461456},{x:0.263846,y:0.515385,z:0.434529},{x:0.263846,y:0.538462,z:0.409891},{x:0.263846,y:0.561538,z:0.387292},{x:0.263846,y:0.584615,z:0.366511},{x:0.263846,y:0.607692,z:0.347358},{x:0.263846,y:0.630769,z:0.329669},{x:0.263846,y:0.653846,z:0.313297},{x:0.263846,y:0.676923,z:0.298116},{x:0.263846,y:0.7,z:0.284011},{x:0.263846,y:0.723077,z:0.270885},{x:0.263846,y:0.746154,z:0.258647},{x:0.263846,y:0.769231,z:0.247221},{x:0.263846,y:0.792308,z:0.236536},{x:0.263846,y:0.815385,z:0.226528},{x:0.263846,y:0.838462,z:0.217143},{x:0.263846,y:0.861538,z:0.208329},{x:0.263846,y:0.884615,z:0.20004},{x:0.263846,y:0.907692,z:0.192237},{x:0.263846,y:0.930769,z:0.184882},{x:0.263846,y:0.953846,z:0.177941},{x:0.263846,y:0.976923,z:0.171383},{x:0.263846,y:1,z:0.165182},{x:0.289231,y:0.1,z:1.90911},{x:0.289231,y:0.123077,z:1.70138},{x:0.289231,y:0.146154,z:1.5258},{x:0.289231,y:0.169231,z:1.37606},{x:0.289231,y:0.192308,z:1.24733},{x:0.289231,y:0.215385,z:1.13586},{x:0.289231,y:0.238462,z:1.03868},{x:0.289231,y:0.261538,z:0.953466},{x:0.289231,y:0.284615,z:0.878322},{x:0.289231,y:0.307692,z:0.811723},{x:0.289231,y:0.330769,z:0.752421},{x:0.289231,y:0.353846,z:0.699389},{x:0.289231,y:0.376923,z:0.651772},{x:0.289231,y:0.4,z:0.608857},{x:0.289231,y:0.423077,z:0.570045},{x:0.289231,y:0.446154,z:0.53483},{x:0.289231,y:0.469231,z:0.502779},{x:0.289231,y:0.492308,z:0.473526},{x:0.289231,y:0.515385,z:0.446753},{x:0.289231,y:0.538462,z:0.422189},{x:0.289231,y:0.561538,z:0.399596},{x:0.289231,y:0.584615,z:0.378769},{x:0.289231,y:0.607692,z:0.359529},{x:0.289231,y:0.630769,z:0.341719},{x:0.289231,y:0.653846,z:0.3252},{x:0.289231,y:0.676923,z:0.30985},{x:0.289231,y:0.7,z:0.295562},{x:0.289231,y:0.723077,z:0.282241},{x:0.289231,y:0.746154,z:0.269799},{x:0.289231,y:0.769231,z:0.258163},{x:0.289231,y:0.792308,z:0.247264},{x:0.289231,y:0.815385,z:0.23704},{x:0.289231,y:0.838462,z:0.227438},{x:0.289231,y:0.861538,z:0.218408},{x:0.289231,y:0.884615,z:0.209905},{x:0.289231,y:0.907692,z:0.201889},{x:0.289231,y:0.930769,z:0.194323},{x:0.289231,y:0.953846,z:0.187175},{x:0.289231,y:0.976923,z:0.180415},{x:0.289231,y:1,z:0.174014},{x:0.314615,y:0.1,z:1.83016},{x:0.314615,y:0.123077,z:1.64226},{x:0.314615,y:0.146154,z:1.48188},{x:0.314615,y:0.169231,z:1.3439},{x:0.314615,y:0.192308,z:1.22432},{x:0.314615,y:0.215385,z:1.12003},{x:0.314615,y:0.238462,z:1.02851},{x:0.314615,y:0.261538,z:0.94777},{x:0.314615,y:0.284615,z:0.876177},{x:0.314615,y:0.307692,z:0.812399},{x:0.314615,y:0.330769,z:0.75534},{x:0.314615,y:0.353846,z:0.704088},{x:0.314615,y:0.376923,z:0.657881},{x:0.314615,y:0.4,z:0.616077},{x:0.314615,y:0.423077,z:0.578135},{x:0.314615,y:0.446154,z:0.543593},{x:0.314615,y:0.469231,z:0.512057},{x:0.314615,y:0.492308,z:0.483187},{x:0.314615,y:0.515385,z:0.456692},{x:0.314615,y:0.538462,z:0.432318},{x:0.314615,y:0.561538,z:0.409845},{x:0.314615,y:0.584615,z:0.389079},{x:0.314615,y:0.607692,z:0.369852},{x:0.314615,y:0.630769,z:0.352016},{x:0.314615,y:0.653846,z:0.33544},{x:0.314615,y:0.676923,z:0.320008},{x:0.314615,y:0.7,z:0.305617},{x:0.314615,y:0.723077,z:0.292175},{x:0.314615,y:0.746154,z:0.279601},{x:0.314615,y:0.769231,z:0.267821},{x:0.314615,y:0.792308,z:0.25677},{x:0.314615,y:0.815385,z:0.24639},{x:0.314615,y:0.838462,z:0.236627},{x:0.314615,y:0.861538,z:0.227432},{x:0.314615,y:0.884615,z:0.218763},{x:0.314615,y:0.907692,z:0.210581},{x:0.314615,y:0.930769,z:0.202849},{x:0.314615,y:0.953846,z:0.195535},{x:0.314615,y:0.976923,z:0.18861},{x:0.314615,y:1,z:0.182047},{x:0.34,y:0.1,z:1.7562},{x:0.34,y:0.123077,z:1.58552},{x:0.34,y:0.146154,z:1.43857},{x:0.34,y:0.169231,z:1.31114},{x:0.34,y:0.192308,z:1.19992},{x:0.34,y:0.215385,z:1.10228},{x:0.34,y:0.238462,z:1.01608},{x:0.34,y:0.261538,z:0.93962},{x:0.34,y:0.284615,z:0.871472},{x:0.34,y:0.307692,z:0.810478},{x:0.34,y:0.330769,z:0.755671},{x:0.34,y:0.353846,z:0.70624},{x:0.34,y:0.376923,z:0.661506},{x:0.34,y:0.4,z:0.620891},{x:0.34,y:0.423077,z:0.583905},{x:0.34,y:0.446154,z:0.550128},{x:0.34,y:0.469231,z:0.519199},{x:0.34,y:0.492308,z:0.490807},{x:0.34,y:0.515385,z:0.464682},{x:0.34,y:0.538462,z:0.440589},{x:0.34,y:0.561538,z:0.418322},{x:0.34,y:0.584615,z:0.397701},{x:0.34,y:0.607692,z:0.378568},{x:0.34,y:0.630769,z:0.360784},{x:0.34,y:0.653846,z:0.344224},{x:0.34,y:0.676923,z:0.328778},{x:0.34,y:0.7,z:0.314349},{x:0.34,y:0.723077,z:0.30085},{x:0.34,y:0.746154,z:0.288201},{x:0.34,y:0.769231,z:0.276334},{x:0.34,y:0.792308,z:0.265186},{x:0.34,y:0.815385,z:0.254698},{x:0.34,y:0.838462,z:0.244821},{x:0.34,y:0.861538,z:0.235507},{x:0.34,y:0.884615,z:0.226715},{x:0.34,y:0.907692,z:0.218406},{x:0.34,y:0.930769,z:0.210545},{x:0.34,y:0.953846,z:0.203102},{x:0.34,y:0.976923,z:0.196046},{x:0.34,y:1,z:0.189352},{x:0.365385,y:0.1,z:1.68704},{x:0.365385,y:0.123077,z:1.5314},{x:0.365385,y:0.146154,z:1.39635},{x:0.365385,y:0.169231,z:1.2784},{x:0.365385,y:0.192308,z:1.17479},{x:0.365385,y:0.215385,z:1.08329},{x:0.365385,y:0.238462,z:1.00207},{x:0.365385,y:0.261538,z:0.929655},{x:0.365385,y:0.284615,z:0.864816},{x:0.365385,y:0.307692,z:0.806531},{x:0.365385,y:0.330769,z:0.753945},{x:0.365385,y:0.353846,z:0.70634},{x:0.365385,y:0.376923,z:0.663105},{x:0.365385,y:0.4,z:0.623722},{x:0.365385,y:0.423077,z:0.587745},{x:0.365385,y:0.446154,z:0.554794},{x:0.365385,y:0.469231,z:0.524539},{x:0.365385,y:0.492308,z:0.496692},{x:0.365385,y:0.515385,z:0.471006},{x:0.365385,y:0.538462,z:0.447261},{x:0.365385,y:0.561538,z:0.425268},{x:0.365385,y:0.584615,z:0.404858},{x:0.365385,y:0.607692,z:0.385883},{x:0.365385,y:0.630769,z:0.368212},{x:0.365385,y:0.653846,z:0.351727},{x:0.365385,y:0.676923,z:0.336324},{x:0.365385,y:0.7,z:0.321912},{x:0.365385,y:0.723077,z:0.308407},{x:0.365385,y:0.746154,z:0.295734},{x:0.365385,y:0.769231,z:0.283826},{x:0.365385,y:0.792308,z:0.272624},{x:0.365385,y:0.815385,z:0.262072},{x:0.365385,y:0.838462,z:0.252121},{x:0.365385,y:0.861538,z:0.242726},{x:0.365385,y:0.884615,z:0.233846},{x:0.365385,y:0.907692,z:0.225445},{x:0.365385,y:0.930769,z:0.217489},{x:0.365385,y:0.953846,z:0.209947},{x:0.365385,y:0.976923,z:0.20279},{x:0.365385,y:1,z:0.195993},{x:0.390769,y:0.1,z:1.62243},{x:0.390769,y:0.123077,z:1.47997},{x:0.390769,y:0.146154,z:1.35549},{x:0.390769,y:0.169231,z:1.24608},{x:0.390769,y:0.192308,z:1.14939},{x:0.390769,y:0.215385,z:1.06354},{x:0.390769,y:0.238462,z:0.986962},{x:0.390769,y:0.261538,z:0.918365},{x:0.390769,y:0.284615,z:0.856679},{x:0.390769,y:0.307692,z:0.801005},{x:0.390769,y:0.330769,z:0.750588},{x:0.390769,y:0.353846,z:0.704785},{x:0.390769,y:0.376923,z:0.66305},{x:0.390769,y:0.4,z:0.624915},{x:0.390769,y:0.423077,z:0.589978},{x:0.390769,y:0.446154,z:0.557891},{x:0.390769,y:0.469231,z:0.528352},{x:0.390769,y:0.492308,z:0.501099},{x:0.390769,y:0.515385,z:0.475901},{x:0.390769,y:0.538462,z:0.452557},{x:0.390769,y:0.561538,z:0.430889},{x:0.390769,y:0.584615,z:0.410741},{x:0.390769,y:0.607692,z:0.391974},{x:0.390769,y:0.630769,z:0.374465},{x:0.390769,y:0.653846,z:0.358103},{x:0.390769,y:0.676923,z:0.34279},{x:0.390769,y:0.7,z:0.328439},{x:0.390769,y:0.723077,z:0.314971},{x:0.390769,y:0.746154,z:0.302314},{x:0.390769,y:0.769231,z:0.290405},{x:0.390769,y:0.792308,z:0.279186},{x:0.390769,y:0.815385,z:0.268606},{x:0.390769,y:0.838462,z:0.258615},{x:0.390769,y:0.861538,z:0.249171},{x:0.390769,y:0.884615,z:0.240236},{x:0.390769,y:0.907692,z:0.231773},{x:0.390769,y:0.930769,z:0.223749},{x:0.390769,y:0.953846,z:0.216135},{x:0.390769,y:0.976923,z:0.208902},{x:0.390769,y:1,z:0.202027},{x:0.416154,y:0.1,z:1.56205},{x:0.416154,y:0.123077,z:1.43121},{x:0.416154,y:0.146154,z:1.31615},{x:0.416154,y:0.169231,z:1.21443},{x:0.416154,y:0.192308,z:1.12406},{x:0.416154,y:0.215385,z:1.04341},{x:0.416154,y:0.238462,z:0.971139},{x:0.416154,y:0.261538,z:0.906126},{x:0.416154,y:0.284615,z:0.84743},{x:0.416154,y:0.307692,z:0.794258},{x:0.416154,y:0.330769,z:0.745937},{x:0.416154,y:0.353846,z:0.701896},{x:0.416154,y:0.376923,z:0.661642},{x:0.416154,y:0.4,z:0.624755},{x:0.416154,y:0.423077,z:0.590869},{x:0.416154,y:0.446154,z:0.559667},{x:0.416154,y:0.469231,z:0.530872},{x:0.416154,y:0.492308,z:0.504244},{x:0.416154,y:0.515385,z:0.47957},{x:0.416154,y:0.538462,z:0.456664},{x:0.416154,y:0.561538,z:0.435361},{x:0.416154,y:0.584615,z:0.415514},{x:0.416154,y:0.607692,z:0.396995},{x:0.416154,y:0.630769,z:0.379686},{x:0.416154,y:0.653846,z:0.363485},{x:0.416154,y:0.676923,z:0.348299},{x:0.416154,y:0.7,z:0.334046},{x:0.416154,y:0.723077,z:0.320649},{x:0.416154,y:0.746154,z:0.308043},{x:0.416154,y:0.769231,z:0.296166},{x:0.416154,y:0.792308,z:0.284963},{x:0.416154,y:0.815385,z:0.274383},{x:0.416154,y:0.838462,z:0.264382},{x:0.416154,y:0.861538,z:0.254918},{x:0.416154,y:0.884615,z:0.245954},{x:0.416154,y:0.907692,z:0.237454},{x:0.416154,y:0.930769,z:0.229387},{x:0.416154,y:0.953846,z:0.221724},{x:0.416154,y:0.976923,z:0.214439},{x:0.416154,y:1,z:0.207507},{x:0.441538,y:0.1,z:1.5056},{x:0.441538,y:0.123077,z:1.38504},{x:0.441538,y:0.146154,z:1.27841},{x:0.441538,y:0.169231,z:1.18363},{x:0.441538,y:0.192308,z:1.09901},{x:0.441538,y:0.215385,z:1.02315},{x:0.441538,y:0.238462,z:0.954884},{x:0.441538,y:0.261538,z:0.893229},{x:0.441538,y:0.284615,z:0.837358},{x:0.441538,y:0.307692,z:0.78657},{x:0.441538,y:0.330769,z:0.740266},{x:0.441538,y:0.353846,z:0.697934},{x:0.441538,y:0.376923,z:0.659131},{x:0.441538,y:0.4,z:0.623477},{x:0.441538,y:0.423077,z:0.59064},{x:0.441538,y:0.446154,z:0.56033},{x:0.441538,y:0.469231,z:0.532294},{x:0.441538,y:0.492308,z:0.506312},{x:0.441538,y:0.515385,z:0.482186},{x:0.441538,y:0.538462,z:0.459744},{x:0.441538,y:0.561538,z:0.438834},{x:0.441538,y:0.584615,z:0.419318},{x:0.441538,y:0.607692,z:0.401076},{x:0.441538,y:0.630769,z:0.383999},{x:0.441538,y:0.653846,z:0.367989},{x:0.441538,y:0.676923,z:0.352961},{x:0.441538,y:0.7,z:0.338834},{x:0.441538,y:0.723077,z:0.325539},{x:0.441538,y:0.746154,z:0.313012},{x:0.441538,y:0.769231,z:0.301194},{x:0.441538,y:0.792308,z:0.290032},{x:0.441538,y:0.815385,z:0.27948},{x:0.441538,y:0.838462,z:0.269494},{x:0.441538,y:0.861538,z:0.260033},{x:0.441538,y:0.884615,z:0.251062},{x:0.441538,y:0.907692,z:0.242547},{x:0.441538,y:0.930769,z:0.234458},{x:0.441538,y:0.953846,z:0.226767},{x:0.441538,y:0.976923,z:0.219449},{x:0.441538,y:1,z:0.212479},{x:0.466923,y:0.1,z:1.45277},{x:0.466923,y:0.123077,z:1.34135},{x:0.466923,y:0.146154,z:1.24227},{x:0.466923,y:0.169231,z:1.15377},{x:0.466923,y:0.192308,z:1.07441},{x:0.466923,y:0.215385,z:1.00296},{x:0.466923,y:0.238462,z:0.938412},{x:0.466923,y:0.261538,z:0.879898},{x:0.466923,y:0.284615,z:0.82669},{x:0.466923,y:0.307692,z:0.778168},{x:0.466923,y:0.330769,z:0.733795},{x:0.466923,y:0.353846,z:0.693112},{x:0.466923,y:0.376923,z:0.655721},{x:0.466923,y:0.4,z:0.621275},{x:0.466923,y:0.423077,z:0.589475},{x:0.466923,y:0.446154,z:0.560055},{x:0.466923,y:0.469231,z:0.532784},{x:0.466923,y:0.492308,z:0.507457},{x:0.466923,y:0.515385,z:0.483894},{x:0.466923,y:0.538462,z:0.461935},{x:0.466923,y:0.561538,z:0.441438},{x:0.466923,y:0.584615,z:0.422275},{x:0.466923,y:0.607692,z:0.404333},{x:0.466923,y:0.630769,z:0.387511},{x:0.466923,y:0.653846,z:0.371717},{x:0.466923,y:0.676923,z:0.35687},{x:0.466923,y:0.7,z:0.342895},{x:0.466923,y:0.723077,z:0.329725},{x:0.466923,y:0.746154,z:0.317299},{x:0.466923,y:0.769231,z:0.305563},{x:0.466923,y:0.792308,z:0.294466},{x:0.466923,y:0.815385,z:0.283962},{x:0.466923,y:0.838462,z:0.274011},{x:0.466923,y:0.861538,z:0.264574},{x:0.466923,y:0.884615,z:0.255616},{x:0.466923,y:0.907692,z:0.247106},{x:0.466923,y:0.930769,z:0.239013},{x:0.466923,y:0.953846,z:0.231312},{x:0.466923,y:0.976923,z:0.223977},{x:0.466923,y:1,z:0.216985},{x:0.492308,y:0.1,z:1.40327},{x:0.492308,y:0.123077,z:1.3},{x:0.492308,y:0.146154,z:1.20772},{x:0.492308,y:0.169231,z:1.12493},{x:0.492308,y:0.192308,z:1.05037},{x:0.492308,y:0.215385,z:0.982987},{x:0.492308,y:0.238462,z:0.921884},{x:0.492308,y:0.261538,z:0.866306},{x:0.492308,y:0.284615,z:0.815606},{x:0.492308,y:0.307692,z:0.769231},{x:0.492308,y:0.330769,z:0.726701},{x:0.492308,y:0.353846,z:0.687603},{x:0.492308,y:0.376923,z:0.651578},{x:0.492308,y:0.4,z:0.618312},{x:0.492308,y:0.423077,z:0.587529},{x:0.492308,y:0.446154,z:0.55899},{x:0.492308,y:0.469231,z:0.53248},{x:0.492308,y:0.492308,z:0.507812},{x:0.492308,y:0.515385,z:0.48482},{x:0.492308,y:0.538462,z:0.463355},{x:0.492308,y:0.561538,z:0.443284},{x:0.492308,y:0.584615,z:0.42449},{x:0.492308,y:0.607692,z:0.406866},{x:0.492308,y:0.630769,z:0.390317},{x:0.492308,y:0.653846,z:0.374758},{x:0.492308,y:0.676923,z:0.360111},{x:0.492308,y:0.7,z:0.346306},{x:0.492308,y:0.723077,z:0.33328},{x:0.492308,y:0.746154,z:0.320975},{x:0.492308,y:0.769231,z:0.30934},{x:0.492308,y:0.792308,z:0.298326},{x:0.492308,y:0.815385,z:0.287889},{x:0.492308,y:0.838462,z:0.277991},{x:0.492308,y:0.861538,z:0.268595},{x:0.492308,y:0.884615,z:0.259667},{x:0.492308,y:0.907692,z:0.251177},{x:0.492308,y:0.930769,z:0.243097},{x:0.492308,y:0.953846,z:0.235401},{x:0.492308,y:0.976923,z:0.228064},{x:0.492308,y:1,z:0.221065},{x:0.517692,y:0.1,z:1.35684},{x:0.517692,y:0.123077,z:1.26086},{x:0.517692,y:0.146154,z:1.17473},{x:0.517692,y:0.169231,z:1.09712},{x:0.517692,y:0.192308,z:1.02696},{x:0.517692,y:0.215385,z:0.963325},{x:0.517692,y:0.238462,z:0.905423},{x:0.517692,y:0.261538,z:0.852589},{x:0.517692,y:0.284615,z:0.804248},{x:0.517692,y:0.307692,z:0.759904},{x:0.517692,y:0.330769,z:0.71913},{x:0.517692,y:0.353846,z:0.681551},{x:0.517692,y:0.376923,z:0.646843},{x:0.517692,y:0.4,z:0.61472},{x:0.517692,y:0.423077,z:0.584932},{x:0.517692,y:0.446154,z:0.557258},{x:0.517692,y:0.469231,z:0.531502},{x:0.517692,y:0.492308,z:0.507492},{x:0.517692,y:0.515385,z:0.485072},{x:0.517692,y:0.538462,z:0.464106},{x:0.517692,y:0.561538,z:0.444471},{x:0.517692,y:0.584615,z:0.426055},{x:0.517692,y:0.607692,z:0.408761},{x:0.517692,y:0.630769,z:0.392499},{x:0.517692,y:0.653846,z:0.377189},{x:0.517692,y:0.676923,z:0.362757},{x:0.517692,y:0.7,z:0.349138},{x:0.517692,y:0.723077,z:0.336271},{x:0.517692,y:0.746154,z:0.324103},{x:0.517692,y:0.769231,z:0.312584},{x:0.517692,y:0.792308,z:0.301668},{x:0.517692,y:0.815385,z:0.291314},{x:0.517692,y:0.838462,z:0.281484},{x:0.517692,y:0.861538,z:0.272143},{x:0.517692,y:0.884615,z:0.26326},{x:0.517692,y:0.907692,z:0.254805},{x:0.517692,y:0.930769,z:0.24675},{x:0.517692,y:0.953846,z:0.239072},{x:0.517692,y:0.976923,z:0.231746},{x:0.517692,y:1,z:0.224752},{x:0.543077,y:0.1,z:1.31321},{x:0.543077,y:0.123077,z:1.22381},{x:0.543077,y:0.146154,z:1.14323},{x:0.543077,y:0.169231,z:1.07035},{x:0.543077,y:0.192308,z:1.00423},{x:0.543077,y:0.215385,z:0.944048},{x:0.543077,y:0.238462,z:0.889121},{x:0.543077,y:0.261538,z:0.838851},{x:0.543077,y:0.284615,z:0.792727},{x:0.543077,y:0.307692,z:0.750305},{x:0.543077,y:0.330769,z:0.711199},{x:0.543077,y:0.353846,z:0.675073},{x:0.543077,y:0.376923,z:0.641632},{x:0.543077,y:0.4,z:0.610614},{x:0.543077,y:0.423077,z:0.581793},{x:0.543077,y:0.446154,z:0.554966},{x:0.543077,y:0.469231,z:0.529952},{x:0.543077,y:0.492308,z:0.506592},{x:0.543077,y:0.515385,z:0.484743},{x:0.543077,y:0.538462,z:0.464277},{x:0.543077,y:0.561538,z:0.445081},{x:0.543077,y:0.584615,z:0.427051},{x:0.543077,y:0.607692,z:0.410095},{x:0.543077,y:0.630769,z:0.39413},{x:0.543077,y:0.653846,z:0.379078},{x:0.543077,y:0.676923,z:0.364873},{x:0.543077,y:0.7,z:0.351451},{x:0.543077,y:0.723077,z:0.338757},{x:0.543077,y:0.746154,z:0.326738},{x:0.543077,y:0.769231,z:0.315348},{x:0.543077,y:0.792308,z:0.304543},{x:0.543077,y:0.815385,z:0.294284},{x:0.543077,y:0.838462,z:0.284535},{x:0.543077,y:0.861538,z:0.275262},{x:0.543077,y:0.884615,z:0.266436},{x:0.543077,y:0.907692,z:0.258027},{x:0.543077,y:0.930769,z:0.25001},{x:0.543077,y:0.953846,z:0.242361},{x:0.543077,y:0.976923,z:0.235058},{x:0.543077,y:1,z:0.228079},{x:0.568462,y:0.1,z:1.27218},{x:0.568462,y:0.123077,z:1.18869},{x:0.568462,y:0.146154,z:1.11316},{x:0.568462,y:0.169231,z:1.0446},{x:0.568462,y:0.192308,z:0.982189},{x:0.568462,y:0.215385,z:0.925208},{x:0.568462,y:0.238462,z:0.873045},{x:0.568462,y:0.261538,z:0.825173},{x:0.568462,y:0.284615,z:0.781132},{x:0.568462,y:0.307692,z:0.740526},{x:0.568462,y:0.330769,z:0.703006},{x:0.568462,y:0.353846,z:0.668266},{x:0.568462,y:0.376923,z:0.636039},{x:0.568462,y:0.4,z:0.606089},{x:0.568462,y:0.423077,z:0.578205},{x:0.568462,y:0.446154,z:0.552202},{x:0.568462,y:0.469231,z:0.527915},{x:0.568462,y:0.492308,z:0.505195},{x:0.568462,y:0.515385,z:0.483911},{x:0.568462,y:0.538462,z:0.463945},{x:0.568462,y:0.561538,z:0.445189},{x:0.568462,y:0.584615,z:0.427548},{x:0.568462,y:0.607692,z:0.410935},{x:0.568462,y:0.630769,z:0.395272},{x:0.568462,y:0.653846,z:0.380487},{x:0.568462,y:0.676923,z:0.366517},{x:0.568462,y:0.7,z:0.353302},{x:0.568462,y:0.723077,z:0.34079},{x:0.568462,y:0.746154,z:0.32893},{x:0.568462,y:0.769231,z:0.317679},{x:0.568462,y:0.792308,z:0.306996},{x:0.568462,y:0.815385,z:0.296842},{x:0.568462,y:0.838462,z:0.287184},{x:0.568462,y:0.861538,z:0.27799},{x:0.568462,y:0.884615,z:0.26923},{x:0.568462,y:0.907692,z:0.260878},{x:0.568462,y:0.930769,z:0.252909},{x:0.568462,y:0.953846,z:0.245299},{x:0.568462,y:0.976923,z:0.238028},{x:0.568462,y:1,z:0.231075},{x:0.593846,y:0.1,z:1.23352},{x:0.593846,y:0.123077,z:1.15539},{x:0.593846,y:0.146154,z:1.08445},{x:0.593846,y:0.169231,z:1.01985},{x:0.593846,y:0.192308,z:0.960857},{x:0.593846,y:0.215385,z:0.906837},{x:0.593846,y:0.238462,z:0.857247},{x:0.593846,y:0.261538,z:0.811617},{x:0.593846,y:0.284615,z:0.769535},{x:0.593846,y:0.307692,z:0.730643},{x:0.593846,y:0.330769,z:0.694627},{x:0.593846,y:0.353846,z:0.66121},{x:0.593846,y:0.376923,z:0.630147},{x:0.593846,y:0.4,z:0.601223},{x:0.593846,y:0.423077,z:0.574246},{x:0.593846,y:0.446154,z:0.549044},{x:0.593846,y:0.469231,z:0.525466},{x:0.593846,y:0.492308,z:0.503375},{x:0.593846,y:0.515385,z:0.482648},{x:0.593846,y:0.538462,z:0.463175},{x:0.593846,y:0.561538,z:0.444857},{x:0.593846,y:0.584615,z:0.427605},{x:0.593846,y:0.607692,z:0.411338},{x:0.593846,y:0.630769,z:0.395981},{x:0.593846,y:0.653846,z:0.381469},{x:0.593846,y:0.676923,z:0.36774},{x:0.593846,y:0.7,z:0.354739},{x:0.593846,y:0.723077,z:0.342415},{x:0.593846,y:0.746154,z:0.330723},{x:0.593846,y:0.769231,z:0.319619},{x:0.593846,y:0.792308,z:0.309066},{x:0.593846,y:0.815385,z:0.299027},{x:0.593846,y:0.838462,z:0.289468},{x:0.593846,y:0.861538,z:0.280362},{x:0.593846,y:0.884615,z:0.271678},{x:0.593846,y:0.907692,z:0.263391},{x:0.593846,y:0.930769,z:0.255478},{x:0.593846,y:0.953846,z:0.247916},{x:0.593846,y:0.976923,z:0.240685},{x:0.593846,y:1,z:0.233766},{x:0.619231,y:0.1,z:1.19706},{x:0.619231,y:0.123077,z:1.12379},{x:0.619231,y:0.146154,z:1.05704},{x:0.619231,y:0.169231,z:0.996074},{x:0.619231,y:0.192308,z:0.94023},{x:0.619231,y:0.215385,z:0.888955},{x:0.619231,y:0.238462,z:0.841762},{x:0.619231,y:0.261538,z:0.79823},{x:0.619231,y:0.284615,z:0.75799},{x:0.619231,y:0.307692,z:0.720718},{x:0.619231,y:0.330769,z:0.686128},{x:0.619231,y:0.353846,z:0.653971},{x:0.619231,y:0.376923,z:0.624022},{x:0.619231,y:0.4,z:0.596084},{x:0.619231,y:0.423077,z:0.569981},{x:0.619231,y:0.446154,z:0.545556},{x:0.619231,y:0.469231,z:0.522669},{x:0.619231,y:0.492308,z:0.501191},{x:0.619231,y:0.515385,z:0.481011},{x:0.619231,y:0.538462,z:0.462026},{x:0.619231,y:0.561538,z:0.444143},{x:0.619231,y:0.584615,z:0.427278},{x:0.619231,y:0.607692,z:0.411356},{x:0.619231,y:0.630769,z:0.396308},{x:0.619231,y:0.653846,z:0.38207},{x:0.619231,y:0.676923,z:0.368586},{x:0.619231,y:0.7,z:0.355804},{x:0.619231,y:0.723077,z:0.343675},{x:0.619231,y:0.746154,z:0.332156},{x:0.619231,y:0.769231,z:0.321207},{x:0.619231,y:0.792308,z:0.31079},{x:0.619231,y:0.815385,z:0.300872},{x:0.619231,y:0.838462,z:0.291421},{x:0.619231,y:0.861538,z:0.282409},{x:0.619231,y:0.884615,z:0.273808},{x:0.619231,y:0.907692,z:0.265594},{x:0.619231,y:0.930769,z:0.257744},{x:0.619231,y:0.953846,z:0.250238},{x:0.619231,y:0.976923,z:0.243054},{x:0.619231,y:1,z:0.236176},{x:0.644615,y:0.1,z:1.16262},{x:0.644615,y:0.123077,z:1.09377},{x:0.644615,y:0.146154,z:1.03086},{x:0.644615,y:0.169231,z:0.973231},{x:0.644615,y:0.192308,z:0.9203},{x:0.644615,y:0.215385,z:0.871573},{x:0.644615,y:0.238462,z:0.826616},{x:0.644615,y:0.261538,z:0.785049},{x:0.644615,y:0.284615,z:0.746541},{x:0.644615,y:0.307692,z:0.710798},{x:0.644615,y:0.330769,z:0.677562},{x:0.644615,y:0.353846,z:0.646603},{x:0.644615,y:0.376923,z:0.617719},{x:0.644615,y:0.4,z:0.590728},{x:0.644615,y:0.423077,z:0.565469},{x:0.644615,y:0.446154,z:0.541795},{x:0.644615,y:0.469231,z:0.519577},{x:0.644615,y:0.492308,z:0.498699},{x:0.644615,y:0.515385,z:0.479054},{x:0.644615,y:0.538462,z:0.460548},{x:0.644615,y:0.561538,z:0.443093},{x:0.644615,y:0.584615,z:0.426613},{x:0.644615,y:0.607692,z:0.411035},{x:0.644615,y:0.630769,z:0.396295},{x:0.644615,y:0.653846,z:0.382334},{x:0.644615,y:0.676923,z:0.369097},{x:0.644615,y:0.7,z:0.356537},{x:0.644615,y:0.723077,z:0.344607},{x:0.644615,y:0.746154,z:0.333266},{x:0.644615,y:0.769231,z:0.322475},{x:0.644615,y:0.792308,z:0.312201},{x:0.644615,y:0.815385,z:0.302409},{x:0.644615,y:0.838462,z:0.293071},{x:0.644615,y:0.861538,z:0.284159},{x:0.644615,y:0.884615,z:0.275648},{x:0.644615,y:0.907692,z:0.267513},{x:0.644615,y:0.930769,z:0.259733},{x:0.644615,y:0.953846,z:0.252288},{x:0.644615,y:0.976923,z:0.245158},{x:0.644615,y:1,z:0.238326},{x:0.67,y:0.1,z:1.13004},{x:0.67,y:0.123077,z:1.06523},{x:0.67,y:0.146154,z:1.00584},{x:0.67,y:0.169231,z:0.951288},{x:0.67,y:0.192308,z:0.901053},{x:0.67,y:0.215385,z:0.854694},{x:0.67,y:0.238462,z:0.811824},{x:0.67,y:0.261538,z:0.772099},{x:0.67,y:0.284615,z:0.735221},{x:0.67,y:0.307692,z:0.700923},{x:0.67,y:0.330769,z:0.66897},{x:0.67,y:0.353846,z:0.639154},{x:0.67,y:0.376923,z:0.611287},{x:0.67,y:0.4,z:0.585204},{x:0.67,y:0.423077,z:0.560755},{x:0.67,y:0.446154,z:0.537807},{x:0.67,y:0.469231,z:0.51624},{x:0.67,y:0.492308,z:0.495944},{x:0.67,y:0.515385,z:0.476822},{x:0.67,y:0.538462,z:0.458785},{x:0.67,y:0.561538,z:0.441752},{x:0.67,y:0.584615,z:0.425651},{x:0.67,y:0.607692,z:0.410414},{x:0.67,y:0.630769,z:0.395981},{x:0.67,y:0.653846,z:0.382296},{x:0.67,y:0.676923,z:0.369308},{x:0.67,y:0.7,z:0.356972},{x:0.67,y:0.723077,z:0.345243},{x:0.67,y:0.746154,z:0.334083},{x:0.67,y:0.769231,z:0.323455},{x:0.67,y:0.792308,z:0.313327},{x:0.67,y:0.815385,z:0.303667},{x:0.67,y:0.838462,z:0.294446},{x:0.67,y:0.861538,z:0.28564},{x:0.67,y:0.884615,z:0.277223},{x:0.67,y:0.907692,z:0.269172},{x:0.67,y:0.930769,z:0.261467},{x:0.67,y:0.953846,z:0.254089},{x:0.67,y:0.976923,z:0.247018},{x:0.67,y:1,z:0.240238},{x:0.695385,y:0.1,z:1.09918},{x:0.695385,y:0.123077,z:1.03807},{x:0.695385,y:0.146154,z:0.981922},{x:0.695385,y:0.169231,z:0.930206},{x:0.695385,y:0.192308,z:0.88247},{x:0.695385,y:0.215385,z:0.838317},{x:0.695385,y:0.238462,z:0.797397},{x:0.695385,y:0.261538,z:0.759401},{x:0.695385,y:0.284615,z:0.724057},{x:0.695385,y:0.307692,z:0.691125},{x:0.695385,y:0.330769,z:0.660389},{x:0.695385,y:0.353846,z:0.63166},{x:0.695385,y:0.376923,z:0.604764},{x:0.695385,y:0.4,z:0.579551},{x:0.695385,y:0.423077,z:0.555882},{x:0.695385,y:0.446154,z:0.533635},{x:0.695385,y:0.469231,z:0.512696},{x:0.695385,y:0.492308,z:0.492966},{x:0.695385,y:0.515385,z:0.474354},{x:0.695385,y:0.538462,z:0.456776},{x:0.695385,y:0.561538,z:0.440157},{x:0.695385,y:0.584615,z:0.424429},{x:0.695385,y:0.607692,z:0.409529},{x:0.695385,y:0.630769,z:0.395401},{x:0.695385,y:0.653846,z:0.381991},{x:0.695385,y:0.676923,z:0.369251},{x:0.695385,y:0.7,z:0.357139},{x:0.695385,y:0.723077,z:0.345613},{x:0.695385,y:0.746154,z:0.334636},{x:0.695385,y:0.769231,z:0.324174},{x:0.695385,y:0.792308,z:0.314195},{x:0.695385,y:0.815385,z:0.304669},{x:0.695385,y:0.838462,z:0.295571},{x:0.695385,y:0.861538,z:0.286874},{x:0.695385,y:0.884615,z:0.278555},{x:0.695385,y:0.907692,z:0.270593},{x:0.695385,y:0.930769,z:0.262967},{x:0.695385,y:0.953846,z:0.25566},{x:0.695385,y:0.976923,z:0.248652},{x:0.695385,y:1,z:0.241929},{x:0.720769,y:0.1,z:1.06993},{x:0.720769,y:0.123077,z:1.01221},{x:0.720769,y:0.146154,z:0.959036},{x:0.720769,y:0.169231,z:0.909947},{x:0.720769,y:0.192308,z:0.864533},{x:0.720769,y:0.215385,z:0.822435},{x:0.720769,y:0.238462,z:0.78334},{x:0.720769,y:0.261538,z:0.746967},{x:0.720769,y:0.284615,z:0.713069},{x:0.720769,y:0.307692,z:0.681428},{x:0.720769,y:0.330769,z:0.651847},{x:0.720769,y:0.353846,z:0.624152},{x:0.720769,y:0.376923,z:0.598184},{x:0.720769,y:0.4,z:0.573804},{x:0.720769,y:0.423077,z:0.550885},{x:0.720769,y:0.446154,z:0.529312},{x:0.720769,y:0.469231,z:0.508982},{x:0.720769,y:0.492308,z:0.489801},{x:0.720769,y:0.515385,z:0.471684},{x:0.720769,y:0.538462,z:0.454554},{x:0.720769,y:0.561538,z:0.438341},{x:0.720769,y:0.584615,z:0.422979},{x:0.720769,y:0.607692,z:0.408412},{x:0.720769,y:0.630769,z:0.394584},{x:0.720769,y:0.653846,z:0.381447},{x:0.720769,y:0.676923,z:0.368955},{x:0.720769,y:0.7,z:0.357067},{x:0.720769,y:0.723077,z:0.345744},{x:0.720769,y:0.746154,z:0.334951},{x:0.720769,y:0.769231,z:0.324656},{x:0.720769,y:0.792308,z:0.314829},{x:0.720769,y:0.815385,z:0.305441},{x:0.720769,y:0.838462,z:0.296466},{x:0.720769,y:0.861538,z:0.287882},{x:0.720769,y:0.884615,z:0.279665},{x:0.720769,y:0.907692,z:0.271795},{x:0.720769,y:0.930769,z:0.264252},{x:0.720769,y:0.953846,z:0.25702},{x:0.720769,y:0.976923,z:0.25008},{x:0.720769,y:1,z:0.243417},{x:0.746154,y:0.1,z:1.04215},{x:0.746154,y:0.123077,z:0.987548},{x:0.746154,y:0.146154,z:0.937128},{x:0.746154,y:0.169231,z:0.890474},{x:0.746154,y:0.192308,z:0.847218},{x:0.746154,y:0.215385,z:0.80704},{x:0.746154,y:0.238462,z:0.769653},{x:0.746154,y:0.261538,z:0.734806},{x:0.746154,y:0.284615,z:0.702272},{x:0.746154,y:0.307692,z:0.671853},{x:0.746154,y:0.330769,z:0.643367},{x:0.746154,y:0.353846,z:0.616656},{x:0.746154,y:0.376923,z:0.591574},{x:0.746154,y:0.4,z:0.567992},{x:0.746154,y:0.423077,z:0.545793},{x:0.746154,y:0.446154,z:0.52487},{x:0.746154,y:0.469231,z:0.505127},{x:0.746154,y:0.492308,z:0.486478},{x:0.746154,y:0.515385,z:0.468843},{x:0.746154,y:0.538462,z:0.45215},{x:0.746154,y:0.561538,z:0.436332},{x:0.746154,y:0.584615,z:0.42133},{x:0.746154,y:0.607692,z:0.407089},{x:0.746154,y:0.630769,z:0.393558},{x:0.746154,y:0.653846,z:0.380691},{x:0.746154,y:0.676923,z:0.368444},{x:0.746154,y:0.7,z:0.356779},{x:0.746154,y:0.723077,z:0.345659},{x:0.746154,y:0.746154,z:0.335052},{x:0.746154,y:0.769231,z:0.324925},{x:0.746154,y:0.792308,z:0.31525},{x:0.746154,y:0.815385,z:0.306001},{x:0.746154,y:0.838462,z:0.297153},{x:0.746154,y:0.861538,z:0.288684},{x:0.746154,y:0.884615,z:0.280571},{x:0.746154,y:0.907692,z:0.272796},{x:0.746154,y:0.930769,z:0.26534},{x:0.746154,y:0.953846,z:0.258185},{x:0.746154,y:0.976923,z:0.251315},{x:0.746154,y:1,z:0.244717},{x:0.771538,y:0.1,z:1.01574},{x:0.771538,y:0.123077,z:0.964017},{x:0.771538,y:0.146154,z:0.916143},{x:0.771538,y:0.169231,z:0.871749},{x:0.771538,y:0.192308,z:0.830505},{x:0.771538,y:0.215385,z:0.79212},{x:0.771538,y:0.238462,z:0.756336},{x:0.771538,y:0.261538,z:0.722923},{x:0.771538,y:0.284615,z:0.691677},{x:0.771538,y:0.307692,z:0.662413},{x:0.771538,y:0.330769,z:0.634968},{x:0.771538,y:0.353846,z:0.609194},{x:0.771538,y:0.376923,z:0.584958},{x:0.771538,y:0.4,z:0.56214},{x:0.771538,y:0.423077,z:0.540632},{x:0.771538,y:0.446154,z:0.520334},{x:0.771538,y:0.469231,z:0.501159},{x:0.771538,y:0.492308,z:0.483024},{x:0.771538,y:0.515385,z:0.465857},{x:0.771538,y:0.538462,z:0.449588},{x:0.771538,y:0.561538,z:0.434157},{x:0.771538,y:0.584615,z:0.419507},{x:0.771538,y:0.607692,z:0.405587},{x:0.771538,y:0.630769,z:0.392348},{x:0.771538,y:0.653846,z:0.379746},{x:0.771538,y:0.676923,z:0.367742},{x:0.771538,y:0.7,z:0.356299},{x:0.771538,y:0.723077,z:0.345381},{x:0.771538,y:0.746154,z:0.334958},{x:0.771538,y:0.769231,z:0.324999},{x:0.771538,y:0.792308,z:0.315478},{x:0.771538,y:0.815385,z:0.30637},{x:0.771538,y:0.838462,z:0.29765},{x:0.771538,y:0.861538,z:0.289297},{x:0.771538,y:0.884615,z:0.281291},{x:0.771538,y:0.907692,z:0.273613},{x:0.771538,y:0.930769,z:0.266245},{x:0.771538,y:0.953846,z:0.259171},{x:0.771538,y:0.976923,z:0.252374},{x:0.771538,y:1,z:0.245842},{x:0.796923,y:0.1,z:0.990618},{x:0.796923,y:0.123077,z:0.941544},{x:0.796923,y:0.146154,z:0.896029},{x:0.796923,y:0.169231,z:0.853736},{x:0.796923,y:0.192308,z:0.814369},{x:0.796923,y:0.215385,z:0.777663},{x:0.796923,y:0.238462,z:0.743384},{x:0.796923,y:0.261538,z:0.711322},{x:0.796923,y:0.284615,z:0.681291},{x:0.796923,y:0.307692,z:0.653122},{x:0.796923,y:0.330769,z:0.626665},{x:0.796923,y:0.353846,z:0.601783},{x:0.796923,y:0.376923,z:0.578354},{x:0.796923,y:0.4,z:0.556268},{x:0.796923,y:0.423077,z:0.535423},{x:0.796923,y:0.446154,z:0.515728},{x:0.796923,y:0.469231,z:0.4971},{x:0.796923,y:0.492308,z:0.479463},{x:0.796923,y:0.515385,z:0.462749},{x:0.796923,y:0.538462,z:0.446893},{x:0.796923,y:0.561538,z:0.431839},{x:0.796923,y:0.584615,z:0.417533},{x:0.796923,y:0.607692,z:0.403926},{x:0.796923,y:0.630769,z:0.390973},{x:0.796923,y:0.653846,z:0.378634},{x:0.796923,y:0.676923,z:0.36687},{x:0.796923,y:0.7,z:0.355646},{x:0.796923,y:0.723077,z:0.344929},{x:0.796923,y:0.746154,z:0.334689},{x:0.796923,y:0.769231,z:0.324898},{x:0.796923,y:0.792308,z:0.315531},{x:0.796923,y:0.815385,z:0.306564},{x:0.796923,y:0.838462,z:0.297973},{x:0.796923,y:0.861538,z:0.289738},{x:0.796923,y:0.884615,z:0.28184},{x:0.796923,y:0.907692,z:0.274261},{x:0.796923,y:0.930769,z:0.266983},{x:0.796923,y:0.953846,z:0.259991},{x:0.796923,y:0.976923,z:0.25327},{x:0.796923,y:1,z:0.246807},{x:0.822308,y:0.1,z:0.96668},{x:0.822308,y:0.123077,z:0.920062},{x:0.822308,y:0.146154,z:0.876738},{x:0.822308,y:0.169231,z:0.836402},{x:0.822308,y:0.192308,z:0.798788},{x:0.822308,y:0.215385,z:0.763655},{x:0.822308,y:0.238462,z:0.73079},{x:0.822308,y:0.261538,z:0.700002},{x:0.822308,y:0.284615,z:0.671119},{x:0.822308,y:0.307692,z:0.643988},{x:0.822308,y:0.330769,z:0.618469},{x:0.822308,y:0.353846,z:0.594437},{x:0.822308,y:0.376923,z:0.57178},{x:0.822308,y:0.4,z:0.550393},{x:0.822308,y:0.423077,z:0.530185},{x:0.822308,y:0.446154,z:0.511069},{x:0.822308,y:0.469231,z:0.492969},{x:0.822308,y:0.492308,z:0.475814},{x:0.822308,y:0.515385,z:0.459538},{x:0.822308,y:0.538462,z:0.444084},{x:0.822308,y:0.561538,z:0.429397},{x:0.822308,y:0.584615,z:0.415426},{x:0.822308,y:0.607692,z:0.402126},{x:0.822308,y:0.630769,z:0.389455},{x:0.822308,y:0.653846,z:0.377373},{x:0.822308,y:0.676923,z:0.365845},{x:0.822308,y:0.7,z:0.354837},{x:0.822308,y:0.723077,z:0.344319},{x:0.822308,y:0.746154,z:0.334262},{x:0.822308,y:0.769231,z:0.324639},{x:0.822308,y:0.792308,z:0.315425},{x:0.822308,y:0.815385,z:0.306598},{x:0.822308,y:0.838462,z:0.298137},{x:0.822308,y:0.861538,z:0.290021},{x:0.822308,y:0.884615,z:0.282232},{x:0.822308,y:0.907692,z:0.274753},{x:0.822308,y:0.930769,z:0.267567},{x:0.822308,y:0.953846,z:0.260659},{x:0.822308,y:0.976923,z:0.254016},{x:0.822308,y:1,z:0.247623},{x:0.847692,y:0.1,z:0.943851},{x:0.847692,y:0.123077,z:0.89951},{x:0.847692,y:0.146154,z:0.858223},{x:0.847692,y:0.169231,z:0.819713},{x:0.847692,y:0.192308,z:0.783739},{x:0.847692,y:0.215385,z:0.750082},{x:0.847692,y:0.238462,z:0.718548},{x:0.847692,y:0.261538,z:0.688961},{x:0.847692,y:0.284615,z:0.661164},{x:0.847692,y:0.307692,z:0.635017},{x:0.847692,y:0.330769,z:0.61039},{x:0.847692,y:0.353846,z:0.587169},{x:0.847692,y:0.376923,z:0.565248},{x:0.847692,y:0.4,z:0.544532},{x:0.847692,y:0.423077,z:0.524934},{x:0.847692,y:0.446154,z:0.506376},{x:0.847692,y:0.469231,z:0.488785},{x:0.847692,y:0.492308,z:0.472094},{x:0.847692,y:0.515385,z:0.456244},{x:0.847692,y:0.538462,z:0.44118},{x:0.847692,y:0.561538,z:0.426849},{x:0.847692,y:0.584615,z:0.413205},{x:0.847692,y:0.607692,z:0.400205},{x:0.847692,y:0.630769,z:0.387809},{x:0.847692,y:0.653846,z:0.37598},{x:0.847692,y:0.676923,z:0.364685},{x:0.847692,y:0.7,z:0.353891},{x:0.847692,y:0.723077,z:0.343569},{x:0.847692,y:0.746154,z:0.333692},{x:0.847692,y:0.769231,z:0.324235},{x:0.847692,y:0.792308,z:0.315174},{x:0.847692,y:0.815385,z:0.306488},{x:0.847692,y:0.838462,z:0.298156},{x:0.847692,y:0.861538,z:0.29016},{x:0.847692,y:0.884615,z:0.28248},{x:0.847692,y:0.907692,z:0.275102},{x:0.847692,y:0.930769,z:0.268009},{x:0.847692,y:0.953846,z:0.261187},{x:0.847692,y:0.976923,z:0.254622},{x:0.847692,y:1,z:0.248301},{x:0.873077,y:0.1,z:0.922058},{x:0.873077,y:0.123077,z:0.879832},{x:0.873077,y:0.146154,z:0.840441},{x:0.873077,y:0.169231,z:0.803638},{x:0.873077,y:0.192308,z:0.769201},{x:0.873077,y:0.215385,z:0.73693},{x:0.873077,y:0.238462,z:0.706649},{x:0.873077,y:0.261538,z:0.678196},{x:0.873077,y:0.284615,z:0.651428},{x:0.873077,y:0.307692,z:0.626214},{x:0.873077,y:0.330769,z:0.602435},{x:0.873077,y:0.353846,z:0.579986},{x:0.873077,y:0.376923,z:0.558769},{x:0.873077,y:0.4,z:0.538695},{x:0.873077,y:0.423077,z:0.519684},{x:0.873077,y:0.446154,z:0.501662},{x:0.873077,y:0.469231,z:0.484561},{x:0.873077,y:0.492308,z:0.46832},{x:0.873077,y:0.515385,z:0.452882},{x:0.873077,y:0.538462,z:0.438195},{x:0.873077,y:0.561538,z:0.424211},{x:0.873077,y:0.584615,z:0.410885},{x:0.873077,y:0.607692,z:0.398178},{x:0.873077,y:0.630769,z:0.386052},{x:0.873077,y:0.653846,z:0.374471},{x:0.873077,y:0.676923,z:0.363404},{x:0.873077,y:0.7,z:0.35282},{x:0.873077,y:0.723077,z:0.342691},{x:0.873077,y:0.746154,z:0.332993},{x:0.873077,y:0.769231,z:0.323701},{x:0.873077,y:0.792308,z:0.314792},{x:0.873077,y:0.815385,z:0.306246},{x:0.873077,y:0.838462,z:0.298043},{x:0.873077,y:0.861538,z:0.290166},{x:0.873077,y:0.884615,z:0.282597},{x:0.873077,y:0.907692,z:0.27532},{x:0.873077,y:0.930769,z:0.26832},{x:0.873077,y:0.953846,z:0.261584},{x:0.873077,y:0.976923,z:0.255099},{x:0.873077,y:1,z:0.248852},{x:0.898462,y:0.1,z:0.901232},{x:0.898462,y:0.123077,z:0.860974},{x:0.898462,y:0.146154,z:0.823354},{x:0.898462,y:0.169231,z:0.788147},{x:0.898462,y:0.192308,z:0.755151},{x:0.898462,y:0.215385,z:0.724184},{x:0.898462,y:0.238462,z:0.695084},{x:0.898462,y:0.261538,z:0.667703},{x:0.898462,y:0.284615,z:0.641909},{x:0.898462,y:0.307692,z:0.617581},{x:0.898462,y:0.330769,z:0.594611},{x:0.898462,y:0.353846,z:0.572898},{x:0.898462,y:0.376923,z:0.552354},{x:0.898462,y:0.4,z:0.532895},{x:0.898462,y:0.423077,z:0.514446},{x:0.898462,y:0.446154,z:0.496939},{x:0.898462,y:0.469231,z:0.480311},{x:0.898462,y:0.492308,z:0.464504},{x:0.898462,y:0.515385,z:0.449464},{x:0.898462,y:0.538462,z:0.435143},{x:0.898462,y:0.561538,z:0.421496},{x:0.898462,y:0.584615,z:0.408481},{x:0.898462,y:0.607692,z:0.39606},{x:0.898462,y:0.630769,z:0.384197},{x:0.898462,y:0.653846,z:0.372858},{x:0.898462,y:0.676923,z:0.362015},{x:0.898462,y:0.7,z:0.351637},{x:0.898462,y:0.723077,z:0.3417},{x:0.898462,y:0.746154,z:0.332178},{x:0.898462,y:0.769231,z:0.323048},{x:0.898462,y:0.792308,z:0.31429},{x:0.898462,y:0.815385,z:0.305883},{x:0.898462,y:0.838462,z:0.297809},{x:0.898462,y:0.861538,z:0.290051},{x:0.898462,y:0.884615,z:0.282592},{x:0.898462,y:0.907692,z:0.275417},{x:0.898462,y:0.930769,z:0.268511},{x:0.898462,y:0.953846,z:0.261862},{x:0.898462,y:0.976923,z:0.255458},{x:0.898462,y:1,z:0.249285},{x:0.923846,y:0.1,z:0.881313},{x:0.923846,y:0.123077,z:0.842888},{x:0.923846,y:0.146154,z:0.806923},{x:0.923846,y:0.169231,z:0.773211},{x:0.923846,y:0.192308,z:0.741569},{x:0.923846,y:0.215385,z:0.71183},{x:0.923846,y:0.238462,z:0.683845},{x:0.923846,y:0.261538,z:0.657478},{x:0.923846,y:0.284615,z:0.632607},{x:0.923846,y:0.307692,z:0.609121},{x:0.923846,y:0.330769,z:0.586919},{x:0.923846,y:0.353846,z:0.56591},{x:0.923846,y:0.376923,z:0.546008},{x:0.923846,y:0.4,z:0.527138},{x:0.923846,y:0.423077,z:0.50923},{x:0.923846,y:0.446154,z:0.492219},{x:0.923846,y:0.469231,z:0.476047},{x:0.923846,y:0.492308,z:0.460658},{x:0.923846,y:0.515385,z:0.446004},{x:0.923846,y:0.538462,z:0.432038},{x:0.923846,y:0.561538,z:0.418718},{x:0.923846,y:0.584615,z:0.406005},{x:0.923846,y:0.607692,z:0.393862},{x:0.923846,y:0.630769,z:0.382255},{x:0.923846,y:0.653846,z:0.371155},{x:0.923846,y:0.676923,z:0.360531},{x:0.923846,y:0.7,z:0.350356},{x:0.923846,y:0.723077,z:0.340607},{x:0.923846,y:0.746154,z:0.331258},{x:0.923846,y:0.769231,z:0.32229},{x:0.923846,y:0.792308,z:0.31368},{x:0.923846,y:0.815385,z:0.305411},{x:0.923846,y:0.838462,z:0.297465},{x:0.923846,y:0.861538,z:0.289825},{x:0.923846,y:0.884615,z:0.282476},{x:0.923846,y:0.907692,z:0.275402},{x:0.923846,y:0.930769,z:0.268591},{x:0.923846,y:0.953846,z:0.26203},{x:0.923846,y:0.976923,z:0.255706},{x:0.923846,y:1,z:0.249608},{x:0.949231,y:0.1,z:0.862243},{x:0.949231,y:0.123077,z:0.82553},{x:0.949231,y:0.146154,z:0.791113},{x:0.949231,y:0.169231,z:0.758804},{x:0.949231,y:0.192308,z:0.728435},{x:0.949231,y:0.215385,z:0.699853},{x:0.949231,y:0.238462,z:0.672921},{x:0.949231,y:0.261538,z:0.647514},{x:0.949231,y:0.284615,z:0.623519},{x:0.949231,y:0.307692,z:0.600834},{x:0.949231,y:0.330769,z:0.579364},{x:0.949231,y:0.353846,z:0.559026},{x:0.949231,y:0.376923,z:0.539739},{x:0.949231,y:0.4,z:0.521434},{x:0.949231,y:0.423077,z:0.504044},{x:0.949231,y:0.446154,z:0.48751},{x:0.949231,y:0.469231,z:0.471777},{x:0.949231,y:0.492308,z:0.456793},{x:0.949231,y:0.515385,z:0.442512},{x:0.949231,y:0.538462,z:0.42889},{x:0.949231,y:0.561538,z:0.415887},{x:0.949231,y:0.584615,z:0.403467},{x:0.949231,y:0.607692,z:0.391595},{x:0.949231,y:0.630769,z:0.38024},{x:0.949231,y:0.653846,z:0.369371},{x:0.949231,y:0.676923,z:0.358962},{x:0.949231,y:0.7,z:0.348987},{x:0.949231,y:0.723077,z:0.339422},{x:0.949231,y:0.746154,z:0.330244},{x:0.949231,y:0.769231,z:0.321434},{x:0.949231,y:0.792308,z:0.312972},{x:0.949231,y:0.815385,z:0.30484},{x:0.949231,y:0.838462,z:0.29702},{x:0.949231,y:0.861538,z:0.289498},{x:0.949231,y:0.884615,z:0.282258},{x:0.949231,y:0.907692,z:0.275286},{x:0.949231,y:0.930769,z:0.268569},{x:0.949231,y:0.953846,z:0.262095},{x:0.949231,y:0.976923,z:0.255853},{x:0.949231,y:1,z:0.24983},{x:0.974615,y:0.1,z:0.84397},{x:0.974615,y:0.123077,z:0.808858},{x:0.974615,y:0.146154,z:0.775891},{x:0.974615,y:0.169231,z:0.7449},{x:0.974615,y:0.192308,z:0.715729},{x:0.974615,y:0.215385,z:0.688239},{x:0.974615,y:0.238462,z:0.662303},{x:0.974615,y:0.261538,z:0.637805},{x:0.974615,y:0.284615,z:0.614643},{x:0.974615,y:0.307692,z:0.592719},{x:0.974615,y:0.330769,z:0.571948},{x:0.974615,y:0.353846,z:0.552249},{x:0.974615,y:0.376923,z:0.533552},{x:0.974615,y:0.4,z:0.515788},{x:0.974615,y:0.423077,z:0.498896},{x:0.974615,y:0.446154,z:0.482821},{x:0.974615,y:0.469231,z:0.467511},{x:0.974615,y:0.492308,z:0.452917},{x:0.974615,y:0.515385,z:0.438996},{x:0.974615,y:0.538462,z:0.425707},{x:0.974615,y:0.561538,z:0.413013},{x:0.974615,y:0.584615,z:0.400878},{x:0.974615,y:0.607692,z:0.38927},{x:0.974615,y:0.630769,z:0.37816},{x:0.974615,y:0.653846,z:0.367518},{x:0.974615,y:0.676923,z:0.357319},{x:0.974615,y:0.7,z:0.347539},{x:0.974615,y:0.723077,z:0.338155},{x:0.974615,y:0.746154,z:0.329146},{x:0.974615,y:0.769231,z:0.320492},{x:0.974615,y:0.792308,z:0.312175},{x:0.974615,y:0.815385,z:0.304178},{x:0.974615,y:0.838462,z:0.296484},{x:0.974615,y:0.861538,z:0.289078},{x:0.974615,y:0.884615,z:0.281946},{x:0.974615,y:0.907692,z:0.275076},{x:0.974615,y:0.930769,z:0.268453},{x:0.974615,y:0.953846,z:0.262066},{x:0.974615,y:0.976923,z:0.255905},{x:0.974615,y:1,z:0.249959},{x:1,y:0.1,z:0.826446},{x:1,y:0.123077,z:0.792832},{x:1,y:0.146154,z:0.761227},{x:1,y:0.169231,z:0.731475},{x:1,y:0.192308,z:0.703434},{x:1,y:0.215385,z:0.676975},{x:1,y:0.238462,z:0.651981},{x:1,y:0.261538,z:0.628346},{x:1,y:0.284615,z:0.605974},{x:1,y:0.307692,z:0.584775},{x:1,y:0.330769,z:0.56467},{x:1,y:0.353846,z:0.545584},{x:1,y:0.376923,z:0.527449},{x:1,y:0.4,z:0.510204},{x:1,y:0.423077,z:0.493791},{x:1,y:0.446154,z:0.478158},{x:1,y:0.469231,z:0.463255},{x:1,y:0.492308,z:0.449038},{x:1,y:0.515385,z:0.435466},{x:1,y:0.538462,z:0.4225},{x:1,y:0.561538,z:0.410105},{x:1,y:0.584615,z:0.398247},{x:1,y:0.607692,z:0.386896},{x:1,y:0.630769,z:0.376023},{x:1,y:0.653846,z:0.365603},{x:1,y:0.676923,z:0.35561},{x:1,y:0.7,z:0.346021},{x:1,y:0.723077,z:0.336814},{x:1,y:0.746154,z:0.327971},{x:1,y:0.769231,z:0.319471},{x:1,y:0.792308,z:0.311297},{x:1,y:0.815385,z:0.303433},{x:1,y:0.838462,z:0.295863},{x:1,y:0.861538,z:0.288573},{x:1,y:0.884615,z:0.281549},{x:1,y:0.907692,z:0.274779},{x:1,y:0.930769,z:0.26825},{x:1,y:0.953846,z:0.261951},{x:1,y:0.976923,z:0.255871},{x:1,y:1,z:0.25}], faces:[[0,1,41,40],[1,2,42,41],[2,3,43,42],[3,4,44,43],[4,5,45,44],[5,6,46,45],[6,7,47,46],[7,8,48,47],[8,9,49,48],[9,10,50,49],[10,11,51,50],[11,12,52,51],[12,13,53,52],[13,14,54,53],[14,15,55,54],[15,16,56,55],[16,17,57,56],[17,18,58,57],[18,19,59,58],[19,20,60,59],[20,21,61,60],[21,22,62,61],[22,23,63,62],[23,24,64,63],[24,25,65,64],[25,26,66,65],[26,27,67,66],[27,28,68,67],[28,29,69,68],[29,30,70,69],[30,31,71,70],[31,32,72,71],[32,33,73,72],[33,34,74,73],[34,35,75,74],[35,36,76,75],[36,37,77,76],[37,38,78,77],[38,39,79,78],[40,41,81,80],[41,42,82,81],[42,43,83,82],[43,44,84,83],[44,45,85,84],[45,46,86,85],[46,47,87,86],[47,48,88,87],[48,49,89,88],[49,50,90,89],[50,51,91,90],[51,52,92,91],[52,53,93,92],[53,54,94,93],[54,55,95,94],[55,56,96,95],[56,57,97,96],[57,58,98,97],[58,59,99,98],[59,60,100,99],[60,61,101,100],[61,62,102,101],[62,63,103,102],[63,64,104,103],[64,65,105,104],[65,66,106,105],[66,67,107,106],[67,68,108,107],[68,69,109,108],[69,70,110,109],[70,71,111,110],[71,72,112,111],[72,73,113,112],[73,74,114,113],[74,75,115,114],[75,76,116,115],[76,77,117,116],[77,78,118,117],[78,79,119,118],[80,81,121,120],[81,82,122,121],[82,83,123,122],[83,84,124,123],[84,85,125,124],[85,86,126,125],[86,87,127,126],[87,88,128,127],[88,89,129,128],[89,90,130,129],[90,91,131,130],[91,92,132,131],[92,93,133,132],[93,94,134,133],[94,95,135,134],[95,96,136,135],[96,97,137,136],[97,98,138,137],[98,99,139,138],[99,100,140,139],[100,101,141,140],[101,102,142,141],[102,103,143,142],[103,104,144,143],[104,105,145,144],[105,106,146,145],[106,107,147,146],[107,108,148,147],[108,109,149,148],[109,110,150,149],[110,111,151,150],[111,112,152,151],[112,113,153,152],[113,114,154,153],[114,115,155,154],[115,116,156,155],[116,117,157,156],[117,118,158,157],[118,119,159,158],[120,121,161,160],[121,122,162,161],[122,123,163,162],[123,124,164,163],[124,125,165,164],[125,126,166,165],[126,127,167,166],[127,128,168,167],[128,129,169,168],[129,130,170,169],[130,131,171,170],[131,132,172,171],[132,133,173,172],[133,134,174,173],[134,135,175,174],[135,136,176,175],[136,137,177,176],[137,138,178,177],[138,139,179,178],[139,140,180,179],[140,141,181,180],[141,142,182,181],[142,143,183,182],[143,144,184,183],[144,145,185,184],[145,146,186,185],[146,147,187,186],[147,148,188,187],[148,149,189,188],[149,150,190,189],[150,151,191,190],[151,152,192,191],[152,153,193,192],[153,154,194,193],[154,155,195,194],[155,156,196,195],[156,157,197,196],[157,158,198,197],[158,159,199,198],[160,161,201,200],[161,162,202,201],[162,163,203,202],[163,164,204,203],[164,165,205,204],[165,166,206,205],[166,167,207,206],[167,168,208,207],[168,169,209,208],[169,170,210,209],[170,171,211,210],[171,172,212,211],[172,173,213,212],[173,174,214,213],[174,175,215,214],[175,176,216,215],[176,177,217,216],[177,178,218,217],[178,179,219,218],[179,180,220,219],[180,181,221,220],[181,182,222,221],[182,183,223,222],[183,184,224,223],[184,185,225,224],[185,186,226,225],[186,187,227,226],[187,188,228,227],[188,189,229,228],[189,190,230,229],[190,191,231,230],[191,192,232,231],[192,193,233,232],[193,194,234,233],[194,195,235,234],[195,196,236,235],[196,197,237,236],[197,198,238,237],[198,199,239,238],[200,201,241,240],[201,202,242,241],[202,203,243,242],[203,204,244,243],[204,205,245,244],[205,206,246,245],[206,207,247,246],[207,208,248,247],[208,209,249,248],[209,210,250,249],[210,211,251,250],[211,212,252,251],[212,213,253,252],[213,214,254,253],[214,215,255,254],[215,216,256,255],[216,217,257,256],[217,218,258,257],[218,219,259,258],[219,220,260,259],[220,221,261,260],[221,222,262,261],[222,223,263,262],[223,224,264,263],[224,225,265,264],[225,226,266,265],[226,227,267,266],[227,228,268,267],[228,229,269,268],[229,230,270,269],[230,231,271,270],[231,232,272,271],[232,233,273,272],[233,234,274,273],[234,235,275,274],[235,236,276,275],[236,237,277,276],[237,238,278,277],[238,239,279,278],[240,241,281,280],[241,242,282,281],[242,243,283,282],[243,244,284,283],[244,245,285,284],[245,246,286,285],[246,247,287,286],[247,248,288,287],[248,249,289,288],[249,250,290,289],[250,251,291,290],[251,252,292,291],[252,253,293,292],[253,254,294,293],[254,255,295,294],[255,256,296,295],[256,257,297,296],[257,258,298,297],[258,259,299,298],[259,260,300,299],[260,261,301,300],[261,262,302,301],[262,263,303,302],[263,264,304,303],[264,265,305,304],[265,266,306,305],[266,267,307,306],[267,268,308,307],[268,269,309,308],[269,270,310,309],[270,271,311,310],[271,272,312,311],[272,273,313,312],[273,274,314,313],[274,275,315,314],[275,276,316,315],[276,277,317,316],[277,278,318,317],[278,279,319,318],[280,281,321,320],[281,282,322,321],[282,283,323,322],[283,284,324,323],[284,285,325,324],[285,286,326,325],[286,287,327,326],[287,288,328,327],[288,289,329,328],[289,290,330,329],[290,291,331,330],[291,292,332,331],[292,293,333,332],[293,294,334,333],[294,295,335,334],[295,296,336,335],[296,297,337,336],[297,298,338,337],[298,299,339,338],[299,300,340,339],[300,301,341,340],[301,302,342,341],[302,303,343,342],[303,304,344,343],[304,305,345,344],[305,306,346,345],[306,307,347,346],[307,308,348,347],[308,309,349,348],[309,310,350,349],[310,311,351,350],[311,312,352,351],[312,313,353,352],[313,314,354,353],[314,315,355,354],[315,316,356,355],[316,317,357,356],[317,318,358,357],[318,319,359,358],[320,321,361,360],[321,322,362,361],[322,323,363,362],[323,324,364,363],[324,325,365,364],[325,326,366,365],[326,327,367,366],[327,328,368,367],[328,329,369,368],[329,330,370,369],[330,331,371,370],[331,332,372,371],[332,333,373,372],[333,334,374,373],[334,335,375,374],[335,336,376,375],[336,337,377,376],[337,338,378,377],[338,339,379,378],[339,340,380,379],[340,341,381,380],[341,342,382,381],[342,343,383,382],[343,344,384,383],[344,345,385,384],[345,346,386,385],[346,347,387,386],[347,348,388,387],[348,349,389,388],[349,350,390,389],[350,351,391,390],[351,352,392,391],[352,353,393,392],[353,354,394,393],[354,355,395,394],[355,356,396,395],[356,357,397,396],[357,358,398,397],[358,359,399,398],[360,361,401,400],[361,362,402,401],[362,363,403,402],[363,364,404,403],[364,365,405,404],[365,366,406,405],[366,367,407,406],[367,368,408,407],[368,369,409,408],[369,370,410,409],[370,371,411,410],[371,372,412,411],[372,373,413,412],[373,374,414,413],[374,375,415,414],[375,376,416,415],[376,377,417,416],[377,378,418,417],[378,379,419,418],[379,380,420,419],[380,381,421,420],[381,382,422,421],[382,383,423,422],[383,384,424,423],[384,385,425,424],[385,386,426,425],[386,387,427,426],[387,388,428,427],[388,389,429,428],[389,390,430,429],[390,391,431,430],[391,392,432,431],[392,393,433,432],[393,394,434,433],[394,395,435,434],[395,396,436,435],[396,397,437,436],[397,398,438,437],[398,399,439,438],[400,401,441,440],[401,402,442,441],[402,403,443,442],[403,404,444,443],[404,405,445,444],[405,406,446,445],[406,407,447,446],[407,408,448,447],[408,409,449,448],[409,410,450,449],[410,411,451,450],[411,412,452,451],[412,413,453,452],[413,414,454,453],[414,415,455,454],[415,416,456,455],[416,417,457,456],[417,418,458,457],[418,419,459,458],[419,420,460,459],[420,421,461,460],[421,422,462,461],[422,423,463,462],[423,424,464,463],[424,425,465,464],[425,426,466,465],[426,427,467,466],[427,428,468,467],[428,429,469,468],[429,430,470,469],[430,431,471,470],[431,432,472,471],[432,433,473,472],[433,434,474,473],[434,435,475,474],[435,436,476,475],[436,437,477,476],[437,438,478,477],[438,439,479,478],[440,441,481,480],[441,442,482,481],[442,443,483,482],[443,444,484,483],[444,445,485,484],[445,446,486,485],[446,447,487,486],[447,448,488,487],[448,449,489,488],[449,450,490,489],[450,451,491,490],[451,452,492,491],[452,453,493,492],[453,454,494,493],[454,455,495,494],[455,456,496,495],[456,457,497,496],[457,458,498,497],[458,459,499,498],[459,460,500,499],[460,461,501,500],[461,462,502,501],[462,463,503,502],[463,464,504,503],[464,465,505,504],[465,466,506,505],[466,467,507,506],[467,468,508,507],[468,469,509,508],[469,470,510,509],[470,471,511,510],[471,472,512,511],[472,473,513,512],[473,474,514,513],[474,475,515,514],[475,476,516,515],[476,477,517,516],[477,478,518,517],[478,479,519,518],[480,481,521,520],[481,482,522,521],[482,483,523,522],[483,484,524,523],[484,485,525,524],[485,486,526,525],[486,487,527,526],[487,488,528,527],[488,489,529,528],[489,490,530,529],[490,491,531,530],[491,492,532,531],[492,493,533,532],[493,494,534,533],[494,495,535,534],[495,496,536,535],[496,497,537,536],[497,498,538,537],[498,499,539,538],[499,500,540,539],[500,501,541,540],[501,502,542,541],[502,503,543,542],[503,504,544,543],[504,505,545,544],[505,506,546,545],[506,507,547,546],[507,508,548,547],[508,509,549,548],[509,510,550,549],[510,511,551,550],[511,512,552,551],[512,513,553,552],[513,514,554,553],[514,515,555,554],[515,516,556,555],[516,517,557,556],[517,518,558,557],[518,519,559,558],[520,521,561,560],[521,522,562,561],[522,523,563,562],[523,524,564,563],[524,525,565,564],[525,526,566,565],[526,527,567,566],[527,528,568,567],[528,529,569,568],[529,530,570,569],[530,531,571,570],[531,532,572,571],[532,533,573,572],[533,534,574,573],[534,535,575,574],[535,536,576,575],[536,537,577,576],[537,538,578,577],[538,539,579,578],[539,540,580,579],[540,541,581,580],[541,542,582,581],[542,543,583,582],[543,544,584,583],[544,545,585,584],[545,546,586,585],[546,547,587,586],[547,548,588,587],[548,549,589,588],[549,550,590,589],[550,551,591,590],[551,552,592,591],[552,553,593,592],[553,554,594,593],[554,555,595,594],[555,556,596,595],[556,557,597,596],[557,558,598,597],[558,559,599,598],[560,561,601,600],[561,562,602,601],[562,563,603,602],[563,564,604,603],[564,565,605,604],[565,566,606,605],[566,567,607,606],[567,568,608,607],[568,569,609,608],[569,570,610,609],[570,571,611,610],[571,572,612,611],[572,573,613,612],[573,574,614,613],[574,575,615,614],[575,576,616,615],[576,577,617,616],[577,578,618,617],[578,579,619,618],[579,580,620,619],[580,581,621,620],[581,582,622,621],[582,583,623,622],[583,584,624,623],[584,585,625,624],[585,586,626,625],[586,587,627,626],[587,588,628,627],[588,589,629,628],[589,590,630,629],[590,591,631,630],[591,592,632,631],[592,593,633,632],[593,594,634,633],[594,595,635,634],[595,596,636,635],[596,597,637,636],[597,598,638,637],[598,599,639,638],[600,601,641,640],[601,602,642,641],[602,603,643,642],[603,604,644,643],[604,605,645,644],[605,606,646,645],[606,607,647,646],[607,608,648,647],[608,609,649,648],[609,610,650,649],[610,611,651,650],[611,612,652,651],[612,613,653,652],[613,614,654,653],[614,615,655,654],[615,616,656,655],[616,617,657,656],[617,618,658,657],[618,619,659,658],[619,620,660,659],[620,621,661,660],[621,622,662,661],[622,623,663,662],[623,624,664,663],[624,625,665,664],[625,626,666,665],[626,627,667,666],[627,628,668,667],[628,629,669,668],[629,630,670,669],[630,631,671,670],[631,632,672,671],[632,633,673,672],[633,634,674,673],[634,635,675,674],[635,636,676,675],[636,637,677,676],[637,638,678,677],[638,639,679,678],[640,641,681,680],[641,642,682,681],[642,643,683,682],[643,644,684,683],[644,645,685,684],[645,646,686,685],[646,647,687,686],[647,648,688,687],[648,649,689,688],[649,650,690,689],[650,651,691,690],[651,652,692,691],[652,653,693,692],[653,654,694,693],[654,655,695,694],[655,656,696,695],[656,657,697,696],[657,658,698,697],[658,659,699,698],[659,660,700,699],[660,661,701,700],[661,662,702,701],[662,663,703,702],[663,664,704,703],[664,665,705,704],[665,666,706,705],[666,667,707,706],[667,668,708,707],[668,669,709,708],[669,670,710,709],[670,671,711,710],[671,672,712,711],[672,673,713,712],[673,674,714,713],[674,675,715,714],[675,676,716,715],[676,677,717,716],[677,678,718,717],[678,679,719,718],[680,681,721,720],[681,682,722,721],[682,683,723,722],[683,684,724,723],[684,685,725,724],[685,686,726,725],[686,687,727,726],[687,688,728,727],[688,689,729,728],[689,690,730,729],[690,691,731,730],[691,692,732,731],[692,693,733,732],[693,694,734,733],[694,695,735,734],[695,696,736,735],[696,697,737,736],[697,698,738,737],[698,699,739,738],[699,700,740,739],[700,701,741,740],[701,702,742,741],[702,703,743,742],[703,704,744,743],[704,705,745,744],[705,706,746,745],[706,707,747,746],[707,708,748,747],[708,709,749,748],[709,710,750,749],[710,711,751,750],[711,712,752,751],[712,713,753,752],[713,714,754,753],[714,715,755,754],[715,716,756,755],[716,717,757,756],[717,718,758,757],[718,719,759,758],[720,721,761,760],[721,722,762,761],[722,723,763,762],[723,724,764,763],[724,725,765,764],[725,726,766,765],[726,727,767,766],[727,728,768,767],[728,729,769,768],[729,730,770,769],[730,731,771,770],[731,732,772,771],[732,733,773,772],[733,734,774,773],[734,735,775,774],[735,736,776,775],[736,737,777,776],[737,738,778,777],[738,739,779,778],[739,740,780,779],[740,741,781,780],[741,742,782,781],[742,743,783,782],[743,744,784,783],[744,745,785,784],[745,746,786,785],[746,747,787,786],[747,748,788,787],[748,749,789,788],[749,750,790,789],[750,751,791,790],[751,752,792,791],[752,753,793,792],[753,754,794,793],[754,755,795,794],[755,756,796,795],[756,757,797,796],[757,758,798,797],[758,759,799,798],[760,761,801,800],[761,762,802,801],[762,763,803,802],[763,764,804,803],[764,765,805,804],[765,766,806,805],[766,767,807,806],[767,768,808,807],[768,769,809,808],[769,770,810,809],[770,771,811,810],[771,772,812,811],[772,773,813,812],[773,774,814,813],[774,775,815,814],[775,776,816,815],[776,777,817,816],[777,778,818,817],[778,779,819,818],[779,780,820,819],[780,781,821,820],[781,782,822,821],[782,783,823,822],[783,784,824,823],[784,785,825,824],[785,786,826,825],[786,787,827,826],[787,788,828,827],[788,789,829,828],[789,790,830,829],[790,791,831,830],[791,792,832,831],[792,793,833,832],[793,794,834,833],[794,795,835,834],[795,796,836,835],[796,797,837,836],[797,798,838,837],[798,799,839,838],[800,801,841,840],[801,802,842,841],[802,803,843,842],[803,804,844,843],[804,805,845,844],[805,806,846,845],[806,807,847,846],[807,808,848,847],[808,809,849,848],[809,810,850,849],[810,811,851,850],[811,812,852,851],[812,813,853,852],[813,814,854,853],[814,815,855,854],[815,816,856,855],[816,817,857,856],[817,818,858,857],[818,819,859,858],[819,820,860,859],[820,821,861,860],[821,822,862,861],[822,823,863,862],[823,824,864,863],[824,825,865,864],[825,826,866,865],[826,827,867,866],[827,828,868,867],[828,829,869,868],[829,830,870,869],[830,831,871,870],[831,832,872,871],[832,833,873,872],[833,834,874,873],[834,835,875,874],[835,836,876,875],[836,837,877,876],[837,838,878,877],[838,839,879,878],[840,841,881,880],[841,842,882,881],[842,843,883,882],[843,844,884,883],[844,845,885,884],[845,846,886,885],[846,847,887,886],[847,848,888,887],[848,849,889,888],[849,850,890,889],[850,851,891,890],[851,852,892,891],[852,853,893,892],[853,854,894,893],[854,855,895,894],[855,856,896,895],[856,857,897,896],[857,858,898,897],[858,859,899,898],[859,860,900,899],[860,861,901,900],[861,862,902,901],[862,863,903,902],[863,864,904,903],[864,865,905,904],[865,866,906,905],[866,867,907,906],[867,868,908,907],[868,869,909,908],[869,870,910,909],[870,871,911,910],[871,872,912,911],[872,873,913,912],[873,874,914,913],[874,875,915,914],[875,876,916,915],[876,877,917,916],[877,878,918,917],[878,879,919,918],[880,881,921,920],[881,882,922,921],[882,883,923,922],[883,884,924,923],[884,885,925,924],[885,886,926,925],[886,887,927,926],[887,888,928,927],[888,889,929,928],[889,890,930,929],[890,891,931,930],[891,892,932,931],[892,893,933,932],[893,894,934,933],[894,895,935,934],[895,896,936,935],[896,897,937,936],[897,898,938,937],[898,899,939,938],[899,900,940,939],[900,901,941,940],[901,902,942,941],[902,903,943,942],[903,904,944,943],[904,905,945,944],[905,906,946,945],[906,907,947,946],[907,908,948,947],[908,909,949,948],[909,910,950,949],[910,911,951,950],[911,912,952,951],[912,913,953,952],[913,914,954,953],[914,915,955,954],[915,916,956,955],[916,917,957,956],[917,918,958,957],[918,919,959,958],[920,921,961,960],[921,922,962,961],[922,923,963,962],[923,924,964,963],[924,925,965,964],[925,926,966,965],[926,927,967,966],[927,928,968,967],[928,929,969,968],[929,930,970,969],[930,931,971,970],[931,932,972,971],[932,933,973,972],[933,934,974,973],[934,935,975,974],[935,936,976,975],[936,937,977,976],[937,938,978,977],[938,939,979,978],[939,940,980,979],[940,941,981,980],[941,942,982,981],[942,943,983,982],[943,944,984,983],[944,945,985,984],[945,946,986,985],[946,947,987,986],[947,948,988,987],[948,949,989,988],[949,950,990,989],[950,951,991,990],[951,952,992,991],[952,953,993,992],[953,954,994,993],[954,955,995,994],[955,956,996,995],[956,957,997,996],[957,958,998,997],[958,959,999,998],[960,961,1001,1000],[961,962,1002,1001],[962,963,1003,1002],[963,964,1004,1003],[964,965,1005,1004],[965,966,1006,1005],[966,967,1007,1006],[967,968,1008,1007],[968,969,1009,1008],[969,970,1010,1009],[970,971,1011,1010],[971,972,1012,1011],[972,973,1013,1012],[973,974,1014,1013],[974,975,1015,1014],[975,976,1016,1015],[976,977,1017,1016],[977,978,1018,1017],[978,979,1019,1018],[979,980,1020,1019],[980,981,1021,1020],[981,982,1022,1021],[982,983,1023,1022],[983,984,1024,1023],[984,985,1025,1024],[985,986,1026,1025],[986,987,1027,1026],[987,988,1028,1027],[988,989,1029,1028],[989,990,1030,1029],[990,991,1031,1030],[991,992,1032,1031],[992,993,1033,1032],[993,994,1034,1033],[994,995,1035,1034],[995,996,1036,1035],[996,997,1037,1036],[997,998,1038,1037],[998,999,1039,1038],[1000,1001,1041,1040],[1001,1002,1042,1041],[1002,1003,1043,1042],[1003,1004,1044,1043],[1004,1005,1045,1044],[1005,1006,1046,1045],[1006,1007,1047,1046],[1007,1008,1048,1047],[1008,1009,1049,1048],[1009,1010,1050,1049],[1010,1011,1051,1050],[1011,1012,1052,1051],[1012,1013,1053,1052],[1013,1014,1054,1053],[1014,1015,1055,1054],[1015,1016,1056,1055],[1016,1017,1057,1056],[1017,1018,1058,1057],[1018,1019,1059,1058],[1019,1020,1060,1059],[1020,1021,1061,1060],[1021,1022,1062,1061],[1022,1023,1063,1062],[1023,1024,1064,1063],[1024,1025,1065,1064],[1025,1026,1066,1065],[1026,1027,1067,1066],[1027,1028,1068,1067],[1028,1029,1069,1068],[1029,1030,1070,1069],[1030,1031,1071,1070],[1031,1032,1072,1071],[1032,1033,1073,1072],[1033,1034,1074,1073],[1034,1035,1075,1074],[1035,1036,1076,1075],[1036,1037,1077,1076],[1037,1038,1078,1077],[1038,1039,1079,1078],[1040,1041,1081,1080],[1041,1042,1082,1081],[1042,1043,1083,1082],[1043,1044,1084,1083],[1044,1045,1085,1084],[1045,1046,1086,1085],[1046,1047,1087,1086],[1047,1048,1088,1087],[1048,1049,1089,1088],[1049,1050,1090,1089],[1050,1051,1091,1090],[1051,1052,1092,1091],[1052,1053,1093,1092],[1053,1054,1094,1093],[1054,1055,1095,1094],[1055,1056,1096,1095],[1056,1057,1097,1096],[1057,1058,1098,1097],[1058,1059,1099,1098],[1059,1060,1100,1099],[1060,1061,1101,1100],[1061,1062,1102,1101],[1062,1063,1103,1102],[1063,1064,1104,1103],[1064,1065,1105,1104],[1065,1066,1106,1105],[1066,1067,1107,1106],[1067,1068,1108,1107],[1068,1069,1109,1108],[1069,1070,1110,1109],[1070,1071,1111,1110],[1071,1072,1112,1111],[1072,1073,1113,1112],[1073,1074,1114,1113],[1074,1075,1115,1114],[1075,1076,1116,1115],[1076,1077,1117,1116],[1077,1078,1118,1117],[1078,1079,1119,1118],[1080,1081,1121,1120],[1081,1082,1122,1121],[1082,1083,1123,1122],[1083,1084,1124,1123],[1084,1085,1125,1124],[1085,1086,1126,1125],[1086,1087,1127,1126],[1087,1088,1128,1127],[1088,1089,1129,1128],[1089,1090,1130,1129],[1090,1091,1131,1130],[1091,1092,1132,1131],[1092,1093,1133,1132],[1093,1094,1134,1133],[1094,1095,1135,1134],[1095,1096,1136,1135],[1096,1097,1137,1136],[1097,1098,1138,1137],[1098,1099,1139,1138],[1099,1100,1140,1139],[1100,1101,1141,1140],[1101,1102,1142,1141],[1102,1103,1143,1142],[1103,1104,1144,1143],[1104,1105,1145,1144],[1105,1106,1146,1145],[1106,1107,1147,1146],[1107,1108,1148,1147],[1108,1109,1149,1148],[1109,1110,1150,1149],[1110,1111,1151,1150],[1111,1112,1152,1151],[1112,1113,1153,1152],[1113,1114,1154,1153],[1114,1115,1155,1154],[1115,1116,1156,1155],[1116,1117,1157,1156],[1117,1118,1158,1157],[1118,1119,1159,1158],[1120,1121,1161,1160],[1121,1122,1162,1161],[1122,1123,1163,1162],[1123,1124,1164,1163],[1124,1125,1165,1164],[1125,1126,1166,1165],[1126,1127,1167,1166],[1127,1128,1168,1167],[1128,1129,1169,1168],[1129,1130,1170,1169],[1130,1131,1171,1170],[1131,1132,1172,1171],[1132,1133,1173,1172],[1133,1134,1174,1173],[1134,1135,1175,1174],[1135,1136,1176,1175],[1136,1137,1177,1176],[1137,1138,1178,1177],[1138,1139,1179,1178],[1139,1140,1180,1179],[1140,1141,1181,1180],[1141,1142,1182,1181],[1142,1143,1183,1182],[1143,1144,1184,1183],[1144,1145,1185,1184],[1145,1146,1186,1185],[1146,1147,1187,1186],[1147,1148,1188,1187],[1148,1149,1189,1188],[1149,1150,1190,1189],[1150,1151,1191,1190],[1151,1152,1192,1191],[1152,1153,1193,1192],[1153,1154,1194,1193],[1154,1155,1195,1194],[1155,1156,1196,1195],[1156,1157,1197,1196],[1157,1158,1198,1197],[1158,1159,1199,1198],[1160,1161,1201,1200],[1161,1162,1202,1201],[1162,1163,1203,1202],[1163,1164,1204,1203],[1164,1165,1205,1204],[1165,1166,1206,1205],[1166,1167,1207,1206],[1167,1168,1208,1207],[1168,1169,1209,1208],[1169,1170,1210,1209],[1170,1171,1211,1210],[1171,1172,1212,1211],[1172,1173,1213,1212],[1173,1174,1214,1213],[1174,1175,1215,1214],[1175,1176,1216,1215],[1176,1177,1217,1216],[1177,1178,1218,1217],[1178,1179,1219,1218],[1179,1180,1220,1219],[1180,1181,1221,1220],[1181,1182,1222,1221],[1182,1183,1223,1222],[1183,1184,1224,1223],[1184,1185,1225,1224],[1185,1186,1226,1225],[1186,1187,1227,1226],[1187,1188,1228,1227],[1188,1189,1229,1228],[1189,1190,1230,1229],[1190,1191,1231,1230],[1191,1192,1232,1231],[1192,1193,1233,1232],[1193,1194,1234,1233],[1194,1195,1235,1234],[1195,1196,1236,1235],[1196,1197,1237,1236],[1197,1198,1238,1237],[1198,1199,1239,1238],[1200,1201,1241,1240],[1201,1202,1242,1241],[1202,1203,1243,1242],[1203,1204,1244,1243],[1204,1205,1245,1244],[1205,1206,1246,1245],[1206,1207,1247,1246],[1207,1208,1248,1247],[1208,1209,1249,1248],[1209,1210,1250,1249],[1210,1211,1251,1250],[1211,1212,1252,1251],[1212,1213,1253,1252],[1213,1214,1254,1253],[1214,1215,1255,1254],[1215,1216,1256,1255],[1216,1217,1257,1256],[1217,1218,1258,1257],[1218,1219,1259,1258],[1219,1220,1260,1259],[1220,1221,1261,1260],[1221,1222,1262,1261],[1222,1223,1263,1262],[1223,1224,1264,1263],[1224,1225,1265,1264],[1225,1226,1266,1265],[1226,1227,1267,1266],[1227,1228,1268,1267],[1228,1229,1269,1268],[1229,1230,1270,1269],[1230,1231,1271,1270],[1231,1232,1272,1271],[1232,1233,1273,1272],[1233,1234,1274,1273],[1234,1235,1275,1274],[1235,1236,1276,1275],[1236,1237,1277,1276],[1237,1238,1278,1277],[1238,1239,1279,1278],[1240,1241,1281,1280],[1241,1242,1282,1281],[1242,1243,1283,1282],[1243,1244,1284,1283],[1244,1245,1285,1284],[1245,1246,1286,1285],[1246,1247,1287,1286],[1247,1248,1288,1287],[1248,1249,1289,1288],[1249,1250,1290,1289],[1250,1251,1291,1290],[1251,1252,1292,1291],[1252,1253,1293,1292],[1253,1254,1294,1293],[1254,1255,1295,1294],[1255,1256,1296,1295],[1256,1257,1297,1296],[1257,1258,1298,1297],[1258,1259,1299,1298],[1259,1260,1300,1299],[1260,1261,1301,1300],[1261,1262,1302,1301],[1262,1263,1303,1302],[1263,1264,1304,1303],[1264,1265,1305,1304],[1265,1266,1306,1305],[1266,1267,1307,1306],[1267,1268,1308,1307],[1268,1269,1309,1308],[1269,1270,1310,1309],[1270,1271,1311,1310],[1271,1272,1312,1311],[1272,1273,1313,1312],[1273,1274,1314,1313],[1274,1275,1315,1314],[1275,1276,1316,1315],[1276,1277,1317,1316],[1277,1278,1318,1317],[1278,1279,1319,1318],[1280,1281,1321,1320],[1281,1282,1322,1321],[1282,1283,1323,1322],[1283,1284,1324,1323],[1284,1285,1325,1324],[1285,1286,1326,1325],[1286,1287,1327,1326],[1287,1288,1328,1327],[1288,1289,1329,1328],[1289,1290,1330,1329],[1290,1291,1331,1330],[1291,1292,1332,1331],[1292,1293,1333,1332],[1293,1294,1334,1333],[1294,1295,1335,1334],[1295,1296,1336,1335],[1296,1297,1337,1336],[1297,1298,1338,1337],[1298,1299,1339,1338],[1299,1300,1340,1339],[1300,1301,1341,1340],[1301,1302,1342,1341],[1302,1303,1343,1342],[1303,1304,1344,1343],[1304,1305,1345,1344],[1305,1306,1346,1345],[1306,1307,1347,1346],[1307,1308,1348,1347],[1308,1309,1349,1348],[1309,1310,1350,1349],[1310,1311,1351,1350],[1311,1312,1352,1351],[1312,1313,1353,1352],[1313,1314,1354,1353],[1314,1315,1355,1354],[1315,1316,1356,1355],[1316,1317,1357,1356],[1317,1318,1358,1357],[1318,1319,1359,1358],[1320,1321,1361,1360],[1321,1322,1362,1361],[1322,1323,1363,1362],[1323,1324,1364,1363],[1324,1325,1365,1364],[1325,1326,1366,1365],[1326,1327,1367,1366],[1327,1328,1368,1367],[1328,1329,1369,1368],[1329,1330,1370,1369],[1330,1331,1371,1370],[1331,1332,1372,1371],[1332,1333,1373,1372],[1333,1334,1374,1373],[1334,1335,1375,1374],[1335,1336,1376,1375],[1336,1337,1377,1376],[1337,1338,1378,1377],[1338,1339,1379,1378],[1339,1340,1380,1379],[1340,1341,1381,1380],[1341,1342,1382,1381],[1342,1343,1383,1382],[1343,1344,1384,1383],[1344,1345,1385,1384],[1345,1346,1386,1385],[1346,1347,1387,1386],[1347,1348,1388,1387],[1348,1349,1389,1388],[1349,1350,1390,1389],[1350,1351,1391,1390],[1351,1352,1392,1391],[1352,1353,1393,1392],[1353,1354,1394,1393],[1354,1355,1395,1394],[1355,1356,1396,1395],[1356,1357,1397,1396],[1357,1358,1398,1397],[1358,1359,1399,1398],[1360,1361,1401,1400],[1361,1362,1402,1401],[1362,1363,1403,1402],[1363,1364,1404,1403],[1364,1365,1405,1404],[1365,1366,1406,1405],[1366,1367,1407,1406],[1367,1368,1408,1407],[1368,1369,1409,1408],[1369,1370,1410,1409],[1370,1371,1411,1410],[1371,1372,1412,1411],[1372,1373,1413,1412],[1373,1374,1414,1413],[1374,1375,1415,1414],[1375,1376,1416,1415],[1376,1377,1417,1416],[1377,1378,1418,1417],[1378,1379,1419,1418],[1379,1380,1420,1419],[1380,1381,1421,1420],[1381,1382,1422,1421],[1382,1383,1423,1422],[1383,1384,1424,1423],[1384,1385,1425,1424],[1385,1386,1426,1425],[1386,1387,1427,1426],[1387,1388,1428,1427],[1388,1389,1429,1428],[1389,1390,1430,1429],[1390,1391,1431,1430],[1391,1392,1432,1431],[1392,1393,1433,1432],[1393,1394,1434,1433],[1394,1395,1435,1434],[1395,1396,1436,1435],[1396,1397,1437,1436],[1397,1398,1438,1437],[1398,1399,1439,1438],[1400,1401,1441,1440],[1401,1402,1442,1441],[1402,1403,1443,1442],[1403,1404,1444,1443],[1404,1405,1445,1444],[1405,1406,1446,1445],[1406,1407,1447,1446],[1407,1408,1448,1447],[1408,1409,1449,1448],[1409,1410,1450,1449],[1410,1411,1451,1450],[1411,1412,1452,1451],[1412,1413,1453,1452],[1413,1414,1454,1453],[1414,1415,1455,1454],[1415,1416,1456,1455],[1416,1417,1457,1456],[1417,1418,1458,1457],[1418,1419,1459,1458],[1419,1420,1460,1459],[1420,1421,1461,1460],[1421,1422,1462,1461],[1422,1423,1463,1462],[1423,1424,1464,1463],[1424,1425,1465,1464],[1425,1426,1466,1465],[1426,1427,1467,1466],[1427,1428,1468,1467],[1428,1429,1469,1468],[1429,1430,1470,1469],[1430,1431,1471,1470],[1431,1432,1472,1471],[1432,1433,1473,1472],[1433,1434,1474,1473],[1434,1435,1475,1474],[1435,1436,1476,1475],[1436,1437,1477,1476],[1437,1438,1478,1477],[1438,1439,1479,1478],[1440,1441,1481,1480],[1441,1442,1482,1481],[1442,1443,1483,1482],[1443,1444,1484,1483],[1444,1445,1485,1484],[1445,1446,1486,1485],[1446,1447,1487,1486],[1447,1448,1488,1487],[1448,1449,1489,1488],[1449,1450,1490,1489],[1450,1451,1491,1490],[1451,1452,1492,1491],[1452,1453,1493,1492],[1453,1454,1494,1493],[1454,1455,1495,1494],[1455,1456,1496,1495],[1456,1457,1497,1496],[1457,1458,1498,1497],[1458,1459,1499,1498],[1459,1460,1500,1499],[1460,1461,1501,1500],[1461,1462,1502,1501],[1462,1463,1503,1502],[1463,1464,1504,1503],[1464,1465,1505,1504],[1465,1466,1506,1505],[1466,1467,1507,1506],[1467,1468,1508,1507],[1468,1469,1509,1508],[1469,1470,1510,1509],[1470,1471,1511,1510],[1471,1472,1512,1511],[1472,1473,1513,1512],[1473,1474,1514,1513],[1474,1475,1515,1514],[1475,1476,1516,1515],[1476,1477,1517,1516],[1477,1478,1518,1517],[1478,1479,1519,1518],[1480,1481,1521,1520],[1481,1482,1522,1521],[1482,1483,1523,1522],[1483,1484,1524,1523],[1484,1485,1525,1524],[1485,1486,1526,1525],[1486,1487,1527,1526],[1487,1488,1528,1527],[1488,1489,1529,1528],[1489,1490,1530,1529],[1490,1491,1531,1530],[1491,1492,1532,1531],[1492,1493,1533,1532],[1493,1494,1534,1533],[1494,1495,1535,1534],[1495,1496,1536,1535],[1496,1497,1537,1536],[1497,1498,1538,1537],[1498,1499,1539,1538],[1499,1500,1540,1539],[1500,1501,1541,1540],[1501,1502,1542,1541],[1502,1503,1543,1542],[1503,1504,1544,1543],[1504,1505,1545,1544],[1505,1506,1546,1545],[1506,1507,1547,1546],[1507,1508,1548,1547],[1508,1509,1549,1548],[1509,1510,1550,1549],[1510,1511,1551,1550],[1511,1512,1552,1551],[1512,1513,1553,1552],[1513,1514,1554,1553],[1514,1515,1555,1554],[1515,1516,1556,1555],[1516,1517,1557,1556],[1517,1518,1558,1557],[1518,1519,1559,1558],[1520,1521,1561,1560],[1521,1522,1562,1561],[1522,1523,1563,1562],[1523,1524,1564,1563],[1524,1525,1565,1564],[1525,1526,1566,1565],[1526,1527,1567,1566],[1527,1528,1568,1567],[1528,1529,1569,1568],[1529,1530,1570,1569],[1530,1531,1571,1570],[1531,1532,1572,1571],[1532,1533,1573,1572],[1533,1534,1574,1573],[1534,1535,1575,1574],[1535,1536,1576,1575],[1536,1537,1577,1576],[1537,1538,1578,1577],[1538,1539,1579,1578],[1539,1540,1580,1579],[1540,1541,1581,1580],[1541,1542,1582,1581],[1542,1543,1583,1582],[1543,1544,1584,1583],[1544,1545,1585,1584],[1545,1546,1586,1585],[1546,1547,1587,1586],[1547,1548,1588,1587],[1548,1549,1589,1588],[1549,1550,1590,1589],[1550,1551,1591,1590],[1551,1552,1592,1591],[1552,1553,1593,1592],[1553,1554,1594,1593],[1554,1555,1595,1594],[1555,1556,1596,1595],[1556,1557,1597,1596],[1557,1558,1598,1597],[1558,1559,1599,1598]], color:'#6666ff', opacity:1}];\n",
       "    for ( var i=0 ; i < surfaces.length ; i++ ) addSurface( surfaces[i] );\n",
       "\n",
       "    function addSurface( json ) {\n",
       "        var geometry = new THREE.Geometry();\n",
       "        for ( var i=0 ; i < json.vertices.length ; i++ ) {\n",
       "            var v = json.vertices[i];\n",
       "            geometry.vertices.push( new THREE.Vector3( a[0]*v.x, a[1]*v.y, a[2]*v.z ) );\n",
       "        }\n",
       "        for ( var i=0 ; i < json.faces.length ; i++ ) {\n",
       "            var f = json.faces[i];\n",
       "            for ( var j=0 ; j < f.length - 2 ; j++ ) {\n",
       "                geometry.faces.push( new THREE.Face3( f[0], f[j+1], f[j+2] ) );\n",
       "            }\n",
       "        }\n",
       "        geometry.computeVertexNormals();\n",
       "        var depthWrite = json.opacity < 1 ? false : true;\n",
       "        var material = new THREE.MeshPhongMaterial( {\n",
       "                                     color: json.color , side: THREE.DoubleSide,\n",
       "                                     transparent: true, opacity: json.opacity,\n",
       "                                     shininess: 20, depthWrite: depthWrite } );\n",
       "        scene.add( new THREE.Mesh( geometry, material ) );\n",
       "    }\n",
       "\n",
       "    var scratch = new THREE.Vector3();\n",
       "\n",
       "    function render() {\n",
       "\n",
       "        if ( animate ) requestAnimationFrame( render );\n",
       "        renderer.render( scene, camera );\n",
       "\n",
       "        for ( var i=0 ; i < scene.children.length ; i++ ) {\n",
       "            if ( scene.children[i].type === 'Sprite' ) {\n",
       "                var sprite = scene.children[i];\n",
       "                var adjust = scratch.addVectors( sprite.position, scene.position )\n",
       "                               .sub( camera.position ).length() / 5;\n",
       "                sprite.scale.set( adjust, .25*adjust ); // ratio of canvas width to height\n",
       "            }\n",
       "        }\n",
       "    }\n",
       "    \n",
       "    render();\n",
       "    if ( !animate ) render();\n",
       "\n",
       "</script>\n",
       "\n",
       "</body>\n",
       "</html>\" \n",
       "        width=\"100%\"\n",
       "        height=\"400\"\n",
       "        style=\"border: 0;\">\n",
       "</iframe>\n"
      ],
      "text/plain": [
       "Graphics3d Object"
      ]
     },
     "metadata": {},
     "output_type": "display_data"
    }
   ],
   "source": [
    "l=line3d( [ (R1,R1,f(R1)) for R1 in srange(.1,1,0.01)],thickness=10,color='red' ) \n",
    "l2=line3d( [ (R1,R1,0) for R1 in srange(.1,1,0.1)],thickness=2,color='gray' ) \n",
    "(p3d+l+l2).show(viewer='threejs')"
   ]
  },
  {
   "cell_type": "code",
   "execution_count": 107,
   "metadata": {
    "collapsed": false,
    "deletable": true,
    "editable": true
   },
   "outputs": [
    {
     "data": {
      "text/html": [
       "<html><script type=\"math/tex; mode=display\">\\newcommand{\\Bold}[1]{\\mathbf{#1}}\\frac{U\\left(t\\right)}{C R} + \\frac{\\partial}{\\partial t}U\\left(t\\right) = 0</script></html>"
      ],
      "text/plain": [
       "U(t)/(C*R) + diff(U(t), t) == 0"
      ]
     },
     "metadata": {},
     "output_type": "display_data"
    }
   ],
   "source": [
    "var('C, R_o,R, t, U_0, U_in, omega') \n",
    "U = function('U')(t) \n",
    "R_0= U.diff()+U/(R*C)==0;show(R_0)"
   ]
  },
  {
   "cell_type": "code",
   "execution_count": 108,
   "metadata": {
    "collapsed": false,
    "deletable": true,
    "editable": true
   },
   "outputs": [
    {
     "data": {
      "text/html": [
       "<html><script type=\"math/tex; mode=display\">\\newcommand{\\Bold}[1]{\\mathbf{#1}}U_{0} e^{\\left(-\\frac{t}{C R}\\right)}</script></html>"
      ],
      "text/plain": [
       "U_0*e^(-t/(C*R))"
      ]
     },
     "execution_count": 108,
     "metadata": {},
     "output_type": "execute_result"
    }
   ],
   "source": [
    "sol = desolve(R_0, U, ivar=t, ics=[0, U_0]);sol"
   ]
  },
  {
   "cell_type": "code",
   "execution_count": 109,
   "metadata": {
    "collapsed": false,
    "deletable": true,
    "editable": true
   },
   "outputs": [
    {
     "data": {
      "image/png": "[encoded data removed]",
      "text/plain": [
       "Graphics object consisting of 1 graphics primitive"
      ]
     },
     "metadata": {},
     "output_type": "display_data"
    }
   ],
   "source": [
    "show(plot(sol.substitute({U_0:9, R:1, C:5}), 0, 20),\n",
    "     figsize=3,frame=True,axes=False,gridlines=\"minor\",\n",
    "    fontsize=8) "
   ]
  },
  {
   "cell_type": "code",
   "execution_count": 110,
   "metadata": {
    "collapsed": false,
    "deletable": true,
    "editable": true
   },
   "outputs": [
    {
     "data": {
      "text/html": [
       "<html><script type=\"math/tex; mode=display\">\\newcommand{\\Bold}[1]{\\mathbf{#1}}\\left(\\frac{U\\left(t\\right)}{C R} + \\frac{\\partial}{\\partial t}U\\left(t\\right) = \\frac{U_{\\mathit{in}}}{C R}, {\\left(U_{\\mathit{in}} e^{\\left(\\frac{t}{C R}\\right)} + U_{0} - U_{\\mathit{in}}\\right)} e^{\\left(-\\frac{t}{C R}\\right)}\\right)</script></html>"
      ],
      "text/plain": [
       "(U(t)/(C*R) + diff(U(t), t) == U_in/(C*R),\n",
       " (U_in*e^(t/(C*R)) + U_0 - U_in)*e^(-t/(C*R)))"
      ]
     },
     "execution_count": 110,
     "metadata": {},
     "output_type": "execute_result"
    }
   ],
   "source": [
    "R_0= U.diff() + U/(R*C) == U_in/(R*C)\n",
    "sol = desolve(R_0, U, ivar=t, ics=[0,U_0]);R_0,sol"
   ]
  },
  {
   "cell_type": "code",
   "execution_count": 111,
   "metadata": {
    "collapsed": false,
    "deletable": true,
    "editable": true
   },
   "outputs": [
    {
     "data": {
      "text/html": [
       "<html><script type=\"math/tex; mode=display\">\\newcommand{\\Bold}[1]{\\mathbf{#1}}U_{\\mathit{in}}</script></html>"
      ],
      "text/plain": [
       "U_in"
      ]
     },
     "execution_count": 111,
     "metadata": {},
     "output_type": "execute_result"
    }
   ],
   "source": [
    "assume(C>0); assume(R>0)\n",
    "limit(sol, t=oo) "
   ]
  },
  {
   "cell_type": "code",
   "execution_count": 112,
   "metadata": {
    "collapsed": false,
    "deletable": true,
    "editable": true
   },
   "outputs": [],
   "source": [
    "ex(t) = sol.substitute({C:6, R:1, U_in:9, U_0:0}) \n",
    "#show(ex)(t=5, U_in=9, U_0=0, R=1)"
   ]
  },
  {
   "cell_type": "code",
   "execution_count": 113,
   "metadata": {
    "collapsed": false,
    "deletable": true,
    "editable": true
   },
   "outputs": [
    {
     "data": {
      "image/png": "[encoded data removed]",
      "text/plain": [
       "Graphics object consisting of 3 graphics primitives"
      ]
     },
     "metadata": {},
     "output_type": "display_data"
    }
   ],
   "source": [
    "show(plot(ex,(0, 20))\\\n",
    "+ line([(0, 6.3), (20, 8)],color='red')\\\n",
    "+ point((5,6.3),color='red', size=15),\n",
    "     figsize=3,frame=True,fontsize=8,axes=False)"
   ]
  },
  {
   "cell_type": "code",
   "execution_count": 114,
   "metadata": {
    "collapsed": false,
    "deletable": true,
    "editable": true
   },
   "outputs": [
    {
     "data": {
      "text/html": [
       "<html><script type=\"math/tex; mode=display\">\\newcommand{\\Bold}[1]{\\mathbf{#1}}\\left[C = \\frac{1}{\\log\\left(\\frac{1}{4} \\cdot 4^{\\frac{1}{5}} {\\left(\\sqrt{5} + i \\, \\sqrt{2 \\, \\sqrt{5} + 10} - 1\\right)}\\right)}, C = \\frac{1}{\\log\\left(-\\frac{1}{4} \\cdot 4^{\\frac{1}{5}} {\\left(\\sqrt{5} - i \\, \\sqrt{-2 \\, \\sqrt{5} + 10} + 1\\right)}\\right)}, C = \\frac{5}{-4 i \\, \\pi + \\log\\left(4\\right)}, C = \\frac{5}{-2 i \\, \\pi + \\log\\left(4\\right)}, C = \\frac{5}{\\log\\left(4\\right)}\\right]</script></html>"
      ],
      "text/plain": [
       "[C == (1/log(1/4*4^(1/5)*(sqrt(5) + I*sqrt(2*sqrt(5) + 10) - 1))), C == (1/log(-1/4*4^(1/5)*(sqrt(5) - I*sqrt(-2*sqrt(5) + 10) + 1))), C == 5/(-4*I*pi + log(4)), C == 5/(-2*I*pi + log(4)), C == 5/log(4)]"
      ]
     },
     "execution_count": 114,
     "metadata": {},
     "output_type": "execute_result"
    }
   ],
   "source": [
    "solve(sol.substitute(t=5, U_in=8, U_0=0, R=1)==6, C) "
   ]
  },
  {
   "cell_type": "code",
   "execution_count": 115,
   "metadata": {
    "collapsed": false,
    "deletable": true,
    "editable": true
   },
   "outputs": [
    {
     "data": {
      "text/html": [
       "<html><script type=\"math/tex; mode=display\">\\newcommand{\\Bold}[1]{\\mathbf{#1}}t \\ {\\mapsto}\\ 8 \\, {\\left(e^{\\left(\\frac{1}{5} \\, t \\log\\left(3\\right)\\right)} - 1\\right)} e^{\\left(-\\frac{1}{5} \\, t \\log\\left(3\\right)\\right)}</script></html>"
      ],
      "text/plain": [
       "t |--> 8*(e^(1/5*t*log(3)) - 1)*e^(-1/5*t*log(3))"
      ]
     },
     "metadata": {},
     "output_type": "display_data"
    }
   ],
   "source": [
    "ex(t) = sol.substitute({C:5/log(3), R:1, U_in:8, U_0:0}) \n",
    "show(ex) "
   ]
  },
  {
   "cell_type": "code",
   "execution_count": 116,
   "metadata": {
    "collapsed": false,
    "deletable": true,
    "editable": true
   },
   "outputs": [
    {
     "data": {
      "image/png": "[encoded data removed]",
      "text/plain": [
       "Graphics object consisting of 3 graphics primitives"
      ]
     },
     "metadata": {},
     "output_type": "display_data"
    }
   ],
   "source": [
    "show(plot(ex, (0, 20)) \\\n",
    "+ line([(0, 8), (20, 8)], \n",
    "       color='red')\\\n",
    "+ point((5,5.35),color='red', size=15),\n",
    "figsize=3,frame=True,fontsize=6,axes=False)"
   ]
  },
  {
   "cell_type": "code",
   "execution_count": 117,
   "metadata": {
    "collapsed": false,
    "deletable": true,
    "editable": true
   },
   "outputs": [
    {
     "data": {
      "text/html": [
       "<html><script type=\"math/tex; mode=display\">\\newcommand{\\Bold}[1]{\\mathbf{#1}}\\frac{U\\left(t\\right)}{C R} + \\frac{\\partial}{\\partial t}U\\left(t\\right) = \\frac{U_{\\mathit{in}} \\sin\\left(\\omega t\\right)}{C R}</script></html>"
      ],
      "text/plain": [
       "U(t)/(C*R) + diff(U(t), t) == U_in*sin(omega*t)/(C*R)"
      ]
     },
     "execution_count": 117,
     "metadata": {},
     "output_type": "execute_result"
    }
   ],
   "source": [
    "R_0= U.diff() + U/(R*C) == U_in*sin(omega*t)/(R*C)\n",
    "sol = desolve(R_0, U, ivar=t, ics=[0,U_0]);R_0"
   ]
  },
  {
   "cell_type": "code",
   "execution_count": 118,
   "metadata": {
    "collapsed": false,
    "deletable": true,
    "editable": true
   },
   "outputs": [
    {
     "data": {
      "text/html": [
       "<html><script type=\"math/tex; mode=display\">\\newcommand{\\Bold}[1]{\\mathbf{#1}}\\frac{{\\left(C R U_{\\mathit{in}} \\omega + {\\left(C^{2} R^{2} \\omega^{2} + 1\\right)} U_{0} - {\\left(C R U_{\\mathit{in}} \\omega \\cos\\left(\\omega t\\right) - U_{\\mathit{in}} \\sin\\left(\\omega t\\right)\\right)} e^{\\left(\\frac{t}{C R}\\right)}\\right)} e^{\\left(-\\frac{t}{C R}\\right)}}{C^{2} R^{2} \\omega^{2} + 1}</script></html>"
      ],
      "text/plain": [
       "(C*R*U_in*omega + (C^2*R^2*omega^2 + 1)*U_0 - (C*R*U_in*omega*cos(omega*t) - U_in*sin(omega*t))*e^(t/(C*R)))*e^(-t/(C*R))/(C^2*R^2*omega^2 + 1)"
      ]
     },
     "execution_count": 118,
     "metadata": {},
     "output_type": "execute_result"
    }
   ],
   "source": [
    "sol"
   ]
  },
  {
   "cell_type": "code",
   "execution_count": 119,
   "metadata": {
    "collapsed": false,
    "deletable": true,
    "editable": true
   },
   "outputs": [
    {
     "data": {
      "text/html": [
       "<html><script type=\"math/tex; mode=display\">\\newcommand{\\Bold}[1]{\\mathbf{#1}}\\$1 \\cos\\left(\\$2\\right) + \\$0 \\sin\\left(\\$2\\right) = \\sqrt{\\$1^{2} + \\$0^{2}} \\sin\\left(\\$2 + \\arccos\\left(\\frac{\\$1}{\\sqrt{\\$1^{2} + \\$0^{2}}}\\right) \\mathrm{sgn}\\left(\\$1\\right)\\right)</script></html>"
      ],
      "text/plain": [
       "$1*cos($2) + $0*sin($2) == sqrt($1^2 + $0^2)*sin($2 + arccos($1/sqrt($1^2 + $0^2))*sgn($1))"
      ]
     },
     "metadata": {},
     "output_type": "display_data"
    }
   ],
   "source": [
    "w0=SR.wild(0); w1=SR.wild(1); w2=SR.wild(2) \n",
    "law = w0*sin(w2)+w1*cos(w2)==sqrt(w0^2+w1^2)*sin(w2+sign(w1)*arccos(w1/sqrt(w0^2+w1^2)))\n",
    "show(law) "
   ]
  },
  {
   "cell_type": "code",
   "execution_count": 120,
   "metadata": {
    "collapsed": false,
    "deletable": true,
    "editable": true
   },
   "outputs": [
    {
     "data": {
      "text/html": [
       "<html><script type=\"math/tex; mode=display\">\\newcommand{\\Bold}[1]{\\mathbf{#1}}\\frac{{\\left(C R U_{\\mathit{in}} \\omega - \\sqrt{C^{2} R^{2} U_{\\mathit{in}}^{2} \\omega^{2} + U_{\\mathit{in}}^{2}} e^{\\left(\\frac{t}{C R}\\right)} \\sin\\left(\\omega t + \\arccos\\left(\\frac{C R U_{\\mathit{in}} \\omega}{\\sqrt{C^{2} R^{2} U_{\\mathit{in}}^{2} \\omega^{2} + U_{\\mathit{in}}^{2}}}\\right) \\mathrm{sgn}\\left(C R U_{\\mathit{in}} \\omega\\right)\\right) + {\\left(C^{2} R^{2} \\omega^{2} + 1\\right)} U_{0}\\right)} e^{\\left(-\\frac{t}{C R}\\right)}}{C^{2} R^{2} \\omega^{2} + 1}</script></html>"
      ],
      "text/plain": [
       "(C*R*U_in*omega - sqrt(C^2*R^2*U_in^2*omega^2 + U_in^2)*e^(t/(C*R))*sin(omega*t + arccos(C*R*U_in*omega/sqrt(C^2*R^2*U_in^2*omega^2 + U_in^2))*sgn(C*R*U_in*omega)) + (C^2*R^2*omega^2 + 1)*U_0)*e^(-t/(C*R))/(C^2*R^2*omega^2 + 1)"
      ]
     },
     "metadata": {},
     "output_type": "display_data"
    }
   ],
   "source": [
    "sol2=sol.substitute(law);show(sol2) "
   ]
  },
  {
   "cell_type": "code",
   "execution_count": 121,
   "metadata": {
    "collapsed": false,
    "deletable": true,
    "editable": true
   },
   "outputs": [
    {
     "data": {
      "text/html": [
       "<html><script type=\"math/tex; mode=display\">\\newcommand{\\Bold}[1]{\\mathbf{#1}}t \\ {\\mapsto}\\ -\\frac{9}{1297} \\, {\\left({\\left(36 \\, \\cos\\left(6 \\, t\\right) - \\sin\\left(6 \\, t\\right)\\right)} e^{\\left(\\frac{1}{6} \\, t\\right)} - 36\\right)} e^{\\left(-\\frac{1}{6} \\, t\\right)}</script></html>"
      ],
      "text/plain": [
       "t |--> -9/1297*((36*cos(6*t) - sin(6*t))*e^(1/6*t) - 36)*e^(-1/6*t)"
      ]
     },
     "metadata": {},
     "output_type": "display_data"
    }
   ],
   "source": [
    "ex(t) = sol.substitute({C:1, R:6, U_in:9, omega:6, U_0:0}) \n",
    "show(ex) "
   ]
  },
  {
   "cell_type": "code",
   "execution_count": 122,
   "metadata": {
    "collapsed": false,
    "deletable": true,
    "editable": true
   },
   "outputs": [
    {
     "data": {
      "image/png": "[encoded data removed]",
      "text/plain": [
       "Graphics object consisting of 1 graphics primitive"
      ]
     },
     "metadata": {},
     "output_type": "display_data"
    }
   ],
   "source": [
    "show(plot(ex,0,50,figsize=3,frame=True,fontsize=6,axes=False))"
   ]
  },
  {
   "cell_type": "code",
   "execution_count": 123,
   "metadata": {
    "collapsed": false,
    "deletable": true,
    "editable": true
   },
   "outputs": [
    {
     "data": {
      "text/html": [
       "<html><script type=\"math/tex; mode=display\">\\newcommand{\\Bold}[1]{\\mathbf{#1}}\\frac{\\sqrt{C^{2} R^{2} U_{\\mathit{in}}^{2} \\omega^{2} + U_{\\mathit{in}}^{2}}}{C^{2} R^{2} \\omega^{2} + 1}</script></html>"
      ],
      "text/plain": [
       "sqrt(C^2*R^2*U_in^2*omega^2 + U_in^2)/(C^2*R^2*omega^2 + 1)"
      ]
     },
     "metadata": {},
     "output_type": "display_data"
    }
   ],
   "source": [
    "amp = sol2.substitute(w0*sin(w1)+w2==abs(w0)).full_simplify() \n",
    "show(amp) "
   ]
  },
  {
   "cell_type": "code",
   "execution_count": 124,
   "metadata": {
    "collapsed": false,
    "deletable": true,
    "editable": true
   },
   "outputs": [
    {
     "data": {
      "text/html": [
       "<html><script type=\"math/tex; mode=display\">\\newcommand{\\Bold}[1]{\\mathbf{#1}}\\left[\\omega = -\\frac{\\sqrt{-\\frac{A - \\sqrt{C^{2} R^{2} U_{\\mathit{in}}^{2} \\omega^{2} + U_{\\mathit{in}}^{2}}}{A}}}{C R}, \\omega = \\frac{\\sqrt{-\\frac{A - \\sqrt{C^{2} R^{2} U_{\\mathit{in}}^{2} \\omega^{2} + U_{\\mathit{in}}^{2}}}{A}}}{C R}\\right]</script></html>"
      ],
      "text/plain": [
       "[omega == -sqrt(-(A - sqrt(C^2*R^2*U_in^2*omega^2 + U_in^2))/A)/(C*R), omega == sqrt(-(A - sqrt(C^2*R^2*U_in^2*omega^2 + U_in^2))/A)/(C*R)]"
      ]
     },
     "execution_count": 124,
     "metadata": {},
     "output_type": "execute_result"
    }
   ],
   "source": [
    "var('A');assume(A>0); assume(U_in>0) \n",
    "solve(amp==A, omega) "
   ]
  },
  {
   "cell_type": "code",
   "execution_count": 125,
   "metadata": {
    "collapsed": false,
    "deletable": true,
    "editable": true
   },
   "outputs": [
    {
     "data": {
      "text/html": [
       "<html><script type=\"math/tex; mode=display\">\\newcommand{\\Bold}[1]{\\mathbf{#1}}\\frac{\\sqrt{-\\frac{A - \\sqrt{C^{2} R^{2} U_{\\mathit{in}}^{2} \\omega^{2} + U_{\\mathit{in}}^{2}}}{A}}}{C R}</script></html>"
      ],
      "text/plain": [
       "sqrt(-(A - sqrt(C^2*R^2*U_in^2*omega^2 + U_in^2))/A)/(C*R)"
      ]
     },
     "execution_count": 125,
     "metadata": {},
     "output_type": "execute_result"
    }
   ],
   "source": [
    "R_A = omega.substitute(_[1]);R_A"
   ]
  },
  {
   "cell_type": "code",
   "execution_count": 126,
   "metadata": {
    "collapsed": false,
    "deletable": true,
    "editable": true
   },
   "outputs": [
    {
     "data": {
      "text/html": [
       "<html><script type=\"math/tex; mode=display\">\\newcommand{\\Bold}[1]{\\mathbf{#1}}t \\ {\\mapsto}\\ \\frac{9 \\, {\\left(e^{\\left(\\frac{1}{6} \\, t\\right)} \\sin\\left(\\frac{1}{6} \\, t \\sqrt{2 \\, \\sqrt{2916 \\, \\omega^{2} + 81} - 1}\\right) - {\\left(\\cos\\left(\\frac{1}{6} \\, t \\sqrt{2 \\, \\sqrt{2916 \\, \\omega^{2} + 81} - 1}\\right) e^{\\left(\\frac{1}{6} \\, t\\right)} - 1\\right)} \\sqrt{2 \\, \\sqrt{2916 \\, \\omega^{2} + 81} - 1}\\right)} e^{\\left(-\\frac{1}{6} \\, t\\right)}}{2 \\, \\sqrt{2916 \\, \\omega^{2} + 81}}</script></html>"
      ],
      "text/plain": [
       "t |--> 9/2*(e^(1/6*t)*sin(1/6*t*sqrt(2*sqrt(2916*omega^2 + 81) - 1)) - (cos(1/6*t*sqrt(2*sqrt(2916*omega^2 + 81) - 1))*e^(1/6*t) - 1)*sqrt(2*sqrt(2916*omega^2 + 81) - 1))*e^(-1/6*t)/sqrt(2916*omega^2 + 81)"
      ]
     },
     "metadata": {},
     "output_type": "display_data"
    }
   ],
   "source": [
    "example(t) = solA.subs({C:1, R:6, U_in:9, U_0:0, A:1/2}).full_simplify() \n",
    "show(example) "
   ]
  },
  {
   "cell_type": "markdown",
   "metadata": {
    "deletable": true,
    "editable": true
   },
   "source": [
    "$i_R=\\frac{U_R}{R}$    (1)\n",
    "\n",
    "$V_L=L\\frac{di_L}{dt}$ (2)\n",
    "\n",
    "$i_C=C\\frac{dV_C}{dt}$ (3)\n",
    "\n",
    "<img src=\"RC.png\">\n",
    "\n",
    "$i_R$ + $i_C$ = 0\n",
    "\n",
    "$\\frac{V_C-V_in}{R}$ + $C\\frac{dV_C}{dt} = 0 $ \n",
    "\n",
    "$\\frac{v-V_in}{R}$ + $C\\frac{dv}{dt} = 0 $ "
   ]
  },
  {
   "cell_type": "code",
   "execution_count": 127,
   "metadata": {
    "collapsed": false,
    "deletable": true,
    "editable": true
   },
   "outputs": [],
   "source": [
    "var('R, C, L, V_in');t = var('t') ;v = function('v')(t)"
   ]
  },
  {
   "cell_type": "code",
   "execution_count": 128,
   "metadata": {
    "collapsed": false,
    "deletable": true,
    "editable": true
   },
   "outputs": [
    {
     "name": "stdout",
     "output_type": "stream",
     "text": [
      "équation circuit RC:\n"
     ]
    },
    {
     "data": {
      "text/html": [
       "<html><script type=\"math/tex; mode=display\">\\newcommand{\\Bold}[1]{\\mathbf{#1}}C \\frac{\\partial}{\\partial t}v\\left(t\\right) - \\frac{V_{\\mathit{in}} - v\\left(t\\right)}{R} = 0</script></html>"
      ],
      "text/plain": [
       "C*diff(v(t), t) - (V_in - v(t))/R == 0"
      ]
     },
     "metadata": {},
     "output_type": "display_data"
    }
   ],
   "source": [
    "eq1 = (v-V_in)/R + C* diff(v,t) == 0 \n",
    "print 'équation circuit RC:' \n",
    "show(eq1) "
   ]
  },
  {
   "cell_type": "code",
   "execution_count": 129,
   "metadata": {
    "collapsed": false,
    "deletable": true,
    "editable": true
   },
   "outputs": [
    {
     "name": "stdout",
     "output_type": "stream",
     "text": [
      " Solution :\n"
     ]
    },
    {
     "data": {
      "text/html": [
       "<html><script type=\"math/tex; mode=display\">\\newcommand{\\Bold}[1]{\\mathbf{#1}}v\\left(t\\right) = {\\left(V_{\\mathit{in}} e^{\\left(\\frac{t}{C R}\\right)} + C\\right)} e^{\\left(-\\frac{t}{C R}\\right)}</script></html>"
      ],
      "text/plain": [
       "v(t) == (V_in*e^(t/(C*R)) + _C)*e^(-t/(C*R))"
      ]
     },
     "metadata": {},
     "output_type": "display_data"
    }
   ],
   "source": [
    "sol1(t)=desolve(eq1.lhs(), v, ivar=t) \n",
    "eq2 = v == sol1 \n",
    "print ' Solution :' \n",
    "show(eq2(t)) "
   ]
  },
  {
   "cell_type": "code",
   "execution_count": 130,
   "metadata": {
    "collapsed": false,
    "deletable": true,
    "editable": true
   },
   "outputs": [
    {
     "name": "stdout",
     "output_type": "stream",
     "text": [
      "Equations avec conditions initiales :\n"
     ]
    },
    {
     "data": {
      "text/html": [
       "<html><script type=\"math/tex; mode=display\">\\newcommand{\\Bold}[1]{\\mathbf{#1}}v\\left(t\\right) = {\\left(V_{\\mathit{in}} e^{\\left(\\frac{t}{C R}\\right)} - V_{\\mathit{in}}\\right)} e^{\\left(-\\frac{t}{C R}\\right)}</script></html>"
      ],
      "text/plain": [
       "v(t) == (V_in*e^(t/(C*R)) - V_in)*e^(-t/(C*R))"
      ]
     },
     "metadata": {},
     "output_type": "display_data"
    }
   ],
   "source": [
    "sol2(t,R,C,V_in) = desolve(eq1.lhs(), v, ivar=t, ics=[0,0]) \n",
    "eq3 = v == sol2 \n",
    "print 'Equations avec conditions initiales :' \n",
    "show(eq3(t)) "
   ]
  },
  {
   "cell_type": "code",
   "execution_count": 131,
   "metadata": {
    "collapsed": false,
    "deletable": true,
    "editable": true
   },
   "outputs": [
    {
     "name": "stdout",
     "output_type": "stream",
     "text": [
      "Equation RL :\n"
     ]
    },
    {
     "data": {
      "text/html": [
       "<html><script type=\"math/tex; mode=display\">\\newcommand{\\Bold}[1]{\\mathbf{#1}}R i\\left(t\\right) - L \\frac{\\partial}{\\partial t}i\\left(t\\right) - V_{\\mathit{in}} = 0</script></html>"
      ],
      "text/plain": [
       "R*i(t) - L*diff(i(t), t) - V_in == 0"
      ]
     },
     "metadata": {},
     "output_type": "display_data"
    },
    {
     "name": "stdout",
     "output_type": "stream",
     "text": [
      "Solution :\n"
     ]
    },
    {
     "data": {
      "text/html": [
       "<html><script type=\"math/tex; mode=display\">\\newcommand{\\Bold}[1]{\\mathbf{#1}}i\\left(t\\right) = {\\left(C + \\frac{V_{\\mathit{in}} e^{\\left(-\\frac{R t}{L}\\right)}}{R}\\right)} e^{\\left(\\frac{R t}{L}\\right)}</script></html>"
      ],
      "text/plain": [
       "i(t) == (_C + V_in*e^(-R*t/L)/R)*e^(R*t/L)"
      ]
     },
     "metadata": {},
     "output_type": "display_data"
    }
   ],
   "source": [
    "var(\"R, C, L, V_in\") \n",
    "t = var('t') \n",
    "i = function(\"i\")(t) \n",
    "# definiujemy równanie \n",
    "print 'Equation RL :' \n",
    "eq4 = -L*diff(i,t) + R*i - V_in == 0 \n",
    "show(eq4) \n",
    "# rozwiązujemy równanie \n",
    "sol4(t)=desolve(eq4.lhs(), i, ivar=t) \n",
    "eq5 = i == sol4 \n",
    "print 'Solution :' \n",
    "show(eq5(t)) "
   ]
  },
  {
   "cell_type": "code",
   "execution_count": 132,
   "metadata": {
    "collapsed": false,
    "deletable": true,
    "editable": true
   },
   "outputs": [
    {
     "data": {
      "text/html": [
       "<html><script type=\"math/tex; mode=display\">\\newcommand{\\Bold}[1]{\\mathbf{#1}}\\frac{1}{C L} + \\frac{\\partial}{\\partial t}i\\left(t\\right) + \\frac{\\partial^{2}}{(\\partial t)^{2}}i\\left(t\\right) = 0</script></html>"
      ],
      "text/plain": [
       "1/(C*L) + diff(i(t), t) + diff(i(t), t, t) == 0"
      ]
     },
     "execution_count": 132,
     "metadata": {},
     "output_type": "execute_result"
    }
   ],
   "source": [
    "diff(i,t,2)+diff(i,t)+1/(L*C)==0"
   ]
  },
  {
   "cell_type": "code",
   "execution_count": 133,
   "metadata": {
    "collapsed": false,
    "deletable": true,
    "editable": true
   },
   "outputs": [
    {
     "name": "stdout",
     "output_type": "stream",
     "text": [
      "Solution RL avec CI :\n"
     ]
    },
    {
     "data": {
      "text/html": [
       "<html><script type=\"math/tex; mode=display\">\\newcommand{\\Bold}[1]{\\mathbf{#1}}i\\left(t\\right) = -\\frac{V_{\\mathit{in}} e^{\\left(\\frac{R t}{L}\\right)} - V_{\\mathit{in}}}{R}</script></html>"
      ],
      "text/plain": [
       "i(t) == -(V_in*e^(R*t/L) - V_in)/R"
      ]
     },
     "metadata": {},
     "output_type": "display_data"
    }
   ],
   "source": [
    "sol5(t,R,L,V_in) = desolve(eq4.lhs(),i, ivar=t,ics=[0,0]) \n",
    "eq6 = i == sol5 \n",
    "print 'Solution RL avec CI :' \n",
    "show(eq6(t)) \n"
   ]
  },
  {
   "cell_type": "code",
   "execution_count": 134,
   "metadata": {
    "collapsed": true,
    "deletable": true,
    "editable": true
   },
   "outputs": [],
   "source": [
    "# V_in=0; R=2; L=10; C=7; dt=0.01; i0 =0; vc0=10; N=5000"
   ]
  },
  {
   "cell_type": "code",
   "execution_count": 135,
   "metadata": {
    "collapsed": true,
    "deletable": true,
    "editable": true
   },
   "outputs": [],
   "source": [
    "var(\"vr0,R,i0,vl0,V_in,vc0,L,C\")\n",
    "vr0=R*i0\n",
    "vl0 = V_in - vc0 - vr0\n",
    "i_diff0= vl0/L\n",
    "vc_diff0=i0/C"
   ]
  },
  {
   "cell_type": "code",
   "execution_count": 136,
   "metadata": {
    "collapsed": false,
    "deletable": true,
    "editable": true
   },
   "outputs": [
    {
     "data": {
      "text/html": [
       "<html><script type=\"math/tex; mode=display\">\\newcommand{\\Bold}[1]{\\mathbf{#1}}R i_{0}</script></html>"
      ],
      "text/plain": [
       "R*i0"
      ]
     },
     "execution_count": 136,
     "metadata": {},
     "output_type": "execute_result"
    }
   ],
   "source": [
    "vr0"
   ]
  },
  {
   "cell_type": "code",
   "execution_count": 137,
   "metadata": {
    "collapsed": false,
    "deletable": true,
    "editable": true
   },
   "outputs": [
    {
     "data": {
      "text/html": [
       "<html><script type=\"math/tex; mode=display\">\\newcommand{\\Bold}[1]{\\mathbf{#1}}-R i_{0} + V_{\\mathit{in}} - \\mathit{vc}_{0}</script></html>"
      ],
      "text/plain": [
       "-R*i0 + V_in - vc0"
      ]
     },
     "execution_count": 137,
     "metadata": {},
     "output_type": "execute_result"
    }
   ],
   "source": [
    "vl0"
   ]
  },
  {
   "cell_type": "code",
   "execution_count": 138,
   "metadata": {
    "collapsed": false,
    "deletable": true,
    "editable": true
   },
   "outputs": [
    {
     "data": {
      "text/html": [
       "<html><script type=\"math/tex; mode=display\">\\newcommand{\\Bold}[1]{\\mathbf{#1}}-R i_{0} + V_{\\mathit{in}} - \\mathit{vc}_{0}</script></html>"
      ],
      "text/plain": [
       "-R*i0 + V_in - vc0"
      ]
     },
     "execution_count": 138,
     "metadata": {},
     "output_type": "execute_result"
    }
   ],
   "source": [
    "vl0"
   ]
  },
  {
   "cell_type": "code",
   "execution_count": 139,
   "metadata": {
    "collapsed": false,
    "deletable": true,
    "editable": true
   },
   "outputs": [
    {
     "data": {
      "text/html": [
       "<html><script type=\"math/tex; mode=display\">\\newcommand{\\Bold}[1]{\\mathbf{#1}}-\\frac{R i_{0} - V_{\\mathit{in}} + \\mathit{vc}_{0}}{L}</script></html>"
      ],
      "text/plain": [
       "-(R*i0 - V_in + vc0)/L"
      ]
     },
     "execution_count": 139,
     "metadata": {},
     "output_type": "execute_result"
    }
   ],
   "source": [
    "i_diff0"
   ]
  },
  {
   "cell_type": "code",
   "execution_count": 140,
   "metadata": {
    "collapsed": false,
    "deletable": true,
    "editable": true
   },
   "outputs": [
    {
     "data": {
      "text/html": [
       "<html><script type=\"math/tex; mode=display\">\\newcommand{\\Bold}[1]{\\mathbf{#1}}\\frac{i_{0}}{C}</script></html>"
      ],
      "text/plain": [
       "i0/C"
      ]
     },
     "execution_count": 140,
     "metadata": {},
     "output_type": "execute_result"
    }
   ],
   "source": [
    "vc_diff0"
   ]
  },
  {
   "cell_type": "code",
   "execution_count": null,
   "metadata": {
    "collapsed": true,
    "deletable": true,
    "editable": true
   },
   "outputs": [],
   "source": []
  }
 ],
 "metadata": {
  "kernelspec": {
   "display_name": "SageMath 8.1",
   "language": "",
   "name": "sagemath"
  },
  "language_info": {
   "codemirror_mode": {
    "name": "ipython",
    "version": 2
   },
   "file_extension": ".py",
   "mimetype": "text/x-python",
   "name": "python",
   "nbconvert_exporter": "python",
   "pygments_lexer": "ipython2",
   "version": "2.7.14"
  }
 },
 "nbformat": 4,
 "nbformat_minor": 2
}
