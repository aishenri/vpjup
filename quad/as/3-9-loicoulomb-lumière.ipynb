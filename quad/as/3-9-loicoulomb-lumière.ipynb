{
 "cells": [
  {
   "cell_type": "markdown",
   "metadata": {},
   "source": [
    "###### An de grâce 2018, lundi 3 septembre 9h38\n",
    "\n",
    "Rentrée :) Jules est content chez Caroline.\n",
    "\n",
    "Il manque 1/10 ou 1/10 sont en trop, entre la loi de coulomb $K_c$ et la célérité de la lumière (terme impropre) $c$. On voit à travers ça qu'il n'existe qu'une constante universelle, que les scientifiques nomment selon l'époque $c k h ...etc$\n",
    "\n",
    "Mais en fait cette constante universelle est tout simplement $\\pi$ arrangée à toutes les sauces !"
   ]
  },
  {
   "cell_type": "code",
   "execution_count": 1,
   "metadata": {},
   "outputs": [],
   "source": [
    "%display latex"
   ]
  },
  {
   "cell_type": "code",
   "execution_count": 15,
   "metadata": {},
   "outputs": [
    {
     "data": {
      "text/html": [
       "<html><script type=\"math/tex; mode=display\">\\newcommand{\\Bold}[1]{\\mathbf{#1}}k_{C} = \\frac{1}{4 \\, \\pi \\epsilon_{0}}</script></html>"
      ],
      "text/plain": [
       "k_C == 1/4/(pi*epsilon_0)"
      ]
     },
     "metadata": {},
     "output_type": "display_data"
    }
   ],
   "source": [
    "c=299792458;mu=n(pi)*4E-7;ep=1/(mu*c*c)\n",
    "var(\"k_C c mu epsilon_0 c_C\")\n",
    "k_0=k_C==1/(4*pi*epsilon_0);show(k_0)"
   ]
  },
  {
   "cell_type": "code",
   "execution_count": 17,
   "metadata": {},
   "outputs": [
    {
     "data": {
      "text/html": [
       "<html><script type=\"math/tex; mode=display\">\\newcommand{\\Bold}[1]{\\mathbf{#1}}c_{C} = \\frac{1}{\\epsilon_{0} \\mu}</script></html>"
      ],
      "text/plain": [
       "c_C == 1/(epsilon_0*mu)"
      ]
     },
     "metadata": {},
     "output_type": "display_data"
    }
   ],
   "source": [
    "c_0=c_C==1/(mu*epsilon_0);show(c_0)"
   ]
  },
  {
   "cell_type": "code",
   "execution_count": 8,
   "metadata": {},
   "outputs": [
    {
     "data": {
      "text/html": [
       "<html><script type=\"math/tex; mode=display\">\\newcommand{\\Bold}[1]{\\mathbf{#1}}\\verb|Kc|\\phantom{\\verb!x!}\\verb|=| 8.98755178736818 \\times 10^{9}</script></html>"
      ],
      "text/plain": [
       "'Kc = ' 8.98755178736818e9"
      ]
     },
     "metadata": {},
     "output_type": "display_data"
    }
   ],
   "source": [
    "kc=1/(4*n(pi)*ep);show(\"Kc = \",kc)"
   ]
  },
  {
   "cell_type": "code",
   "execution_count": 12,
   "metadata": {},
   "outputs": [
    {
     "data": {
      "text/html": [
       "<html><script type=\"math/tex; mode=display\">\\newcommand{\\Bold}[1]{\\mathbf{#1}}\\verb|c/Coulomb|\\phantom{\\verb!x!}\\verb|en|\\phantom{\\verb!x!}\\verb|kg|\\phantom{\\verb!x!}\\verb|=| 8.98755178736818 \\times 10^{10}</script></html>"
      ],
      "text/plain": [
       "'c/Coulomb en kg =' 8.98755178736818e10"
      ]
     },
     "metadata": {},
     "output_type": "display_data"
    }
   ],
   "source": [
    "ck=sqrt(kc*10);show(\"c/Coulomb en kg =\",ck^2)"
   ]
  },
  {
   "cell_type": "code",
   "execution_count": null,
   "metadata": {},
   "outputs": [],
   "source": [
    "\n",
    "\n",
    "\n"
   ]
  },
  {
   "cell_type": "code",
   "execution_count": 23,
   "metadata": {},
   "outputs": [
    {
     "data": {
      "text/html": [
       "<html><script type=\"math/tex; mode=display\">\\newcommand{\\Bold}[1]{\\mathbf{#1}}\\verb|Coulomb=| 299792.458 \\phantom{\\verb!x!}\\verb|N|\\phantom{\\verb!x!}\\verb|=|\\phantom{\\verb!x!}\\verb|celerite| 299792.458 \\verb|km/s|</script></html>"
      ],
      "text/plain": [
       "'Coulomb=' 299792.458 ' N = celerite' 299792.458 'km/s'"
      ]
     },
     "metadata": {},
     "output_type": "display_data"
    }
   ],
   "source": [
    "\n",
    "\n",
    "\n",
    "\n",
    "\n",
    "²\n",
    "\n",
    "f\n"
   ]
  },
  {
   "cell_type": "code",
   "execution_count": 27,
   "metadata": {},
   "outputs": [
    {
     "data": {
      "text/html": [
       "<html><script type=\"math/tex; mode=display\">\\newcommand{\\Bold}[1]{\\mathbf{#1}}\\verb|Coulomb=| 8987551787.368 \\phantom{\\verb!x!}\\verb|N|\\phantom{\\verb!x!}\\verb|=|\\phantom{\\verb!x!}\\verb|celerite|\\phantom{\\verb!x!}\\verb|=| 89875517873.682 \\verb|km/s|</script></html>"
      ],
      "text/plain": [
       "'Coulomb=' 8987551787.368 ' N = celerite =' 89875517873.682 'km/s'"
      ]
     },
     "metadata": {},
     "output_type": "display_data"
    }
   ],
   "source": [
    "show(\"Coulomb=\",round(kc,3),\" N = celerite =\",round(ck^2,3),\"km/s\")"
   ]
  },
  {
   "cell_type": "code",
   "execution_count": 28,
   "metadata": {},
   "outputs": [
    {
     "data": {
      "text/html": [
       "<html><script type=\"math/tex; mode=display\">\\newcommand{\\Bold}[1]{\\mathbf{#1}}1.11265005605362 \\times 10^{-11}</script></html>"
      ],
      "text/plain": [
       "1.11265005605362e-11"
      ]
     },
     "execution_count": 28,
     "metadata": {},
     "output_type": "execute_result"
    }
   ],
   "source": [
    "1/ck^2"
   ]
  },
  {
   "cell_type": "code",
   "execution_count": 29,
   "metadata": {},
   "outputs": [
    {
     "data": {
      "text/html": [
       "<html><script type=\"math/tex; mode=display\">\\newcommand{\\Bold}[1]{\\mathbf{#1}}1.11265005605362 \\times 10^{-10}</script></html>"
      ],
      "text/plain": [
       "1.11265005605362e-10"
      ]
     },
     "execution_count": 29,
     "metadata": {},
     "output_type": "execute_result"
    }
   ],
   "source": [
    "1/kc"
   ]
  },
  {
   "cell_type": "code",
   "execution_count": null,
   "metadata": {},
   "outputs": [],
   "source": []
  }
 ],
 "metadata": {
  "kernelspec": {
   "display_name": "SageMath 8.3",
   "language": "",
   "name": "sagemath"
  },
  "language_info": {
   "codemirror_mode": {
    "name": "ipython",
    "version": 2
   },
   "file_extension": ".py",
   "mimetype": "text/x-python",
   "name": "python",
   "nbconvert_exporter": "python",
   "pygments_lexer": "ipython2",
   "version": "2.7.15"
  }
 },
 "nbformat": 4,
 "nbformat_minor": 2
}
