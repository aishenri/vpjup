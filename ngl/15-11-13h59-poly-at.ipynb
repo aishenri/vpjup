{
 "cells": [
  {
   "cell_type": "markdown",
   "metadata": {},
   "source": [
    "https://ambermd.org/tutorials/basic/tutorial1/section2.htm"
   ]
  },
  {
   "cell_type": "code",
   "execution_count": 1,
   "metadata": {},
   "outputs": [
    {
     "name": "stdout",
     "output_type": "stream",
     "text": [
      "Writing nuc.nab\n"
     ]
    }
   ],
   "source": [
    "%%file nuc.nab\n",
    "molecule m;\n",
    "m = fd_helix( \"abdna\", \"aaaaa\", \"dna\" );\n",
    "putpdb( \"1crn.pdb\", m, \"-wwpdb\"); "
   ]
  },
  {
   "cell_type": "code",
   "execution_count": 2,
   "metadata": {},
   "outputs": [],
   "source": [
    "!/home/pi/amber20/bin/nab nuc.nab"
   ]
  },
  {
   "cell_type": "markdown",
   "metadata": {},
   "source": [
    "./nuc crée un fichier nuc.pdb"
   ]
  },
  {
   "cell_type": "code",
   "execution_count": 3,
   "metadata": {},
   "outputs": [
    {
     "data": {
      "application/3dmoljs_load.v0": "<div id=\"3dmolviewer_16226240264146028\"  style=\"position: relative; width: 300px; height: 300px\">\n        <p id=\"3dmolwarning_16226240264146028\" style=\"background-color:#ffcccc;color:black\">You appear to be running in JupyterLab (or JavaScript failed to load for some other reason).  You need to install the 3dmol extension: <br>\n        <tt>jupyter labextension install jupyterlab_3dmol</tt></p>\n        </div>\n<script>\n\nvar loadScriptAsync = function(uri){\n  return new Promise((resolve, reject) => {\n    var tag = document.createElement('script');\n    tag.src = uri;\n    tag.async = true;\n    tag.onload = () => {\n      resolve();\n    };\n  var firstScriptTag = document.getElementsByTagName('script')[0];\n  firstScriptTag.parentNode.insertBefore(tag, firstScriptTag);\n});\n};\n\nif(typeof $3Dmolpromise === 'undefined') {\n$3Dmolpromise = null;\n  $3Dmolpromise = loadScriptAsync('https://3dmol.org/build/3Dmol.js');\n}\n\nvar viewer_16226240264146028 = null;\nvar warn = document.getElementById(\"3dmolwarning_16226240264146028\");\nif(warn) {\n    warn.parentNode.removeChild(warn);\n}\n$3Dmolpromise.then(function() {\nviewer_16226240264146028 = $3Dmol.createViewer($(\"#3dmolviewer_16226240264146028\"),{backgroundColor:\"white\"});\n$3Dmol.download(\"cid:750\", viewer_16226240264146028, {}, function() {\nviewer_16226240264146028.zoomTo();\n\tviewer_16226240264146028.setStyle({\"stick\": {\"radius\": 0.05}, \"sphere\": {\"scale\": 0.25}});\nviewer_16226240264146028.render();\n})\n});\n</script>",
      "text/html": [
       "<div id=\"3dmolviewer_16226240264146028\"  style=\"position: relative; width: 300px; height: 300px\">\n",
       "        <p id=\"3dmolwarning_16226240264146028\" style=\"background-color:#ffcccc;color:black\">You appear to be running in JupyterLab (or JavaScript failed to load for some other reason).  You need to install the 3dmol extension: <br>\n",
       "        <tt>jupyter labextension install jupyterlab_3dmol</tt></p>\n",
       "        </div>\n",
       "<script>\n",
       "\n",
       "var loadScriptAsync = function(uri){\n",
       "  return new Promise((resolve, reject) => {\n",
       "    var tag = document.createElement('script');\n",
       "    tag.src = uri;\n",
       "    tag.async = true;\n",
       "    tag.onload = () => {\n",
       "      resolve();\n",
       "    };\n",
       "  var firstScriptTag = document.getElementsByTagName('script')[0];\n",
       "  firstScriptTag.parentNode.insertBefore(tag, firstScriptTag);\n",
       "});\n",
       "};\n",
       "\n",
       "if(typeof $3Dmolpromise === 'undefined') {\n",
       "$3Dmolpromise = null;\n",
       "  $3Dmolpromise = loadScriptAsync('https://3dmol.org/build/3Dmol.js');\n",
       "}\n",
       "\n",
       "var viewer_16226240264146028 = null;\n",
       "var warn = document.getElementById(\"3dmolwarning_16226240264146028\");\n",
       "if(warn) {\n",
       "    warn.parentNode.removeChild(warn);\n",
       "}\n",
       "$3Dmolpromise.then(function() {\n",
       "viewer_16226240264146028 = $3Dmol.createViewer($(\"#3dmolviewer_16226240264146028\"),{backgroundColor:\"white\"});\n",
       "$3Dmol.download(\"cid:750\", viewer_16226240264146028, {}, function() {\n",
       "viewer_16226240264146028.zoomTo();\n",
       "\tviewer_16226240264146028.setStyle({\"stick\": {\"radius\": 0.05}, \"sphere\": {\"scale\": 0.25}});\n",
       "viewer_16226240264146028.render();\n",
       "})\n",
       "});\n",
       "</script>"
      ]
     },
     "metadata": {},
     "output_type": "display_data"
    },
    {
     "data": {
      "text/plain": [
       "<py3Dmol.view at 0x7f533834b8b0>"
      ]
     },
     "execution_count": 3,
     "metadata": {},
     "output_type": "execute_result"
    }
   ],
   "source": [
    "import py3Dmol;import pubchempy as pcp\n",
    "bromomethane=pcp.get_compounds(\n",
    "'GLY', 'name')[0]\n",
    "x=py3Dmol.view(query='cid:{}'.format(\n",
    "bromomethane.cid), width=300,\n",
    "height=300).setStyle({'stick': {\n",
    "'radius': .05},'sphere': {'scale': 0.25}});x"
   ]
  },
  {
   "cell_type": "code",
   "execution_count": 4,
   "metadata": {},
   "outputs": [
    {
     "data": {
      "application/vnd.jupyter.widget-view+json": {
       "model_id": "6feebfc6ad23400780efa424d2dae1b5",
       "version_major": 2,
       "version_minor": 0
      },
      "text/plain": []
     },
     "metadata": {},
     "output_type": "display_data"
    },
    {
     "data": {
      "application/vnd.jupyter.widget-view+json": {
       "model_id": "f4bcae4ea70544b0af696fa4ba578e7f",
       "version_major": 2,
       "version_minor": 0
      },
      "text/plain": [
       "NGLWidget()"
      ]
     },
     "metadata": {},
     "output_type": "display_data"
    }
   ],
   "source": [
    "import warnings;warnings.filterwarnings('ignore')\n",
    "from __future__ import print_function\n",
    "import pytraj as pt;import nglview as nv\n",
    "traj = pt.load('1crn.pdb')\n",
    "view = nv.show_pytraj(traj) \n",
    "view"
   ]
  },
  {
   "cell_type": "code",
   "execution_count": 5,
   "metadata": {},
   "outputs": [
    {
     "ename": "RuntimeError",
     "evalue": "n_atoms = 0: make sure to load correct Topology filename or load supported topology (pdb, amber parm, psf, ...)",
     "output_type": "error",
     "traceback": [
      "\u001b[0;31m---------------------------------------------------------------------------\u001b[0m",
      "\u001b[0;31mRuntimeError\u001b[0m                              Traceback (most recent call last)",
      "\u001b[0;32m<ipython-input-5-c356a3bbd35c>\u001b[0m in \u001b[0;36m<module>\u001b[0;34m\u001b[0m\n\u001b[0;32m----> 1\u001b[0;31m \u001b[0mtraj\u001b[0m \u001b[0;34m=\u001b[0m \u001b[0mpt\u001b[0m\u001b[0;34m.\u001b[0m\u001b[0mload\u001b[0m\u001b[0;34m(\u001b[0m\u001b[0;34m'polyAT_vac_init_min.pdb'\u001b[0m\u001b[0;34m)\u001b[0m\u001b[0;34m\u001b[0m\u001b[0;34m\u001b[0m\u001b[0m\n\u001b[0m\u001b[1;32m      2\u001b[0m \u001b[0mview\u001b[0m \u001b[0;34m=\u001b[0m \u001b[0mnv\u001b[0m\u001b[0;34m.\u001b[0m\u001b[0mshow_pytraj\u001b[0m\u001b[0;34m(\u001b[0m\u001b[0mtraj\u001b[0m\u001b[0;34m)\u001b[0m\u001b[0;34m\u001b[0m\u001b[0;34m\u001b[0m\u001b[0m\n\u001b[1;32m      3\u001b[0m \u001b[0mview\u001b[0m\u001b[0;34m\u001b[0m\u001b[0;34m\u001b[0m\u001b[0m\n",
      "\u001b[0;32m/usr/local/lib/python3.8/dist-packages/pytraj-2.0.6.dev0-py3.8-linux-x86_64.egg/pytraj/io.py\u001b[0m in \u001b[0;36mload\u001b[0;34m(filename, top, frame_indices, mask, stride)\u001b[0m\n\u001b[1;32m    121\u001b[0m     \u001b[0;31m# load to TrajectoryIterator object first\u001b[0m\u001b[0;34m\u001b[0m\u001b[0;34m\u001b[0m\u001b[0;34m\u001b[0m\u001b[0m\n\u001b[1;32m    122\u001b[0m     \u001b[0;31m# do not use frame_indices_ here so we can optimize the slicing speed\u001b[0m\u001b[0;34m\u001b[0m\u001b[0;34m\u001b[0m\u001b[0;34m\u001b[0m\u001b[0m\n\u001b[0;32m--> 123\u001b[0;31m     \u001b[0mtraj\u001b[0m \u001b[0;34m=\u001b[0m \u001b[0mload_traj\u001b[0m\u001b[0;34m(\u001b[0m\u001b[0mfilename\u001b[0m\u001b[0;34m,\u001b[0m \u001b[0mtop\u001b[0m\u001b[0;34m,\u001b[0m \u001b[0mstride\u001b[0m\u001b[0;34m=\u001b[0m\u001b[0mstride\u001b[0m\u001b[0;34m)\u001b[0m\u001b[0;34m\u001b[0m\u001b[0;34m\u001b[0m\u001b[0m\n\u001b[0m\u001b[1;32m    124\u001b[0m \u001b[0;34m\u001b[0m\u001b[0m\n\u001b[1;32m    125\u001b[0m     \u001b[0;31m# do the slicing and other things if needed.\u001b[0m\u001b[0;34m\u001b[0m\u001b[0;34m\u001b[0m\u001b[0;34m\u001b[0m\u001b[0m\n",
      "\u001b[0;32m/usr/local/lib/python3.8/dist-packages/pytraj-2.0.6.dev0-py3.8-linux-x86_64.egg/pytraj/io.py\u001b[0m in \u001b[0;36mload_traj\u001b[0;34m(filename, top, *args, **kwd)\u001b[0m\n\u001b[1;32m    239\u001b[0m         \u001b[0mtop\u001b[0m \u001b[0;34m=\u001b[0m \u001b[0mload_topology\u001b[0m\u001b[0;34m(\u001b[0m\u001b[0mtop\u001b[0m\u001b[0;34m)\u001b[0m\u001b[0;34m\u001b[0m\u001b[0;34m\u001b[0m\u001b[0m\n\u001b[1;32m    240\u001b[0m     \u001b[0;32mif\u001b[0m \u001b[0mtop\u001b[0m \u001b[0;32mis\u001b[0m \u001b[0;32mNone\u001b[0m \u001b[0;32mor\u001b[0m \u001b[0mtop\u001b[0m\u001b[0;34m.\u001b[0m\u001b[0mis_empty\u001b[0m\u001b[0;34m(\u001b[0m\u001b[0;34m)\u001b[0m\u001b[0;34m:\u001b[0m\u001b[0;34m\u001b[0m\u001b[0;34m\u001b[0m\u001b[0m\n\u001b[0;32m--> 241\u001b[0;31m         \u001b[0mtop\u001b[0m \u001b[0;34m=\u001b[0m \u001b[0mload_topology\u001b[0m\u001b[0;34m(\u001b[0m\u001b[0mfilename\u001b[0m\u001b[0;34m)\u001b[0m\u001b[0;34m\u001b[0m\u001b[0;34m\u001b[0m\u001b[0m\n\u001b[0m\u001b[1;32m    242\u001b[0m     \u001b[0mts\u001b[0m \u001b[0;34m=\u001b[0m \u001b[0mTrajectoryIterator\u001b[0m\u001b[0;34m(\u001b[0m\u001b[0mtop\u001b[0m\u001b[0;34m=\u001b[0m\u001b[0mtop\u001b[0m\u001b[0;34m)\u001b[0m\u001b[0;34m\u001b[0m\u001b[0;34m\u001b[0m\u001b[0m\n\u001b[1;32m    243\u001b[0m \u001b[0;34m\u001b[0m\u001b[0m\n",
      "\u001b[0;32m/usr/local/lib/python3.8/dist-packages/pytraj-2.0.6.dev0-py3.8-linux-x86_64.egg/pytraj/io.py\u001b[0m in \u001b[0;36mload_topology\u001b[0;34m(filename, option)\u001b[0m\n\u001b[1;32m    523\u001b[0m \u001b[0;34m\u001b[0m\u001b[0m\n\u001b[1;32m    524\u001b[0m     \u001b[0;32mif\u001b[0m \u001b[0mtop\u001b[0m\u001b[0;34m.\u001b[0m\u001b[0mn_atoms\u001b[0m \u001b[0;34m==\u001b[0m \u001b[0;36m0\u001b[0m\u001b[0;34m:\u001b[0m\u001b[0;34m\u001b[0m\u001b[0;34m\u001b[0m\u001b[0m\n\u001b[0;32m--> 525\u001b[0;31m         raise RuntimeError(\n\u001b[0m\u001b[1;32m    526\u001b[0m             \u001b[0;34m'n_atoms = 0: make sure to load correct Topology filename '\u001b[0m\u001b[0;34m\u001b[0m\u001b[0;34m\u001b[0m\u001b[0m\n\u001b[1;32m    527\u001b[0m             'or load supported topology (pdb, amber parm, psf, ...)')\n",
      "\u001b[0;31mRuntimeError\u001b[0m: n_atoms = 0: make sure to load correct Topology filename or load supported topology (pdb, amber parm, psf, ...)"
     ]
    }
   ],
   "source": [
    "traj = pt.load('polyAT_vac_init_min.pdb')\n",
    "view = nv.show_pytraj(traj) \n",
    "view"
   ]
  },
  {
   "cell_type": "code",
   "execution_count": null,
   "metadata": {
    "scrolled": true
   },
   "outputs": [],
   "source": [
    "with open(\"polyAT_vac_init_min.pdb\") as ifile:\n",
    "      system = \"\".join([x for x in ifile])\n",
    "view = py3Dmol.view(width=400, height=300)\n",
    "view.addModelsAsFrames(system)\n",
    "#view.setStyle({'stick': {'radius': .05},'sphere': {'scale': 0.25}})\n",
    "view.setStyle({'model': -1}, {\"cartoon\": {'color': 'spectrum'}})\n",
    "view.zoomTo();view.show()"
   ]
  },
  {
   "cell_type": "code",
   "execution_count": null,
   "metadata": {},
   "outputs": [],
   "source": [
    "view = py3Dmol.view(width=400, height=300)\n",
    "view.addModelsAsFrames(system)\n",
    "#view.setStyle({'model': -1}, {\"cartoon\": {'color': 'spectrum'}})\n",
    "view.setStyle({'stick': {'radius': .05},'sphere': {'scale': 0.25}})\n",
    "view.zoomTo();view.show()"
   ]
  },
  {
   "cell_type": "code",
   "execution_count": null,
   "metadata": {},
   "outputs": [],
   "source": [
    "with open(\"1crn.pdb\") as ifile:\n",
    "    view = py3Dmol.view(width=400, height=300)\n",
    "view.addModelsAsFrames(system)\n",
    "#view.setStyle({'stick': {'radius': .05},'sphere': {'scale': 0.25}})\n",
    "view.setStyle({'model': -1}, {\"cartoon\": {'color': 'spectrum'}})\n",
    "view.zoomTo();view.show()"
   ]
  },
  {
   "cell_type": "code",
   "execution_count": null,
   "metadata": {},
   "outputs": [],
   "source": [
    "\n",
    "i = 0\n",
    "for line in system.split(\"\\n\"):\n",
    "    split = line.split()\n",
    "    if len(split) == 0 or split[0] != \"ATOM\":\n",
    "        continue\n",
    "    if split[3] == \"GLY\":\n",
    "        color = \"yellow\"\n",
    "    else:\n",
    "        color = \"spectrum\"\n",
    "    idx = int(split[1])\n",
    "    view.setStyle({'stick': {'radius': .05},'sphere': {'scale': 0.25}})\n",
    "    #view.setStyle({'model': -1, 'serial': i+1}, {\"cartoon\": {'color': color}})\n",
    "    i += 1\n",
    "view.zoomTo()\n",
    "view.show()\n"
   ]
  },
  {
   "cell_type": "code",
   "execution_count": null,
   "metadata": {},
   "outputs": [],
   "source": [
    "ion = \"ATOM   1  NE   NE    1    10.047  14.099   3.625  0.1812  1.5500     NE\"\n",
    "system2 = system + ion\n",
    "\n",
    "view = py3Dmol.view(width=400, height=300)\n",
    "view.addModelsAsFrames(system2)\n",
    "view.setStyle({'model': -1}, {\"cartoon\": {'color': 'spectrum'}})\n",
    "\n",
    "i = 0\n",
    "for line in system2.split(\"\\n\"):\n",
    "    split = line.split()\n",
    "    if len(split) == 0 or split[0] != \"ATOM\":\n",
    "        continue\n",
    "    if split[-1] == \"NE\":\n",
    "        view.setStyle({'stick': {'radius': .05},'sphere': {'scale': 0.25}})\n",
    "        #view.setStyle({'model': -1, 'serial': i+1}, {\"sphere\": {'color': \"pink\"}})\n",
    "    i += 1\n",
    "\n",
    "view.zoomTo()\n",
    "view.show()\n"
   ]
  },
  {
   "cell_type": "code",
   "execution_count": null,
   "metadata": {},
   "outputs": [],
   "source": [
    "class Atom(dict):\n",
    "    def __init__(self, line):\n",
    "        self[\"type\"] = line[0:6].strip()\n",
    "        self[\"idx\"] = line[6:11].strip()\n",
    "        self[\"name\"] = line[12:16].strip()\n",
    "        self[\"resname\"] = line[17:20].strip()\n",
    "        self[\"resid\"] = int(int(line[22:26]))\n",
    "        self[\"x\"] = float(line[30:38])\n",
    "        self[\"y\"] = float(line[38:46])\n",
    "        self[\"z\"] = float(line[46:54])\n",
    "        self[\"sym\"] = line[76:78].strip()\n",
    "\n",
    "    def __str__(self):\n",
    "        line = list(\" \" * 80)\n",
    "        \n",
    "        line[0:6] = self[\"type\"].ljust(6)\n",
    "        line[6:11] = self[\"idx\"].ljust(5)\n",
    "        line[12:16] = self[\"name\"].ljust(4)\n",
    "        line[17:20] = self[\"resname\"].ljust(3)\n",
    "        line[22:26] = str(self[\"resid\"]).ljust(4)\n",
    "        line[30:38] = str(self[\"x\"]).rjust(8)\n",
    "        line[38:46] = str(self[\"y\"]).rjust(8)\n",
    "        line[46:54] = str(self[\"z\"]).rjust(8)\n",
    "        line[76:78] = self[\"sym\"].rjust(2)\n",
    "        return \"\".join(line) + \"\\n\"\n",
    "\n",
    "class Molecule(list):\n",
    "    def __init__(self, file):\n",
    "        for line in file:\n",
    "            if \"ATOM\" in line or \"HETATM\" in line:\n",
    "                self.append(Atom(line))\n",
    "            \n",
    "    def __str__(self):\n",
    "        outstr = \"\"\n",
    "        for at in self:\n",
    "            outstr += str(at)\n",
    "            \n",
    "        return outstr"
   ]
  },
  {
   "cell_type": "code",
   "execution_count": null,
   "metadata": {},
   "outputs": [],
   "source": [
    "with open(\"nuc.pdb\") as ifile:\n",
    "    mol = Molecule(ifile)"
   ]
  },
  {
   "cell_type": "code",
   "execution_count": null,
   "metadata": {},
   "outputs": [],
   "source": [
    "\n",
    "for at in mol:\n",
    "    if at[\"resname\"] == \"PRO\":\n",
    "        at[\"pymol\"] = ({'stick': {'radius': .05},\n",
    "                        'sphere': {'scale': 0.25,'color': \"pink\"}})\n",
    "    elif at[\"resname\"] == \"GLY\":\n",
    "        at[\"pymol\"] = ({'stick': {'radius': .05},\n",
    "                        'sphere': {'scale': 0.25,'color': \"pink\"}})\n",
    "view = py3Dmol.view(width=400, height=300)\n",
    "view.addModelsAsFrames(str(mol))\n",
    "for i, at in enumerate(mol):\n",
    "    default = ({'stick': {'radius': .05},'sphere': {'scale': 0.25}})\n",
    "    view.setStyle({'model': -1, 'serial': i+1}, at.get(\"pymol\", default))\n",
    "view.zoomTo();view.show()"
   ]
  },
  {
   "cell_type": "code",
   "execution_count": null,
   "metadata": {},
   "outputs": [],
   "source": []
  },
  {
   "cell_type": "code",
   "execution_count": null,
   "metadata": {},
   "outputs": [],
   "source": []
  },
  {
   "cell_type": "code",
   "execution_count": null,
   "metadata": {},
   "outputs": [],
   "source": []
  }
 ],
 "metadata": {
  "kernelspec": {
   "display_name": "Python 3",
   "language": "python",
   "name": "python3"
  },
  "language_info": {
   "codemirror_mode": {
    "name": "ipython",
    "version": 3
   },
   "file_extension": ".py",
   "mimetype": "text/x-python",
   "name": "python",
   "nbconvert_exporter": "python",
   "pygments_lexer": "ipython3",
   "version": "3.8.5"
  }
 },
 "nbformat": 4,
 "nbformat_minor": 4
}
