{
 "cells": [
  {
   "cell_type": "code",
   "execution_count": 1,
   "metadata": {
    "collapsed": true
   },
   "outputs": [],
   "source": [
    "%display latex"
   ]
  },
  {
   "cell_type": "code",
   "execution_count": 3,
   "metadata": {
    "collapsed": false,
    "scrolled": true
   },
   "outputs": [
    {
     "data": {
      "text/html": [
       "<html><script type=\"math/tex; mode=display\">\\newcommand{\\Bold}[1]{\\mathbf{#1}}\\frac{0.25 \\, \\sqrt{2} {\\left(\\sqrt{2} \\sqrt{\\pi} \\operatorname{erf}\\left(\\frac{1}{2} \\, \\sqrt{2}\\right) + \\sqrt{2} \\sqrt{\\pi}\\right)}}{\\sqrt{\\pi}} + \\frac{0.25 \\, \\sqrt{2} {\\left(\\sqrt{2} \\sqrt{\\pi} \\operatorname{erf}\\left(\\frac{1}{2} \\, \\sqrt{2}\\right) - \\sqrt{2} \\sqrt{\\pi}\\right)}}{\\sqrt{\\pi}}</script></html>"
      ],
      "text/plain": [
       "0.25*sqrt(2)*(sqrt(2)*sqrt(pi)*erf(1/2*sqrt(2)) + sqrt(2)*sqrt(pi))/sqrt(pi) + 0.25*sqrt(2)*(sqrt(2)*sqrt(pi)*erf(1/2*sqrt(2)) - sqrt(2)*sqrt(pi))/sqrt(pi)"
      ]
     },
     "execution_count": 3,
     "metadata": {},
     "output_type": "execute_result"
    }
   ],
   "source": [
    "var(\"x\")\n",
    "expr=(1./sqrt(2*pi))*exp(-x*x/2.)\n",
    "integrate(expr,(x,-oo,1)) - integrate(expr,(x,-oo,-1))"
   ]
  },
  {
   "cell_type": "code",
   "execution_count": 4,
   "metadata": {
    "collapsed": false
   },
   "outputs": [
    {
     "data": {
      "text/html": [
       "<html><script type=\"math/tex; mode=display\">\\newcommand{\\Bold}[1]{\\mathbf{#1}}0.954499736103642</script></html>"
      ],
      "text/plain": [
       "0.954499736103642"
      ]
     },
     "execution_count": 4,
     "metadata": {},
     "output_type": "execute_result"
    }
   ],
   "source": [
    "n(integrate(expr,(x,-oo,2)) - integrate(expr,(x,-oo,-2)))"
   ]
  },
  {
   "cell_type": "code",
   "execution_count": 5,
   "metadata": {
    "collapsed": false
   },
   "outputs": [
    {
     "data": {
      "text/html": [
       "<html><script type=\"math/tex; mode=display\">\\newcommand{\\Bold}[1]{\\mathbf{#1}}0.682689492137086</script></html>"
      ],
      "text/plain": [
       "0.682689492137086"
      ]
     },
     "execution_count": 5,
     "metadata": {},
     "output_type": "execute_result"
    }
   ],
   "source": [
    "n(integrate(expr,(x,-oo,1)) - integrate(expr,(x,-oo,-1)))"
   ]
  },
  {
   "cell_type": "code",
   "execution_count": 14,
   "metadata": {
    "collapsed": false
   },
   "outputs": [
    {
     "name": "stdout",
     "output_type": "stream",
     "text": [
      "Moyenne de l'échantillon :  4.160398\n",
      "Ecart type de l'échantillon :  0.00776772785311\n",
      "Minimum :  4.144  Maximum :  4.183\n"
     ]
    },
    {
     "data": {
      "image/png": "[encoded data removed]",
      "text/plain": [
       "<matplotlib.figure.Figure object at 0x7f9e93e4e450>"
      ]
     },
     "metadata": {},
     "output_type": "display_data"
    }
   ],
   "source": [
    "# -*- coding: utf-8 -*-\n",
    "\n",
    "# programme de calcul d'une distribution de mesures\n",
    "# Dominique Lefebvre\n",
    "# TangenteX.com\n",
    "# 5 octobre 2016\n",
    "\n",
    "# importation des librairies\n",
    "import csv\n",
    "from scipy import sqrt, pi, exp, mean, std, arange\n",
    "import matplotlib.pyplot as plt\n",
    "\n",
    "\n",
    "# Fonction de chargement des mesures contenues dans le fichier csv\n",
    "# dans une liste (ouverture du fichier en mode universal-newline)\n",
    "def ChargementListe(NomFic):\n",
    "    liste = []\n",
    "    Fic1 = open(NomFic,'rU')\n",
    "    Fic1CSV = csv.reader(Fic1, delimiter = ';')\n",
    "    for row in Fic1CSV:\n",
    "        if row :\n",
    "          mesure = float(row[1])\n",
    "          liste.append(mesure)\n",
    "    Fic1.close()\n",
    "    return liste\n",
    "\n",
    "\n",
    "# Définition des fonctions statistiques\n",
    "def Gaussienne(x,moyenne,ecarttype):\n",
    "    return 1/(ecarttype*sqrt(2*pi))*exp(-(x-moyenne)**2/(2*ecarttype**2))\n",
    "    \n",
    "\n",
    "# Définition des paramètres\n",
    "NomFichier = 'MESURES1.CSV'\n",
    "\n",
    "# ------------------------------------------------------------------------\n",
    "# Début du programme\n",
    "# ------------------------------------------------------------------------\n",
    "\n",
    "# Chargement du fichier de mesures dans une liste\n",
    "ListeMesures = ChargementListe(NomFichier)\n",
    "NbMesures = len(ListeMesures)\n",
    "MinListe = min(ListeMesures)\n",
    "MaxListe = max(ListeMesures)\n",
    "\n",
    "# Affichage des paramètres statistiques\n",
    "print \"Moyenne de l'échantillon : \",mean(ListeMesures)\n",
    "print \"Ecart type de l'échantillon : \",std(ListeMesures)\n",
    "print \"Minimum : \",MinListe, \" Maximum : \", MaxListe\n",
    "\n",
    "# Définition des classes de l'histogramme\n",
    "NbClasses = 8\n",
    "ClasseRange  = 0.005\n",
    "\n",
    "# Affichage de l'histogramme\n",
    "fig = plt.figure()\n",
    "plt.hist(ListeMesures, NbClasses, facecolor='green')\n",
    "\n",
    "# Tracé de la gaussienne théorique avec les paramètres de la distribution\n",
    "x = arange(MinListe,MaxListe,0.001)\n",
    "y = Gaussienne(x,mean(ListeMesures),std(ListeMesures))\n",
    "plt.plot(x,y,'cyan')\n",
    "\n",
    "# Affichage de l'histogramme de distribution des mesures\n",
    "plt.xlabel('Tension')\n",
    "plt.ylabel(u'Nb mesures') # string en unicode\n",
    "plt.xticks(arange(MinListe, MaxListe, ClasseRange))\n",
    "plt.grid(True)\n",
    "\n",
    "plt.show()"
   ]
  },
  {
   "cell_type": "code",
   "execution_count": 13,
   "metadata": {
    "collapsed": false
   },
   "outputs": [
    {
     "name": "stdout",
     "output_type": "stream",
     "text": [
      "Expression du résultat :  3.99211251719  +-  0.00200320772893\n"
     ]
    },
    {
     "data": {
      "image/png": "[encoded data removed]",
      "text/plain": [
       "<matplotlib.figure.Figure object at 0x7f9e8bca4350>"
      ]
     },
     "metadata": {},
     "output_type": "display_data"
    }
   ],
   "source": [
    "from scipy import sqrt, pi, exp, mean, std, arange, random\n",
    "import matplotlib.pyplot as plt\n",
    "\n",
    "\n",
    "# Définition des fonctions statistiques\n",
    "def Gaussienne(x,moyenne,ecarttype):\n",
    "    return 1/(ecarttype*sqrt(2*pi))*exp(-(x-moyenne)**2/(2*ecarttype**2))\n",
    "    \n",
    "def Ecart_Type(liste):\n",
    "    n = len(liste)\n",
    "    ecart = 0\n",
    "    mu = mean(liste)\n",
    "    for i in range(n):\n",
    "        ecart = ecart + (liste[i] - mu)**2\n",
    "    ecart = sqrt(ecart/(n-1))\n",
    "    return ecart\n",
    "    \n",
    "\n",
    "# Définition des paramètres\n",
    "NomFichier = 'MESURES1.CSV'\n",
    "\n",
    "# ------------------------------------------------------------------------\n",
    "# Début du programme\n",
    "# ------------------------------------------------------------------------\n",
    "   \n",
    "# Création d'une liste de mesures avec des erreurs aléatoires\n",
    "# contruite autour de la valeur de référence de la tension\n",
    "U = 3.992           # tension de référence\n",
    "NbMesures = 1000\n",
    "ListeMesures = []\n",
    "for i in range(NbMesures):\n",
    "    ListeMesures.append(random.normal(U,0.002))\n",
    "\n",
    "\n",
    "# Calcul des paramètres de la liste\n",
    "NbMesures = len(ListeMesures)\n",
    "MinListe = min(ListeMesures)\n",
    "MaxListe = max(ListeMesures)\n",
    "Moyenne = mean(ListeMesures)\n",
    "EcartType = std(ListeMesures) \n",
    "\n",
    "# Affichage des paramètres statistiques\n",
    "print \"Expression du résultat : \", Moyenne, \" +- \", EcartType\n",
    "\n",
    "\n",
    "\n",
    "# Définition des classes de l'histogramme\n",
    "NbClasses = 10\n",
    "ClasseRange  = 0.002\n",
    "\n",
    "# Affichage de l'histogramme\n",
    "fig = plt.figure()\n",
    "plt.hist(ListeMesures, NbClasses, facecolor='green')\n",
    "\n",
    "# Tracé de la gaussienne théorique avec les paramètres de la distribution\n",
    "x = arange(MinListe,MaxListe,0.0001)\n",
    "y = Gaussienne(x,Moyenne,EcartType)\n",
    "plt.plot(x,y,'cyan')\n",
    "\n",
    "# Affichage de l'histogramme de distribution des mesures\n",
    "plt.xlabel('Tension')\n",
    "plt.ylabel(u'Nb mesures') # string en unicode\n",
    "plt.xticks(arange(MinListe, MaxListe, ClasseRange))\n",
    "plt.grid(True)\n",
    "\n",
    "plt.show()"
   ]
  },
  {
   "cell_type": "code",
   "execution_count": 9,
   "metadata": {
    "collapsed": false
   },
   "outputs": [
    {
     "data": {
      "image/png": "[encoded data removed]",
      "text/plain": [
       "<matplotlib.figure.Figure object at 0x7f9e93f24190>"
      ]
     },
     "metadata": {},
     "output_type": "display_data"
    }
   ],
   "source": [
    "# -*- coding: utf-8 -*-\n",
    "\n",
    "# programme de tracé d'une courbe gaussienne\n",
    "# Dominique Lefebvre\n",
    "# TangenteX.com\n",
    "# 8 octobre 2016\n",
    "\n",
    "# importation des librairies\n",
    "from scipy import arange\n",
    "import matplotlib.pyplot as plt\n",
    "import scipy.stats as stats\n",
    "\n",
    "# tracé de la loi normale centrée réduite\n",
    "mu = 0\n",
    "sigma = 1\n",
    "x = arange(-10.0,10.0,0.0001)\n",
    "y = stats.norm.pdf(x,mu,sigma)\n",
    "\n",
    "# Affichage de l'histogramme\n",
    "fig = plt.figure()\n",
    "plt.plot(x,y,'blue')\n",
    "plt.xlabel('x')\n",
    "plt.ylabel('G(x)')\n",
    "plt.xticks(arange(-10.0,10.0,1.))\n",
    "plt.grid(True)\n",
    "\n",
    "plt.show()"
   ]
  },
  {
   "cell_type": "code",
   "execution_count": 10,
   "metadata": {
    "collapsed": false
   },
   "outputs": [
    {
     "data": {
      "image/png": "[encoded data removed]",
      "text/plain": [
       "<matplotlib.figure.Figure object at 0x7f9e8bda7e50>"
      ]
     },
     "metadata": {},
     "output_type": "display_data"
    }
   ],
   "source": [
    "from pylab import *\n",
    "# constantes\n",
    "R = 1\n",
    "# definition de la fonction de calcul de G(r)\n",
    "def G(r):\n",
    "    if r < R:\n",
    "      return -(1/R**3)*r\n",
    "    else:\n",
    "      return -1/(r**2)\n",
    "# initialisation\n",
    "r0 = 0.0\n",
    "rmax = 3*R\n",
    "pas_r = 0.01\n",
    "r = arange(r0, rmax, pas_r)\n",
    "NormeG = zeros(len(r))\n",
    "# calcul de la valeur de G(r)\n",
    "for i in xrange(len(r)):\n",
    "    NormeG[i] = G(r[i])\n",
    "# affichage de la norme du champ en fonction de r\n",
    "figure()\n",
    "plot(r, NormeG)\n",
    "xlabel('r')\n",
    "ylabel('G(r)')\n",
    "show()"
   ]
  },
  {
   "cell_type": "code",
   "execution_count": null,
   "metadata": {
    "collapsed": true
   },
   "outputs": [],
   "source": []
  }
 ],
 "metadata": {
  "kernelspec": {
   "display_name": "SageMath 8.1",
   "language": "",
   "name": "sagemath"
  },
  "language_info": {
   "codemirror_mode": {
    "name": "ipython",
    "version": 2
   },
   "file_extension": ".py",
   "mimetype": "text/x-python",
   "name": "python",
   "nbconvert_exporter": "python",
   "pygments_lexer": "ipython2",
   "version": "2.7.14"
  }
 },
 "nbformat": 4,
 "nbformat_minor": 2
}
