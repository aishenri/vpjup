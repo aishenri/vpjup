{
 "cells": [
  {
   "cell_type": "code",
   "execution_count": 1,
   "metadata": {},
   "outputs": [
    {
     "data": {
      "text/html": [
       "<html><script type=\"math/tex; mode=display\">\\newcommand{\\Bold}[1]{\\mathbf{#1}}\\left(\\frac{\\partial^{2}}{(\\partial t)^{2}}x\\left(t\\right) = -2 \\, x\\left(t\\right) - \\frac{1}{2} \\, \\frac{\\partial}{\\partial t}x\\left(t\\right), {\\left(K_{2} \\cos\\left(\\frac{1}{4} \\, \\sqrt{31} t\\right) + K_{1} \\sin\\left(\\frac{1}{4} \\, \\sqrt{31} t\\right)\\right)} e^{\\left(-\\frac{1}{4} \\, t\\right)}\\right)</script></html>"
      ],
      "text/plain": [
       "(diff(x(t), t, t) == -2*x(t) - 1/2*diff(x(t), t),\n",
       " (_K2*cos(1/4*sqrt(31)*t) + _K1*sin(1/4*sqrt(31)*t))*e^(-1/4*t))"
      ]
     },
     "execution_count": 1,
     "metadata": {},
     "output_type": "execute_result"
    }
   ],
   "source": [
    "%display latex\n",
    "var('t k b ') \n",
    "x = function('x')(t) \n",
    "DE2 = diff(x,t,t) == -2*x - 1/2*diff(x,t) \n",
    "u2 = desolve(DE2, x, ivar=t)\n",
    "DE2,u2"
   ]
  },
  {
   "cell_type": "code",
   "execution_count": 54,
   "metadata": {},
   "outputs": [
    {
     "data": {
      "text/html": [
       "<html><script type=\"math/tex; mode=display\">\\newcommand{\\Bold}[1]{\\mathbf{#1}}U = I {\\left(R + R_{w}\\right)}</script></html>"
      ],
      "text/plain": [
       "U == I*(R + R_w)"
      ]
     },
     "metadata": {},
     "output_type": "display_data"
    },
    {
     "data": {
      "text/html": [
       "<html><script type=\"math/tex; mode=display\">\\newcommand{\\Bold}[1]{\\mathbf{#1}}c = \\frac{1}{\\sqrt{\\epsilon \\mu}}</script></html>"
      ],
      "text/plain": [
       "c == 1/sqrt(epsilon*mu)"
      ]
     },
     "metadata": {},
     "output_type": "display_data"
    }
   ],
   "source": [
    "var('R,R_w,I,U,U_t,c_v') \n",
    "U_t = U==I*(R+R_w)\n",
    "show(U_t)\n",
    "var(\"c,c_0, mu ,epsilon\")\n",
    "c_0= c==1/(sqrt(mu*epsilon))\n",
    "show(c_0)"
   ]
  },
  {
   "cell_type": "code",
   "execution_count": 63,
   "metadata": {},
   "outputs": [
    {
     "data": {
      "text/html": [
       "<html><script type=\"math/tex; mode=display\">\\newcommand{\\Bold}[1]{\\mathbf{#1}}\\left[c^{2} = \\frac{1}{\\epsilon \\mu}\\right]</script></html>"
      ],
      "text/plain": [
       "[c^2 == 1/(epsilon*mu)]"
      ]
     },
     "metadata": {},
     "output_type": "display_data"
    },
    {
     "data": {
      "text/html": [
       "<html><script type=\"math/tex; mode=display\">\\newcommand{\\Bold}[1]{\\mathbf{#1}}\\left[c^{2} \\epsilon \\mu = 1\\right]</script></html>"
      ],
      "text/plain": [
       "[c^2*epsilon*mu == 1]"
      ]
     },
     "metadata": {},
     "output_type": "display_data"
    }
   ],
   "source": [
    "q=solve(c_0^2,c*c);show(q)\n",
    "p=solve(c_0^2,c*c*mu*epsilon);show(p)"
   ]
  },
  {
   "cell_type": "code",
   "execution_count": 11,
   "metadata": {},
   "outputs": [
    {
     "data": {
      "text/html": [
       "<html><script type=\"math/tex; mode=display\">\\newcommand{\\Bold}[1]{\\mathbf{#1}}\\left[I = \\frac{U}{R + R_{w}}\\right]</script></html>"
      ],
      "text/plain": [
       "[I == U/(R + R_w)]"
      ]
     },
     "execution_count": 11,
     "metadata": {},
     "output_type": "execute_result"
    }
   ],
   "source": [
    "eq=solve(U_t,I);eq"
   ]
  },
  {
   "cell_type": "code",
   "execution_count": 12,
   "metadata": {},
   "outputs": [
    {
     "data": {
      "text/html": [
       "<html><script type=\"math/tex; mode=display\">\\newcommand{\\Bold}[1]{\\mathbf{#1}}I^{2} R</script></html>"
      ],
      "text/plain": [
       "I^2*R"
      ]
     },
     "execution_count": 12,
     "metadata": {},
     "output_type": "execute_result"
    }
   ],
   "source": [
    "P=R*I^2;P"
   ]
  },
  {
   "cell_type": "code",
   "execution_count": 13,
   "metadata": {},
   "outputs": [
    {
     "data": {
      "text/html": [
       "<html><script type=\"math/tex; mode=display\">\\newcommand{\\Bold}[1]{\\mathbf{#1}}\\frac{R U^{2}}{{\\left(R + R_{w}\\right)}^{2}}</script></html>"
      ],
      "text/plain": [
       "R*U^2/(R + R_w)^2"
      ]
     },
     "execution_count": 13,
     "metadata": {},
     "output_type": "execute_result"
    }
   ],
   "source": [
    "P1=P.substitute(eq[0]);P1"
   ]
  },
  {
   "cell_type": "code",
   "execution_count": 14,
   "metadata": {},
   "outputs": [
    {
     "data": {
      "text/html": [
       "<html><script type=\"math/tex; mode=display\">\\newcommand{\\Bold}[1]{\\mathbf{#1}}\\frac{U^{2}}{{\\left(R + R_{w}\\right)}^{2}} - \\frac{2 \\, R U^{2}}{{\\left(R + R_{w}\\right)}^{3}} = 0</script></html>"
      ],
      "text/plain": [
       "U^2/(R + R_w)^2 - 2*R*U^2/(R + R_w)^3 == 0"
      ]
     },
     "execution_count": 14,
     "metadata": {},
     "output_type": "execute_result"
    }
   ],
   "source": [
    "P1.diff(R)==0 "
   ]
  },
  {
   "cell_type": "code",
   "execution_count": 15,
   "metadata": {},
   "outputs": [
    {
     "data": {
      "text/html": [
       "<html><script type=\"math/tex; mode=display\">\\newcommand{\\Bold}[1]{\\mathbf{#1}}\\left[R = R_{w}\\right]</script></html>"
      ],
      "text/plain": [
       "[R == R_w]"
      ]
     },
     "execution_count": 15,
     "metadata": {},
     "output_type": "execute_result"
    }
   ],
   "source": [
    "solve(_, R) "
   ]
  },
  {
   "cell_type": "code",
   "execution_count": 16,
   "metadata": {},
   "outputs": [
    {
     "data": {
      "text/html": [
       "<html><script type=\"math/tex; mode=display\">\\newcommand{\\Bold}[1]{\\mathbf{#1}}-\\frac{4 \\, U^{2}}{{\\left(R + R_{w}\\right)}^{3}} + \\frac{6 \\, R U^{2}}{{\\left(R + R_{w}\\right)}^{4}}</script></html>"
      ],
      "text/plain": [
       "-4*U^2/(R + R_w)^3 + 6*R*U^2/(R + R_w)^4"
      ]
     },
     "execution_count": 16,
     "metadata": {},
     "output_type": "execute_result"
    }
   ],
   "source": [
    "P1.diff(R, 2) "
   ]
  },
  {
   "cell_type": "code",
   "execution_count": 17,
   "metadata": {},
   "outputs": [
    {
     "data": {
      "text/html": [
       "<html><script type=\"math/tex; mode=display\">\\newcommand{\\Bold}[1]{\\mathbf{#1}}-\\frac{U^{2}}{8 \\, R_{w}^{3}}</script></html>"
      ],
      "text/plain": [
       "-1/8*U^2/R_w^3"
      ]
     },
     "execution_count": 17,
     "metadata": {},
     "output_type": "execute_result"
    }
   ],
   "source": [
    "_.substitute(R==R_w)"
   ]
  },
  {
   "cell_type": "code",
   "execution_count": 18,
   "metadata": {},
   "outputs": [
    {
     "data": {
      "text/html": [
       "<html><script type=\"math/tex; mode=display\">\\newcommand{\\Bold}[1]{\\mathbf{#1}}\\left[\\left[0 < R_{w}, U \\neq 0\\right]\\right]</script></html>"
      ],
      "text/plain": [
       "[[0 < R_w, U != 0]]"
      ]
     },
     "execution_count": 18,
     "metadata": {},
     "output_type": "execute_result"
    }
   ],
   "source": [
    "solve(_<0, R_w) "
   ]
  },
  {
   "cell_type": "code",
   "execution_count": 19,
   "metadata": {},
   "outputs": [
    {
     "data": {
      "image/png": "[encoded data removed]",
      "text/plain": [
       "Graphics object consisting of 3 graphics primitives"
      ]
     },
     "metadata": {},
     "output_type": "display_data"
    }
   ],
   "source": [
    "P2 = plot(P1.subs({U:1, R_w:2}),(R,0,10), color=\"red\",legend_label=r'$R_w=2$')\n",
    "P3 = plot(P1.subs({U:1, R_w:3}),(R,0,10), color=\"green\", legend_label=r'$R_w=3$')\n",
    "P4 = plot(P1.subs({U:1, R_w:4}),(R,0,10), color=\"blue\", legend_label=r'$R_w=4$')\n",
    "show(P2+P3+P4,figsize=4,frame=True,fontsize=8,axes=False)"
   ]
  },
  {
   "cell_type": "code",
   "execution_count": 20,
   "metadata": {},
   "outputs": [
    {
     "data": {
      "image/png": "[encoded data removed]",
      "text/plain": [
       "Graphics object consisting of 9 graphics primitives"
      ]
     },
     "metadata": {},
     "output_type": "display_data"
    }
   ],
   "source": [
    "P2l = P2 +line([(2,0),(2,0.15)], color=\"black\", thickness=0.5) +point((2, P1.subs({U:1, R_w:2, R:2}))) \n",
    "P3l = P3 +line([(3,0),(3,0.15)], color=\"black\", thickness=0.5) +point((3, P1.subs({U:1, R_w:3, R:3}))) \n",
    "P4l = P4 +line([(4,0),(4,0.15)], color=\"black\", thickness=0.5) +point((4, P1.subs({U:1, R_w:4, R:4}))) \n",
    "show(P2l+P3l+P4l,figsize=4,frame=True,fontsize=8,axes=False)"
   ]
  },
  {
   "cell_type": "code",
   "execution_count": 21,
   "metadata": {},
   "outputs": [
    {
     "data": {
      "text/html": [
       "<html><script type=\"math/tex; mode=display\">\\newcommand{\\Bold}[1]{\\mathbf{#1}}\\frac{U\\left(t\\right)}{C R} + \\frac{\\partial}{\\partial t}U\\left(t\\right) = 0</script></html>"
      ],
      "text/plain": [
       "U(t)/(C*R) + diff(U(t), t) == 0"
      ]
     },
     "metadata": {},
     "output_type": "display_data"
    }
   ],
   "source": [
    "var('C, R_o,R, t, U_0, U_in, omega') \n",
    "U = function('U')(t) \n",
    "R_0= U.diff()+U/(R*C)==0;show(R_0)"
   ]
  },
  {
   "cell_type": "code",
   "execution_count": 22,
   "metadata": {},
   "outputs": [
    {
     "data": {
      "text/html": [
       "<html><script type=\"math/tex; mode=display\">\\newcommand{\\Bold}[1]{\\mathbf{#1}}U_{0} e^{\\left(-\\frac{t}{C R}\\right)}</script></html>"
      ],
      "text/plain": [
       "U_0*e^(-t/(C*R))"
      ]
     },
     "execution_count": 22,
     "metadata": {},
     "output_type": "execute_result"
    }
   ],
   "source": [
    "sol = desolve(R_0, U, ivar=t, ics=[0, U_0]);sol"
   ]
  },
  {
   "cell_type": "code",
   "execution_count": 23,
   "metadata": {},
   "outputs": [
    {
     "data": {
      "image/png": "[encoded data removed]",
      "text/plain": [
       "Graphics object consisting of 1 graphics primitive"
      ]
     },
     "metadata": {},
     "output_type": "display_data"
    }
   ],
   "source": [
    "show(plot(sol.substitute({U_0:9, R:1, C:5}), 0, 20),\n",
    "     figsize=3,frame=True,axes=False,gridlines=\"minor\",\n",
    "    fontsize=8) "
   ]
  },
  {
   "cell_type": "code",
   "execution_count": 24,
   "metadata": {},
   "outputs": [
    {
     "data": {
      "text/html": [
       "<html><script type=\"math/tex; mode=display\">\\newcommand{\\Bold}[1]{\\mathbf{#1}}\\left(\\frac{U\\left(t\\right)}{C R} + \\frac{\\partial}{\\partial t}U\\left(t\\right) = \\frac{U_{\\mathit{in}}}{C R}, {\\left(U_{\\mathit{in}} e^{\\left(\\frac{t}{C R}\\right)} + U_{0} - U_{\\mathit{in}}\\right)} e^{\\left(-\\frac{t}{C R}\\right)}\\right)</script></html>"
      ],
      "text/plain": [
       "(U(t)/(C*R) + diff(U(t), t) == U_in/(C*R),\n",
       " (U_in*e^(t/(C*R)) + U_0 - U_in)*e^(-t/(C*R)))"
      ]
     },
     "execution_count": 24,
     "metadata": {},
     "output_type": "execute_result"
    }
   ],
   "source": [
    "R_0= U.diff() + U/(R*C) == U_in/(R*C)\n",
    "sol = desolve(R_0, U, ivar=t, ics=[0,U_0]);R_0,sol"
   ]
  },
  {
   "cell_type": "code",
   "execution_count": 25,
   "metadata": {},
   "outputs": [
    {
     "data": {
      "text/html": [
       "<html><script type=\"math/tex; mode=display\">\\newcommand{\\Bold}[1]{\\mathbf{#1}}U_{\\mathit{in}}</script></html>"
      ],
      "text/plain": [
       "U_in"
      ]
     },
     "execution_count": 25,
     "metadata": {},
     "output_type": "execute_result"
    }
   ],
   "source": [
    "assume(C>0); assume(R>0)\n",
    "limit(sol, t=oo) "
   ]
  },
  {
   "cell_type": "code",
   "execution_count": 26,
   "metadata": {},
   "outputs": [],
   "source": [
    "ex(t) = sol.substitute({C:6, R:1, U_in:9, U_0:0}) \n",
    "#show(ex)(t=5, U_in=9, U_0=0, R=1)"
   ]
  },
  {
   "cell_type": "code",
   "execution_count": 27,
   "metadata": {},
   "outputs": [
    {
     "data": {
      "image/png": "[encoded data removed]",
      "text/plain": [
       "Graphics object consisting of 3 graphics primitives"
      ]
     },
     "metadata": {},
     "output_type": "display_data"
    }
   ],
   "source": [
    "show(plot(ex,(0, 20))\\\n",
    "+ line([(0, 8), (20, 8)],color='red')\\\n",
    "+ point((5,6),color='red', size=15),\n",
    "     figsize=3,frame=True,fontsize=8,axes=False)"
   ]
  },
  {
   "cell_type": "code",
   "execution_count": 28,
   "metadata": {},
   "outputs": [
    {
     "data": {
      "text/html": [
       "<html><script type=\"math/tex; mode=display\">\\newcommand{\\Bold}[1]{\\mathbf{#1}}\\left[C = \\frac{1}{\\log\\left(\\frac{1}{4} \\cdot 4^{\\frac{1}{5}} {\\left(\\sqrt{5} + i \\, \\sqrt{2 \\, \\sqrt{5} + 10} - 1\\right)}\\right)}, C = \\frac{1}{\\log\\left(-\\frac{1}{4} \\cdot 4^{\\frac{1}{5}} {\\left(\\sqrt{5} - i \\, \\sqrt{-2 \\, \\sqrt{5} + 10} + 1\\right)}\\right)}, C = \\frac{5}{-4 i \\, \\pi + 2 \\, \\log\\left(2\\right)}, C = \\frac{5}{-2 i \\, \\pi + 2 \\, \\log\\left(2\\right)}, C = \\frac{5}{2 \\, \\log\\left(2\\right)}\\right]</script></html>"
      ],
      "text/plain": [
       "[C == (1/log(1/4*4^(1/5)*(sqrt(5) + I*sqrt(2*sqrt(5) + 10) - 1))), C == (1/log(-1/4*4^(1/5)*(sqrt(5) - I*sqrt(-2*sqrt(5) + 10) + 1))), C == 5/(-4*I*pi + 2*log(2)), C == 5/(-2*I*pi + 2*log(2)), C == 5/2/log(2)]"
      ]
     },
     "execution_count": 28,
     "metadata": {},
     "output_type": "execute_result"
    }
   ],
   "source": [
    "solve(sol.substitute(t=5, U_in=8, U_0=0, R=1)==6, C) "
   ]
  },
  {
   "cell_type": "code",
   "execution_count": 29,
   "metadata": {},
   "outputs": [
    {
     "data": {
      "text/html": [
       "<html><script type=\"math/tex; mode=display\">\\newcommand{\\Bold}[1]{\\mathbf{#1}}t \\ {\\mapsto}\\ 8 \\, {\\left(e^{\\left(\\frac{1}{5} \\, t \\log\\left(3\\right)\\right)} - 1\\right)} e^{\\left(-\\frac{1}{5} \\, t \\log\\left(3\\right)\\right)}</script></html>"
      ],
      "text/plain": [
       "t |--> 8*(e^(1/5*t*log(3)) - 1)*e^(-1/5*t*log(3))"
      ]
     },
     "metadata": {},
     "output_type": "display_data"
    }
   ],
   "source": [
    "ex(t) = sol.substitute({C:5/log(3), R:1, U_in:8, U_0:0}) \n",
    "show(ex) "
   ]
  },
  {
   "cell_type": "code",
   "execution_count": 30,
   "metadata": {},
   "outputs": [
    {
     "data": {
      "image/png": "[encoded data removed]",
      "text/plain": [
       "Graphics object consisting of 3 graphics primitives"
      ]
     },
     "metadata": {},
     "output_type": "display_data"
    }
   ],
   "source": [
    "show(plot(ex, (0, 20)) \\\n",
    "+ line([(0, 8), (20, 8)], \n",
    "       color='red')\\\n",
    "+ point((5,5.35),color='red', size=15),\n",
    "figsize=3,frame=True,fontsize=6,axes=False)"
   ]
  },
  {
   "cell_type": "code",
   "execution_count": 31,
   "metadata": {},
   "outputs": [
    {
     "data": {
      "text/html": [
       "<html><script type=\"math/tex; mode=display\">\\newcommand{\\Bold}[1]{\\mathbf{#1}}\\frac{U\\left(t\\right)}{C R} + \\frac{\\partial}{\\partial t}U\\left(t\\right) = \\sin\\left(\\omega t\\right)</script></html>"
      ],
      "text/plain": [
       "U(t)/(C*R) + diff(U(t), t) == sin(omega*t)"
      ]
     },
     "metadata": {},
     "output_type": "display_data"
    }
   ],
   "source": [
    "R_0= U.diff() + U/(R*C) == sin(omega*t)\n",
    "sol = desolve(R_0, U, ivar=t, ics=[0,U_0]);show(R_0)"
   ]
  },
  {
   "cell_type": "code",
   "execution_count": 32,
   "metadata": {},
   "outputs": [
    {
     "data": {
      "text/html": [
       "<html><script type=\"math/tex; mode=display\">\\newcommand{\\Bold}[1]{\\mathbf{#1}}\\frac{{\\left(C^{2} R^{2} U_{0} \\omega^{2} - C^{2} R^{2} \\omega \\cos\\left(\\omega t\\right) e^{\\left(\\frac{t}{C R}\\right)} + C^{2} R^{2} \\omega + C R e^{\\left(\\frac{t}{C R}\\right)} \\sin\\left(\\omega t\\right) + U_{0}\\right)} e^{\\left(-\\frac{t}{C R}\\right)}}{C^{2} R^{2} \\omega^{2} + 1}</script></html>"
      ],
      "text/plain": [
       "(C^2*R^2*U_0*omega^2 - C^2*R^2*omega*cos(omega*t)*e^(t/(C*R)) + C^2*R^2*omega + C*R*e^(t/(C*R))*sin(omega*t) + U_0)*e^(-t/(C*R))/(C^2*R^2*omega^2 + 1)"
      ]
     },
     "execution_count": 32,
     "metadata": {},
     "output_type": "execute_result"
    }
   ],
   "source": [
    "sol"
   ]
  },
  {
   "cell_type": "code",
   "execution_count": 36,
   "metadata": {},
   "outputs": [
    {
     "data": {
      "text/html": [
       "<html><script type=\"math/tex; mode=display\">\\newcommand{\\Bold}[1]{\\mathbf{#1}}\\$1 \\cos\\left(\\$2\\right) + \\$0 \\sin\\left(\\$2\\right) = \\sqrt{\\$1^{2} + \\$0^{2}} \\sin\\left(\\$2 + \\arccos\\left(\\frac{\\$1}{\\sqrt{\\$1^{2} + \\$0^{2}}}\\right) \\mathrm{sgn}\\left(\\$1\\right)\\right)</script></html>"
      ],
      "text/plain": [
       "$1*cos($2) + $0*sin($2) == sqrt($1^2 + $0^2)*sin($2 + arccos($1/sqrt($1^2 + $0^2))*sgn($1))"
      ]
     },
     "metadata": {},
     "output_type": "display_data"
    }
   ],
   "source": [
    "w0=SR.wild(0); w1=SR.wild(1); w2=SR.wild(2) \n",
    "law = w0*sin(w2)+w1*cos(w2)==sqrt(w0^2+w1^2)*sin(w2+sign(w1)*arccos(w1/sqrt(w0^2+w1^2)))\n",
    "show(law) "
   ]
  },
  {
   "cell_type": "code",
   "execution_count": 37,
   "metadata": {},
   "outputs": [
    {
     "data": {
      "text/html": [
       "<html><script type=\"math/tex; mode=display\">\\newcommand{\\Bold}[1]{\\mathbf{#1}}\\frac{{\\left(C^{2} R^{2} U_{0} \\omega^{2} - C^{2} R^{2} \\omega \\cos\\left(\\omega t\\right) e^{\\left(\\frac{t}{C R}\\right)} + C^{2} R^{2} \\omega + C R e^{\\left(\\frac{t}{C R}\\right)} \\sin\\left(\\omega t\\right) + U_{0}\\right)} e^{\\left(-\\frac{t}{C R}\\right)}}{C^{2} R^{2} \\omega^{2} + 1}</script></html>"
      ],
      "text/plain": [
       "(C^2*R^2*U_0*omega^2 - C^2*R^2*omega*cos(omega*t)*e^(t/(C*R)) + C^2*R^2*omega + C*R*e^(t/(C*R))*sin(omega*t) + U_0)*e^(-t/(C*R))/(C^2*R^2*omega^2 + 1)"
      ]
     },
     "metadata": {},
     "output_type": "display_data"
    }
   ],
   "source": [
    "sol2=sol.substitute(law);show(sol2) "
   ]
  },
  {
   "cell_type": "code",
   "execution_count": 38,
   "metadata": {},
   "outputs": [
    {
     "data": {
      "text/html": [
       "<html><script type=\"math/tex; mode=display\">\\newcommand{\\Bold}[1]{\\mathbf{#1}}t \\ {\\mapsto}\\ -\\frac{6}{1297} \\, {\\left(36 \\, \\cos\\left(6 \\, t\\right) e^{\\left(\\frac{1}{6} \\, t\\right)} - e^{\\left(\\frac{1}{6} \\, t\\right)} \\sin\\left(6 \\, t\\right) - 36\\right)} e^{\\left(-\\frac{1}{6} \\, t\\right)}</script></html>"
      ],
      "text/plain": [
       "t |--> -6/1297*(36*cos(6*t)*e^(1/6*t) - e^(1/6*t)*sin(6*t) - 36)*e^(-1/6*t)"
      ]
     },
     "metadata": {},
     "output_type": "display_data"
    }
   ],
   "source": [
    "ex(t) = sol.substitute({C:1, R:6, U_in:9, omega:6, U_0:0}) \n",
    "show(ex) "
   ]
  },
  {
   "cell_type": "code",
   "execution_count": 39,
   "metadata": {},
   "outputs": [
    {
     "data": {
      "image/png": "[encoded data removed]",
      "text/plain": [
       "Graphics object consisting of 1 graphics primitive"
      ]
     },
     "metadata": {},
     "output_type": "display_data"
    }
   ],
   "source": [
    "show(plot(ex,0,50,figsize=3,frame=True,fontsize=6,axes=False))"
   ]
  },
  {
   "cell_type": "code",
   "execution_count": 40,
   "metadata": {},
   "outputs": [
    {
     "data": {
      "text/html": [
       "<html><script type=\"math/tex; mode=display\">\\newcommand{\\Bold}[1]{\\mathbf{#1}}\\frac{C R}{C^{2} R^{2} \\omega^{2} + 1}</script></html>"
      ],
      "text/plain": [
       "C*R/(C^2*R^2*omega^2 + 1)"
      ]
     },
     "metadata": {},
     "output_type": "display_data"
    }
   ],
   "source": [
    "amp = sol2.substitute(w0*sin(w1)+w2==abs(w0)).full_simplify() \n",
    "show(amp) "
   ]
  },
  {
   "cell_type": "code",
   "execution_count": 41,
   "metadata": {},
   "outputs": [
    {
     "data": {
      "text/html": [
       "<html><script type=\"math/tex; mode=display\">\\newcommand{\\Bold}[1]{\\mathbf{#1}}\\left[\\omega = -\\frac{\\sqrt{\\frac{C R}{A} - 1}}{C R}, \\omega = \\frac{\\sqrt{\\frac{C R}{A} - 1}}{C R}\\right]</script></html>"
      ],
      "text/plain": [
       "[omega == -sqrt(C*R/A - 1)/(C*R), omega == sqrt(C*R/A - 1)/(C*R)]"
      ]
     },
     "execution_count": 41,
     "metadata": {},
     "output_type": "execute_result"
    }
   ],
   "source": [
    "var('A');assume(A>0); assume(U_in>0) \n",
    "solve(amp==A, omega) "
   ]
  },
  {
   "cell_type": "code",
   "execution_count": 42,
   "metadata": {},
   "outputs": [
    {
     "data": {
      "text/html": [
       "<html><script type=\"math/tex; mode=display\">\\newcommand{\\Bold}[1]{\\mathbf{#1}}\\frac{\\sqrt{\\frac{C R}{A} - 1}}{C R}</script></html>"
      ],
      "text/plain": [
       "sqrt(C*R/A - 1)/(C*R)"
      ]
     },
     "execution_count": 42,
     "metadata": {},
     "output_type": "execute_result"
    }
   ],
   "source": [
    "R_A = omega.substitute(_[1]);R_A"
   ]
  },
  {
   "cell_type": "code",
   "execution_count": 43,
   "metadata": {},
   "outputs": [
    {
     "data": {
      "text/html": [
       "<html><script type=\"math/tex; mode=display\">\\newcommand{\\Bold}[1]{\\mathbf{#1}}-{\\left(A \\sqrt{\\frac{C R - A}{A}} \\cos\\left(\\frac{t \\sqrt{\\frac{C R - A}{A}}}{C R}\\right) e^{\\left(\\frac{t}{C R}\\right)} - A e^{\\left(\\frac{t}{C R}\\right)} \\sin\\left(\\frac{t \\sqrt{\\frac{C R - A}{A}}}{C R}\\right) - A \\sqrt{\\frac{C R - A}{A}} - U_{0}\\right)} e^{\\left(-\\frac{t}{C R}\\right)}</script></html>"
      ],
      "text/plain": [
       "-(A*sqrt((C*R - A)/A)*cos(t*sqrt((C*R - A)/A)/(C*R))*e^(t/(C*R)) - A*e^(t/(C*R))*sin(t*sqrt((C*R - A)/A)/(C*R)) - A*sqrt((C*R - A)/A) - U_0)*e^(-t/(C*R))"
      ]
     },
     "execution_count": 43,
     "metadata": {},
     "output_type": "execute_result"
    }
   ],
   "source": [
    "solA = sol.substitute({omega:R_A}).full_simplify();solA"
   ]
  },
  {
   "cell_type": "code",
   "execution_count": 44,
   "metadata": {},
   "outputs": [
    {
     "data": {
      "text/html": [
       "<html><script type=\"math/tex; mode=display\">\\newcommand{\\Bold}[1]{\\mathbf{#1}}t \\ {\\mapsto}\\ -\\frac{1}{2} \\, {\\left(\\sqrt{11} \\cos\\left(\\frac{1}{6} \\, \\sqrt{11} t\\right) e^{\\left(\\frac{1}{6} \\, t\\right)} - e^{\\left(\\frac{1}{6} \\, t\\right)} \\sin\\left(\\frac{1}{6} \\, \\sqrt{11} t\\right) - \\sqrt{11}\\right)} e^{\\left(-\\frac{1}{6} \\, t\\right)}</script></html>"
      ],
      "text/plain": [
       "t |--> -1/2*(sqrt(11)*cos(1/6*sqrt(11)*t)*e^(1/6*t) - e^(1/6*t)*sin(1/6*sqrt(11)*t) - sqrt(11))*e^(-1/6*t)"
      ]
     },
     "metadata": {},
     "output_type": "display_data"
    }
   ],
   "source": [
    "example(t) = solA.subs({C:1, R:6, U_in:9, U_0:0, A:1/2}).full_simplify() \n",
    "show(example) "
   ]
  },
  {
   "cell_type": "code",
   "execution_count": 45,
   "metadata": {},
   "outputs": [
    {
     "data": {
      "image/png": "[encoded data removed]",
      "text/plain": [
       "Graphics object consisting of 3 graphics primitives"
      ]
     },
     "execution_count": 45,
     "metadata": {},
     "output_type": "execute_result"
    }
   ],
   "source": [
    "plot(example, 0, 50)\\\n",
    "+line([(0, 0.5), (50, 0.5)], color='red')\\\n",
    "+line([(0, -0.5), (50, -0.5)], color='red') "
   ]
  },
  {
   "cell_type": "code",
   "execution_count": 46,
   "metadata": {},
   "outputs": [
    {
     "data": {
      "text/html": [
       "<html><script type=\"math/tex; mode=display\">\\newcommand{\\Bold}[1]{\\mathbf{#1}}\\frac{\\sqrt{2 \\, C R - 1}}{C R}</script></html>"
      ],
      "text/plain": [
       "sqrt(2*C*R - 1)/(C*R)"
      ]
     },
     "metadata": {},
     "output_type": "display_data"
    }
   ],
   "source": [
    "rozw=R_A\n",
    "show(rozw.substitute({U_in:9, A:1/2})) "
   ]
  },
  {
   "cell_type": "markdown",
   "metadata": {},
   "source": [
    "$i_R=\\frac{U_R}{R}$    (1)\n",
    "\n",
    "$V_L=L\\frac{di_L}{dt}$ (2)\n",
    "\n",
    "$i_C=C\\frac{dV_C}{dt}$ (3)\n",
    "\n",
    "<img src=\"RC.png\">\n",
    "\n",
    "$i_R$ + $i_C$ = 0\n",
    "\n",
    "$\\frac{V_C-V_in}{R}$ + $C\\frac{dV_C}{dt} = 0 $ \n",
    "\n",
    "$\\frac{v-V_in}{R}$ + $C\\frac{dv}{dt} = 0 $ "
   ]
  },
  {
   "cell_type": "code",
   "execution_count": 47,
   "metadata": {},
   "outputs": [],
   "source": [
    "var('R, C, L, V_in');t = var('t') ;v = function('v')(t)"
   ]
  },
  {
   "cell_type": "code",
   "execution_count": 48,
   "metadata": {},
   "outputs": [
    {
     "name": "stdout",
     "output_type": "stream",
     "text": [
      "équation circuit RC:\n"
     ]
    },
    {
     "data": {
      "text/html": [
       "<html><script type=\"math/tex; mode=display\">\\newcommand{\\Bold}[1]{\\mathbf{#1}}C \\frac{\\partial}{\\partial t}v\\left(t\\right) - \\frac{V_{\\mathit{in}} - v\\left(t\\right)}{R} = 0</script></html>"
      ],
      "text/plain": [
       "C*diff(v(t), t) - (V_in - v(t))/R == 0"
      ]
     },
     "metadata": {},
     "output_type": "display_data"
    }
   ],
   "source": [
    "eq1 = (v-V_in)/R + C* diff(v,t) == 0 \n",
    "print 'équation circuit RC:' \n",
    "show(eq1) "
   ]
  },
  {
   "cell_type": "code",
   "execution_count": 49,
   "metadata": {},
   "outputs": [
    {
     "name": "stdout",
     "output_type": "stream",
     "text": [
      " Solution :\n"
     ]
    },
    {
     "data": {
      "text/html": [
       "<html><script type=\"math/tex; mode=display\">\\newcommand{\\Bold}[1]{\\mathbf{#1}}v\\left(t\\right) = {\\left(V_{\\mathit{in}} e^{\\left(\\frac{t}{C R}\\right)} + C\\right)} e^{\\left(-\\frac{t}{C R}\\right)}</script></html>"
      ],
      "text/plain": [
       "v(t) == (V_in*e^(t/(C*R)) + _C)*e^(-t/(C*R))"
      ]
     },
     "metadata": {},
     "output_type": "display_data"
    }
   ],
   "source": [
    "sol1(t)=desolve(eq1.lhs(), v, ivar=t) \n",
    "eq2 = v == sol1 \n",
    "print ' Solution :' \n",
    "show(eq2(t)) "
   ]
  },
  {
   "cell_type": "code",
   "execution_count": 50,
   "metadata": {},
   "outputs": [
    {
     "name": "stdout",
     "output_type": "stream",
     "text": [
      "Equations avec conditions initiales :\n"
     ]
    },
    {
     "data": {
      "text/html": [
       "<html><script type=\"math/tex; mode=display\">\\newcommand{\\Bold}[1]{\\mathbf{#1}}v\\left(t\\right) = {\\left(V_{\\mathit{in}} e^{\\left(\\frac{t}{C R}\\right)} - V_{\\mathit{in}}\\right)} e^{\\left(-\\frac{t}{C R}\\right)}</script></html>"
      ],
      "text/plain": [
       "v(t) == (V_in*e^(t/(C*R)) - V_in)*e^(-t/(C*R))"
      ]
     },
     "metadata": {},
     "output_type": "display_data"
    }
   ],
   "source": [
    "sol2(t,R,C,V_in) = desolve(eq1.lhs(), v, ivar=t, ics=[0,0]) \n",
    "eq3 = v == sol2 \n",
    "print 'Equations avec conditions initiales :' \n",
    "show(eq3(t)) "
   ]
  },
  {
   "cell_type": "code",
   "execution_count": null,
   "metadata": {},
   "outputs": [],
   "source": []
  },
  {
   "cell_type": "code",
   "execution_count": null,
   "metadata": {},
   "outputs": [],
   "source": [
    "\n"
   ]
  },
  {
   "cell_type": "code",
   "execution_count": null,
   "metadata": {},
   "outputs": [],
   "source": []
  }
 ],
 "metadata": {
  "kernelspec": {
   "display_name": "SageMath 8.1",
   "language": "",
   "name": "sagemath"
  },
  "language_info": {
   "codemirror_mode": {
    "name": "ipython",
    "version": 2
   },
   "file_extension": ".py",
   "mimetype": "text/x-python",
   "name": "python",
   "nbconvert_exporter": "python",
   "pygments_lexer": "ipython2",
   "version": "2.7.15rc1"
  }
 },
 "nbformat": 4,
 "nbformat_minor": 2
}
