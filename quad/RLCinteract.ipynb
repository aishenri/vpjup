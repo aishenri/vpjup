{
 "cells": [
  {
   "cell_type": "code",
   "execution_count": 5,
   "metadata": {
    "collapsed": false,
    "deletable": true,
    "editable": true
   },
   "outputs": [
    {
     "ename": "SyntaxError",
     "evalue": "invalid syntax (<ipython-input-5-a7073accebc7>, line 25)",
     "output_type": "error",
     "traceback": [
      "\u001b[0;36m  File \u001b[0;32m\"<ipython-input-5-a7073accebc7>\"\u001b[0;36m, line \u001b[0;32m25\u001b[0m\n\u001b[0;31m    i_diff_list.append(i_diff_list[i]-dt*(R/L*i_diff_list[i]+Integer(1)/(L*C)*i_list[i])) vc_list.append(vc_list[i]+vc_diff_list[i]*dt) vc_diff_list.append(vc_diff_list[i]-dt*(R/L*vc_diff_list[i]+Integer(1)/(L*C)*(vc_list[i]-V_in)))\u001b[0m\n\u001b[0m                                                                                                ^\u001b[0m\n\u001b[0;31mSyntaxError\u001b[0m\u001b[0;31m:\u001b[0m invalid syntax\n"
     ]
    }
   ],
   "source": [
    "@interact(layout={'right': [['V_in'],['R'],['L'],['C'],['dt'],['i0'],['vc0'],['N'],['auto_update']]}) \n",
    "def funkcja(V_in=0, R=2, L=10, C=7, dt=0.01, i0 =0, vc0=10, N=5000, auto_update=False): \n",
    "    vr0=R*i0 \n",
    "    vl0 = V_in - vc0 - vr0 \n",
    "    i_diff0= vl0/L \n",
    "    vc_diff0=i0/C \n",
    "    t_list = [] \n",
    "    i_list = [] \n",
    "    i_diff_list = [] \n",
    "    vc_list = [] \n",
    "    vc_diff_list = [] \n",
    "    vr_list = [] \n",
    "    vr_diff_list = [] \n",
    "    vl_list = [] \n",
    "    vl_diff_list = [] \n",
    "    i_list.append(i0) \n",
    "    i_diff_list.append(i_diff0) \n",
    "    vc_list.append(vc0) \n",
    "    vc_diff_list.append(vc_diff0) \n",
    "    vr_list.append(vr0) \n",
    "    vl_list.append(vl0) \n",
    "    for i in range(N): \n",
    "        t_list.append(i*dt) \n",
    "        i_list.append(i_list[i]+dt*i_diff_list[i]) \n",
    "        i_diff_list.append(i_diff_list[i]-dt*(R/L*i_diff_list[i]+1/(L*C)*i_list[i])) vc_list.append(vc_list[i]+vc_diff_list[i]*dt) vc_diff_list.append(vc_diff_list[i]-dt*(R/L*vc_diff_list[i]+1/(L*C)*(vc_list[i]-V_in))) \n",
    "        vr_list.append(i_list[i]*R) \n",
    "        vl_list.append(L*i_diff_list[i]) \n",
    "    i_plot = list_plot(zip(t_list,i_list), \n",
    "                       size=1, legend_label='$i(t)$',\n",
    "                       axes_labels=['$t$','$ $'],\n",
    "                       frame=True, axes=false) \n",
    "    vc_plot = list_plot(zip(t_list,vc_list), \n",
    "                        color='red', size =1, \n",
    "                        legend_label='$V_C(t)$') \n",
    "    vr_plot = list_plot(zip(t_list,vr_list), \n",
    "                        color='green', size=1, \n",
    "                        legend_label='$V_R(t)$') \n",
    "    vl_plot = list_plot(zip(t_list,vl_list), \n",
    "                        color='orange', size=1, \n",
    "                        legend_label='$V_L(t)$') \n",
    "    print 'Wykres 3.' \n",
    "    show(i_plot+vc_plot+vr_plot+vl_plot) "
   ]
  },
  {
   "cell_type": "code",
   "execution_count": null,
   "metadata": {
    "collapsed": true,
    "deletable": true,
    "editable": true
   },
   "outputs": [],
   "source": []
  }
 ],
 "metadata": {
  "kernelspec": {
   "display_name": "SageMath 8.1",
   "language": "",
   "name": "sagemath"
  },
  "language_info": {
   "codemirror_mode": {
    "name": "ipython",
    "version": 2
   },
   "file_extension": ".py",
   "mimetype": "text/x-python",
   "name": "python",
   "nbconvert_exporter": "python",
   "pygments_lexer": "ipython2",
   "version": "2.7.14"
  }
 },
 "nbformat": 4,
 "nbformat_minor": 2
}
