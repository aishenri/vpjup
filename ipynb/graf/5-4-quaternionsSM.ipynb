{
 "cells": [
  {
   "cell_type": "code",
   "execution_count": null,
   "metadata": {},
   "outputs": [],
   "source": []
  },
  {
   "cell_type": "code",
   "execution_count": null,
   "metadata": {},
   "outputs": [],
   "source": [
    "#http://nbviewer.jupyter.org/github/sagemanifolds/SageManifolds/blob/master/Worksheets/v1.1/SM_sphere_S3_Hopf.ipynb\n",
    "def qprod(p,q):\n",
    "    if p in R4 and q in R4:\n",
    "        T1, X1, Y1, Z1 = X4(p)\n",
    "        T2, X2, Y2, Z2 = X4(q)\n",
    "        return R4(((T1*T2-X1*X2-Y1*Y2-Z1*Z2).simplify_full(),\n",
    "                   (T1*X2+X1*T2+Y1*Z2-Z1*Y2).simplify_full(),\n",
    "                   (T1*Y2-X1*Z2+Y1*T2+Z1*X2).simplify_full(),\n",
    "                   (T1*Z2+X1*Y2-Y1*X2+Z1*T2).simplify_full()))\n",
    "    if p in S3 and q in S3:\n",
    "        a = qprod(Phi(p),Phi(q))\n",
    "        if X4(a) == (-1,0,0,0):\n",
    "            return N\n",
    "        return ProjN(R4N(a))\n",
    "    raise ValueError(\"Cannot evaluate qprod of {} and {}\".format(p,q))"
   ]
  },
  {
   "cell_type": "code",
   "execution_count": 11,
   "metadata": {},
   "outputs": [],
   "source": [
    "S3 = Manifold(3, 'S^3', latex_name=r'\\mathbb{S}^3', start_index=1)\n",
    "U = S3.open_subset('U') ;V = S3.open_subset('V') \n",
    "S3.declare_union(U, V);stereoN.<x,y,z> = U.chart()\n",
    "stereoS.<xp,yp,zp> = V.chart(\"xp:x' yp:y' zp:z'\")\n",
    "r2 = x^2+y^2+z^2\n",
    "stereoN_to_S = stereoN.transition_map(stereoS, \n",
    "                                      (x/r2, y/r2, z/r2), \n",
    "                                      intersection_name='W',\n",
    "                                      restrictions1= x^2+y^2+z^2!=0, \n",
    "                                      restrictions2= xp^2+yp^2+zp^2!=0)\n",
    "R4 = Manifold(4, 'R^4', r'\\mathbb{R}^4')\n",
    "X4.<T,X,Y,Z> = R4.chart()\n",
    "rp2 = xp^2 + yp^2 + zp^2\n",
    "Phi = S3.diff_map(R4, {(stereoN, X4): \n",
    "                       [(1-r2)/(r2+1), 2*x/(r2+1), \n",
    "                        2*y/(r2+1), 2*z/(r2+1)],\n",
    "                       (stereoS, X4):\n",
    "                       [(rp2-1)/(rp2+1), 2*xp/(rp2+1), \n",
    "                        2*yp/(rp2+1), 2*zp/(rp2+1)]},\n",
    "                  name='Phi', latex_name=r'\\Phi')\n",
    "One = S3((0,0,0), chart=stereoN, name='1', latex_name=r'\\mathbf{1}')\n",
    "X4(Phi(One))\n",
    "R4N = R4.open_subset('R4N', latex_name=r'\\mathbb{R}^4_N', \n",
    "                     coord_def={X4: T!=-1})\n",
    "X4N = X4.restrict(R4N)"
   ]
  },
  {
   "cell_type": "code",
   "execution_count": 12,
   "metadata": {},
   "outputs": [
    {
     "data": {
      "text/plain": [
       "(-1, 0, 0, 0)"
      ]
     },
     "execution_count": 12,
     "metadata": {},
     "output_type": "execute_result"
    }
   ],
   "source": [
    "minusOne = S3((0,0,0), chart=stereoS, name='-1', latex_name=r'-\\mathbf{1}')\n",
    "X4(Phi(minusOne))"
   ]
  },
  {
   "cell_type": "code",
   "execution_count": 13,
   "metadata": {},
   "outputs": [
    {
     "data": {
      "text/plain": [
       "(0, 1, 0, 0)"
      ]
     },
     "execution_count": 13,
     "metadata": {},
     "output_type": "execute_result"
    }
   ],
   "source": [
    "I = S3((1,0,0), chart=stereoN, name='i', latex_name=r'\\mathbf{i}')\n",
    "X4(Phi(I))"
   ]
  },
  {
   "cell_type": "code",
   "execution_count": 14,
   "metadata": {},
   "outputs": [
    {
     "data": {
      "text/plain": [
       "(0, 0, 1, 0)"
      ]
     },
     "execution_count": 14,
     "metadata": {},
     "output_type": "execute_result"
    }
   ],
   "source": [
    "J = S3((0,1,0), chart=stereoN, name='j', latex_name=r'\\mathbf{j}')\n",
    "X4(Phi(J))"
   ]
  },
  {
   "cell_type": "code",
   "execution_count": 15,
   "metadata": {},
   "outputs": [
    {
     "data": {
      "text/plain": [
       "(0, 0, 0, 1)"
      ]
     },
     "execution_count": 15,
     "metadata": {},
     "output_type": "execute_result"
    }
   ],
   "source": [
    "K = S3((0,0,1), chart=stereoN, name='k', latex_name=r'\\mathbf{k}')\n",
    "X4(Phi(K))"
   ]
  },
  {
   "cell_type": "code",
   "execution_count": null,
   "metadata": {},
   "outputs": [],
   "source": []
  },
  {
   "cell_type": "code",
   "execution_count": null,
   "metadata": {},
   "outputs": [],
   "source": []
  }
 ],
 "metadata": {
  "kernelspec": {
   "display_name": "SageMath 8.1",
   "language": "",
   "name": "sagemath"
  },
  "language_info": {
   "codemirror_mode": {
    "name": "ipython",
    "version": 2
   },
   "file_extension": ".py",
   "mimetype": "text/x-python",
   "name": "python",
   "nbconvert_exporter": "python",
   "pygments_lexer": "ipython2",
   "version": "2.7.14"
  }
 },
 "nbformat": 4,
 "nbformat_minor": 2
}
