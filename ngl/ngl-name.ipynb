{
 "cells": [
  {
   "cell_type": "code",
   "execution_count": 1,
   "id": "violent-chinese",
   "metadata": {},
   "outputs": [
    {
     "data": {
      "application/vnd.jupyter.widget-view+json": {
       "model_id": "9a59eabd04f744e78aa577eb70b17877",
       "version_major": 2,
       "version_minor": 0
      },
      "text/plain": []
     },
     "metadata": {},
     "output_type": "display_data"
    },
    {
     "data": {
      "application/vnd.jupyter.widget-view+json": {
       "model_id": "fda9a39e66f146279857249666ab01d6",
       "version_major": 2,
       "version_minor": 0
      },
      "text/plain": [
       "NGLWidget()"
      ]
     },
     "metadata": {},
     "output_type": "display_data"
    }
   ],
   "source": [
    "import nglview as nv;\n",
    "view = nv.show_pdbid(\"1l2y\");\n",
    "view.clear_representations(\"cartoon\")\n",
    "view"
   ]
  },
  {
   "cell_type": "code",
   "execution_count": 2,
   "id": "coordinated-burke",
   "metadata": {},
   "outputs": [],
   "source": [
    "import nglview as nv\n",
    "view = nv.show_structure_file(nv.datafiles.PDB)"
   ]
  },
  {
   "cell_type": "code",
   "execution_count": 3,
   "id": "surrounded-latest",
   "metadata": {},
   "outputs": [],
   "source": [
    "view.clear_representations(\"licorice\")\n",
    "view.add_licorice('not hydrogen')"
   ]
  },
  {
   "cell_type": "code",
   "execution_count": 4,
   "id": "billion-prisoner",
   "metadata": {},
   "outputs": [],
   "source": [
    "view.clear_representations()\n",
    "view.add_licorice('not hydrogen', color='red')"
   ]
  },
  {
   "cell_type": "code",
   "execution_count": 5,
   "id": "interracial-breathing",
   "metadata": {
    "scrolled": true
   },
   "outputs": [
    {
     "data": {
      "application/vnd.jupyter.widget-view+json": {
       "model_id": "69f96b4451164d7cb6a96205b92b8bfe",
       "version_major": 2,
       "version_minor": 0
      },
      "text/plain": [
       "NGLWidget()"
      ]
     },
     "metadata": {},
     "output_type": "display_data"
    }
   ],
   "source": [
    "view.clear_representations(\"cartoon\")\n",
    "view.add_surface('A', opacity=0.3)\n",
    "view.add_licorice('not hydrogen');view"
   ]
  },
  {
   "cell_type": "code",
   "execution_count": 6,
   "id": "sapphire-registration",
   "metadata": {},
   "outputs": [
    {
     "data": {
      "application/vnd.jupyter.widget-view+json": {
       "model_id": "21b5ad27e1d341d082eeded98cec1668",
       "version_major": 2,
       "version_minor": 0
      },
      "text/plain": [
       "Image(value=b'', width='99%')"
      ]
     },
     "metadata": {},
     "output_type": "display_data"
    }
   ],
   "source": [
    "view.add_ball_and_stick()\n",
    "view.add_surface(opacity=0.3)\n",
    "view.render_image()"
   ]
  },
  {
   "cell_type": "code",
   "execution_count": 7,
   "id": "conservative-workshop",
   "metadata": {},
   "outputs": [
    {
     "data": {
      "image/png": "\n",
      "text/plain": [
       "<IPython.core.display.Image object>"
      ]
     },
     "execution_count": 7,
     "metadata": {},
     "output_type": "execute_result"
    }
   ],
   "source": [
    "view._display_image()"
   ]
  },
  {
   "cell_type": "code",
   "execution_count": 8,
   "id": "black-ensemble",
   "metadata": {},
   "outputs": [
    {
     "data": {
      "application/vnd.jupyter.widget-view+json": {
       "model_id": "69f96b4451164d7cb6a96205b92b8bfe",
       "version_major": 2,
       "version_minor": 0
      },
      "text/plain": [
       "NGLWidget()"
      ]
     },
     "metadata": {},
     "output_type": "display_data"
    }
   ],
   "source": [
    "view.add_representation('ball+stick',\n",
    "    selection='SER', color='gold')\n",
    "view.add_representation('not licorice',\n",
    "selection=[3, 8, 9, 11], color='red')\n",
    "view "
   ]
  },
  {
   "cell_type": "code",
   "execution_count": 9,
   "id": "utility-extent",
   "metadata": {
    "scrolled": true
   },
   "outputs": [
    {
     "data": {
      "application/vnd.jupyter.widget-view+json": {
       "model_id": "20cb0c42d70a4f8099b35aceea9e6f71",
       "version_major": 2,
       "version_minor": 0
      },
      "text/plain": [
       "NGLWidget()"
      ]
     },
     "metadata": {},
     "output_type": "display_data"
    }
   ],
   "source": [
    "import nglview as nv\n",
    "view = nv.show_pdbid(\"1qxb\");view"
   ]
  },
  {
   "cell_type": "code",
   "execution_count": 10,
   "id": "stunning-defendant",
   "metadata": {},
   "outputs": [
    {
     "data": {
      "application/vnd.jupyter.widget-view+json": {
       "model_id": "20cb0c42d70a4f8099b35aceea9e6f71",
       "version_major": 2,
       "version_minor": 0
      },
      "text/plain": [
       "NGLWidget()"
      ]
     },
     "metadata": {},
     "output_type": "display_data"
    }
   ],
   "source": [
    "view.clear_representations(\"cartoon\")\n",
    "view.add_representation('licorice',\n",
    "    selection='SER', color='gold')\n",
    "\n",
    "#view.add_representation('licorice',\n",
    "#selection=[8, 9, 11], color='red')\n",
    "view "
   ]
  },
  {
   "cell_type": "markdown",
   "id": "unlimited-auditor",
   "metadata": {},
   "source": [
    "#view.clear_representations()\n",
    "import nglview;view = nglview.show_pdbid(\"3pqr\");view"
   ]
  },
  {
   "cell_type": "code",
   "execution_count": 11,
   "id": "sonic-cooperation",
   "metadata": {},
   "outputs": [
    {
     "data": {
      "application/vnd.jupyter.widget-view+json": {
       "model_id": "20cb0c42d70a4f8099b35aceea9e6f71",
       "version_major": 2,
       "version_minor": 0
      },
      "text/plain": [
       "NGLWidget()"
      ]
     },
     "metadata": {},
     "output_type": "display_data"
    }
   ],
   "source": [
    "view.add_representation('ball+stick',\n",
    "            selection='protein')\n",
    "view.add_cartoon(selection=\"protein\")\n",
    "view.add_surface(selection=\"protein\", opacity=0.3)\n",
    "view.add_cartoon(selection=\"protein\", color='blue')\n",
    "view.add_licorice('ALA, GLU')\n",
    "view.clear_representations(\"cartoon\")\n",
    "view.update_cartoon(opacity=0.4, component=0)\n",
    "#view.remove_cartoon(opacity=0.4, component=0)\n",
    "#view = view.show_file('3qpr.pdb', default=False)\n",
    "view.center();view.add_rope();view"
   ]
  },
  {
   "cell_type": "code",
   "execution_count": 12,
   "id": "everyday-impact",
   "metadata": {},
   "outputs": [
    {
     "data": {
      "application/vnd.jupyter.widget-view+json": {
       "model_id": "20cb0c42d70a4f8099b35aceea9e6f71",
       "version_major": 2,
       "version_minor": 0
      },
      "text/plain": [
       "NGLWidget()"
      ]
     },
     "metadata": {},
     "output_type": "display_data"
    }
   ],
   "source": [
    "view.representations = [{\"type\":\"cartoon\",\"params\":{\n",
    "\"sele\":\"protein\",\"color\": \"residueindex\"}},{\n",
    "\"type\": \"ball+stick\",\"params\":{\"sele\": \"hetero\" }}]\n",
    "view"
   ]
  },
  {
   "cell_type": "code",
   "execution_count": 13,
   "id": "activated-sight",
   "metadata": {},
   "outputs": [
    {
     "data": {
      "application/vnd.jupyter.widget-view+json": {
       "model_id": "20cb0c42d70a4f8099b35aceea9e6f71",
       "version_major": 2,
       "version_minor": 0
      },
      "text/plain": [
       "NGLWidget()"
      ]
     },
     "metadata": {},
     "output_type": "display_data"
    }
   ],
   "source": [
    "initial_repr=[{\"type\":\"cartoon\",\"params\":{\n",
    "\"sele\":\"protein\", \"color\": \"sstruc\"}}]\n",
    "#view = nglview.NGLWidget(struc,\n",
    "#representation=initial_repr)\n",
    "view"
   ]
  },
  {
   "cell_type": "code",
   "execution_count": 14,
   "id": "false-universal",
   "metadata": {},
   "outputs": [
    {
     "data": {
      "application/vnd.jupyter.widget-view+json": {
       "model_id": "20cb0c42d70a4f8099b35aceea9e6f71",
       "version_major": 2,
       "version_minor": 0
      },
      "text/plain": [
       "NGLWidget()"
      ]
     },
     "metadata": {},
     "output_type": "display_data"
    }
   ],
   "source": [
    "view.add_representation(\"bdr\");view.remove_label()\n",
    "view.add_label(\"bdr\",radius=1,color=\"blue\",\n",
    " fontsize=10,label_type=\"atomname\")\n",
    "view"
   ]
  },
  {
   "cell_type": "code",
   "execution_count": 15,
   "id": "recreational-shelf",
   "metadata": {},
   "outputs": [
    {
     "name": "stdout",
     "output_type": "stream",
     "text": [
      "no trajectory available\n"
     ]
    }
   ],
   "source": [
    "view.frame = 100\n",
    "view.stage.set_parameters(**{\n",
    "    # \"percentages, \"dist\" is distance too camera in Angstrom\n",
    "    \"clipNear\": 0, \"clipFar\": 100, \"clipDist\": 10,\n",
    "    # percentages, start of fog and where on full effect\n",
    "    \"fogNear\": 0, \"fogFar\": 100,\n",
    "    # background color\n",
    "    \"backgroundColor\": \"white\",})"
   ]
  },
  {
   "cell_type": "code",
   "execution_count": 16,
   "id": "accepted-warner",
   "metadata": {},
   "outputs": [],
   "source": [
    "view.player.parameters = dict(delay=0.04, step=-1)\n",
    "view.camera = 'orthographic'\n",
    "view.background = 'white'"
   ]
  },
  {
   "cell_type": "code",
   "execution_count": 17,
   "id": "contained-fusion",
   "metadata": {},
   "outputs": [],
   "source": [
    "#view.add_trajectory(traj)"
   ]
  },
  {
   "cell_type": "code",
   "execution_count": 18,
   "id": "minus-frontier",
   "metadata": {},
   "outputs": [],
   "source": [
    "from __future__ import print_function\n",
    "import mdtraj as md\n",
    "#traj = md.load('ala2.h5');print(traj)"
   ]
  },
  {
   "cell_type": "code",
   "execution_count": 19,
   "id": "forward-tuner",
   "metadata": {},
   "outputs": [],
   "source": [
    "#view.add_trajectory(traj)\n",
    "#view.clear_representations(\"1l2y\") "
   ]
  },
  {
   "cell_type": "code",
   "execution_count": 21,
   "id": "documented-repeat",
   "metadata": {
    "scrolled": false
   },
   "outputs": [
    {
     "data": {
      "application/vnd.jupyter.widget-view+json": {
       "model_id": "20cb0c42d70a4f8099b35aceea9e6f71",
       "version_major": 2,
       "version_minor": 0
      },
      "text/plain": [
       "NGLWidget(n_components=1)"
      ]
     },
     "metadata": {},
     "output_type": "display_data"
    }
   ],
   "source": [
    "view.add_representation('ball+stick')#,\n",
    "#view.add_trajectory(traj)\n",
    "#selection=('traj')\n",
    "#view.add_representation('licorice',\n",
    "#selection=[8, 9, 11], color='red')\n",
    "view "
   ]
  },
  {
   "cell_type": "code",
   "execution_count": null,
   "id": "controlling-terry",
   "metadata": {},
   "outputs": [],
   "source": []
  }
 ],
 "metadata": {
  "kernelspec": {
   "display_name": "Python 3",
   "language": "python",
   "name": "python3"
  },
  "language_info": {
   "codemirror_mode": {
    "name": "ipython",
    "version": 3
   },
   "file_extension": ".py",
   "mimetype": "text/x-python",
   "name": "python",
   "nbconvert_exporter": "python",
   "pygments_lexer": "ipython3",
   "version": "3.9.4"
  }
 },
 "nbformat": 4,
 "nbformat_minor": 5
}
