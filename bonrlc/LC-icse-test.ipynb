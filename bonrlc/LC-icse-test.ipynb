{
 "cells": [
  {
   "cell_type": "code",
   "execution_count": 1,
   "metadata": {
    "collapsed": false,
    "deletable": true,
    "editable": true
   },
   "outputs": [
    {
     "data": {
      "text/html": [
       "<html><script type=\"math/tex; mode=display\">\\newcommand{\\Bold}[1]{\\mathbf{#1}}L \\frac{\\partial^{2}}{(\\partial t)^{2}}q\\left(t\\right) + \\frac{q\\left(t\\right)}{C} = 0</script></html>"
      ],
      "text/plain": [
       "L*diff(q(t), t, t) + q(t)/C == 0"
      ]
     },
     "execution_count": 1,
     "metadata": {},
     "output_type": "execute_result"
    }
   ],
   "source": [
    "%display latex\n",
    "t = var('t')\n",
    "var('L, C, t0, q0, I0')\n",
    "q = function('q')(t)\n",
    "assume(L>0)\n",
    "assume(C>0)\n",
    "assume(t>0)\n",
    "LC = L*diff(q,t,2)+q/C == 0;LC"
   ]
  },
  {
   "cell_type": "code",
   "execution_count": 2,
   "metadata": {
    "collapsed": false,
    "deletable": true,
    "editable": true
   },
   "outputs": [
    {
     "data": {
      "text/html": [
       "<html><script type=\"math/tex; mode=display\">\\newcommand{\\Bold}[1]{\\mathbf{#1}}K_{2} \\cos\\left(\\frac{t}{\\sqrt{C} \\sqrt{L}}\\right) + K_{1} \\sin\\left(\\frac{t}{\\sqrt{C} \\sqrt{L}}\\right)</script></html>"
      ],
      "text/plain": [
       "_K2*cos(t/(sqrt(C)*sqrt(L))) + _K1*sin(t/(sqrt(C)*sqrt(L)))"
      ]
     },
     "execution_count": 2,
     "metadata": {},
     "output_type": "execute_result"
    }
   ],
   "source": [
    "LC_0 = desolve(LC, q, ivar=t);LC_0"
   ]
  },
  {
   "cell_type": "code",
   "execution_count": 3,
   "metadata": {
    "collapsed": false,
    "deletable": true,
    "editable": true
   },
   "outputs": [],
   "source": [
    "q_LC = desolve(LC, q, ivar=t, ics=[t0,q0,I0])"
   ]
  },
  {
   "cell_type": "code",
   "execution_count": 4,
   "metadata": {
    "collapsed": false,
    "deletable": true,
    "editable": true
   },
   "outputs": [],
   "source": [
    "I=diff(q_LC, t, 1);UL = L*diff(I,t,1)\n"
   ]
  },
  {
   "cell_type": "code",
   "execution_count": 5,
   "metadata": {
    "collapsed": true,
    "deletable": true,
    "editable": true
   },
   "outputs": [],
   "source": [
    "qLC=q_LC.substitute(t0=0, q0=1e-6, I0=0, L=12e-2, C=1.5e-6);"
   ]
  },
  {
   "cell_type": "code",
   "execution_count": 6,
   "metadata": {
    "collapsed": false,
    "deletable": true,
    "editable": true
   },
   "outputs": [
    {
     "data": {
      "image/png": "[encoded data removed]",
      "text/plain": [
       "Graphics object consisting of 1 graphics primitive"
      ]
     },
     "metadata": {},
     "output_type": "display_data"
    }
   ],
   "source": [
    "show(plot(qLC, (0, 0.01),thickness=0.5),\n",
    "     figsize=4,gridlines=\"major\",\n",
    "     frame=True,fontsize=6,axes=False)"
   ]
  },
  {
   "cell_type": "code",
   "execution_count": 7,
   "metadata": {
    "collapsed": false,
    "deletable": true,
    "editable": true
   },
   "outputs": [],
   "source": [
    "#show(plot(Imax(L=L, C=C, R=R, E0=E0),(f,1e1,fmax), color='violet', figsize=8))"
   ]
  },
  {
   "cell_type": "code",
   "execution_count": 8,
   "metadata": {
    "collapsed": false,
    "deletable": true,
    "editable": true
   },
   "outputs": [
    {
     "name": "stderr",
     "output_type": "stream",
     "text": [
      "Widget Javascript not detected.  It may not be installed or enabled properly.\n"
     ]
    },
    {
     "data": {
      "application/vnd.jupyter.widget-view+json": {
       "model_id": "cebec1faf801439899166f44e44ad0ca"
      }
     },
     "metadata": {},
     "output_type": "display_data"
    }
   ],
   "source": [
    "@interact\n",
    "def _(t0=0, q0=1e-6, I0=0, L=slider(1e-3,1e0,0.01,10e-2),\n",
    "      C=slider(1e-6,1e-5,1e-7, 1.5e-6), tmax=1e-2):\n",
    "    show(plot(qLC(t0=t0, q0=q0, I0=I0, L=L, C=C),\n",
    "              (t,0,tmax),thickness=0.5, color='blue',axes=True,\n",
    "              figsize=3),gridlines=\"major\",frame=True,fontsize=6)"
   ]
  },
  {
   "cell_type": "code",
   "execution_count": null,
   "metadata": {
    "collapsed": false,
    "deletable": true,
    "editable": true
   },
   "outputs": [],
   "source": []
  },
  {
   "cell_type": "code",
   "execution_count": null,
   "metadata": {
    "collapsed": false,
    "deletable": true,
    "editable": true
   },
   "outputs": [],
   "source": []
  },
  {
   "cell_type": "code",
   "execution_count": null,
   "metadata": {
    "collapsed": true,
    "deletable": true,
    "editable": true
   },
   "outputs": [],
   "source": []
  }
 ],
 "metadata": {
  "kernelspec": {
   "display_name": "SageMath 8.1",
   "language": "",
   "name": "sagemath"
  },
  "language_info": {
   "codemirror_mode": {
    "name": "ipython",
    "version": 2
   },
   "file_extension": ".py",
   "mimetype": "text/x-python",
   "name": "python",
   "nbconvert_exporter": "python",
   "pygments_lexer": "ipython2",
   "version": "2.7.14"
  }
 },
 "nbformat": 4,
 "nbformat_minor": 2
}
