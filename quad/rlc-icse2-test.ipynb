{
 "cells": [
  {
   "cell_type": "code",
   "execution_count": 1,
   "metadata": {
    "collapsed": false,
    "deletable": true,
    "editable": true
   },
   "outputs": [],
   "source": [
    "%display latex\n",
    "var('t k b ') \n",
    "x = function('x')(t) \n",
    "DE2 = diff(x,t,t) == -2*x - 1/2*diff(x,t) \n",
    "u2 = desolve(DE2, x, ivar=t)"
   ]
  },
  {
   "cell_type": "code",
   "execution_count": 2,
   "metadata": {
    "collapsed": false,
    "deletable": true,
    "editable": true
   },
   "outputs": [
    {
     "data": {
      "text/html": [
       "<html><script type=\"math/tex; mode=display\">\\newcommand{\\Bold}[1]{\\mathbf{#1}}U = I {\\left(R + R_{w}\\right)}</script></html>"
      ],
      "text/plain": [
       "U == I*(R + R_w)"
      ]
     },
     "metadata": {},
     "output_type": "display_data"
    }
   ],
   "source": [
    "var('R,R_w,I,U,U_t') \n",
    "U_t = U==I*(R+R_w)\n",
    "show(U_t)"
   ]
  },
  {
   "cell_type": "code",
   "execution_count": 3,
   "metadata": {
    "collapsed": false,
    "deletable": true,
    "editable": true
   },
   "outputs": [
    {
     "data": {
      "text/html": [
       "<html><script type=\"math/tex; mode=display\">\\newcommand{\\Bold}[1]{\\mathbf{#1}}\\left[I = \\frac{U}{R + R_{w}}\\right]</script></html>"
      ],
      "text/plain": [
       "[I == U/(R + R_w)]"
      ]
     },
     "execution_count": 3,
     "metadata": {},
     "output_type": "execute_result"
    }
   ],
   "source": [
    "eq=solve(U_t,I);eq"
   ]
  },
  {
   "cell_type": "code",
   "execution_count": 4,
   "metadata": {
    "collapsed": false,
    "deletable": true,
    "editable": true
   },
   "outputs": [
    {
     "data": {
      "text/html": [
       "<html><script type=\"math/tex; mode=display\">\\newcommand{\\Bold}[1]{\\mathbf{#1}}I^{2} R</script></html>"
      ],
      "text/plain": [
       "I^2*R"
      ]
     },
     "execution_count": 4,
     "metadata": {},
     "output_type": "execute_result"
    }
   ],
   "source": [
    "P=R*I^2;P"
   ]
  },
  {
   "cell_type": "code",
   "execution_count": 5,
   "metadata": {
    "collapsed": false,
    "deletable": true,
    "editable": true
   },
   "outputs": [
    {
     "data": {
      "text/html": [
       "<html><script type=\"math/tex; mode=display\">\\newcommand{\\Bold}[1]{\\mathbf{#1}}\\frac{R U^{2}}{{\\left(R + R_{w}\\right)}^{2}}</script></html>"
      ],
      "text/plain": [
       "R*U^2/(R + R_w)^2"
      ]
     },
     "execution_count": 5,
     "metadata": {},
     "output_type": "execute_result"
    }
   ],
   "source": [
    "P1=P.substitute(eq[0]);P1"
   ]
  },
  {
   "cell_type": "code",
   "execution_count": 6,
   "metadata": {
    "collapsed": false,
    "deletable": true,
    "editable": true
   },
   "outputs": [
    {
     "data": {
      "text/html": [
       "<html><script type=\"math/tex; mode=display\">\\newcommand{\\Bold}[1]{\\mathbf{#1}}\\frac{U^{2}}{{\\left(R + R_{w}\\right)}^{2}} - \\frac{2 \\, R U^{2}}{{\\left(R + R_{w}\\right)}^{3}} = 0</script></html>"
      ],
      "text/plain": [
       "U^2/(R + R_w)^2 - 2*R*U^2/(R + R_w)^3 == 0"
      ]
     },
     "execution_count": 6,
     "metadata": {},
     "output_type": "execute_result"
    }
   ],
   "source": [
    "P1.diff(R)==0 "
   ]
  },
  {
   "cell_type": "code",
   "execution_count": 7,
   "metadata": {
    "collapsed": false,
    "deletable": true,
    "editable": true
   },
   "outputs": [
    {
     "data": {
      "text/html": [
       "<html><script type=\"math/tex; mode=display\">\\newcommand{\\Bold}[1]{\\mathbf{#1}}\\left[R = R_{w}\\right]</script></html>"
      ],
      "text/plain": [
       "[R == R_w]"
      ]
     },
     "execution_count": 7,
     "metadata": {},
     "output_type": "execute_result"
    }
   ],
   "source": [
    "solve(_, R) "
   ]
  },
  {
   "cell_type": "code",
   "execution_count": 8,
   "metadata": {
    "collapsed": false,
    "deletable": true,
    "editable": true
   },
   "outputs": [
    {
     "data": {
      "text/html": [
       "<html><script type=\"math/tex; mode=display\">\\newcommand{\\Bold}[1]{\\mathbf{#1}}-\\frac{4 \\, U^{2}}{{\\left(R + R_{w}\\right)}^{3}} + \\frac{6 \\, R U^{2}}{{\\left(R + R_{w}\\right)}^{4}}</script></html>"
      ],
      "text/plain": [
       "-4*U^2/(R + R_w)^3 + 6*R*U^2/(R + R_w)^4"
      ]
     },
     "execution_count": 8,
     "metadata": {},
     "output_type": "execute_result"
    }
   ],
   "source": [
    "P1.diff(R, 2) "
   ]
  },
  {
   "cell_type": "code",
   "execution_count": 9,
   "metadata": {
    "collapsed": false,
    "deletable": true,
    "editable": true
   },
   "outputs": [
    {
     "data": {
      "text/html": [
       "<html><script type=\"math/tex; mode=display\">\\newcommand{\\Bold}[1]{\\mathbf{#1}}-\\frac{U^{2}}{8 \\, R_{w}^{3}}</script></html>"
      ],
      "text/plain": [
       "-1/8*U^2/R_w^3"
      ]
     },
     "execution_count": 9,
     "metadata": {},
     "output_type": "execute_result"
    }
   ],
   "source": [
    "_.substitute(R==R_w)"
   ]
  },
  {
   "cell_type": "code",
   "execution_count": 10,
   "metadata": {
    "collapsed": false,
    "deletable": true,
    "editable": true
   },
   "outputs": [
    {
     "data": {
      "text/html": [
       "<html><script type=\"math/tex; mode=display\">\\newcommand{\\Bold}[1]{\\mathbf{#1}}\\left[\\left[0 < R_{w}, U \\neq 0\\right]\\right]</script></html>"
      ],
      "text/plain": [
       "[[0 < R_w, U != 0]]"
      ]
     },
     "execution_count": 10,
     "metadata": {},
     "output_type": "execute_result"
    }
   ],
   "source": [
    "solve(_<0, R_w) "
   ]
  },
  {
   "cell_type": "code",
   "execution_count": 11,
   "metadata": {
    "collapsed": false,
    "deletable": true,
    "editable": true
   },
   "outputs": [
    {
     "name": "stderr",
     "output_type": "stream",
     "text": [
      "/home/pc/sage/local/lib/python2.7/site-packages/matplotlib/font_manager.py:273: UserWarning: Matplotlib is building the font cache using fc-list. This may take a moment.\n",
      "  warnings.warn('Matplotlib is building the font cache using fc-list. This may take a moment.')\n"
     ]
    },
    {
     "data": {
      "image/png": "[encoded data removed]",
      "text/plain": [
       "Graphics object consisting of 3 graphics primitives"
      ]
     },
     "metadata": {},
     "output_type": "display_data"
    }
   ],
   "source": [
    "P2 = plot(P1.subs({U:1, R_w:2}),(R,0,10), color=\"red\",legend_label=r'$R_w=2$')\n",
    "P3 = plot(P1.subs({U:1, R_w:3}),(R,0,10), color=\"green\", legend_label=r'$R_w=3$')\n",
    "P4 = plot(P1.subs({U:1, R_w:4}),(R,0,10), color=\"blue\", legend_label=r'$R_w=4$')\n",
    "show(P2+P3+P4,figsize=4,frame=True,fontsize=8,axes=False)"
   ]
  },
  {
   "cell_type": "code",
   "execution_count": 12,
   "metadata": {
    "collapsed": false,
    "deletable": true,
    "editable": true
   },
   "outputs": [
    {
     "data": {
      "image/png": "[encoded data removed]",
      "text/plain": [
       "Graphics object consisting of 9 graphics primitives"
      ]
     },
     "metadata": {},
     "output_type": "display_data"
    }
   ],
   "source": [
    "P2l = P2 +line([(2,0),(2,0.15)], color=\"black\", thickness=0.5) +point((2, P1.subs({U:1, R_w:2, R:2}))) \n",
    "P3l = P3 +line([(3,0),(3,0.15)], color=\"black\", thickness=0.5) +point((3, P1.subs({U:1, R_w:3, R:3}))) \n",
    "P4l = P4 +line([(4,0),(4,0.15)], color=\"black\", thickness=0.5) +point((4, P1.subs({U:1, R_w:4, R:4}))) \n",
    "show(P2l+P3l+P4l,figsize=4,frame=True,fontsize=8,axes=False)"
   ]
  },
  {
   "cell_type": "code",
   "execution_count": 13,
   "metadata": {
    "collapsed": false,
    "deletable": true,
    "editable": true
   },
   "outputs": [
    {
     "data": {
      "text/html": [
       "<html><script type=\"math/tex; mode=display\">\\newcommand{\\Bold}[1]{\\mathbf{#1}}\\frac{U\\left(t\\right)}{C R} + \\frac{\\partial}{\\partial t}U\\left(t\\right) = 0</script></html>"
      ],
      "text/plain": [
       "U(t)/(C*R) + diff(U(t), t) == 0"
      ]
     },
     "metadata": {},
     "output_type": "display_data"
    }
   ],
   "source": [
    "var('C, R_o,R, t, U_0, U_in, omega') \n",
    "U = function('U')(t) \n",
    "R_0= U.diff()+U/(R*C)==0;show(R_0)"
   ]
  },
  {
   "cell_type": "code",
   "execution_count": 14,
   "metadata": {
    "collapsed": false,
    "deletable": true,
    "editable": true
   },
   "outputs": [
    {
     "data": {
      "text/html": [
       "<html><script type=\"math/tex; mode=display\">\\newcommand{\\Bold}[1]{\\mathbf{#1}}U_{0} e^{\\left(-\\frac{t}{C R}\\right)}</script></html>"
      ],
      "text/plain": [
       "U_0*e^(-t/(C*R))"
      ]
     },
     "execution_count": 14,
     "metadata": {},
     "output_type": "execute_result"
    }
   ],
   "source": [
    "sol = desolve(R_0, U, ivar=t, ics=[0, U_0]);sol"
   ]
  },
  {
   "cell_type": "code",
   "execution_count": 15,
   "metadata": {
    "collapsed": false,
    "deletable": true,
    "editable": true
   },
   "outputs": [
    {
     "data": {
      "image/png": "[encoded data removed]",
      "text/plain": [
       "Graphics object consisting of 1 graphics primitive"
      ]
     },
     "metadata": {},
     "output_type": "display_data"
    }
   ],
   "source": [
    "show(plot(sol.substitute({U_0:9, R:1, C:5}), 0, 20),\n",
    "     figsize=3,frame=True,axes=False,gridlines=\"minor\",\n",
    "    fontsize=8) "
   ]
  },
  {
   "cell_type": "code",
   "execution_count": 16,
   "metadata": {
    "collapsed": false,
    "deletable": true,
    "editable": true
   },
   "outputs": [
    {
     "data": {
      "text/html": [
       "<html><script type=\"math/tex; mode=display\">\\newcommand{\\Bold}[1]{\\mathbf{#1}}\\frac{U\\left(t\\right)}{C R} + \\frac{\\partial}{\\partial t}U\\left(t\\right) = \\sin\\left(\\omega t\\right)</script></html>"
      ],
      "text/plain": [
       "U(t)/(C*R) + diff(U(t), t) == sin(omega*t)"
      ]
     },
     "metadata": {},
     "output_type": "display_data"
    }
   ],
   "source": [
    "R_0= U.diff() + U/(R*C) == sin(omega*t)\n",
    "sol = desolve(R_0, U, ivar=t, ics=[0,U_0]);show(R_0)"
   ]
  },
  {
   "cell_type": "markdown",
   "metadata": {
    "deletable": true,
    "editable": true
   },
   "source": [
    "$i_R=\\frac{U_R}{R}$    (1)\n",
    "\n",
    "$V_L=L\\frac{di_L}{dt}$ (2)\n",
    "\n",
    "$i_C=C\\frac{dV_C}{dt}$ (3)\n",
    "\n",
    "<img src=\"RC.png\">\n",
    "\n",
    "$i_R$ + $i_C$ = 0\n",
    "\n",
    "$\\frac{V_C-V_in}{R}$ + $C\\frac{dV_C}{dt} = 0 $ \n",
    "\n",
    "$\\frac{v-V_in}{R}$ + $C\\frac{dv}{dt} = 0 $ "
   ]
  },
  {
   "cell_type": "code",
   "execution_count": null,
   "metadata": {
    "collapsed": false,
    "deletable": true,
    "editable": true
   },
   "outputs": [],
   "source": []
  },
  {
   "cell_type": "code",
   "execution_count": 17,
   "metadata": {
    "collapsed": false,
    "deletable": true,
    "editable": true
   },
   "outputs": [],
   "source": [
    "var('R, C, L, V_in');t = var('t') ;v = function('v')(t)"
   ]
  },
  {
   "cell_type": "code",
   "execution_count": 18,
   "metadata": {
    "collapsed": false,
    "deletable": true,
    "editable": true
   },
   "outputs": [
    {
     "name": "stdout",
     "output_type": "stream",
     "text": [
      "équation circuit RC:\n"
     ]
    },
    {
     "data": {
      "text/html": [
       "<html><script type=\"math/tex; mode=display\">\\newcommand{\\Bold}[1]{\\mathbf{#1}}C \\frac{\\partial}{\\partial t}v\\left(t\\right) - \\frac{V_{\\mathit{in}} - v\\left(t\\right)}{R} = 0</script></html>"
      ],
      "text/plain": [
       "C*diff(v(t), t) - (V_in - v(t))/R == 0"
      ]
     },
     "metadata": {},
     "output_type": "display_data"
    }
   ],
   "source": [
    "eq1 = (v-V_in)/R + C* diff(v,t) == 0 \n",
    "print 'équation circuit RC:' \n",
    "show(eq1) "
   ]
  },
  {
   "cell_type": "code",
   "execution_count": null,
   "metadata": {
    "collapsed": false,
    "deletable": true,
    "editable": true
   },
   "outputs": [],
   "source": []
  },
  {
   "cell_type": "code",
   "execution_count": null,
   "metadata": {
    "collapsed": false,
    "deletable": true,
    "editable": true
   },
   "outputs": [],
   "source": [
    "\n"
   ]
  },
  {
   "cell_type": "code",
   "execution_count": null,
   "metadata": {
    "collapsed": true,
    "deletable": true,
    "editable": true
   },
   "outputs": [],
   "source": []
  }
 ],
 "metadata": {
  "kernelspec": {
   "display_name": "SageMath 8.1",
   "language": "",
   "name": "sagemath"
  },
  "language_info": {
   "codemirror_mode": {
    "name": "ipython",
    "version": 2
   },
   "file_extension": ".py",
   "mimetype": "text/x-python",
   "name": "python",
   "nbconvert_exporter": "python",
   "pygments_lexer": "ipython2",
   "version": "2.7.14"
  }
 },
 "nbformat": 4,
 "nbformat_minor": 2
}
