{
 "cells": [
  {
   "cell_type": "code",
   "execution_count": 1,
   "id": "4cbf8ba5",
   "metadata": {
    "scrolled": false
   },
   "outputs": [
    {
     "data": {
      "application/vnd.jupyter.widget-view+json": {
       "model_id": "a119ed2db20145d6909cc823a5b5c6c5",
       "version_major": 2,
       "version_minor": 0
      },
      "text/plain": []
     },
     "metadata": {},
     "output_type": "display_data"
    },
    {
     "data": {
      "application/vnd.jupyter.widget-view+json": {
       "model_id": "9e0a51ccbacb4efc84cd73bad489520b",
       "version_major": 2,
       "version_minor": 0
      },
      "text/plain": [
       "NGLWidget()"
      ]
     },
     "metadata": {},
     "output_type": "display_data"
    }
   ],
   "source": [
    "import nglview;view=nglview.show_pdbid(\"1l2y\");\n",
    "view.clear_representations()\n",
    "view"
   ]
  },
  {
   "cell_type": "code",
   "execution_count": 2,
   "id": "2c86c768",
   "metadata": {},
   "outputs": [],
   "source": [
    "view.add_ball_and_stick(\"5\")\n",
    "view.add_licorice(\"5\");view.remove_label()\n",
    "view.add_label(\"5\",color=\"blue\",\n",
    "               label_type=\"atomname\")"
   ]
  },
  {
   "cell_type": "code",
   "execution_count": 3,
   "id": "3ce9a841",
   "metadata": {},
   "outputs": [
    {
     "data": {
      "application/vnd.jupyter.widget-view+json": {
       "model_id": "11d13d148e274e689899974e941877f0",
       "version_major": 2,
       "version_minor": 0
      },
      "text/plain": [
       "NGLWidget()"
      ]
     },
     "metadata": {},
     "output_type": "display_data"
    }
   ],
   "source": [
    "view=nglview.show_file(\"glycin.pdb\")\n",
    "view.add_licorice(\"GLY\");view.remove_label()\n",
    "view.add_label(\"GLY\",color=\"green\",\n",
    "               label_type=\"atomname\");\n",
    "view"
   ]
  },
  {
   "cell_type": "code",
   "execution_count": 4,
   "id": "7d0436f0",
   "metadata": {},
   "outputs": [
    {
     "data": {
      "application/vnd.jupyter.widget-view+json": {
       "model_id": "88238d3f8b7f4beba975ef588a6a04e6",
       "version_major": 2,
       "version_minor": 0
      },
      "text/plain": [
       "NGLWidget()"
      ]
     },
     "metadata": {},
     "output_type": "display_data"
    }
   ],
   "source": [
    "view=nglview.show_file(\"nuc.pdb\");view"
   ]
  },
  {
   "cell_type": "code",
   "execution_count": null,
   "id": "c79d449a",
   "metadata": {},
   "outputs": [],
   "source": []
  }
 ],
 "metadata": {
  "kernelspec": {
   "display_name": "Python 3 (ipykernel)",
   "language": "python",
   "name": "python3"
  },
  "language_info": {
   "codemirror_mode": {
    "name": "ipython",
    "version": 3
   },
   "file_extension": ".py",
   "mimetype": "text/x-python",
   "name": "python",
   "nbconvert_exporter": "python",
   "pygments_lexer": "ipython3",
   "version": "3.10.7"
  }
 },
 "nbformat": 4,
 "nbformat_minor": 5
}
