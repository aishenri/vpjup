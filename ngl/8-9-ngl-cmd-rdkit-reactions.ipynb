{
 "cells": [
  {
   "cell_type": "code",
   "execution_count": 1,
   "id": "8c413066",
   "metadata": {},
   "outputs": [
    {
     "data": {
      "application/vnd.jupyter.widget-view+json": {
       "model_id": "7226b4d45fa04518bd7c906400448c7f",
       "version_major": 2,
       "version_minor": 0
      },
      "text/plain": []
     },
     "metadata": {},
     "output_type": "display_data"
    },
    {
     "data": {
      "application/vnd.jupyter.widget-view+json": {
       "model_id": "c41fb26b69ee4fbea8fa9d5a6417e5e0",
       "version_major": 2,
       "version_minor": 0
      },
      "text/plain": [
       "NGLWidget()"
      ]
     },
     "metadata": {},
     "output_type": "display_data"
    }
   ],
   "source": [
    "import warnings;warnings.filterwarnings('ignore')\n",
    "from __future__ import print_function\n",
    "import pytraj as pt;import nglview as nv\n",
    "traj = pt.load('1crn.pdb');view = nv.show_pytraj(traj) \n",
    "view"
   ]
  },
  {
   "cell_type": "code",
   "execution_count": 2,
   "id": "fbd6c4cf",
   "metadata": {},
   "outputs": [
    {
     "data": {
      "application/vnd.jupyter.widget-view+json": {
       "model_id": "27ac22e88a5445c9a56ac48979f7254a",
       "version_major": 2,
       "version_minor": 0
      },
      "text/plain": [
       "NGLWidget()"
      ]
     },
     "metadata": {},
     "output_type": "display_data"
    }
   ],
   "source": [
    "view2 = nv.show_pytraj(traj)\n",
    "view2.add_representation('ball+stick')\n",
    "view2.add_representation('C', \n",
    "selection='not hydrogen and not chain A and B')\n",
    "view2"
   ]
  },
  {
   "cell_type": "code",
   "execution_count": 3,
   "id": "8d5ef275",
   "metadata": {},
   "outputs": [
    {
     "data": {
      "application/vnd.jupyter.widget-view+json": {
       "model_id": "27ac22e88a5445c9a56ac48979f7254a",
       "version_major": 2,
       "version_minor": 0
      },
      "text/plain": [
       "NGLWidget()"
      ]
     },
     "metadata": {},
     "output_type": "display_data"
    }
   ],
   "source": [
    "import nglview;view=nglview.show_pdbid(\"1l2y\");\n",
    "view2.clear_representations()\n",
    "view2.add_ball_and_stick(\"5\")\n",
    "view2.add_licorice(\"5\");view.remove_label()\n",
    "view2.add_label(\"5\",color=\"blue\",\n",
    "               label_type=\"atomname\")\n",
    "view2"
   ]
  },
  {
   "cell_type": "code",
   "execution_count": 4,
   "id": "acd71965",
   "metadata": {},
   "outputs": [
    {
     "data": {
      "application/vnd.jupyter.widget-view+json": {
       "model_id": "c7823787e35145e0860fff33ca89c37f",
       "version_major": 2,
       "version_minor": 0
      },
      "text/plain": [
       "NGLWidget()"
      ]
     },
     "metadata": {},
     "output_type": "display_data"
    }
   ],
   "source": [
    "import nglview\n",
    "view=nglview.show_file(\"glycin.pdb\")\n",
    "view.add_licorice(\"gly\");view.remove_label()\n",
    "view.add_label(\"gly\",color=\"green\",\n",
    "               label_type=\"atomname\");\n",
    "view"
   ]
  },
  {
   "cell_type": "code",
   "execution_count": 5,
   "id": "68ab78c6",
   "metadata": {},
   "outputs": [
    {
     "name": "stdout",
     "output_type": "stream",
     "text": [
      "            0  ALA N      N        -0.966    0.493    1.500\n",
      "            0  ALA CA     C         0.257    0.418    0.692\n",
      "            0  ALA C      C        -0.094    0.017   -0.716\n",
      "            0  ALA O      O        -1.056   -0.682   -0.923\n",
      "            0  ALA CB     C         1.204   -0.620    1.296\n",
      "            0  ALA OXT    O         0.661    0.439   -1.742\n",
      "            0  ALA H      H        -1.383   -0.425    1.482\n",
      "            0  ALA H2     H        -0.676    0.661    2.452\n",
      "            0  ALA HA     H         0.746    1.392    0.682\n",
      "            0  ALA HB1    H         1.459   -0.330    2.316\n",
      "            0  ALA HB2    H         0.715   -1.594    1.307\n",
      "            0  ALA HB3    H         2.113   -0.676    0.697\n",
      "            0  ALA HXT    H         0.435    0.182   -2.647\n"
     ]
    }
   ],
   "source": [
    "import biotite.structure as struc\n",
    "import biotite.structure.info as info\n",
    "import ammolite;PNG_SIZE = (300, 300)\n",
    "ala = info.residue(\"ALA\");print(ala)"
   ]
  },
  {
   "cell_type": "code",
   "execution_count": 6,
   "id": "7630d6c1",
   "metadata": {},
   "outputs": [
    {
     "data": {
      "application/vnd.jupyter.widget-view+json": {
       "model_id": "084a4e93a01a49689e54959c9684d8a5",
       "version_major": 2,
       "version_minor": 0
      },
      "text/plain": [
       "NGLWidget()"
      ]
     },
     "metadata": {},
     "output_type": "display_data"
    }
   ],
   "source": [
    "import nglview\n",
    "view=nglview.show_file(\"ALA.cif\")\n",
    "view.add_licorice(\"ala\");view.remove_label()\n",
    "view.add_label(\"ALA\",color=\"green\",\n",
    "               label_type=\"atomname\");\n",
    "view"
   ]
  },
  {
   "cell_type": "code",
   "execution_count": 7,
   "id": "680f65d1",
   "metadata": {},
   "outputs": [
    {
     "name": "stdout",
     "output_type": "stream",
     "text": [
      "\n",
      "     RDKit          2D\n",
      "\n",
      "  5  4  0  0  0  0  0  0  0  0999 V2000\n",
      "    0.0000    0.0000    0.0000 C   0  0  0  0  0  0  0  0  0  0  0  0\n",
      "    1.2990    0.7500    0.0000 C   0  0  0  0  0  0  0  0  0  0  0  0\n",
      "    1.2990    2.2500    0.0000 O   0  0  0  0  0  0  0  0  0  0  0  0\n",
      "    2.5981   -0.0000    0.0000 O   0  0  0  0  0  0  0  0  0  0  0  0\n",
      "   -1.2990    0.7500    0.0000 N   0  0  0  0  0  0  0  0  0  0  0  0\n",
      "  1  2  1  0\n",
      "  2  3  2  0\n",
      "  2  4  1  0\n",
      "  1  5  1  0\n",
      "M  END\n",
      "\n"
     ]
    }
   ],
   "source": [
    "from rdkit import Chem\n",
    "m2=Chem.MolFromSmiles(\"C(C(=O)O)N\")\n",
    "print(Chem.MolToMolBlock(m2))   "
   ]
  },
  {
   "cell_type": "code",
   "execution_count": 8,
   "id": "f95d7e89",
   "metadata": {},
   "outputs": [
    {
     "name": "stdout",
     "output_type": "stream",
     "text": [
      "Glycine\n",
      "     RDKit          2D\n",
      "\n",
      "  5  4  0  0  0  0  0  0  0  0999 V2000\n",
      "    0.0000    0.0000    0.0000 C   0  0  0  0  0  0  0  0  0  0  0  0\n",
      "    1.2990    0.7500    0.0000 C   0  0  0  0  0  0  0  0  0  0  0  0\n",
      "    1.2990    2.2500    0.0000 O   0  0  0  0  0  0  0  0  0  0  0  0\n",
      "    2.5981   -0.0000    0.0000 O   0  0  0  0  0  0  0  0  0  0  0  0\n",
      "   -1.2990    0.7500    0.0000 N   0  0  0  0  0  0  0  0  0  0  0  0\n",
      "  1  2  1  0\n",
      "  2  3  2  0\n",
      "  2  4  1  0\n",
      "  1  5  1  0\n",
      "M  END\n",
      "\n"
     ]
    }
   ],
   "source": [
    "m2.SetProp(\"_Name\",\"Glycine\")\n",
    "print(Chem.MolToMolBlock(m2))     "
   ]
  },
  {
   "cell_type": "code",
   "execution_count": 9,
   "id": "7fd6473f",
   "metadata": {},
   "outputs": [
    {
     "data": {
      "text/plain": [
       "0"
      ]
     },
     "execution_count": 9,
     "metadata": {},
     "output_type": "execute_result"
    }
   ],
   "source": [
    "from rdkit.Chem import AllChem\n",
    "m3 =Chem.AddHs(m2);AllChem.EmbedMolecule(m3,randomSeed=0xf00d) "
   ]
  },
  {
   "cell_type": "code",
   "execution_count": 10,
   "id": "1538235f",
   "metadata": {},
   "outputs": [
    {
     "name": "stdout",
     "output_type": "stream",
     "text": [
      "Glycine\n",
      "     RDKit          3D\n",
      "\n",
      " 10  9  0  0  0  0  0  0  0  0999 V2000\n",
      "   -0.5648   -0.3133   -0.4478 C   0  0  0  0  0  0  0  0  0  0  0  0\n",
      "    0.9109   -0.2849   -0.3025 C   0  0  0  0  0  0  0  0  0  0  0  0\n",
      "    1.6699   -0.8753   -1.1136 O   0  0  0  0  0  0  0  0  0  0  0  0\n",
      "    1.5299    0.3943    0.7358 O   0  0  0  0  0  0  0  0  0  0  0  0\n",
      "   -1.1176    0.4462    0.6255 N   0  0  0  0  0  0  0  0  0  0  0  0\n",
      "   -0.8960    0.1369   -1.4168 H   0  0  0  0  0  0  0  0  0  0  0  0\n",
      "   -0.8819   -1.3741   -0.4759 H   0  0  0  0  0  0  0  0  0  0  0  0\n",
      "    2.4667    0.7692    0.5503 H   0  0  0  0  0  0  0  0  0  0  0  0\n",
      "   -1.7740    1.1869    0.3654 H   0  0  0  0  0  0  0  0  0  0  0  0\n",
      "   -1.3431   -0.0858    1.4797 H   0  0  0  0  0  0  0  0  0  0  0  0\n",
      "  1  2  1  0\n",
      "  2  3  2  0\n",
      "  2  4  1  0\n",
      "  1  5  1  0\n",
      "  1  6  1  0\n",
      "  1  7  1  0\n",
      "  4  8  1  0\n",
      "  5  9  1  0\n",
      "  5 10  1  0\n",
      "M  END\n",
      "\n"
     ]
    }
   ],
   "source": [
    "print(Chem.MolToMolBlock(m3)) "
   ]
  },
  {
   "cell_type": "code",
   "execution_count": 11,
   "id": "4a9d5119",
   "metadata": {},
   "outputs": [
    {
     "name": "stdout",
     "output_type": "stream",
     "text": [
      "Glycine\n",
      "     RDKit          3D\n",
      "\n",
      "  5  4  0  0  0  0  0  0  0  0999 V2000\n",
      "   -0.5648   -0.3133   -0.4478 C   0  0  0  0  0  0  0  0  0  0  0  0\n",
      "    0.9109   -0.2849   -0.3025 C   0  0  0  0  0  0  0  0  0  0  0  0\n",
      "    1.6699   -0.8753   -1.1136 O   0  0  0  0  0  0  0  0  0  0  0  0\n",
      "    1.5299    0.3943    0.7358 O   0  0  0  0  0  0  0  0  0  0  0  0\n",
      "   -1.1176    0.4462    0.6255 N   0  0  0  0  0  0  0  0  0  0  0  0\n",
      "  1  2  1  0\n",
      "  2  3  2  0\n",
      "  2  4  1  0\n",
      "  1  5  1  0\n",
      "M  END\n",
      "\n"
     ]
    }
   ],
   "source": [
    "m3 = Chem.RemoveHs(m3);print(Chem.MolToMolBlock(m3))    "
   ]
  },
  {
   "cell_type": "code",
   "execution_count": 12,
   "id": "5c754005",
   "metadata": {},
   "outputs": [],
   "source": [
    "print(Chem.MolToMolBlock(m2),file=open('gly.mol','w+'))"
   ]
  },
  {
   "cell_type": "code",
   "execution_count": 13,
   "id": "68b66a03",
   "metadata": {},
   "outputs": [
    {
     "name": "stdout",
     "output_type": "stream",
     "text": [
      "6\n",
      "6\n",
      "8\n",
      "8\n",
      "7\n"
     ]
    }
   ],
   "source": [
    "m = Chem.MolFromSmiles(\"C(C(=O)O)N\")\n",
    "for atom in m.GetAtoms():\n",
    "    print(atom.GetAtomicNum())"
   ]
  },
  {
   "cell_type": "code",
   "execution_count": 14,
   "id": "f9e04e7b",
   "metadata": {},
   "outputs": [
    {
     "name": "stdout",
     "output_type": "stream",
     "text": [
      "SINGLE\n"
     ]
    }
   ],
   "source": [
    "print(m.GetBonds()[0].GetBondType())"
   ]
  },
  {
   "cell_type": "code",
   "execution_count": 15,
   "id": "8f5861d4",
   "metadata": {},
   "outputs": [
    {
     "data": {
      "text/plain": [
       "'C'"
      ]
     },
     "execution_count": 15,
     "metadata": {},
     "output_type": "execute_result"
    }
   ],
   "source": [
    "m.GetAtomWithIdx(0).GetSymbol()"
   ]
  },
  {
   "cell_type": "code",
   "execution_count": 16,
   "id": "be06675a",
   "metadata": {},
   "outputs": [
    {
     "data": {
      "text/plain": [
       "2"
      ]
     },
     "execution_count": 16,
     "metadata": {},
     "output_type": "execute_result"
    }
   ],
   "source": [
    "m.GetAtomWithIdx(0).GetExplicitValence()"
   ]
  },
  {
   "cell_type": "code",
   "execution_count": 17,
   "id": "9b4842b1",
   "metadata": {},
   "outputs": [
    {
     "data": {
      "text/plain": [
       "0"
      ]
     },
     "execution_count": 17,
     "metadata": {},
     "output_type": "execute_result"
    }
   ],
   "source": [
    "m.GetBondWithIdx(0).GetBeginAtomIdx()"
   ]
  },
  {
   "cell_type": "code",
   "execution_count": 18,
   "id": "9ce64d8f",
   "metadata": {},
   "outputs": [
    {
     "data": {
      "text/plain": [
       "1"
      ]
     },
     "execution_count": 18,
     "metadata": {},
     "output_type": "execute_result"
    }
   ],
   "source": [
    "m.GetBondWithIdx(0).GetEndAtomIdx()"
   ]
  },
  {
   "cell_type": "code",
   "execution_count": 19,
   "id": "ee4c8dba",
   "metadata": {},
   "outputs": [
    {
     "data": {
      "text/plain": [
       "rdkit.Chem.rdchem.BondType.SINGLE"
      ]
     },
     "execution_count": 19,
     "metadata": {},
     "output_type": "execute_result"
    }
   ],
   "source": [
    "m.GetBondBetweenAtoms(0,1).GetBondType()"
   ]
  },
  {
   "cell_type": "code",
   "execution_count": 20,
   "id": "f5b6892f",
   "metadata": {},
   "outputs": [
    {
     "data": {
      "text/plain": [
       "[6, 7]"
      ]
     },
     "execution_count": 20,
     "metadata": {},
     "output_type": "execute_result"
    }
   ],
   "source": [
    "atom = m.GetAtomWithIdx(0)\n",
    "[x.GetAtomicNum() for x in atom.GetNeighbors()]"
   ]
  },
  {
   "cell_type": "code",
   "execution_count": 21,
   "id": "b1316c56",
   "metadata": {},
   "outputs": [
    {
     "data": {
      "text/plain": [
       "1"
      ]
     },
     "execution_count": 21,
     "metadata": {},
     "output_type": "execute_result"
    }
   ],
   "source": [
    "len(atom.GetNeighbors()[-1].GetBonds())"
   ]
  },
  {
   "cell_type": "code",
   "execution_count": 22,
   "id": "beb7d011",
   "metadata": {},
   "outputs": [
    {
     "data": {
      "text/plain": [
       "5"
      ]
     },
     "execution_count": 22,
     "metadata": {},
     "output_type": "execute_result"
    }
   ],
   "source": [
    "m.GetNumAtoms()"
   ]
  },
  {
   "cell_type": "code",
   "execution_count": 23,
   "id": "1d5d01e8",
   "metadata": {},
   "outputs": [
    {
     "name": "stdout",
     "output_type": "stream",
     "text": [
      "            0  GLY N      N         1.931    0.090   -0.034\n",
      "            0  GLY CA     C         0.761   -0.799   -0.008\n",
      "            0  GLY C      C        -0.498    0.029   -0.005\n",
      "            0  GLY O      O        -0.429    1.235   -0.023\n",
      "            0  GLY OXT    O        -1.697   -0.574    0.018\n",
      "            0  GLY H      H         1.910    0.738    0.738\n",
      "            0  GLY H2     H         2.788   -0.442   -0.037\n",
      "            0  GLY HA2    H         0.772   -1.440   -0.889\n",
      "            0  GLY HA3    H         0.793   -1.415    0.891\n",
      "            0  GLY HXT    H        -2.477   -0.002    0.019\n"
     ]
    }
   ],
   "source": [
    "gli = info.residue(\"GLY\");print(gli)"
   ]
  },
  {
   "cell_type": "code",
   "execution_count": 24,
   "id": "fc5470be",
   "metadata": {},
   "outputs": [
    {
     "data": {
      "text/plain": [
       "10"
      ]
     },
     "execution_count": 24,
     "metadata": {},
     "output_type": "execute_result"
    }
   ],
   "source": [
    "m2 = Chem.AddHs(m);m2.GetNumAtoms()"
   ]
  },
  {
   "cell_type": "code",
   "execution_count": 25,
   "id": "1f70aa4d",
   "metadata": {},
   "outputs": [
    {
     "data": {
      "text/plain": [
       "5"
      ]
     },
     "execution_count": 25,
     "metadata": {},
     "output_type": "execute_result"
    }
   ],
   "source": [
    " m3 = Chem.RemoveHs(m2);m3.GetNumAtoms()"
   ]
  },
  {
   "cell_type": "code",
   "execution_count": 26,
   "id": "2b2f3fad",
   "metadata": {},
   "outputs": [
    {
     "data": {
      "text/plain": [
       "'c1ccncc1'"
      ]
     },
     "execution_count": 26,
     "metadata": {},
     "output_type": "execute_result"
    }
   ],
   "source": [
    "m = Chem.MolFromSmiles('c1ccncc1');import pickle   \n",
    "pkl = pickle.dumps(m);m2=pickle.loads(pkl)\n",
    "Chem.MolToSmiles(m2)"
   ]
  },
  {
   "cell_type": "code",
   "execution_count": 27,
   "id": "833ef7d5",
   "metadata": {},
   "outputs": [],
   "source": [
    "with Chem.SDMolSupplier('cdk2.sdf') as suppl:\n",
    "     ms = [x for x in suppl if x is not None]\n",
    "for m in ms: tmp=AllChem.Compute2DCoords(m)\n",
    "from rdkit.Chem import Draw\n",
    "Draw.MolToFile(ms[0],'cdk2_mol1.o.png')\n",
    "Draw.MolToFile(ms[1],'cdk2_mol2.o.png')"
   ]
  },
  {
   "cell_type": "code",
   "execution_count": 28,
   "id": "ad575154",
   "metadata": {},
   "outputs": [
    {
     "data": {
      "image/png": "[encoded data removed]",
      "text/plain": [
       "<rdkit.Chem.rdChemReactions.ChemicalReaction at 0x7fee8a32c220>"
      ]
     },
     "execution_count": 28,
     "metadata": {},
     "output_type": "execute_result"
    }
   ],
   "source": [
    "rxn = AllChem.ReactionFromSmarts(\n",
    "'[C:1](=[O:2])-[OD1].[N!H0:3]>>[C:1](=[O:2])[N:3]')\n",
    "rxn"
   ]
  },
  {
   "cell_type": "code",
   "execution_count": 29,
   "id": "792343c9",
   "metadata": {},
   "outputs": [
    {
     "data": {
      "text/plain": [
       "1"
      ]
     },
     "execution_count": 29,
     "metadata": {},
     "output_type": "execute_result"
    }
   ],
   "source": [
    "rxn.GetNumProductTemplates()"
   ]
  },
  {
   "cell_type": "code",
   "execution_count": 30,
   "id": "24938df0",
   "metadata": {},
   "outputs": [],
   "source": [
    "ps = rxn.RunReactants((Chem.MolFromSmiles('CC(=O)O'),Chem.MolFromSmiles('NC')))"
   ]
  },
  {
   "cell_type": "code",
   "execution_count": 31,
   "id": "eb40fcc3",
   "metadata": {},
   "outputs": [
    {
     "data": {
      "text/plain": [
       "'CNC(C)=O'"
      ]
     },
     "execution_count": 31,
     "metadata": {},
     "output_type": "execute_result"
    }
   ],
   "source": [
    "Chem.MolToSmiles(ps[0][0])"
   ]
  },
  {
   "cell_type": "code",
   "execution_count": 32,
   "id": "2d4f7ee7",
   "metadata": {},
   "outputs": [
    {
     "data": {
      "text/plain": [
       "2"
      ]
     },
     "execution_count": 32,
     "metadata": {},
     "output_type": "execute_result"
    }
   ],
   "source": [
    "ps = rxn.RunReactants((Chem.MolFromSmiles('C(COC(=O)O)C(=O)O'),Chem.MolFromSmiles('NC')))\n",
    "len(ps)"
   ]
  },
  {
   "cell_type": "code",
   "execution_count": 33,
   "id": "e7c5eff7",
   "metadata": {},
   "outputs": [
    {
     "data": {
      "text/plain": [
       "'CNC(=O)OCCC(=O)O'"
      ]
     },
     "execution_count": 33,
     "metadata": {},
     "output_type": "execute_result"
    }
   ],
   "source": [
    "Chem.MolToSmiles(ps[0][0])"
   ]
  },
  {
   "cell_type": "code",
   "execution_count": 34,
   "id": "bc5a8bdc",
   "metadata": {},
   "outputs": [
    {
     "data": {
      "text/plain": [
       "'CNC(=O)CCOC(=O)O'"
      ]
     },
     "execution_count": 34,
     "metadata": {},
     "output_type": "execute_result"
    }
   ],
   "source": [
    "Chem.MolToSmiles(ps[1][0])"
   ]
  },
  {
   "cell_type": "code",
   "execution_count": 35,
   "id": "d5e63036",
   "metadata": {},
   "outputs": [
    {
     "data": {
      "image/png": "[encoded data removed]",
      "text/plain": [
       "<rdkit.Chem.rdChemReactions.ChemicalReaction at 0x7fee890fb280>"
      ]
     },
     "execution_count": 35,
     "metadata": {},
     "output_type": "execute_result"
    }
   ],
   "source": [
    "from rdkit.Chem import Draw\n",
    "rxn = AllChem.ReactionFromSmarts('[cH:5]1[cH:6][c:7]2[cH:8][n:9][cH:10][cH:11][c:12]2[c:3]([cH:4]1)[C:2](=[O:1])O.[N-:13]=[N+:14]=[N-:15]>C(Cl)Cl.C(=O)(C(=O)Cl)Cl>[cH:5]1[cH:6][c:7]2[cH:8][n:9][cH:10][cH:11][c:12]2[c:3]([cH:4]1)[C:2](=[O:1])[N:13]=[N+:14]=[N-:15]',useSmiles=True)\n",
    "d2d = Draw.MolDraw2DCairo(800,300)\n",
    "d2d.DrawReaction(rxn)\n",
    "png = d2d.GetDrawingText()\n",
    "open('reaction1.o.png','wb+').write(png);rxn"
   ]
  },
  {
   "cell_type": "code",
   "execution_count": 36,
   "id": "91d7eaff",
   "metadata": {},
   "outputs": [
    {
     "data": {
      "image/png": "[encoded data removed]",
      "text/plain": [
       "<IPython.core.display.Image object>"
      ]
     },
     "execution_count": 36,
     "metadata": {},
     "output_type": "execute_result"
    }
   ],
   "source": [
    "from IPython.display import Image\n",
    "d2d = Draw.MolDraw2DCairo(800,300)\n",
    "d2d.DrawReaction(rxn,highlightByReactant=True)\n",
    "png = d2d.GetDrawingText()\n",
    "open('reaction1_highlight.o.png','wb+').write(png)\n",
    "Image(filename='reaction1_highlight.o.png')"
   ]
  },
  {
   "cell_type": "code",
   "execution_count": 37,
   "id": "59b3ca2a",
   "metadata": {},
   "outputs": [],
   "source": [
    "newRxn = AllChem.ReactionFromPNGString(png)\n",
    "#AllChem.ReactionToSmarts(newRxn)"
   ]
  },
  {
   "cell_type": "code",
   "execution_count": null,
   "id": "7d149e5e",
   "metadata": {},
   "outputs": [],
   "source": []
  }
 ],
 "metadata": {
  "kernelspec": {
   "display_name": "Python 3 (ipykernel)",
   "language": "python",
   "name": "python3"
  },
  "language_info": {
   "codemirror_mode": {
    "name": "ipython",
    "version": 3
   },
   "file_extension": ".py",
   "mimetype": "text/x-python",
   "name": "python",
   "nbconvert_exporter": "python",
   "pygments_lexer": "ipython3",
   "version": "3.10.7"
  }
 },
 "nbformat": 4,
 "nbformat_minor": 5
}
