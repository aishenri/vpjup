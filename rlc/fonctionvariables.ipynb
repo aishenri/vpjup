{
 "cells": [
  {
   "cell_type": "code",
   "execution_count": 14,
   "metadata": {
    "collapsed": false,
    "deletable": true,
    "editable": true
   },
   "outputs": [],
   "source": [
    "%display latex\n",
    "var('t') \n",
    "y = function('y')(t) \n",
    "P = function('P')(t) \n",
    "Q = function('Q')(t) \n",
    "DE = diff(y,t)==P*y+Q \n",
    "soln=desolve(DE,y,ivar=t) \n",
    "show(soln) "
   ]
  },
  {
   "cell_type": "code",
   "execution_count": 27,
   "metadata": {
    "collapsed": false,
    "deletable": true,
    "editable": true
   },
   "outputs": [
    {
     "data": {
      "text/html": [
       "<html><script type=\"math/tex; mode=display\">\\newcommand{\\Bold}[1]{\\mathbf{#1}}\\frac{\\partial}{\\partial t}y\\left(t\\right) = 2 \\, \\cos\\left(t\\right) - \\frac{1}{2} \\, y\\left(t\\right)</script></html>"
      ],
      "text/plain": [
       "diff(y(t), t) == 2*cos(t) - 1/2*y(t)"
      ]
     },
     "execution_count": 27,
     "metadata": {},
     "output_type": "execute_result"
    }
   ],
   "source": [
    "var('t,c') \n",
    "t0 = 0 \n",
    "# starting point for time \n",
    "t1 = 3 \n",
    "# ending point for time\n",
    "y0 = 1 \n",
    "# starting y-value \n",
    "y = function('y')(t) \n",
    "P = function('P')(t) \n",
    "Q = function('Q')(t) \n",
    "P = -1/2 \n",
    "Q = 2*cos(t)\n",
    "DE = diff(y,t)==P*y+Q \n",
    "soln=desolve(DE,y,ivar=t,ics=[t0,y0]) \n",
    "show(soln.expand()) "
   ]
  },
  {
   "cell_type": "code",
   "execution_count": 38,
   "metadata": {
    "collapsed": false,
    "deletable": true,
    "editable": true
   },
   "outputs": [
    {
     "data": {
      "image/png": "[encoded data removed]",
      "text/plain": [
       "<matplotlib.figure.Figure object at 0x7fb2d93de590>"
      ]
     },
     "metadata": {},
     "output_type": "display_data"
    }
   ],
   "source": [
    "%matplotlib inline\n",
    "import numpy\n",
    "from matplotlib.pyplot import *\n",
    "\n",
    "R=7.0\n",
    "L=0.25e-3\n",
    "C=68e-9\n",
    "Us=12.0\n",
    "f0=1.0/(2*pi*sqrt(L*C))\n",
    "Q = 1.0/R*sqrt(L/C)\n",
    "def courant(f):\n",
    "    w=2*pi*f\n",
    "    return Us/(R+1j*L*w+1/(1j*C*w))\n",
    "freq = numpy.linspace(start=10000,\n",
    "                    stop=200000,num=1000)\n",
    "I=abs(courant(freq));\n",
    "figure()\n",
    "plot(freq/1000,I)\n",
    "xlabel(\"$f_0 (kHz)$\")\n",
    "ylabel(\"$I (A)$\")\n",
    "axis([0,100,0,2])\n",
    "grid()  "
   ]
  },
  {
   "cell_type": "code",
   "execution_count": 17,
   "metadata": {
    "collapsed": false,
    "deletable": true,
    "editable": true
   },
   "outputs": [
    {
     "name": "stdout",
     "output_type": "stream",
     "text": [
      "121267.812518166/pi\n"
     ]
    }
   ],
   "source": [
    "print(f0)"
   ]
  },
  {
   "cell_type": "code",
   "execution_count": 18,
   "metadata": {
    "collapsed": false,
    "deletable": true,
    "editable": true
   },
   "outputs": [
    {
     "name": "stdout",
     "output_type": "stream",
     "text": [
      "8.66198660844046\n"
     ]
    }
   ],
   "source": [
    "print(Q)"
   ]
  },
  {
   "cell_type": "code",
   "execution_count": 19,
   "metadata": {
    "collapsed": false,
    "deletable": true,
    "editable": true
   },
   "outputs": [
    {
     "data": {
      "image/png": "[encoded data removed]",
      "text/plain": [
       "<matplotlib.figure.Figure object at 0x7fb2d8fca510>"
      ]
     },
     "metadata": {},
     "output_type": "display_data"
    }
   ],
   "source": [
    "figure()\n",
    "plot(freq/1000,I)\n",
    "xlabel(\"f (kHz)\")\n",
    "ylabel(\"I (A)\")\n",
    "yscale('log')\n",
    "grid()"
   ]
  },
  {
   "cell_type": "markdown",
   "metadata": {
    "deletable": true,
    "editable": true
   },
   "source": [
    "Sur cet exemple, l'harmonique de rang 3 est réduite d'un facteur 20 environ par rapport au fondamental, ce qui permet d'obtenir un courant quasi-sinusoïdal. Pour le chauffage par induction, il n'est pas important que le courant soit parfaitement sinusoïdal, mais pour une faire une étude expérimentale du chauffage, il est préférable d'avoir une forme quasi-sinusoïdale. Par ailleurs, des hautes fréquences dans le champ de la bobine apportent des perturbations électromagnétiques dans l'environnement, et sont donc à éviter.\n",
    "\n",
    "La résistance R doit être choisie pour que le courant à la résonance ne dépasse pas le courant maximal que le générateur peut fournir en mode de stabilisation en tension. Nous avons utilisé une alimentation pouvant en principe fournir jusqu'à 3 A en continu pour une tension jusqu'à 30 V. La résistance de 7 Ω permet de limiter le courant de crête à 1,7 A lorsque la tension d'alimentation est de 12 V. Pour augmenter encore ce courant, on peut augmenter la tension d'alimentation.\n",
    "\n",
    "Cette méthode d'alimentation n'est pas très efficace en terme de conversion d'énergie, puisque la résistance R dissipe une énergie importante. La valeur efficace du courant est ici de l'ordre de 1 A, soit une puissance dissipée dans la résistance de l'ordre de 10 W.\n",
    "\n",
    "Une autre grandeur importante est la tension aux bornes du condensateur :\n",
    "\n",
    "VC=Us1-LCω2+jRCω=Uc1-f2f02+j1Qff0"
   ]
  },
  {
   "cell_type": "code",
   "execution_count": 22,
   "metadata": {
    "collapsed": false,
    "deletable": true,
    "editable": true
   },
   "outputs": [
    {
     "data": {
      "image/png": "[encoded data removed]",
      "text/plain": [
       "<matplotlib.figure.Figure object at 0x7fb2d93a9250>"
      ]
     },
     "metadata": {},
     "output_type": "display_data"
    }
   ],
   "source": [
    "def tensionC(f):\n",
    "    w=2*pi*f\n",
    "    return Us/(1-L*C*w^2+1j*R*C*w)\n",
    "uc = abs(tensionC(freq))\n",
    "figure()\n",
    "plot(freq/1000,uc)\n",
    "xlabel(\"f (kHz)\")\n",
    "ylabel(\"Uc (V)\")\n",
    "axis([0,100,0,150])\n",
    "grid()"
   ]
  },
  {
   "cell_type": "markdown",
   "metadata": {
    "deletable": true,
    "editable": true
   },
   "source": [
    "L'amplitude de la tension aux bornes du condensateur atteint 100 V, ce qui est une conséquence du facteur de qualité élevé. Cette valeur de tension est au dessus de la limite de sécurité de 50 V pour les tensions alternatives 50 Hz. Il s'agit cependant d'une fréquence élevée, pour laquelle les dangers ne sont pas du tout les mêmes qu'à 50 Hz, et sont encore mal connus. À cette fréquence, il y a probablement moins de risque d'électrisation profonde avec atteinte cardiaque, mais le risque de brûlure est augmenté. Quoi qu'il en soit, on ne doit pas toucher le circuit pendant son fonctionnement.\n",
    "\n",
    "En présence d'un induit dans la bobine (la pièce métallique à chauffer), le schéma électrique doit être modifié. Une première approche consiste à placer une résistance en parallèle avec l'inductance, pour représenter les pertes par effet Joule dans l'induit "
   ]
  },
  {
   "cell_type": "code",
   "execution_count": 24,
   "metadata": {
    "collapsed": false,
    "deletable": true,
    "editable": true
   },
   "outputs": [
    {
     "data": {
      "image/png": "[encoded data removed]",
      "text/plain": [
       "<matplotlib.figure.Figure object at 0x7fb2d933c190>"
      ]
     },
     "metadata": {},
     "output_type": "display_data"
    }
   ],
   "source": [
    "Rp=500.0\n",
    "def courantAvecInduit(f):\n",
    "    w=2*numpy.pi*f\n",
    "    return Us/(R+1.0/(1.0/(1j*L*w)+1.0/Rp)+1/(1j*C*w))\n",
    "freq = numpy.linspace(start=10000,stop=200000,num=1000)\n",
    "I=numpy.absolute(courantAvecInduit(freq))\n",
    "figure()\n",
    "plot(freq/1000,I)\n",
    "xlabel(\"f (kHz)\")\n",
    "ylabel(\"I (A)\")\n",
    "axis([0,100,0,2])\n",
    "grid()          "
   ]
  },
  {
   "cell_type": "markdown",
   "metadata": {
    "deletable": true,
    "editable": true
   },
   "source": [
    "Nous avons choisi la valeur de la résistance Rp pour que le courant à la résonance soit réduit d'un facteur deux environ. "
   ]
  },
  {
   "cell_type": "code",
   "execution_count": 25,
   "metadata": {
    "collapsed": false,
    "deletable": true,
    "editable": true
   },
   "outputs": [
    {
     "data": {
      "image/png": "[encoded data removed]",
      "text/plain": [
       "<matplotlib.figure.Figure object at 0x7fb2d9393c90>"
      ]
     },
     "metadata": {},
     "output_type": "display_data"
    }
   ],
   "source": [
    "def tensionCavecInduit(f):\n",
    "    w=2*numpy.pi*f\n",
    "    return Us/(1+1j*C*w*1/(1/(1j*L*w)+1/Rp)+1j*R*C*w)\n",
    "uc = numpy.absolute(tensionCavecInduit(freq))\n",
    "figure()\n",
    "plot(freq/1000,uc)\n",
    "xlabel(\"f (kHz)\")\n",
    "ylabel(\"Uc (V)\")\n",
    "axis([0,100,0,150])\n",
    "grid()"
   ]
  },
  {
   "cell_type": "code",
   "execution_count": 37,
   "metadata": {
    "collapsed": false,
    "deletable": true,
    "editable": true
   },
   "outputs": [
    {
     "data": {
      "text/html": [
       "<html><script type=\"math/tex; mode=display\">\\newcommand{\\Bold}[1]{\\mathbf{#1}}\\frac{12.0000000000000}{0.000250000000000000i \\, w - \\frac{1.47058823529412 \\times 10^{7}i}{w} + 7.00000000000000}</script></html>"
      ],
      "text/plain": [
       "12.0000000000000/(0.000250000000000000*I*w - 1.47058823529412e7*I/w + 7.00000000000000)"
      ]
     },
     "execution_count": 37,
     "metadata": {},
     "output_type": "execute_result"
    }
   ],
   "source": [
    "var(\"w\")\n",
    "Us/(R+1j*L*w+1/(1j*C*w))"
   ]
  },
  {
   "cell_type": "code",
   "execution_count": null,
   "metadata": {
    "collapsed": true
   },
   "outputs": [],
   "source": []
  },
  {
   "cell_type": "code",
   "execution_count": null,
   "metadata": {
    "collapsed": true
   },
   "outputs": [],
   "source": []
  }
 ],
 "metadata": {
  "kernelspec": {
   "display_name": "SageMath 8.1",
   "language": "",
   "name": "sagemath"
  },
  "language_info": {
   "codemirror_mode": {
    "name": "ipython",
    "version": 2
   },
   "file_extension": ".py",
   "mimetype": "text/x-python",
   "name": "python",
   "nbconvert_exporter": "python",
   "pygments_lexer": "ipython2",
   "version": "2.7.14"
  }
 },
 "nbformat": 4,
 "nbformat_minor": 2
}
