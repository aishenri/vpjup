{
 "cells": [
  {
   "cell_type": "code",
   "execution_count": 1,
   "id": "0d27d9e0",
   "metadata": {},
   "outputs": [
    {
     "data": {
      "text/html": [
       "<style type=\"text/css\">\n",
       "table.dataframe td, table.dataframe th{border: 1px \n",
       "black solid ! important;color:black !important;}\n"
      ],
      "text/plain": [
       "<IPython.core.display.HTML object>"
      ]
     },
     "metadata": {},
     "output_type": "display_data"
    }
   ],
   "source": [
    "%%HTML\n",
    "<style type=\"text/css\">\n",
    "table.dataframe td, table.dataframe th{border: 1px \n",
    "black solid ! important;color:black !important;}"
   ]
  },
  {
   "cell_type": "code",
   "execution_count": 2,
   "id": "24f2e1ab",
   "metadata": {},
   "outputs": [
    {
     "data": {
      "application/3dmoljs_load.v0": "<div id=\"3dmolviewer_16648289066361713\"  style=\"position: relative; width: 300px; height: 300px\">\n        <p id=\"3dmolwarning_16648289066361713\" style=\"background-color:#ffcccc;color:black\">You appear to be running in JupyterLab (or JavaScript failed to load for some other reason).  You need to install the 3dmol extension: <br>\n        <tt>jupyter labextension install jupyterlab_3dmol</tt></p>\n        </div>\n<script>\n\nvar loadScriptAsync = function(uri){\n  return new Promise((resolve, reject) => {\n    var tag = document.createElement('script');\n    tag.src = uri;\n    tag.async = true;\n    tag.onload = () => {\n      resolve();\n    };\n  var firstScriptTag = document.getElementsByTagName('script')[0];\n  firstScriptTag.parentNode.insertBefore(tag, firstScriptTag);\n});\n};\n\nif(typeof $3Dmolpromise === 'undefined') {\n$3Dmolpromise = null;\n  $3Dmolpromise = loadScriptAsync('https://3dmol.org/build/3Dmol.js');\n}\n\nvar viewer_16648289066361713 = null;\nvar warn = document.getElementById(\"3dmolwarning_16648289066361713\");\nif(warn) {\n    warn.parentNode.removeChild(warn);\n}\n$3Dmolpromise.then(function() {\nviewer_16648289066361713 = $3Dmol.createViewer($(\"#3dmolviewer_16648289066361713\"),{backgroundColor:\"white\"});\n$3Dmol.download(\"cid:750\", viewer_16648289066361713, {}, function() {\nviewer_16648289066361713.zoomTo();\n\tviewer_16648289066361713.setStyle({\"stick\": {\"radius\": 0.05}, \"sphere\": {\"scale\": 0.25}});\nviewer_16648289066361713.render();\n})\n});\n</script>",
      "text/html": [
       "<div id=\"3dmolviewer_16648289066361713\"  style=\"position: relative; width: 300px; height: 300px\">\n",
       "        <p id=\"3dmolwarning_16648289066361713\" style=\"background-color:#ffcccc;color:black\">You appear to be running in JupyterLab (or JavaScript failed to load for some other reason).  You need to install the 3dmol extension: <br>\n",
       "        <tt>jupyter labextension install jupyterlab_3dmol</tt></p>\n",
       "        </div>\n",
       "<script>\n",
       "\n",
       "var loadScriptAsync = function(uri){\n",
       "  return new Promise((resolve, reject) => {\n",
       "    var tag = document.createElement('script');\n",
       "    tag.src = uri;\n",
       "    tag.async = true;\n",
       "    tag.onload = () => {\n",
       "      resolve();\n",
       "    };\n",
       "  var firstScriptTag = document.getElementsByTagName('script')[0];\n",
       "  firstScriptTag.parentNode.insertBefore(tag, firstScriptTag);\n",
       "});\n",
       "};\n",
       "\n",
       "if(typeof $3Dmolpromise === 'undefined') {\n",
       "$3Dmolpromise = null;\n",
       "  $3Dmolpromise = loadScriptAsync('https://3dmol.org/build/3Dmol.js');\n",
       "}\n",
       "\n",
       "var viewer_16648289066361713 = null;\n",
       "var warn = document.getElementById(\"3dmolwarning_16648289066361713\");\n",
       "if(warn) {\n",
       "    warn.parentNode.removeChild(warn);\n",
       "}\n",
       "$3Dmolpromise.then(function() {\n",
       "viewer_16648289066361713 = $3Dmol.createViewer($(\"#3dmolviewer_16648289066361713\"),{backgroundColor:\"white\"});\n",
       "$3Dmol.download(\"cid:750\", viewer_16648289066361713, {}, function() {\n",
       "viewer_16648289066361713.zoomTo();\n",
       "\tviewer_16648289066361713.setStyle({\"stick\": {\"radius\": 0.05}, \"sphere\": {\"scale\": 0.25}});\n",
       "viewer_16648289066361713.render();\n",
       "})\n",
       "});\n",
       "</script>"
      ]
     },
     "metadata": {},
     "output_type": "display_data"
    },
    {
     "data": {
      "text/plain": [
       "<py3Dmol.view at 0x7fee7d6bd270>"
      ]
     },
     "execution_count": 2,
     "metadata": {},
     "output_type": "execute_result"
    }
   ],
   "source": [
    "import py3Dmol;import pubchempy as pcp\n",
    "gly=pcp.get_compounds(\n",
    "'gly', 'name')[0]\n",
    "x=py3Dmol.view(query='cid:{}'.format(\n",
    "gly.cid), width=300,\n",
    "height=300).setStyle({'stick': {\n",
    "'radius': .05},'sphere': {'scale': 0.25}});x"
   ]
  },
  {
   "cell_type": "code",
   "execution_count": 3,
   "id": "623a2efd",
   "metadata": {},
   "outputs": [
    {
     "data": {
      "text/html": [
       "<div>\n",
       "<style scoped>\n",
       "    .dataframe tbody tr th:only-of-type {\n",
       "        vertical-align: middle;\n",
       "    }\n",
       "\n",
       "    .dataframe tbody tr th {\n",
       "        vertical-align: top;\n",
       "    }\n",
       "\n",
       "    .dataframe thead th {\n",
       "        text-align: right;\n",
       "    }\n",
       "</style>\n",
       "<table border=\"1\" class=\"dataframe\">\n",
       "  <thead>\n",
       "    <tr style=\"text-align: right;\">\n",
       "      <th></th>\n",
       "      <th>iupac_name</th>\n",
       "      <th>molecular_formula</th>\n",
       "      <th>canonical_smiles</th>\n",
       "      <th>inchi</th>\n",
       "    </tr>\n",
       "    <tr>\n",
       "      <th>cid</th>\n",
       "      <th></th>\n",
       "      <th></th>\n",
       "      <th></th>\n",
       "      <th></th>\n",
       "    </tr>\n",
       "  </thead>\n",
       "  <tbody>\n",
       "    <tr>\n",
       "      <th>750</th>\n",
       "      <td>2-aminoacetic acid</td>\n",
       "      <td>C2H5NO2</td>\n",
       "      <td>C(C(=O)O)N</td>\n",
       "      <td>InChI=1S/C2H5NO2/c3-1-2(4)5/h1,3H2,(H,4,5)</td>\n",
       "    </tr>\n",
       "  </tbody>\n",
       "</table>\n",
       "</div>"
      ],
      "text/plain": [
       "             iupac_name molecular_formula canonical_smiles  \\\n",
       "cid                                                          \n",
       "750  2-aminoacetic acid           C2H5NO2       C(C(=O)O)N   \n",
       "\n",
       "                                          inchi  \n",
       "cid                                              \n",
       "750  InChI=1S/C2H5NO2/c3-1-2(4)5/h1,3H2,(H,4,5)  "
      ]
     },
     "execution_count": 3,
     "metadata": {},
     "output_type": "execute_result"
    }
   ],
   "source": [
    "glydf= pcp.get_compounds('GLY', 'name', as_dataframe=True)[:3]\n",
    "glydf[['iupac_name', 'molecular_formula', 'canonical_smiles', 'inchi']]"
   ]
  },
  {
   "cell_type": "code",
   "execution_count": 4,
   "id": "e77a5c86",
   "metadata": {},
   "outputs": [
    {
     "name": "stdout",
     "output_type": "stream",
     "text": [
      "PyMOL>fetch gly\n",
      " ExecutiveLoad-Detail: Detected chem_comp CIF (.pdbx_model_Cartn_{x,y,z}_ideal)\n",
      " CmdLoad: \"./gly.cif\" loaded as \"gly\".\n"
     ]
    }
   ],
   "source": [
    "from IPython.display import Image\n",
    "import pymol;from pymol import cmd\n",
    "cmd.do(\"fetch gly\")"
   ]
  },
  {
   "cell_type": "code",
   "execution_count": 5,
   "id": "0d69d189",
   "metadata": {},
   "outputs": [
    {
     "name": "stdout",
     "output_type": "stream",
     "text": [
      "PyMOL>reinitialize;fetch gly;show cartoon;center;set label_size,12;viewport 100,100;\n",
      " ExecutiveLoad-Detail: Detected chem_comp CIF (.pdbx_model_Cartn_{x,y,z}_ideal)\n",
      " CmdLoad: \"./gly.cif\" loaded as \"gly\".\n",
      " Setting: label_size set to 12.00000.\n",
      " Ray: render time: 0.01 sec. = 545285.3 frames/hour (0.01 sec. accum.).\n"
     ]
    },
    {
     "data": {
      "image/png": "[encoded data removed]",
      "text/plain": [
       "<IPython.core.display.Image object>"
      ]
     },
     "execution_count": 5,
     "metadata": {},
     "output_type": "execute_result"
    }
   ],
   "source": [
    "cmd.do(\"reinitialize;fetch gly;show cartoon;\\\n",
    "center;set label_size,12;viewport 100,100;\")\n",
    "cmd.png('1l2y.png', ray=1);Image(filename='1l2y.png')"
   ]
  },
  {
   "cell_type": "code",
   "execution_count": null,
   "id": "ea468f1e",
   "metadata": {},
   "outputs": [],
   "source": []
  },
  {
   "cell_type": "code",
   "execution_count": null,
   "id": "e3460f96",
   "metadata": {},
   "outputs": [],
   "source": []
  },
  {
   "cell_type": "code",
   "execution_count": null,
   "id": "a948ac32",
   "metadata": {},
   "outputs": [],
   "source": []
  }
 ],
 "metadata": {
  "kernelspec": {
   "display_name": "Python 3 (ipykernel)",
   "language": "python",
   "name": "python3"
  },
  "language_info": {
   "codemirror_mode": {
    "name": "ipython",
    "version": 3
   },
   "file_extension": ".py",
   "mimetype": "text/x-python",
   "name": "python",
   "nbconvert_exporter": "python",
   "pygments_lexer": "ipython3",
   "version": "3.10.7"
  }
 },
 "nbformat": 4,
 "nbformat_minor": 5
}
