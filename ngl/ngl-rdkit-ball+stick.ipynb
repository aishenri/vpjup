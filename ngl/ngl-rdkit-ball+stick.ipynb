{
 "cells": [
  {
   "cell_type": "code",
   "execution_count": 1,
   "id": "violent-chinese",
   "metadata": {},
   "outputs": [
    {
     "data": {
      "application/vnd.jupyter.widget-view+json": {
       "model_id": "ad1b0633f3d74d4da640428a836427f5",
       "version_major": 2,
       "version_minor": 0
      },
      "text/plain": []
     },
     "metadata": {},
     "output_type": "display_data"
    },
    {
     "data": {
      "application/vnd.jupyter.widget-view+json": {
       "model_id": "ce51aecdd2974f27b5a7524b66db71d0",
       "version_major": 2,
       "version_minor": 0
      },
      "text/plain": [
       "NGLWidget()"
      ]
     },
     "metadata": {},
     "output_type": "display_data"
    }
   ],
   "source": [
    "import nglview as nv;\n",
    "view = nv.show_pdbid(\"1qxb\");\n",
    "view.clear_representations(\"cartoon\")\n",
    "view"
   ]
  },
  {
   "cell_type": "code",
   "execution_count": 2,
   "id": "coordinated-burke",
   "metadata": {},
   "outputs": [],
   "source": [
    "import nglview as nv\n",
    "view = nv.show_structure_file(nv.datafiles.PDB)"
   ]
  },
  {
   "cell_type": "code",
   "execution_count": 3,
   "id": "surrounded-latest",
   "metadata": {},
   "outputs": [],
   "source": [
    "view.clear_representations(\"licorice\")\n",
    "view.add_licorice('not hydrogen')"
   ]
  },
  {
   "cell_type": "code",
   "execution_count": 4,
   "id": "billion-prisoner",
   "metadata": {},
   "outputs": [],
   "source": [
    "view.clear_representations()\n",
    "view.add_licorice('not hydrogen', color='red')"
   ]
  },
  {
   "cell_type": "code",
   "execution_count": 5,
   "id": "interracial-breathing",
   "metadata": {
    "scrolled": true
   },
   "outputs": [
    {
     "data": {
      "application/vnd.jupyter.widget-view+json": {
       "model_id": "d1137a9ef557492893c8e39272fa0914",
       "version_major": 2,
       "version_minor": 0
      },
      "text/plain": [
       "NGLWidget()"
      ]
     },
     "metadata": {},
     "output_type": "display_data"
    }
   ],
   "source": [
    "view.clear_representations(\"cartoon\")\n",
    "view.add_surface('A', opacity=0.3)\n",
    "view.add_licorice('not hydrogen');view"
   ]
  },
  {
   "cell_type": "code",
   "execution_count": 6,
   "id": "sapphire-registration",
   "metadata": {},
   "outputs": [
    {
     "data": {
      "application/vnd.jupyter.widget-view+json": {
       "model_id": "0417106b5fad4a2bb770d1680b73d8e1",
       "version_major": 2,
       "version_minor": 0
      },
      "text/plain": [
       "Image(value=b'', width='99%')"
      ]
     },
     "metadata": {},
     "output_type": "display_data"
    }
   ],
   "source": [
    "view.add_ball_and_stick()\n",
    "view.add_surface(opacity=0.3)\n",
    "view.render_image()"
   ]
  },
  {
   "cell_type": "code",
   "execution_count": 7,
   "id": "conservative-workshop",
   "metadata": {},
   "outputs": [
    {
     "data": {
      "image/png": "\n",
      "text/plain": [
       "<IPython.core.display.Image object>"
      ]
     },
     "execution_count": 7,
     "metadata": {},
     "output_type": "execute_result"
    }
   ],
   "source": [
    "view._display_image()"
   ]
  },
  {
   "cell_type": "code",
   "execution_count": 8,
   "id": "black-ensemble",
   "metadata": {},
   "outputs": [
    {
     "data": {
      "application/vnd.jupyter.widget-view+json": {
       "model_id": "d1137a9ef557492893c8e39272fa0914",
       "version_major": 2,
       "version_minor": 0
      },
      "text/plain": [
       "NGLWidget()"
      ]
     },
     "metadata": {},
     "output_type": "display_data"
    }
   ],
   "source": [
    "view.add_representation('ball+stick',\n",
    "    selection='SER', color='gold')\n",
    "view.add_representation('not licorice',\n",
    "selection=[3, 8, 9, 11], color='red')\n",
    "view "
   ]
  },
  {
   "cell_type": "code",
   "execution_count": 9,
   "id": "utility-extent",
   "metadata": {
    "scrolled": true
   },
   "outputs": [
    {
     "data": {
      "application/vnd.jupyter.widget-view+json": {
       "model_id": "cc26c19d0650483cbfc2ec56ff59c5a1",
       "version_major": 2,
       "version_minor": 0
      },
      "text/plain": [
       "NGLWidget()"
      ]
     },
     "metadata": {},
     "output_type": "display_data"
    }
   ],
   "source": [
    "import nglview as nv\n",
    "view = nv.show_pdbid(\"1qxb\");view"
   ]
  },
  {
   "cell_type": "code",
   "execution_count": 10,
   "id": "stunning-defendant",
   "metadata": {},
   "outputs": [
    {
     "data": {
      "application/vnd.jupyter.widget-view+json": {
       "model_id": "cc26c19d0650483cbfc2ec56ff59c5a1",
       "version_major": 2,
       "version_minor": 0
      },
      "text/plain": [
       "NGLWidget()"
      ]
     },
     "metadata": {},
     "output_type": "display_data"
    }
   ],
   "source": [
    "view.add_representation('cartoon',\n",
    "    selection='SER', color='gold')\n",
    "view.clear_representations(\"licorice\")\n",
    "#view.add_representation('licorice',\n",
    "#selection=[8, 9, 11], color='red')\n",
    "view "
   ]
  },
  {
   "cell_type": "markdown",
   "id": "unlimited-auditor",
   "metadata": {},
   "source": [
    "#view.clear_representations()\n",
    "import nglview;view = nglview.show_pdbid(\"3pqr\");view"
   ]
  },
  {
   "cell_type": "code",
   "execution_count": 11,
   "id": "sonic-cooperation",
   "metadata": {},
   "outputs": [
    {
     "data": {
      "application/vnd.jupyter.widget-view+json": {
       "model_id": "cc26c19d0650483cbfc2ec56ff59c5a1",
       "version_major": 2,
       "version_minor": 0
      },
      "text/plain": [
       "NGLWidget()"
      ]
     },
     "metadata": {},
     "output_type": "display_data"
    }
   ],
   "source": [
    "view.add_representation('ball+stick',\n",
    "            selection='protein')\n",
    "view.add_cartoon(selection=\"protein\")\n",
    "view.add_surface(selection=\"protein\", opacity=0.3)\n",
    "view.add_cartoon(selection=\"protein\", color='blue')\n",
    "view.add_licorice('ALA, GLU')\n",
    "view.clear_representations(\"cartoon\")\n",
    "view.update_cartoon(opacity=0.4, component=0)\n",
    "#view.remove_cartoon(opacity=0.4, component=0)\n",
    "#view = view.show_file('3qpr.pdb', default=False)\n",
    "view.center();view.add_rope();view"
   ]
  },
  {
   "cell_type": "code",
   "execution_count": 12,
   "id": "everyday-impact",
   "metadata": {},
   "outputs": [
    {
     "data": {
      "application/vnd.jupyter.widget-view+json": {
       "model_id": "cc26c19d0650483cbfc2ec56ff59c5a1",
       "version_major": 2,
       "version_minor": 0
      },
      "text/plain": [
       "NGLWidget()"
      ]
     },
     "metadata": {},
     "output_type": "display_data"
    }
   ],
   "source": [
    "view.representations = [{\"type\":\"cartoon\",\"params\":{\n",
    "\"sele\":\"protein\",\"color\": \"residueindex\"}},{\n",
    "\"type\": \"ball+stick\",\"params\":{\"sele\": \"hetero\" }}]\n",
    "view"
   ]
  },
  {
   "cell_type": "code",
   "execution_count": 13,
   "id": "activated-sight",
   "metadata": {},
   "outputs": [
    {
     "data": {
      "application/vnd.jupyter.widget-view+json": {
       "model_id": "cc26c19d0650483cbfc2ec56ff59c5a1",
       "version_major": 2,
       "version_minor": 0
      },
      "text/plain": [
       "NGLWidget()"
      ]
     },
     "metadata": {},
     "output_type": "display_data"
    }
   ],
   "source": [
    "initial_repr=[{\"type\":\"cartoon\",\"params\":{\n",
    "\"sele\":\"protein\", \"color\": \"sstruc\"}}]\n",
    "#view = nglview.NGLWidget(struc,\n",
    "#representation=initial_repr)\n",
    "view"
   ]
  },
  {
   "cell_type": "code",
   "execution_count": 14,
   "id": "false-universal",
   "metadata": {},
   "outputs": [],
   "source": [
    "view.add_licorice(\"1\");view.remove_label()\n",
    "view.add_label(\"1\",radius=1,color=\"blue\",\n",
    "              label_type=\"atomname\")"
   ]
  },
  {
   "cell_type": "code",
   "execution_count": 15,
   "id": "recreational-shelf",
   "metadata": {},
   "outputs": [
    {
     "name": "stdout",
     "output_type": "stream",
     "text": [
      "no trajectory available\n"
     ]
    }
   ],
   "source": [
    "view.frame = 100\n",
    "view.stage.set_parameters(**{\n",
    "    # \"percentages, \"dist\" is distance too camera in Angstrom\n",
    "    \"clipNear\": 0, \"clipFar\": 100, \"clipDist\": 10,\n",
    "    # percentages, start of fog and where on full effect\n",
    "    \"fogNear\": 0, \"fogFar\": 100,\n",
    "    # background color\n",
    "    \"backgroundColor\": \"white\",})"
   ]
  },
  {
   "cell_type": "code",
   "execution_count": 16,
   "id": "accepted-warner",
   "metadata": {},
   "outputs": [],
   "source": [
    "view.player.parameters = dict(delay=0.04, step=-1)\n",
    "view.camera = 'orthographic'\n",
    "view.background = 'white'"
   ]
  },
  {
   "cell_type": "code",
   "execution_count": 17,
   "id": "contained-fusion",
   "metadata": {},
   "outputs": [],
   "source": [
    "#view.add_trajectory(traj)"
   ]
  },
  {
   "cell_type": "code",
   "execution_count": 18,
   "id": "minus-frontier",
   "metadata": {},
   "outputs": [],
   "source": [
    "from __future__ import print_function\n",
    "import mdtraj as md\n",
    "#traj = md.load('ala2.h5');print(traj)"
   ]
  },
  {
   "cell_type": "code",
   "execution_count": 19,
   "id": "forward-tuner",
   "metadata": {},
   "outputs": [],
   "source": [
    "#view.add_trajectory(traj)\n",
    "#view.clear_representations(\"1l2y\") "
   ]
  },
  {
   "cell_type": "code",
   "execution_count": 20,
   "id": "documented-repeat",
   "metadata": {
    "scrolled": false
   },
   "outputs": [
    {
     "data": {
      "application/vnd.jupyter.widget-view+json": {
       "model_id": "cc26c19d0650483cbfc2ec56ff59c5a1",
       "version_major": 2,
       "version_minor": 0
      },
      "text/plain": [
       "NGLWidget(frame=100)"
      ]
     },
     "metadata": {},
     "output_type": "display_data"
    }
   ],
   "source": [
    "view.add_representation('ball+stick')#,\n",
    "#view.add_trajectory(traj)\n",
    "#selection=('traj')\n",
    "#view.add_representation('licorice',\n",
    "#selection=[8, 9, 11], color='red')\n",
    "view "
   ]
  },
  {
   "cell_type": "code",
   "execution_count": 21,
   "id": "lonely-computer",
   "metadata": {},
   "outputs": [],
   "source": [
    "#print(traj);print(traj[1:10])"
   ]
  },
  {
   "cell_type": "code",
   "execution_count": 22,
   "id": "gothic-device",
   "metadata": {},
   "outputs": [],
   "source": [
    "#traj[::2].save('halftraj.h5')\n",
    "#traj[0:10].save_dcd('first-ten-frames.dcd')"
   ]
  },
  {
   "cell_type": "code",
   "execution_count": 23,
   "id": "great-wesley",
   "metadata": {},
   "outputs": [],
   "source": [
    "#atoms_to_keep = [a.index for a in traj.topology.atoms if a.name == 'CA']\n",
    "#traj.restrict_atoms(atoms_to_keep)\n",
    "#traj.save('CA-only.h5')"
   ]
  },
  {
   "cell_type": "code",
   "execution_count": 24,
   "id": "offshore-dryer",
   "metadata": {},
   "outputs": [],
   "source": [
    "from __future__ import print_function\n",
    "import mdtraj as md\n",
    "#traj = md.load('ala2.h5');print(traj)"
   ]
  },
  {
   "cell_type": "code",
   "execution_count": 25,
   "id": "equipped-yukon",
   "metadata": {},
   "outputs": [
    {
     "ename": "NameError",
     "evalue": "name 'traj' is not defined",
     "output_type": "error",
     "traceback": [
      "\u001b[0;31m---------------------------------------------------------------------------\u001b[0m",
      "\u001b[0;31mNameError\u001b[0m                                 Traceback (most recent call last)",
      "\u001b[0;32m<ipython-input-25-5a160fed9368>\u001b[0m in \u001b[0;36m<module>\u001b[0;34m\u001b[0m\n\u001b[0;32m----> 1\u001b[0;31m \u001b[0mprint\u001b[0m\u001b[0;34m(\u001b[0m\u001b[0;34m'How many atoms?    %s'\u001b[0m \u001b[0;34m%\u001b[0m \u001b[0mtraj\u001b[0m\u001b[0;34m.\u001b[0m\u001b[0mn_atoms\u001b[0m\u001b[0;34m)\u001b[0m\u001b[0;34m\u001b[0m\u001b[0;34m\u001b[0m\u001b[0m\n\u001b[0m",
      "\u001b[0;31mNameError\u001b[0m: name 'traj' is not defined"
     ]
    }
   ],
   "source": [
    "print('How many atoms?    %s' % traj.n_atoms)"
   ]
  },
  {
   "cell_type": "code",
   "execution_count": null,
   "id": "realistic-weight",
   "metadata": {},
   "outputs": [],
   "source": [
    "print('How many residues? %s' % traj.n_residues)"
   ]
  },
  {
   "cell_type": "code",
   "execution_count": null,
   "id": "adult-immunology",
   "metadata": {},
   "outputs": [],
   "source": [
    "frame_idx = 4 # zero indexed frame number\n",
    "atom_idx = 9 # zero indexed atom index\n",
    "print('Where is the fifth atom at the tenth frame?')\n",
    "print('x: %s\\ty: %s\\tz: %s' % tuple(traj.xyz[frame_idx, atom_idx,:]))"
   ]
  },
  {
   "cell_type": "code",
   "execution_count": null,
   "id": "continental-consensus",
   "metadata": {},
   "outputs": [],
   "source": [
    "topology = traj.topology;print(topology)"
   ]
  },
  {
   "cell_type": "code",
   "execution_count": null,
   "id": "valued-uncle",
   "metadata": {},
   "outputs": [],
   "source": [
    "print('Fifth atom: %s' % topology.atom(4))\n",
    "print('All atoms: %s' % [atom for atom in topology.atoms])"
   ]
  },
  {
   "cell_type": "code",
   "execution_count": null,
   "id": "african-rebate",
   "metadata": {},
   "outputs": [],
   "source": [
    "print('Second residue: %s' % traj.topology.residue(1))\n",
    "print('All residues: %s' % [residue for residue in traj.topology.residues])"
   ]
  },
  {
   "cell_type": "code",
   "execution_count": null,
   "id": "sized-journey",
   "metadata": {},
   "outputs": [],
   "source": [
    "print ( topology . select ( 'resid 1 to 2' ))"
   ]
  },
  {
   "cell_type": "code",
   "execution_count": null,
   "id": "interim-dividend",
   "metadata": {},
   "outputs": [],
   "source": [
    "print(topology.select('name N and backbone'))"
   ]
  },
  {
   "cell_type": "code",
   "execution_count": null,
   "id": "saving-citizenship",
   "metadata": {},
   "outputs": [],
   "source": [
    "selection = topology.select_expression('name CA and resid 1 to 2')\n",
    "print(selection)"
   ]
  },
  {
   "cell_type": "code",
   "execution_count": null,
   "id": "controlling-terry",
   "metadata": {},
   "outputs": [],
   "source": []
  }
 ],
 "metadata": {
  "kernelspec": {
   "display_name": "Python 3",
   "language": "python",
   "name": "python3"
  },
  "language_info": {
   "codemirror_mode": {
    "name": "ipython",
    "version": 3
   },
   "file_extension": ".py",
   "mimetype": "text/x-python",
   "name": "python",
   "nbconvert_exporter": "python",
   "pygments_lexer": "ipython3",
   "version": "3.9.4"
  }
 },
 "nbformat": 4,
 "nbformat_minor": 5
}
