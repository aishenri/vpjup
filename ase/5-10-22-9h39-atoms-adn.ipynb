{
 "cells": [
  {
   "cell_type": "code",
   "execution_count": 1,
   "id": "87305235",
   "metadata": {},
   "outputs": [
    {
     "data": {
      "text/html": [
       "<style type=\"text/css\">\n",
       "table.dataframe td, table.dataframe th{border: 1px \n",
       "black solid ! important;color:black !important;}\n"
      ],
      "text/plain": [
       "<IPython.core.display.HTML object>"
      ]
     },
     "metadata": {},
     "output_type": "display_data"
    }
   ],
   "source": [
    "%%HTML\n",
    "<style type=\"text/css\">\n",
    "table.dataframe td, table.dataframe th{border: 1px \n",
    "black solid ! important;color:black !important;}"
   ]
  },
  {
   "cell_type": "code",
   "execution_count": 2,
   "id": "ea58bf65",
   "metadata": {},
   "outputs": [
    {
     "name": "stdout",
     "output_type": "stream",
     "text": [
      "Overwriting adn.csv\n"
     ]
    }
   ],
   "source": [
    "%%file adn.csv\n",
    "ADN ,A,T,C,G,U\n",
    "Hydrogène,5,6,5,5,4\n",
    "Oxygène,0,2,1,1,2\n",
    "Azote,5,2,3,5,2\n",
    "Carbone,5,5,4,5,4\n",
    "Total,15,15,13,16,12"
   ]
  },
  {
   "cell_type": "code",
   "execution_count": 3,
   "id": "ed40dfc1",
   "metadata": {},
   "outputs": [
    {
     "data": {
      "text/html": [
       "<div>\n",
       "<style scoped>\n",
       "    .dataframe tbody tr th:only-of-type {\n",
       "        vertical-align: middle;\n",
       "    }\n",
       "\n",
       "    .dataframe tbody tr th {\n",
       "        vertical-align: top;\n",
       "    }\n",
       "\n",
       "    .dataframe thead th {\n",
       "        text-align: right;\n",
       "    }\n",
       "</style>\n",
       "<table border=\"1\" class=\"dataframe\">\n",
       "  <thead>\n",
       "    <tr style=\"text-align: right;\">\n",
       "      <th></th>\n",
       "      <th>ADN</th>\n",
       "      <th>A</th>\n",
       "      <th>T</th>\n",
       "      <th>C</th>\n",
       "      <th>G</th>\n",
       "      <th>U</th>\n",
       "    </tr>\n",
       "  </thead>\n",
       "  <tbody>\n",
       "    <tr>\n",
       "      <th>0</th>\n",
       "      <td>Hydrogène</td>\n",
       "      <td>5</td>\n",
       "      <td>6</td>\n",
       "      <td>5</td>\n",
       "      <td>5</td>\n",
       "      <td>4</td>\n",
       "    </tr>\n",
       "    <tr>\n",
       "      <th>1</th>\n",
       "      <td>Oxygène</td>\n",
       "      <td>0</td>\n",
       "      <td>2</td>\n",
       "      <td>1</td>\n",
       "      <td>1</td>\n",
       "      <td>2</td>\n",
       "    </tr>\n",
       "    <tr>\n",
       "      <th>2</th>\n",
       "      <td>Azote</td>\n",
       "      <td>5</td>\n",
       "      <td>2</td>\n",
       "      <td>3</td>\n",
       "      <td>5</td>\n",
       "      <td>2</td>\n",
       "    </tr>\n",
       "    <tr>\n",
       "      <th>3</th>\n",
       "      <td>Carbone</td>\n",
       "      <td>5</td>\n",
       "      <td>5</td>\n",
       "      <td>4</td>\n",
       "      <td>5</td>\n",
       "      <td>4</td>\n",
       "    </tr>\n",
       "    <tr>\n",
       "      <th>4</th>\n",
       "      <td>Total</td>\n",
       "      <td>15</td>\n",
       "      <td>15</td>\n",
       "      <td>13</td>\n",
       "      <td>16</td>\n",
       "      <td>12</td>\n",
       "    </tr>\n",
       "  </tbody>\n",
       "</table>\n",
       "</div>"
      ],
      "text/plain": [
       "        ADN    A   T   C   G   U\n",
       "0  Hydrogène   5   6   5   5   4\n",
       "1    Oxygène   0   2   1   1   2\n",
       "2      Azote   5   2   3   5   2\n",
       "3    Carbone   5   5   4   5   4\n",
       "4      Total  15  15  13  16  12"
      ]
     },
     "execution_count": 3,
     "metadata": {},
     "output_type": "execute_result"
    }
   ],
   "source": [
    "%config InlineBackend.figure_format = \"svg\"\n",
    "import pandas as pd;import matplotlib.pyplot as plt\n",
    "%matplotlib inline\n",
    "pd.read_csv(\"adn.csv\")"
   ]
  },
  {
   "cell_type": "code",
   "execution_count": 22,
   "id": "f9547233",
   "metadata": {
    "scrolled": true
   },
   "outputs": [
    {
     "data": {
      "application/3dmoljs_load.v0": "<div id=\"3dmolviewer_1664958846144106\"  style=\"position: relative; width: 640px; height: 200px\">\n        <p id=\"3dmolwarning_1664958846144106\" style=\"background-color:#ffcccc;color:black\">You appear to be running in JupyterLab (or JavaScript failed to load for some other reason).  You need to install the 3dmol extension: <br>\n        <tt>jupyter labextension install jupyterlab_3dmol</tt></p>\n        </div>\n<script>\n\nvar loadScriptAsync = function(uri){\n  return new Promise((resolve, reject) => {\n    var tag = document.createElement('script');\n    tag.src = uri;\n    tag.async = true;\n    tag.onload = () => {\n      resolve();\n    };\n  var firstScriptTag = document.getElementsByTagName('script')[0];\n  firstScriptTag.parentNode.insertBefore(tag, firstScriptTag);\n});\n};\n\nif(typeof $3Dmolpromise === 'undefined') {\n$3Dmolpromise = null;\n  $3Dmolpromise = loadScriptAsync('https://3dmol.org/build/3Dmol.js');\n}\n\nvar viewer_1664958846144106 = null;\nvar warn = document.getElementById(\"3dmolwarning_1664958846144106\");\nif(warn) {\n    warn.parentNode.removeChild(warn);\n}\n$3Dmolpromise.then(function() {\nviewer_1664958846144106 = $3Dmol.createViewer($(\"#3dmolviewer_1664958846144106\"),{backgroundColor:\"white\"});\n$3Dmol.download(\"fa.pdb\", viewer_1664958846144106, {}, function() {\nviewer_1664958846144106.setStyle({\"cartoon\": {}});\nviewer_1664958846144106.zoomTo();\n\tviewer_1664958846144106.setHoverable({},true,\"function(atom,viewer,event,container) \\n{if(!atom.label){atom.label = viewer.addLabel(atom.resn+\\\":\\\"+atom.atom,{position: atom, backgroundColor: 'mintcream', \\nfontColor:'black'});}}\",\"function(atom,viewer){if(atom.label) \\n{viewer.removeLabel(atom.label);delete atom.label;}}\");\nviewer_1664958846144106.render();\n})\n});\n</script>",
      "text/html": [
       "<div id=\"3dmolviewer_1664958846144106\"  style=\"position: relative; width: 640px; height: 200px\">\n",
       "        <p id=\"3dmolwarning_1664958846144106\" style=\"background-color:#ffcccc;color:black\">You appear to be running in JupyterLab (or JavaScript failed to load for some other reason).  You need to install the 3dmol extension: <br>\n",
       "        <tt>jupyter labextension install jupyterlab_3dmol</tt></p>\n",
       "        </div>\n",
       "<script>\n",
       "\n",
       "var loadScriptAsync = function(uri){\n",
       "  return new Promise((resolve, reject) => {\n",
       "    var tag = document.createElement('script');\n",
       "    tag.src = uri;\n",
       "    tag.async = true;\n",
       "    tag.onload = () => {\n",
       "      resolve();\n",
       "    };\n",
       "  var firstScriptTag = document.getElementsByTagName('script')[0];\n",
       "  firstScriptTag.parentNode.insertBefore(tag, firstScriptTag);\n",
       "});\n",
       "};\n",
       "\n",
       "if(typeof $3Dmolpromise === 'undefined') {\n",
       "$3Dmolpromise = null;\n",
       "  $3Dmolpromise = loadScriptAsync('https://3dmol.org/build/3Dmol.js');\n",
       "}\n",
       "\n",
       "var viewer_1664958846144106 = null;\n",
       "var warn = document.getElementById(\"3dmolwarning_1664958846144106\");\n",
       "if(warn) {\n",
       "    warn.parentNode.removeChild(warn);\n",
       "}\n",
       "$3Dmolpromise.then(function() {\n",
       "viewer_1664958846144106 = $3Dmol.createViewer($(\"#3dmolviewer_1664958846144106\"),{backgroundColor:\"white\"});\n",
       "$3Dmol.download(\"fa.pdb\", viewer_1664958846144106, {}, function() {\n",
       "viewer_1664958846144106.setStyle({\"cartoon\": {}});\n",
       "viewer_1664958846144106.zoomTo();\n",
       "\tviewer_1664958846144106.setHoverable({},true,\"function(atom,viewer,event,container) \\n{if(!atom.label){atom.label = viewer.addLabel(atom.resn+\\\":\\\"+atom.atom,{position: atom, backgroundColor: 'mintcream', \\nfontColor:'black'});}}\",\"function(atom,viewer){if(atom.label) \\n{viewer.removeLabel(atom.label);delete atom.label;}}\");\n",
       "viewer_1664958846144106.render();\n",
       "})\n",
       "});\n",
       "</script>"
      ]
     },
     "metadata": {},
     "output_type": "display_data"
    },
    {
     "data": {
      "text/plain": [
       "<py3Dmol.view at 0x7f3bd2d3f520>"
      ]
     },
     "execution_count": 22,
     "metadata": {},
     "output_type": "execute_result"
    }
   ],
   "source": [
    "import py3Dmol\n",
    "v = py3Dmol.view(height=200,query=\"fa.pdb\",\n",
    "style={'cartoon':{'color':'spectrum'},'cartoon':{}})\n",
    "v.setHoverable({},True,'''function(atom,viewer,event,container) \n",
    "{if(!atom.label){atom.label = viewer.addLabel(atom.resn+\":\\\n",
    "\"+atom.atom,{position: atom, backgroundColor: 'mintcream', \n",
    "fontColor:'black'});}}''','''function(atom,viewer){if(atom.label) \n",
    "{viewer.removeLabel(atom.label);delete atom.label;}}''')"
   ]
  },
  {
   "cell_type": "code",
   "execution_count": 21,
   "id": "06494e91",
   "metadata": {},
   "outputs": [
    {
     "data": {
      "application/3dmoljs_load.v0": "<div id=\"3dmolviewer_16649582188262434\"  style=\"position: relative; width: 640px; height: 200px\">\n        <p id=\"3dmolwarning_16649582188262434\" style=\"background-color:#ffcccc;color:black\">You appear to be running in JupyterLab (or JavaScript failed to load for some other reason).  You need to install the 3dmol extension: <br>\n        <tt>jupyter labextension install jupyterlab_3dmol</tt></p>\n        </div>\n<script>\n\nvar loadScriptAsync = function(uri){\n  return new Promise((resolve, reject) => {\n    var tag = document.createElement('script');\n    tag.src = uri;\n    tag.async = true;\n    tag.onload = () => {\n      resolve();\n    };\n  var firstScriptTag = document.getElementsByTagName('script')[0];\n  firstScriptTag.parentNode.insertBefore(tag, firstScriptTag);\n});\n};\n\nif(typeof $3Dmolpromise === 'undefined') {\n$3Dmolpromise = null;\n  $3Dmolpromise = loadScriptAsync('https://3dmol.org/build/3Dmol.js');\n}\n\nvar viewer_16649582188262434 = null;\nvar warn = document.getElementById(\"3dmolwarning_16649582188262434\");\nif(warn) {\n    warn.parentNode.removeChild(warn);\n}\n$3Dmolpromise.then(function() {\nviewer_16649582188262434 = $3Dmol.createViewer($(\"#3dmolviewer_16649582188262434\"),{backgroundColor:\"white\"});\n$3Dmol.download(\"a.pdb\", viewer_16649582188262434, {}, function() {\nviewer_16649582188262434.setStyle({\"cartoon\": {}});\nviewer_16649582188262434.zoomTo();\n\tviewer_16649582188262434.setHoverable({},true,\"function(atom,viewer,event,container) \\n{if(!atom.label){atom.label = viewer.addLabel(atom.resn+\\\":\\\"+atom.atom,{position: atom, backgroundColor: 'mintcream', \\nfontColor:'black'});}}\",\"function(atom,viewer){if(atom.label) \\n{viewer.removeLabel(atom.label);delete atom.label;}}\");\nviewer_16649582188262434.render();\n})\n});\n</script>",
      "text/html": [
       "<div id=\"3dmolviewer_16649582188262434\"  style=\"position: relative; width: 640px; height: 200px\">\n",
       "        <p id=\"3dmolwarning_16649582188262434\" style=\"background-color:#ffcccc;color:black\">You appear to be running in JupyterLab (or JavaScript failed to load for some other reason).  You need to install the 3dmol extension: <br>\n",
       "        <tt>jupyter labextension install jupyterlab_3dmol</tt></p>\n",
       "        </div>\n",
       "<script>\n",
       "\n",
       "var loadScriptAsync = function(uri){\n",
       "  return new Promise((resolve, reject) => {\n",
       "    var tag = document.createElement('script');\n",
       "    tag.src = uri;\n",
       "    tag.async = true;\n",
       "    tag.onload = () => {\n",
       "      resolve();\n",
       "    };\n",
       "  var firstScriptTag = document.getElementsByTagName('script')[0];\n",
       "  firstScriptTag.parentNode.insertBefore(tag, firstScriptTag);\n",
       "});\n",
       "};\n",
       "\n",
       "if(typeof $3Dmolpromise === 'undefined') {\n",
       "$3Dmolpromise = null;\n",
       "  $3Dmolpromise = loadScriptAsync('https://3dmol.org/build/3Dmol.js');\n",
       "}\n",
       "\n",
       "var viewer_16649582188262434 = null;\n",
       "var warn = document.getElementById(\"3dmolwarning_16649582188262434\");\n",
       "if(warn) {\n",
       "    warn.parentNode.removeChild(warn);\n",
       "}\n",
       "$3Dmolpromise.then(function() {\n",
       "viewer_16649582188262434 = $3Dmol.createViewer($(\"#3dmolviewer_16649582188262434\"),{backgroundColor:\"white\"});\n",
       "$3Dmol.download(\"a.pdb\", viewer_16649582188262434, {}, function() {\n",
       "viewer_16649582188262434.setStyle({\"cartoon\": {}});\n",
       "viewer_16649582188262434.zoomTo();\n",
       "\tviewer_16649582188262434.setHoverable({},true,\"function(atom,viewer,event,container) \\n{if(!atom.label){atom.label = viewer.addLabel(atom.resn+\\\":\\\"+atom.atom,{position: atom, backgroundColor: 'mintcream', \\nfontColor:'black'});}}\",\"function(atom,viewer){if(atom.label) \\n{viewer.removeLabel(atom.label);delete atom.label;}}\");\n",
       "viewer_16649582188262434.render();\n",
       "})\n",
       "});\n",
       "</script>"
      ]
     },
     "metadata": {},
     "output_type": "display_data"
    },
    {
     "data": {
      "text/plain": [
       "<py3Dmol.view at 0x7f3bd2d3e7a0>"
      ]
     },
     "execution_count": 21,
     "metadata": {},
     "output_type": "execute_result"
    }
   ],
   "source": [
    "v = py3Dmol.view(height=200,query=\"cd.pdb\",\n",
    "style={'cartoon':{'color':'spectrum'},'cartoon':{}})\n",
    "v.setHoverable({},True,'''function(atom,viewer,event,container) \n",
    "{if(!atom.label){atom.label = viewer.addLabel(atom.resn+\":\\\n",
    "\"+atom.atom,{position: atom, backgroundColor: 'mintcream', \n",
    "fontColor:'black'});}}''','''function(atom,viewer){if(atom.label) \n",
    "{viewer.removeLabel(atom.label);delete atom.label;}}''')"
   ]
  },
  {
   "cell_type": "code",
   "execution_count": null,
   "id": "d3386ad4",
   "metadata": {},
   "outputs": [],
   "source": []
  }
 ],
 "metadata": {
  "kernelspec": {
   "display_name": "Python 3 (ipykernel)",
   "language": "python",
   "name": "python3"
  },
  "language_info": {
   "codemirror_mode": {
    "name": "ipython",
    "version": 3
   },
   "file_extension": ".py",
   "mimetype": "text/x-python",
   "name": "python",
   "nbconvert_exporter": "python",
   "pygments_lexer": "ipython3",
   "version": "3.10.7"
  }
 },
 "nbformat": 4,
 "nbformat_minor": 5
}
