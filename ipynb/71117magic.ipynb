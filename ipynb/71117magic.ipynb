{
 "cells": [
  {
   "cell_type": "code",
   "execution_count": 1,
   "metadata": {},
   "outputs": [
    {
     "name": "stdout",
     "output_type": "stream",
     "text": [
      "a: 523 +-0++0+\n",
      "b: -436 -++-0--\n",
      "c: 65 +-++-\n",
      "a * (b - c): -262023 ----0+--0++0\n"
     ]
    }
   ],
   "source": [
    "from sage.misc.table import table\n",
    "class BalancedTernary:\n",
    "    # Represented as a list of 0, 1 or -1s, with least significant digit first.\n",
    " \n",
    "    str2dig = {'+': 1, '-': -1, '0': 0} # immutable\n",
    "    dig2str = {1: '+', -1: '-', 0: '0'} # immutable\n",
    "    table = ((0, -1), (1, -1), (-1, 0), (0, 0), (1, 0), (-1, 1), (0, 1)) # immutable\n",
    " \n",
    "    def __init__(self, inp):\n",
    "        if isinstance(inp, str):\n",
    "            self.digits = [BalancedTernary.str2dig[c] for c in reversed(inp)]\n",
    "        elif isinstance(inp, int):\n",
    "            self.digits = self._int2ternary(inp)\n",
    "        elif isinstance(inp, BalancedTernary):\n",
    "            self.digits = list(inp.digits)\n",
    "        elif isinstance(inp, list):\n",
    "            if all(d in (0, 1, -1) for d in inp):\n",
    "                self.digits = list(inp)\n",
    "            else:\n",
    "                raise ValueError(\"BalancedTernary: Wrong input digits.\")\n",
    "        else:\n",
    "            raise TypeError(\"BalancedTernary: Wrong constructor input.\")\n",
    " \n",
    "    @staticmethod\n",
    "    def _int2ternary(n):\n",
    "        if n == 0: return []\n",
    "        if (n % 3) == 0: return [0] + BalancedTernary._int2ternary(n // 3)\n",
    "        if (n % 3) == 1: return [1] + BalancedTernary._int2ternary(n // 3)\n",
    "        if (n % 3) == 2: return [-1] + BalancedTernary._int2ternary((n + 1) // 3)\n",
    " \n",
    "    def to_int(self):\n",
    "        return reduce(lambda y,x: x + 3 * y, reversed(self.digits), 0)\n",
    " \n",
    "    def __repr__(self):\n",
    "        if not self.digits: return \"0\"\n",
    "        return \"\".join(BalancedTernary.dig2str[d] for d in reversed(self.digits))\n",
    " \n",
    "    @staticmethod\n",
    "    def _neg(digs):\n",
    "        return [-d for d in digs]\n",
    " \n",
    "    def __neg__(self):\n",
    "        return BalancedTernary(BalancedTernary._neg(self.digits))\n",
    " \n",
    "    @staticmethod\n",
    "    def _add(a, b, c=0):\n",
    "        if not (a and b):\n",
    "            if c == 0:\n",
    "                return a or b\n",
    "            else:\n",
    "                return BalancedTernary._add([c], a or b)\n",
    "        else:\n",
    "            (d, c) = BalancedTernary.table[3 + (a[0] if a else 0) + (b[0] if b else 0) + c]\n",
    "            res = BalancedTernary._add(a[1:], b[1:], c)\n",
    "            # trim leading zeros\n",
    "            if res or d != 0:\n",
    "                return [d] + res\n",
    "            else:\n",
    "                return res\n",
    " \n",
    "    def __add__(self, b):\n",
    "        return BalancedTernary(BalancedTernary._add(self.digits, b.digits))\n",
    " \n",
    "    def __sub__(self, b):\n",
    "        return self + (-b)\n",
    " \n",
    "    @staticmethod\n",
    "    def _mul(a, b):\n",
    "        if not (a and b):\n",
    "            return []\n",
    "        else:\n",
    "            if   a[0] == -1: x = BalancedTernary._neg(b)\n",
    "            elif a[0] ==  0: x = []\n",
    "            elif a[0] ==  1: x = b\n",
    "            else: assert False\n",
    "            y = [0] + BalancedTernary._mul(a[1:], b)\n",
    "            return BalancedTernary._add(x, y)\n",
    " \n",
    "    def __mul__(self, b):\n",
    "        return BalancedTernary(BalancedTernary._mul(self.digits, b.digits))\n",
    "def main():\n",
    "    a = BalancedTernary(\"+-0++0+\")\n",
    "    print \"a:\", a.to_int(), a\n",
    " \n",
    "    b = BalancedTernary(int(-436))\n",
    "    print \"b:\", b.to_int(), b\n",
    " \n",
    "    c = BalancedTernary(\"+-++-\")\n",
    "    print \"c:\", c.to_int(), c\n",
    " \n",
    "    r = a * (b - c)\n",
    "    print \"a * (b - c):\", r.to_int(), r\n",
    "main()"
   ]
  },
  {
   "cell_type": "markdown",
   "metadata": {},
   "source": [
    "import numpy as np\n",
    "\n",
    "N  = 3\n",
    "magic_square = np.zeros((N,N), dtype=int)\n",
    "\n",
    "n = 1\n",
    "i, j = 0, N//2\n",
    "\n",
    "while n <= N**2:\n",
    "    magic_square[i, j] = n\n",
    "    n += 1\n",
    "    newi, newj = (i-1) % N, (j+1)% N\n",
    "    if magic_square[newi, newj]:\n",
    "        i += 1\n",
    "    else:\n",
    "        i, j = newi, newj\n",
    "\n",
    "magic_square"
   ]
  },
  {
   "cell_type": "code",
   "execution_count": 2,
   "metadata": {
    "collapsed": true
   },
   "outputs": [],
   "source": [
    "from ipywidgets import *\n",
    "import pandas as pd"
   ]
  },
  {
   "cell_type": "code",
   "execution_count": null,
   "metadata": {
    "collapsed": true
   },
   "outputs": [],
   "source": []
  },
  {
   "cell_type": "code",
   "execution_count": 3,
   "metadata": {
    "collapsed": true
   },
   "outputs": [],
   "source": [
    "uuu = BalancedTernary(int(666))\n",
    "guu = BalancedTernary(int(667))\n",
    "cuu = BalancedTernary(int(668))\n",
    "auu = BalancedTernary(int(669))\n",
    "ugu = BalancedTernary(int(676))\n",
    "ggu = BalancedTernary(int(677))\n",
    "cgu = BalancedTernary(int(678))\n",
    "agu = BalancedTernary(int(679))\n",
    "ucu = BalancedTernary(int(686))\n",
    "gcu = BalancedTernary(int(687))"
   ]
  },
  {
   "cell_type": "code",
   "execution_count": 4,
   "metadata": {},
   "outputs": [
    {
     "data": {
      "text/html": [
       "<div>\n",
       "<style scoped>\n",
       "    .dataframe tbody tr th:only-of-type {\n",
       "        vertical-align: middle;\n",
       "    }\n",
       "\n",
       "    .dataframe tbody tr th {\n",
       "        vertical-align: top;\n",
       "    }\n",
       "\n",
       "    .dataframe thead th {\n",
       "        text-align: right;\n",
       "    }\n",
       "</style>\n",
       "<table border=\"1\" class=\"dataframe\">\n",
       "  <thead>\n",
       "    <tr style=\"text-align: right;\">\n",
       "      <th></th>\n",
       "      <th>A</th>\n",
       "      <th>C</th>\n",
       "      <th>G</th>\n",
       "      <th>U</th>\n",
       "    </tr>\n",
       "  </thead>\n",
       "  <tbody>\n",
       "    <tr>\n",
       "      <th>0</th>\n",
       "      <td>+0-+-+0</td>\n",
       "      <td>+0-+-+-</td>\n",
       "      <td>+0-+-0+</td>\n",
       "      <td>+0-+-00</td>\n",
       "    </tr>\n",
       "    <tr>\n",
       "      <th>1</th>\n",
       "      <td>+0-+0++</td>\n",
       "      <td>+0-+0+0</td>\n",
       "      <td>+0-+0+-</td>\n",
       "      <td>+0-+00+</td>\n",
       "    </tr>\n",
       "    <tr>\n",
       "      <th>2</th>\n",
       "      <td>+0-+++0</td>\n",
       "      <td>+0-+++0</td>\n",
       "      <td>+0-+++0</td>\n",
       "      <td>+0-+++-</td>\n",
       "    </tr>\n",
       "  </tbody>\n",
       "</table>\n",
       "</div>"
      ],
      "text/plain": [
       "         A        C        G        U\n",
       "0  +0-+-+0  +0-+-+-  +0-+-0+  +0-+-00\n",
       "1  +0-+0++  +0-+0+0  +0-+0+-  +0-+00+\n",
       "2  +0-+++0  +0-+++0  +0-+++0  +0-+++-"
      ]
     },
     "execution_count": 4,
     "metadata": {},
     "output_type": "execute_result"
    }
   ],
   "source": [
    "du = pd.DataFrame({\"U\":[uuu,ugu,ucu],\n",
    "                   \"G\":[guu,ggu,gcu],\n",
    "                   \"C\":[cuu,cgu,gcu],\n",
    "                   \"A\":[auu,agu,gcu]})\n",
    "du"
   ]
  },
  {
   "cell_type": "markdown",
   "metadata": {},
   "source": [
    "a=magic_square\n",
    "table(a())"
   ]
  },
  {
   "cell_type": "code",
   "execution_count": 5,
   "metadata": {
    "collapsed": true
   },
   "outputs": [],
   "source": [
    "def magic(n):\n",
    "    for row in range(1, n + 1):\n",
    "        print(' '.join('%*i' % (len(str(n**2)), cell) for cell in\n",
    "                       (n * ((row + col - 1 + n // 2) % n) +\n",
    "                       ((row + 2 * col - 2) % n) + 1\n",
    "                       for col in range(1, n + 1))))\n",
    "# print('\\nAll sum to magic number %i' % ((n * n + 1) * n // 2))"
   ]
  },
  {
   "cell_type": "code",
   "execution_count": 6,
   "metadata": {
    "collapsed": true
   },
   "outputs": [],
   "source": [
    "rows = [[8, 1, 6], [3,5,7], [4,9,2]]"
   ]
  },
  {
   "cell_type": "code",
   "execution_count": 26,
   "metadata": {},
   "outputs": [
    {
     "data": {
      "text/html": [
       "<div class=\"notruncate\">\n",
       "<table  class=\"table_form\">\n",
       "<tbody>\n",
       "<tr class =\"row-a\">\n",
       "<td><script type=\"math/tex\">8</script></td>\n",
       "<td><script type=\"math/tex\">1</script></td>\n",
       "<td><script type=\"math/tex\">6</script></td>\n",
       "</tr>\n",
       "<tr class =\"row-b\">\n",
       "<td><script type=\"math/tex\">3</script></td>\n",
       "<td><script type=\"math/tex\">5</script></td>\n",
       "<td><script type=\"math/tex\">7</script></td>\n",
       "</tr>\n",
       "<tr class =\"row-a\">\n",
       "<td><script type=\"math/tex\">4</script></td>\n",
       "<td><script type=\"math/tex\">9</script></td>\n",
       "<td><script type=\"math/tex\">2</script></td>\n",
       "</tr>\n",
       "</tbody>\n",
       "</table>\n",
       "</div>"
      ],
      "text/plain": [
       "  8   1   6\n",
       "  3   5   7\n",
       "  4   9   2"
      ]
     },
     "metadata": {},
     "output_type": "display_data"
    }
   ],
   "source": [
    "show(table(rows=rows),frame=True)"
   ]
  },
  {
   "cell_type": "code",
   "execution_count": 8,
   "metadata": {},
   "outputs": [
    {
     "name": "stdout",
     "output_type": "stream",
     "text": [
      "8 1 6\n",
      "3 5 7\n",
      "4 9 2\n"
     ]
    }
   ],
   "source": [
    "magic(3)"
   ]
  },
  {
   "cell_type": "code",
   "execution_count": 9,
   "metadata": {},
   "outputs": [
    {
     "data": {
      "text/plain": [
       "(8, 9)"
      ]
     },
     "execution_count": 9,
     "metadata": {},
     "output_type": "execute_result"
    }
   ],
   "source": [
    "2^3,3^2 "
   ]
  },
  {
   "cell_type": "code",
   "execution_count": 10,
   "metadata": {
    "collapsed": true
   },
   "outputs": [],
   "source": [
    "from pandas import DataFrame, read_csv\n",
    "\n",
    "# General syntax to import a library but no functions: \n",
    "##import (library) as (give the library a nickname/alias)\n",
    "import matplotlib.pyplot as plt\n",
    "import pandas as pd #this is how I usually import pandas\n",
    "import sys #only needed to determine Python version number\n",
    "import matplotlib"
   ]
  },
  {
   "cell_type": "code",
   "execution_count": 16,
   "metadata": {},
   "outputs": [
    {
     "name": "stdout",
     "output_type": "stream",
     "text": [
      "Python version 2.7.13 (default, Jul 22 2017, 10:05:34) \n",
      "[GCC 5.4.0 20160609]\n",
      "Pandas version 0.21.0\n",
      "Matplotlib version 1.5.1\n"
     ]
    }
   ],
   "source": [
    "%display latex\n",
    "%matplotlib inline\n",
    "print('Python version ' + sys.version)\n",
    "print('Pandas version ' + pd.__version__)\n",
    "print('Matplotlib version ' + matplotlib.__version__)\n"
   ]
  },
  {
   "cell_type": "code",
   "execution_count": 20,
   "metadata": {
    "collapsed": true
   },
   "outputs": [],
   "source": [
    "from prettytable import PrettyTable"
   ]
  },
  {
   "cell_type": "code",
   "execution_count": 47,
   "metadata": {},
   "outputs": [
    {
     "name": "stdout",
     "output_type": "stream",
     "text": [
      "╒═══╤═══╤═══╕\n",
      "│ 8 │ 1 │ 6 │\n",
      "├───┼───┼───┤\n",
      "│ 3 │ 5 │ 7 │\n",
      "├───┼───┼───┤\n",
      "│ 4 │ 9 │ 2 │\n",
      "╘═══╧═══╧═══╛\n"
     ]
    }
   ],
   "source": [
    "from tabulate import tabulate\n",
    "tb=[[8,1,6],[3,5,7],[4,9,2]]\n",
    "print tabulate(tb,tablefmt=\"fancy_grid\")"
   ]
  },
  {
   "cell_type": "code",
   "execution_count": null,
   "metadata": {
    "collapsed": true
   },
   "outputs": [],
   "source": []
  }
 ],
 "metadata": {
  "kernelspec": {
   "display_name": "Sage 8.1",
   "language": "",
   "name": "sage"
  },
  "language_info": {
   "codemirror_mode": {
    "name": "ipython",
    "version": 2
   },
   "file_extension": ".py",
   "mimetype": "text/x-python",
   "name": "python",
   "nbconvert_exporter": "python",
   "pygments_lexer": "ipython2",
   "version": "2.7.14"
  }
 },
 "nbformat": 4,
 "nbformat_minor": 2
}
