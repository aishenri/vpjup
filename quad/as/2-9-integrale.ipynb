{
 "cells": [
  {
   "cell_type": "code",
   "execution_count": 1,
   "metadata": {},
   "outputs": [],
   "source": [
    "%display latex\n",
    "#from sympy import init_printing\n",
    "#init_printing(use_latex=\"mathjax\")\n",
    "#from sympy import Integral,integrate,sin,pi,Eq"
   ]
  },
  {
   "cell_type": "code",
   "execution_count": 2,
   "metadata": {},
   "outputs": [],
   "source": [
    "#A=Integral(sin(x),(x,0,pi));Eq(A)\n",
    "#B=integrate(sin(x),(x,0,pi));Eq(A,B)"
   ]
  },
  {
   "cell_type": "code",
   "execution_count": 3,
   "metadata": {},
   "outputs": [
    {
     "data": {
      "application/vnd.jupyter.widget-view+json": {
       "model_id": "6ab785ed4f2b4e1d9d87cad36086fbed",
       "version_major": 2,
       "version_minor": 0
      },
      "text/plain": [
       "SW50ZXJhY3RpdmUgZnVuY3Rpb24gPGZ1bmN0aW9uIF8gYXQgMHg3ZmQ4ZGJiNTIzMjA+IHdpdGggMSB3aWRnZXQKICBjOiBJbnRTbGlkZXIodmFsdWU9MCwgZGVzY3JpcHRpb249dSdjJywgbWHigKY=\n"
      ]
     },
     "metadata": {},
     "output_type": "display_data"
    }
   ],
   "source": [
    "f(x)=x^3+1\n",
    "@interact\n",
    "def _(c=(1/3,(-1,1))):\n",
    "    P=plot(f,(x,-1,1))\n",
    "    fprime=derivative(f,x)\n",
    "    L(x)=fprime(c)*(x-c)+f(c)\n",
    "    Q=plot(L,(x,-1,1),color=\"red\", linestyle=\"--\")\n",
    "    show(P+Q+point((c,f(c)), pointsize=40, color='red'),ymin=0,ymax=2)\n",
    "\n"
   ]
  },
  {
   "cell_type": "code",
   "execution_count": 4,
   "metadata": {},
   "outputs": [
    {
     "data": {
      "text/html": [
       "<html><script type=\"math/tex; mode=display\">\\newcommand{\\Bold}[1]{\\mathbf{#1}}\\left(a, b\\right)</script></html>"
      ],
      "text/plain": [
       "(a, b)"
      ]
     },
     "execution_count": 4,
     "metadata": {},
     "output_type": "execute_result"
    }
   ],
   "source": [
    "%display latex\n",
    "var('a,b')"
   ]
  },
  {
   "cell_type": "code",
   "execution_count": 5,
   "metadata": {},
   "outputs": [
    {
     "data": {
      "text/html": [
       "<html><script type=\"math/tex; mode=display\">\\newcommand{\\Bold}[1]{\\mathbf{#1}}-\\sin\\left(a\\right) + \\sin\\left(b\\right)</script></html>"
      ],
      "text/plain": [
       "-sin(a) + sin(b)"
      ]
     },
     "execution_count": 5,
     "metadata": {},
     "output_type": "execute_result"
    }
   ],
   "source": [
    "integral(cos(x),(x,a,b))"
   ]
  },
  {
   "cell_type": "code",
   "execution_count": 10,
   "metadata": {},
   "outputs": [
    {
     "data": {
      "text/html": [
       "<html><script type=\"math/tex; mode=display\">\\newcommand{\\Bold}[1]{\\mathbf{#1}}\\int_0^{\\pi}sin(x)dx= 2</script></html>"
      ],
      "text/plain": [
       "\\int_0^{\\pi}sin(x)dx= 2"
      ]
     },
     "metadata": {},
     "output_type": "display_data"
    }
   ],
   "source": [
    "from sage.symbolic.integration.integral import definite_integral\n",
    "p=sin(x)\n",
    "r=LatexExpr(\"\\int_0^{\\pi}sin(x)dx=\")\n",
    "q=definite_integral(p,x,0,pi)\n",
    "show(r+latex(q))"
   ]
  },
  {
   "cell_type": "code",
   "execution_count": 7,
   "metadata": {},
   "outputs": [
    {
     "data": {
      "application/vnd.jupyter.widget-view+json": {
       "model_id": "85551296b2ef4ce5b1fb3f02c5dcea45",
       "version_major": 2,
       "version_minor": 0
      },
      "text/plain": [
       "TWFudWFsIGludGVyYWN0aXZlIGZ1bmN0aW9uIDxmdW5jdGlvbiBpbnRlZ3JhbCBhdCAweDdmZDhkNjBmMmY1MD4gd2l0aCA0IHdpZGdldHMKICBmOiBFdmFsVGV4dCh2YWx1ZT11J3heMyAtIDPigKY=\n"
      ]
     },
     "metadata": {},
     "output_type": "display_data"
    }
   ],
   "source": [
    "from sage.symbolic.integration.integral import definite_integral\n",
    "\n",
    "# inputs : a function f and an interval [a,b].\n",
    "# outputs : the value of a definite integral f at [a,b], the area under (above) f\n",
    "# author: P. Szabó, 12 March 2018\n",
    "\n",
    "@interact\n",
    "def integral(\n",
    "    f = input_box(default = x^3-3*x^2+2*x) ,\n",
    "    a = input_box(default =  -0.5) ,\n",
    "    b = input_box(default = 2.5),\n",
    "    gr = selector(values = [\"Yes\", \"No\"],\n",
    "                 label = \"Graph\", default = \"No\" ), auto_update=False):\n",
    "    show(\"Integral computation\")\n",
    "    f(x)=f\n",
    "    r=LatexExpr(\"\\int_a^{b}(\")+latex(f(x))+LatexExpr(\")dx=\")\n",
    "    q=definite_integral(f(x),x,a,b)\n",
    "    show(r+latex(q))\n",
    "    if (gr == \"Yes\"):\n",
    "        r=plot(f(x),x,a,b,gridlines='minor', title=\"$ f(x)=\"+str(f(x))+\" $\", fillcolor = \"yellow\", fill = true)\n",
    "        r.show()\n"
   ]
  },
  {
   "cell_type": "code",
   "execution_count": 8,
   "metadata": {},
   "outputs": [
    {
     "data": {
      "application/vnd.jupyter.widget-view+json": {
       "model_id": "a712c9fe55384da38813b8fae0cc0a3d",
       "version_major": 2,
       "version_minor": 0
      },
      "text/plain": [
       "SW50ZXJhY3RpdmUgZnVuY3Rpb24gPGZ1bmN0aW9uIFJpZW1hbm5TdW0gYXQgMHg3ZmQ4ZGRkNGQ3NTg+IHdpdGggNCB3aWRnZXRzCiAgZjogRXZhbFRleHQodmFsdWU9dSd4XjMgLSAzKnheMiDigKY=\n"
      ]
     },
     "metadata": {},
     "output_type": "display_data"
    }
   ],
   "source": [
    "# Riemann Sum and Sage Interact - an example\n",
    "@interact\n",
    "def RiemannSum(\n",
    "    f = input_box(default = x^3-3*x^2+2*x) ,\n",
    "    a = input_box(default =  0) ,\n",
    "    b = input_box(default = 2) ,\n",
    "    n = slider(vmin = 1, vmax = 100, default = 8, step_size=1)  ):\n",
    "    f(x)=f\n",
    "    #plot the function\n",
    "    p = plot(f, x, a,b, color = \"red\", thickness = 4, \\\n",
    "             alpha = 0.5, fillcolor = \"blue\", fill = true)\n",
    "    dx = (b-a)/n\n",
    "    #plot each trapezoids\n",
    "    for i in [1,2,..,n]:\n",
    "    #for the shading ...\n",
    "        xbegin = a+(i-1)*dx\n",
    "        xend   = a+i*dx\n",
    "        p += polygon( [(xbegin,0),  (xend,0),               \\\n",
    "                       (xend, f(xend)), (xbegin,f(xend))],  \\\n",
    "                       color=\"yellow\",alpha = 0.5, aspect_ratio=\n",
    "                       \"automatic\")\n",
    "       #these are optional for a better graph:\n",
    "        p += line([(xend,0), (xend, f(xend))], color = \"black\")\n",
    "        p += line([(xend, f(xend)), (xbegin,f(xend))], color = \"black\")\n",
    "        p += line([(xbegin, f(xend)),(xbegin,0) ], color = \"black\")\n",
    "    p.show(title = \"Riemann Sum with Right Endpoints\", ticks = dx)"
   ]
  },
  {
   "cell_type": "code",
   "execution_count": 15,
   "metadata": {},
   "outputs": [
    {
     "data": {
      "application/vnd.jupyter.widget-view+json": {
       "model_id": "881ff3746f3b405fb482785834dc4007",
       "version_major": 2,
       "version_minor": 0
      },
      "text/plain": [
       "SW50ZXJhY3RpdmUgZnVuY3Rpb24gPGZ1bmN0aW9uIF8gYXQgMHg3ZmQ4ZDYwZDg4YzA+IHdpdGggMiB3aWRnZXRzCiAgdDogRHJvcGRvd24oZGVzY3JpcHRpb249dSd0Jywgb3B0aW9ucz0oMS/igKY=\n"
      ]
     },
     "metadata": {},
     "output_type": "display_data"
    }
   ],
   "source": [
    "var('y') \n",
    "@interact \n",
    "def _(t = [pi/6*n for n in [2..18]],start=[0,pi/6]): \n",
    "    P = plot(1/2*sin(y),(x,start,t),fill=True,tick_formatter=pi,ticks=pi/6) \n",
    "    Q = plot(1/2*sin(y),(x,start,3*pi),tick_formatter=pi,ticks=pi/6) \n",
    "    show(P+Q,figsize=5) "
   ]
  },
  {
   "cell_type": "code",
   "execution_count": null,
   "metadata": {},
   "outputs": [],
   "source": []
  }
 ],
 "metadata": {
  "kernelspec": {
   "display_name": "SageMath 8.4.beta3",
   "language": "",
   "name": "sagemath"
  },
  "language_info": {
   "codemirror_mode": {
    "name": "ipython",
    "version": 2
   },
   "file_extension": ".py",
   "mimetype": "text/x-python",
   "name": "python",
   "nbconvert_exporter": "python",
   "pygments_lexer": "ipython2",
   "version": "2.7.15"
  }
 },
 "nbformat": 4,
 "nbformat_minor": 2
}
