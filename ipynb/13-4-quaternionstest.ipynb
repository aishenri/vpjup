{
 "cells": [
  {
   "cell_type": "code",
   "execution_count": 1,
   "metadata": {},
   "outputs": [],
   "source": [
    "%display latex\n",
    "from sage.algebras.quatalg.quaternion_algebra \\\n",
    "import basis_for_quaternion_lattice"
   ]
  },
  {
   "cell_type": "code",
   "execution_count": 2,
   "metadata": {},
   "outputs": [],
   "source": [
    "A.<i,j,k> = QuaternionAlgebra(1,9)"
   ]
  },
  {
   "cell_type": "code",
   "execution_count": 3,
   "metadata": {},
   "outputs": [
    {
     "data": {
      "text/html": [
       "<html><script type=\"math/tex; mode=display\">\\newcommand{\\Bold}[1]{\\mathbf{#1}}\\left[1, \\verb|i|, \\verb|j|, \\verb|k|\\right]</script></html>"
      ],
      "text/plain": [
       "[1, i, j, k]"
      ]
     },
     "execution_count": 3,
     "metadata": {},
     "output_type": "execute_result"
    }
   ],
   "source": [
    "basis_for_quaternion_lattice([A(1),i,j,k])"
   ]
  },
  {
   "cell_type": "code",
   "execution_count": 4,
   "metadata": {},
   "outputs": [],
   "source": [
    "from sage.algebras.quatalg.quaternion_algebra \\\n",
    "import normalize_basis_at_p"
   ]
  },
  {
   "cell_type": "code",
   "execution_count": 5,
   "metadata": {},
   "outputs": [],
   "source": [
    "A.<i,j,k> = QuaternionAlgebra(-1, -1)"
   ]
  },
  {
   "cell_type": "code",
   "execution_count": 6,
   "metadata": {},
   "outputs": [
    {
     "data": {
      "text/html": [
       "<html><script type=\"math/tex; mode=display\">\\newcommand{\\Bold}[1]{\\mathbf{#1}}\\left[1, \\verb|i|, \\verb|j|, \\verb|k|\\right]</script></html>"
      ],
      "text/plain": [
       "[1, i, j, k]"
      ]
     },
     "execution_count": 6,
     "metadata": {},
     "output_type": "execute_result"
    }
   ],
   "source": [
    "e = [A(1), i, j, k];e"
   ]
  },
  {
   "cell_type": "code",
   "execution_count": 7,
   "metadata": {},
   "outputs": [
    {
     "data": {
      "text/html": [
       "<html><script type=\"math/tex; mode=display\">\\newcommand{\\Bold}[1]{\\mathbf{#1}}\\left[\\left(1, 0\\right), \\left(\\verb|i|, 0\\right), \\left(\\verb|j|, 0\\right), \\left(\\verb|k|, 0\\right)\\right]</script></html>"
      ],
      "text/plain": [
       "[(1, 0), (i, 0), (j, 0), (k, 0)]"
      ]
     },
     "execution_count": 7,
     "metadata": {},
     "output_type": "execute_result"
    }
   ],
   "source": [
    "normalize_basis_at_p(e, 2)"
   ]
  },
  {
   "cell_type": "code",
   "execution_count": 8,
   "metadata": {},
   "outputs": [
    {
     "data": {
      "text/html": [
       "<html><script type=\"math/tex; mode=display\">\\newcommand{\\Bold}[1]{\\mathbf{#1}}\\verb|2|\\phantom{\\verb!x!}\\verb|-|\\phantom{\\verb!x!}\\verb|3*i|\\phantom{\\verb!x!}\\verb|+|\\phantom{\\verb!x!}\\verb|j|</script></html>"
      ],
      "text/plain": [
       "2 - 3*i + j"
      ]
     },
     "execution_count": 8,
     "metadata": {},
     "output_type": "execute_result"
    }
   ],
   "source": [
    "A.<i,j,k> = QuaternionAlgebra(QQ,-5,-2)\n",
    "a = 3*i - j + 2\n",
    "a.conjugate()"
   ]
  },
  {
   "cell_type": "code",
   "execution_count": 9,
   "metadata": {},
   "outputs": [],
   "source": [
    "K.<x,y,z,w,a,b> = QQ[]"
   ]
  },
  {
   "cell_type": "code",
   "execution_count": 10,
   "metadata": {},
   "outputs": [],
   "source": [
    "Q.<i,j,k> = QuaternionAlgebra(a,b)"
   ]
  },
  {
   "cell_type": "code",
   "execution_count": 11,
   "metadata": {},
   "outputs": [],
   "source": [
    "theta = x+y*i+z*j+w*k"
   ]
  },
  {
   "cell_type": "code",
   "execution_count": 12,
   "metadata": {},
   "outputs": [
    {
     "data": {
      "text/html": [
       "<html><script type=\"math/tex; mode=display\">\\newcommand{\\Bold}[1]{\\mathbf{#1}}\\verb|x|\\phantom{\\verb!x!}\\verb|+|\\phantom{\\verb!x!}\\verb|(-y)*i|\\phantom{\\verb!x!}\\verb|+|\\phantom{\\verb!x!}\\verb|(-z)*j|\\phantom{\\verb!x!}\\verb|+|\\phantom{\\verb!x!}\\verb|(-w)*k|</script></html>"
      ],
      "text/plain": [
       "x + (-y)*i + (-z)*j + (-w)*k"
      ]
     },
     "execution_count": 12,
     "metadata": {},
     "output_type": "execute_result"
    }
   ],
   "source": [
    "theta.conjugate()"
   ]
  },
  {
   "cell_type": "code",
   "execution_count": 13,
   "metadata": {},
   "outputs": [],
   "source": [
    "Q.<i,j,k> = QuaternionAlgebra(SR, -1, -1)"
   ]
  },
  {
   "cell_type": "code",
   "execution_count": 14,
   "metadata": {},
   "outputs": [
    {
     "data": {
      "text/html": [
       "<html><script type=\"math/tex; mode=display\">\\newcommand{\\Bold}[1]{\\mathbf{#1}}\\verb|a*i|\\phantom{\\verb!x!}\\verb|+|\\phantom{\\verb!x!}\\verb|b*j|\\phantom{\\verb!x!}\\verb|+|\\phantom{\\verb!x!}\\verb|c*k|</script></html>"
      ],
      "text/plain": [
       "a*i + b*j + c*k"
      ]
     },
     "execution_count": 14,
     "metadata": {},
     "output_type": "execute_result"
    }
   ],
   "source": [
    "var(\"a b c\")\n",
    "q = a*i + b*j + c*k;q"
   ]
  },
  {
   "cell_type": "code",
   "execution_count": 15,
   "metadata": {},
   "outputs": [
    {
     "data": {
      "text/html": [
       "<html><script type=\"math/tex; mode=display\">\\newcommand{\\Bold}[1]{\\mathbf{#1}}\\verb|-a^2|\\phantom{\\verb!x!}\\verb|-|\\phantom{\\verb!x!}\\verb|b^2|\\phantom{\\verb!x!}\\verb|-|\\phantom{\\verb!x!}\\verb|c^2|</script></html>"
      ],
      "text/plain": [
       "-a^2 - b^2 - c^2"
      ]
     },
     "execution_count": 15,
     "metadata": {},
     "output_type": "execute_result"
    }
   ],
   "source": [
    "q^2 # rotation 180"
   ]
  },
  {
   "cell_type": "code",
   "execution_count": 16,
   "metadata": {},
   "outputs": [
    {
     "data": {
      "text/html": [
       "<html><script type=\"math/tex; mode=display\">\\newcommand{\\Bold}[1]{\\mathbf{#1}}\\verb|a*i|\\phantom{\\verb!x!}\\verb|+|\\phantom{\\verb!x!}\\verb|b*j|\\phantom{\\verb!x!}\\verb|+|\\phantom{\\verb!x!}\\verb|c*k|</script></html>"
      ],
      "text/plain": [
       "a*i + b*j + c*k"
      ]
     },
     "execution_count": 16,
     "metadata": {},
     "output_type": "execute_result"
    }
   ],
   "source": [
    "q^4 # rotation 360"
   ]
  },
  {
   "cell_type": "code",
   "execution_count": 17,
   "metadata": {},
   "outputs": [],
   "source": [
    "## Quaternion: a + bi + cj + dk \n",
    "## Quaternion as a vector: <a, b, c, d> \n",
    "## Quaternion as a Matrix: \n",
    "#matrix([[a,b,c,d],[-b,a,-d,c],[-c,d,a,-b],[-d,-c,b,a]])"
   ]
  },
  {
   "cell_type": "markdown",
   "metadata": {},
   "source": [
    "   │ 1   i   j   k\n",
    "   \n",
    " ──┼───────────────\n",
    " \n",
    " 1 │ 1   i   j   k\n",
    " \n",
    " i │ i  -1   k  -j\n",
    " \n",
    " j │ j  -k  -1   i\n",
    " \n",
    " k │ k   j  -i  -1\n",
    " "
   ]
  },
  {
   "cell_type": "code",
   "execution_count": 34,
   "metadata": {},
   "outputs": [
    {
     "data": {
      "text/html": [
       "<html><script type=\"math/tex; mode=display\">\\newcommand{\\Bold}[1]{\\mathbf{#1}}\\left(\\left(\\begin{array}{rr}\n",
       "0 & 1 \\\\\n",
       "1 & 0\n",
       "\\end{array}\\right), \\left(\\begin{array}{rr}\n",
       "0 & \\verb|-i| \\\\\n",
       "\\verb|i| & 0\n",
       "\\end{array}\\right), \\left(\\begin{array}{rr}\n",
       "1 & 0 \\\\\n",
       "0 & -1\n",
       "\\end{array}\\right)\\right)</script></html>"
      ],
      "text/plain": [
       "(\n",
       "[0 1]  [ 0 -i]  [ 1  0]\n",
       "[1 0], [ i  0], [ 0 -1]\n",
       ")"
      ]
     },
     "execution_count": 34,
     "metadata": {},
     "output_type": "execute_result"
    }
   ],
   "source": [
    "%display latex\n",
    "o=matrix([[0,1],[1,0]]);o\n",
    "p=matrix([[0,-i],[i,0]]);p\n",
    "q=matrix([[1,0],[0,-1]]);q\n",
    "o,p,q"
   ]
  },
  {
   "cell_type": "code",
   "execution_count": 46,
   "metadata": {},
   "outputs": [
    {
     "data": {
      "text/html": [
       "<html><script type=\"math/tex; mode=display\">\\newcommand{\\Bold}[1]{\\mathbf{#1}}\\left(\\begin{array}{rr}\n",
       "\\verb|i| & 0 \\\\\n",
       "0 & \\verb|i|\n",
       "\\end{array}\\right)</script></html>"
      ],
      "text/plain": [
       "[i 0]\n",
       "[0 i]"
      ]
     },
     "execution_count": 46,
     "metadata": {},
     "output_type": "execute_result"
    }
   ],
   "source": [
    "p*q*o"
   ]
  },
  {
   "cell_type": "code",
   "execution_count": 47,
   "metadata": {},
   "outputs": [
    {
     "data": {
      "text/html": [
       "<html><script type=\"math/tex; mode=display\">\\newcommand{\\Bold}[1]{\\mathbf{#1}}\\left(\\begin{array}{rr}\n",
       "1 & 0 \\\\\n",
       "0 & 1\n",
       "\\end{array}\\right)</script></html>"
      ],
      "text/plain": [
       "[1 0]\n",
       "[0 1]"
      ]
     },
     "execution_count": 47,
     "metadata": {},
     "output_type": "execute_result"
    }
   ],
   "source": [
    "d=matrix([[1,0],[0,1]]);d"
   ]
  },
  {
   "cell_type": "code",
   "execution_count": null,
   "metadata": {},
   "outputs": [],
   "source": []
  }
 ],
 "metadata": {
  "kernelspec": {
   "display_name": "SageMath 8.1",
   "language": "",
   "name": "sagemath"
  },
  "language_info": {
   "codemirror_mode": {
    "name": "ipython",
    "version": 2
   },
   "file_extension": ".py",
   "mimetype": "text/x-python",
   "name": "python",
   "nbconvert_exporter": "python",
   "pygments_lexer": "ipython2",
   "version": "2.7.14+"
  }
 },
 "nbformat": 4,
 "nbformat_minor": 2
}
