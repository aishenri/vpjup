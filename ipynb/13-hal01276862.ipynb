{
 "cells": [
  {
   "cell_type": "code",
   "execution_count": 1,
   "metadata": {},
   "outputs": [],
   "source": [
    "%display latex\n",
    "from  scipy  import *\n",
    "import  numpy as np"
   ]
  },
  {
   "cell_type": "code",
   "execution_count": null,
   "metadata": {},
   "outputs": [],
   "source": [
    "def F(j, T):\n",
    "    l= len(T)\n",
    "    U=[l+1]\n",
    "    U=[0]*(l+1)\n",
    "    U[0]=T[0]-1\n",
    "    for i in  range(1,l):\n",
    "        U[i+1]=T[i]\n",
    "    U[1]=j\n",
    "    return U"
   ]
  },
  {
   "cell_type": "code",
   "execution_count": null,
   "metadata": {},
   "outputs": [],
   "source": [
    "n=int(input ())\n",
    "G=np.eye(n,n)\n",
    "for i in  range(n):\n",
    "    for j in  range(n):\n",
    "        print (\"Entrez G(i,j)\",i,j)\n",
    "        G[i][j] = int(input ())\n",
    "d={}\n",
    "d[0]=[[n,0]]\n",
    "for j in  range(n):\n",
    "    if G[0][j]==1  and  0!=j :\n",
    "        d[j]=[[n-1,j,0]]\n",
    "        else :\n",
    "            d[j]=[[0 ,j]]"
   ]
  },
  {
   "cell_type": "code",
   "execution_count": null,
   "metadata": {},
   "outputs": [],
   "source": []
  }
 ],
 "metadata": {
  "kernelspec": {
   "display_name": "SageMath 8.1",
   "language": "",
   "name": "sagemath"
  },
  "language_info": {
   "codemirror_mode": {
    "name": "ipython",
    "version": 2
   },
   "file_extension": ".py",
   "mimetype": "text/x-python",
   "name": "python",
   "nbconvert_exporter": "python",
   "pygments_lexer": "ipython2",
   "version": "2.7.14+"
  }
 },
 "nbformat": 4,
 "nbformat_minor": 2
}
