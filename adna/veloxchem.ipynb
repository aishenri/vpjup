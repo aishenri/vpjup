{
 "cells": [
  {
   "cell_type": "code",
   "execution_count": 1,
   "id": "0d991830",
   "metadata": {},
   "outputs": [
    {
     "name": "stdout",
     "output_type": "stream",
     "text": [
      "* Warning * Environment variable OMP_NUM_THREADS not set.\n",
      "* Warning * Setting OMP_NUM_THREADS to 16.\n"
     ]
    }
   ],
   "source": [
    "import veloxchem as vlx"
   ]
  },
  {
   "cell_type": "code",
   "execution_count": 3,
   "id": "ff75a90f",
   "metadata": {},
   "outputs": [
    {
     "name": "stdout",
     "output_type": "stream",
     "text": [
      "* Info * Reading basis set from file: /home/pi/co/envs/rdk/lib/python3.10/site-packages/veloxchem/basis/DEF2-SVP          \n",
      "                                                                                                                          \n",
      "                                              Molecular Basis (Atomic Basis)                                              \n",
      "                                             ================================                                             \n",
      "                                                                                                                          \n",
      "                                  Basis: DEF2-SVP                                                                         \n",
      "                                                                                                                          \n",
      "                                  Atom Contracted GTOs          Primitive GTOs                                            \n",
      "                                                                                                                          \n",
      "                                   O   (3S,2P,1D)               (7S,4P,1D)                                                \n",
      "                                   H   (2S,1P)                  (4S,1P)                                                   \n",
      "                                                                                                                          \n",
      "                                  Contracted Basis Functions : 24                                                         \n",
      "                                  Primitive Basis Functions  : 38                                                         \n",
      "                                                                                                                          \n"
     ]
    }
   ],
   "source": [
    "import veloxchem as vlx\n",
    "\n",
    "molecule_string = \"\"\"\n",
    "    O 0 0 0\n",
    "    H 0 0 1.795239827225189\n",
    "    H 1.693194615993441 0 -0.599043184453037\"\"\"\n",
    "\n",
    "molecule = vlx.Molecule.read_str(molecule_string, units='angstrom')\n",
    "\n",
    "basis = vlx.MolecularBasis.read(molecule, 'def2-svp')\n",
    "\n",
    "scf_settings = {'conv_thresh': 1.0e-6}\n",
    "method_settings = {'xcfun': 'b3lyp', 'grid_level': 4}\n",
    "\n",
    "scfdrv = vlx.ScfRestrictedDriver()\n",
    "#scfdrv.update_settings(scf_settings, method_settings)\n",
    "#scfdrv.compute(molecule, basis)"
   ]
  },
  {
   "cell_type": "code",
   "execution_count": 4,
   "id": "72e31196",
   "metadata": {},
   "outputs": [
    {
     "ename": "NameError",
     "evalue": "name 'pyridine_xyz' is not defined",
     "output_type": "error",
     "traceback": [
      "\u001b[0;31m---------------------------------------------------------------------------\u001b[0m",
      "\u001b[0;31mNameError\u001b[0m                                 Traceback (most recent call last)",
      "Input \u001b[0;32mIn [4]\u001b[0m, in \u001b[0;36m<cell line: 6>\u001b[0;34m()\u001b[0m\n\u001b[1;32m      3\u001b[0m \u001b[38;5;66;03m# generate view\u001b[39;00m\n\u001b[1;32m      4\u001b[0m v \u001b[38;5;241m=\u001b[39m p3d\u001b[38;5;241m.\u001b[39mview(width\u001b[38;5;241m=\u001b[39m\u001b[38;5;241m400\u001b[39m, height\u001b[38;5;241m=\u001b[39m\u001b[38;5;241m400\u001b[39m)\n\u001b[0;32m----> 6\u001b[0m v\u001b[38;5;241m.\u001b[39maddModel(\u001b[43mpyridine_xyz\u001b[49m, \u001b[38;5;124m\"\u001b[39m\u001b[38;5;124mxyz\u001b[39m\u001b[38;5;124m\"\u001b[39m)\n\u001b[1;32m      7\u001b[0m v\u001b[38;5;241m.\u001b[39msetStyle({\u001b[38;5;124m'\u001b[39m\u001b[38;5;124mstick\u001b[39m\u001b[38;5;124m'\u001b[39m:{}})\n\u001b[1;32m      9\u001b[0m \u001b[38;5;28;01mwith\u001b[39;00m \u001b[38;5;28mopen\u001b[39m(\u001b[38;5;124m\"\u001b[39m\u001b[38;5;124mcube_1.cube\u001b[39m\u001b[38;5;124m\"\u001b[39m, \u001b[38;5;124m\"\u001b[39m\u001b[38;5;124mr\u001b[39m\u001b[38;5;124m\"\u001b[39m) \u001b[38;5;28;01mas\u001b[39;00m f:\n",
      "\u001b[0;31mNameError\u001b[0m: name 'pyridine_xyz' is not defined"
     ]
    }
   ],
   "source": [
    "import py3Dmol as p3d\n",
    "\n",
    "# generate view\n",
    "v = p3d.view(width=400, height=400)\n",
    "\n",
    "v.addModel(pyridine_xyz, \"xyz\")\n",
    "v.setStyle({'stick':{}})\n",
    "\n",
    "with open(\"cube_1.cube\", \"r\") as f:\n",
    "    cube = f.read()\n",
    "\n",
    "# negative lobe    \n",
    "v.addVolumetricData(cube, \"cube\", {\"isoval\": -0.02, \"color\": \"blue\", \"opacity\": 0.75})\n",
    "# positive lobe\n",
    "v.addVolumetricData(cube, \"cube\", {\"isoval\": 0.02, \"color\": \"red\", \"opacity\": 0.75})\n",
    "\n",
    "v.show()"
   ]
  },
  {
   "cell_type": "code",
   "execution_count": null,
   "id": "266751d8",
   "metadata": {},
   "outputs": [],
   "source": []
  }
 ],
 "metadata": {
  "kernelspec": {
   "display_name": "Python 3 (ipykernel)",
   "language": "python",
   "name": "python3"
  },
  "language_info": {
   "codemirror_mode": {
    "name": "ipython",
    "version": 3
   },
   "file_extension": ".py",
   "mimetype": "text/x-python",
   "name": "python",
   "nbconvert_exporter": "python",
   "pygments_lexer": "ipython3",
   "version": "3.10.6"
  }
 },
 "nbformat": 4,
 "nbformat_minor": 5
}
