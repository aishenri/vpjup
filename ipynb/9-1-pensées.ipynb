{
 "cells": [
  {
   "cell_type": "code",
   "execution_count": 1,
   "metadata": {},
   "outputs": [],
   "source": [
    "#%display latex"
   ]
  },
  {
   "cell_type": "code",
   "execution_count": 1,
   "metadata": {},
   "outputs": [],
   "source": [
    "var(\"n\")\n",
    "co=n^2+n+1"
   ]
  },
  {
   "cell_type": "code",
   "execution_count": 12,
   "metadata": {},
   "outputs": [
    {
     "data": {
      "text/plain": [
       "7"
      ]
     },
     "execution_count": 12,
     "metadata": {},
     "output_type": "execute_result"
    }
   ],
   "source": [
    "2^2+2+1"
   ]
  },
  {
   "cell_type": "markdown",
   "metadata": {},
   "source": [
    "###### Binaire égale le fond du gouffre !"
   ]
  },
  {
   "cell_type": "markdown",
   "metadata": {},
   "source": [
    "L'idée du binaire a démarré vers 1600, quand les jésuites sont allés en Chine et ont remarqué que le trigramme (aidé de Leibniz) pouvait être représenté par 0 et 1... Ce fût le début de la plus colossale erreur que l'humanité n'eût alors rencontrée et pire celà continue jusqu'à aujourd'hui lundi 9 avril 2018 à 11 heures !\n",
    "\n",
    "Mais c'est fini : Je viens annoncer que le trigramme est un sytème trinaire balancé ! - 0 +\n",
    "\n",
    "yin taiji yang : Sa déclinaison est simple\n",
    "tai ji = tai qi : qi le souffle, tai très grand, le très grand souffle. Dans la génese:1 \n",
    "\n",
    "L'esprit du bon Dieu se mouvait au-dessus des eaux.\n",
    "\n",
    "qi= esprit, éther, souffle 气 (On dirait un oiseau qui vole)"
   ]
  },
  {
   "cell_type": "code",
   "execution_count": null,
   "metadata": {},
   "outputs": [],
   "source": []
  }
 ],
 "metadata": {
  "kernelspec": {
   "display_name": "SageMath 8.1",
   "language": "",
   "name": "sagemath"
  },
  "language_info": {
   "codemirror_mode": {
    "name": "ipython",
    "version": 2
   },
   "file_extension": ".py",
   "mimetype": "text/x-python",
   "name": "python",
   "nbconvert_exporter": "python",
   "pygments_lexer": "ipython2",
   "version": "2.7.14"
  }
 },
 "nbformat": 4,
 "nbformat_minor": 2
}
