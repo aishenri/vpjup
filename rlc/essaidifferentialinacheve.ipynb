{
 "cells": [
  {
   "cell_type": "code",
   "execution_count": 1,
   "metadata": {
    "collapsed": true,
    "deletable": true,
    "editable": true
   },
   "outputs": [],
   "source": [
    "%display latex"
   ]
  },
  {
   "cell_type": "code",
   "execution_count": 2,
   "metadata": {
    "collapsed": false,
    "deletable": true,
    "editable": true
   },
   "outputs": [
    {
     "data": {
      "text/html": [
       "<html><script type=\"math/tex; mode=display\">\\newcommand{\\Bold}[1]{\\mathbf{#1}}\\left(t, L, C, R, q\\right)</script></html>"
      ],
      "text/plain": [
       "(t, L, C, R, q)"
      ]
     },
     "execution_count": 2,
     "metadata": {},
     "output_type": "execute_result"
    }
   ],
   "source": [
    "var(\"t ,L,C,R,q\")"
   ]
  },
  {
   "cell_type": "code",
   "execution_count": 3,
   "metadata": {
    "collapsed": false,
    "deletable": true,
    "editable": true
   },
   "outputs": [],
   "source": [
    "t = var('t') \n",
    "q = function('q')(t)\n",
    "u = function('C')(t)"
   ]
  },
  {
   "cell_type": "code",
   "execution_count": 4,
   "metadata": {
    "collapsed": false,
    "deletable": true,
    "editable": true
   },
   "outputs": [
    {
     "data": {
      "text/html": [
       "<html><script type=\"math/tex; mode=display\">\\newcommand{\\Bold}[1]{\\mathbf{#1}}R \\frac{\\partial}{\\partial t}q\\left(t\\right)</script></html>"
      ],
      "text/plain": [
       "R*diff(q(t), t)"
      ]
     },
     "execution_count": 4,
     "metadata": {},
     "output_type": "execute_result"
    }
   ],
   "source": [
    "i=diff(q)\n",
    "uR=diff(q)*R;uR"
   ]
  },
  {
   "cell_type": "code",
   "execution_count": 5,
   "metadata": {
    "collapsed": false,
    "deletable": true,
    "editable": true
   },
   "outputs": [
    {
     "data": {
      "text/html": [
       "<html><script type=\"math/tex; mode=display\">\\newcommand{\\Bold}[1]{\\mathbf{#1}}\\frac{\\partial^{2}}{(\\partial t)^{2}}q\\left(t\\right)</script></html>"
      ],
      "text/plain": [
       "diff(q(t), t, t)"
      ]
     },
     "execution_count": 5,
     "metadata": {},
     "output_type": "execute_result"
    }
   ],
   "source": [
    "uL=diff(i);uL"
   ]
  },
  {
   "cell_type": "code",
   "execution_count": 6,
   "metadata": {
    "collapsed": false,
    "deletable": true,
    "editable": true
   },
   "outputs": [
    {
     "data": {
      "text/html": [
       "<html><script type=\"math/tex; mode=display\">\\newcommand{\\Bold}[1]{\\mathbf{#1}}R \\frac{\\partial}{\\partial t}q\\left(t\\right) + L \\frac{\\partial^{2}}{(\\partial t)^{2}}q\\left(t\\right) = 0</script></html>"
      ],
      "text/plain": [
       "R*diff(q(t), t) + L*diff(q(t), t, t) == 0"
      ]
     },
     "execution_count": 6,
     "metadata": {},
     "output_type": "execute_result"
    }
   ],
   "source": [
    "L*(diff(q,t,2))+R*(diff(q,t))==0"
   ]
  },
  {
   "cell_type": "code",
   "execution_count": 7,
   "metadata": {
    "collapsed": false,
    "deletable": true,
    "editable": true
   },
   "outputs": [
    {
     "data": {
      "text/html": [
       "<html><script type=\"math/tex; mode=display\">\\newcommand{\\Bold}[1]{\\mathbf{#1}}K_{2} e^{\\left(-t\\right)} + K_{1} - t + 1</script></html>"
      ],
      "text/plain": [
       "_K2*e^(-t) + _K1 - t + 1"
      ]
     },
     "execution_count": 7,
     "metadata": {},
     "output_type": "execute_result"
    }
   ],
   "source": [
    "R=1;C=1;L=1\n",
    "#desolve=(L*(diff(q,t,2)+R*(diff(q,t)+uC*q,ics=[0,q,t])))\n",
    "de=desolve(L*diff(q,t,2) + R*diff(q)+C,q);de"
   ]
  },
  {
   "cell_type": "code",
   "execution_count": 8,
   "metadata": {
    "collapsed": false,
    "deletable": true,
    "editable": true
   },
   "outputs": [
    {
     "data": {
      "text/html": [
       "<html><script type=\"math/tex; mode=display\">\\newcommand{\\Bold}[1]{\\mathbf{#1}}\\left(\\mathit{Ur}, \\mathit{Ic}, \\mathit{Ul}, R\\right)</script></html>"
      ],
      "text/plain": [
       "(Ur, Ic, Ul, R)"
      ]
     },
     "execution_count": 8,
     "metadata": {},
     "output_type": "execute_result"
    }
   ],
   "source": [
    "var(\"Ur,Ic,Ul,R\")"
   ]
  },
  {
   "cell_type": "code",
   "execution_count": 9,
   "metadata": {
    "collapsed": false,
    "deletable": true,
    "editable": true
   },
   "outputs": [
    {
     "data": {
      "text/html": [
       "<html><script type=\"math/tex; mode=display\">\\newcommand{\\Bold}[1]{\\mathbf{#1}}\\left(c_{1}, c_{2}\\right)</script></html>"
      ],
      "text/plain": [
       "(c1, c2)"
      ]
     },
     "execution_count": 9,
     "metadata": {},
     "output_type": "execute_result"
    }
   ],
   "source": [
    "var(\"c1,c2\")"
   ]
  },
  {
   "cell_type": "code",
   "execution_count": 10,
   "metadata": {
    "collapsed": false,
    "deletable": true,
    "editable": true
   },
   "outputs": [
    {
     "data": {
      "text/html": [
       "<html><script type=\"math/tex; mode=display\">\\newcommand{\\Bold}[1]{\\mathbf{#1}}x\\left(t\\right) + \\frac{\\partial}{\\partial t}x\\left(t\\right)</script></html>"
      ],
      "text/plain": [
       "x(t) + diff(x(t), t)"
      ]
     },
     "execution_count": 10,
     "metadata": {},
     "output_type": "execute_result"
    }
   ],
   "source": [
    "x= function('x')(t)\n",
    "de=diff(x,t)+x;de"
   ]
  },
  {
   "cell_type": "code",
   "execution_count": 17,
   "metadata": {
    "collapsed": false,
    "deletable": true,
    "editable": true
   },
   "outputs": [
    {
     "data": {
      "text/html": [
       "<html><script type=\"math/tex; mode=display\">\\newcommand{\\Bold}[1]{\\mathbf{#1}}x\\left(c_{1} \\cos\\left(t\\right) + c_{2} \\sin\\left(t\\right)\\right) + \\mathrm{D}_{0}\\left(x\\right)\\left(c_{1} \\cos\\left(t\\right) + c_{2} \\sin\\left(t\\right)\\right)</script></html>"
      ],
      "text/plain": [
       "x(c1*cos(t) + c2*sin(t)) + D[0](x)(c1*cos(t) + c2*sin(t))"
      ]
     },
     "execution_count": 17,
     "metadata": {},
     "output_type": "execute_result"
    }
   ],
   "source": [
    "sol=de(c1*cos(t)+c2*sin(t));sol"
   ]
  },
  {
   "cell_type": "code",
   "execution_count": 12,
   "metadata": {
    "collapsed": false,
    "deletable": true,
    "editable": true
   },
   "outputs": [
    {
     "data": {
      "text/html": [
       "<html><script type=\"math/tex; mode=display\">\\newcommand{\\Bold}[1]{\\mathbf{#1}}\\left[x\\left(t\\right) = -\\frac{\\partial}{\\partial t}x\\left(t\\right)\\right]</script></html>"
      ],
      "text/plain": [
       "[x(t) == -diff(x(t), t)]"
      ]
     },
     "execution_count": 12,
     "metadata": {},
     "output_type": "execute_result"
    }
   ],
   "source": [
    "solx=solve(de,x,t==0);solx"
   ]
  },
  {
   "cell_type": "code",
   "execution_count": 13,
   "metadata": {
    "collapsed": false,
    "deletable": true,
    "editable": true
   },
   "outputs": [
    {
     "data": {
      "text/html": [
       "<html><script type=\"math/tex; mode=display\">\\newcommand{\\Bold}[1]{\\mathbf{#1}}-\\frac{1}{2} \\, y\\left(x\\right)^{2} = \\frac{1}{2} \\, x^{2} + C</script></html>"
      ],
      "text/plain": [
       "-1/2*y(x)^2 == 1/2*x^2 + _C"
      ]
     },
     "execution_count": 13,
     "metadata": {},
     "output_type": "execute_result"
    }
   ],
   "source": [
    "%display latex\n",
    "var(\"x\")\n",
    "y = function(\"y\")(x)\n",
    "ec = diff(y, x) == -x/y\n",
    "sol=desolve(ec , y);sol"
   ]
  },
  {
   "cell_type": "code",
   "execution_count": 14,
   "metadata": {
    "collapsed": false,
    "deletable": true,
    "editable": true
   },
   "outputs": [
    {
     "data": {
      "text/html": [
       "<html><script type=\"math/tex; mode=display\">\\newcommand{\\Bold}[1]{\\mathbf{#1}}\\left[y\\left(x\\right) = -\\sqrt{-x^{2} - 2 \\, C}, y\\left(x\\right) = \\sqrt{-x^{2} - 2 \\, C}\\right]</script></html>"
      ],
      "text/plain": [
       "[y(x) == -sqrt(-x^2 - 2*_C), y(x) == sqrt(-x^2 - 2*_C)]"
      ]
     },
     "execution_count": 14,
     "metadata": {},
     "output_type": "execute_result"
    }
   ],
   "source": [
    "soly=solve(sol,y);soly"
   ]
  },
  {
   "cell_type": "code",
   "execution_count": 15,
   "metadata": {
    "collapsed": false,
    "deletable": true,
    "editable": true
   },
   "outputs": [
    {
     "data": {
      "image/png": "[encoded data removed]",
      "text/plain": [
       "Graphics object consisting of 2 graphics primitives"
      ]
     },
     "metadata": {},
     "output_type": "display_data"
    }
   ],
   "source": [
    "var(\"t\")\n",
    "k = pi/12\n",
    "Te = 23-7*cos(pi*t/12)\n",
    "H = pi/48\n",
    "U = 0\n",
    "T = function(\"T\") (t)\n",
    "ec = diff(T, t) == k*(Te -T) + H + U\n",
    "sol = desolve(ec, T, ics=[0, 20])\n",
    "expand(sol)\n",
    "fig1 = plot(sol , t, 0, 24, color=\"blue\",\n",
    "legend_label=\"$T.I.$\")\n",
    "fig2 = plot(Te, t, 0, 24, color=\"red\",\n",
    "legend_label=\"$T.E.$\") \n",
    "fig = fig1 + fig2\n",
    "show(fig) "
   ]
  },
  {
   "cell_type": "code",
   "execution_count": 16,
   "metadata": {
    "collapsed": false,
    "deletable": true,
    "editable": true
   },
   "outputs": [
    {
     "data": {
      "image/png": "[encoded data removed]",
      "text/plain": [
       "Graphics object consisting of 1 graphics primitive"
      ]
     },
     "execution_count": 16,
     "metadata": {},
     "output_type": "execute_result"
    }
   ],
   "source": [
    "var(\"t\")\n",
    "x = function(\"x\") (t)\n",
    "ec = diff(x, t, 2) + diff(x, t)+x ==0\n",
    "sol = desolve(ec, x, ics=[0, 1,0])\n",
    "plot(sol , 0,30)"
   ]
  },
  {
   "cell_type": "code",
   "execution_count": null,
   "metadata": {
    "collapsed": false,
    "deletable": true,
    "editable": true
   },
   "outputs": [],
   "source": []
  },
  {
   "cell_type": "code",
   "execution_count": null,
   "metadata": {
    "collapsed": true,
    "deletable": true,
    "editable": true
   },
   "outputs": [],
   "source": []
  }
 ],
 "metadata": {
  "kernelspec": {
   "display_name": "SageMath 8.0",
   "language": "",
   "name": "sagemath"
  },
  "language_info": {
   "codemirror_mode": {
    "name": "ipython",
    "version": 2
   },
   "file_extension": ".py",
   "mimetype": "text/x-python",
   "name": "python",
   "nbconvert_exporter": "python",
   "pygments_lexer": "ipython2",
   "version": "2.7.13"
  }
 },
 "nbformat": 4,
 "nbformat_minor": 2
}
