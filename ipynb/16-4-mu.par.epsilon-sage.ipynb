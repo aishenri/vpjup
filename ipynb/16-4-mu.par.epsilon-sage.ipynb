{
 "cells": [
  {
   "cell_type": "markdown",
   "metadata": {},
   "source": [
    "##### La lumière n'est pas une vitesse"
   ]
  },
  {
   "cell_type": "markdown",
   "metadata": {},
   "source": [
    "La physique définie la lumière comme étant une vitesse, ce qui est une erreur,\n",
    "car une vitesse est une dérivé et pas une constante comme $c$. Accélération carrée de vitesse $c^2$, dérivé (vitesse) 2c, position 2.\n",
    "\n",
    "L'indice de réfraction est l'inverse du carrée de la lumière :\n",
    "\n",
    "$n^2=\\frac {1}{c^2}=\\mu \\epsilon$\n",
    "\n",
    "Beaucoup d'auteurs font une erreur monumentale en notant le milieu incident (vide : n =1), car le vide est = 0 !\n",
    "\n",
    "Rien ne peut être inférieure à zéro, il y a là un problème de logique !\n",
    "\n",
    "Zéro, c'est le début et la fin, donc l'infini."
   ]
  },
  {
   "cell_type": "code",
   "execution_count": 2,
   "metadata": {},
   "outputs": [
    {
     "data": {
      "text/plain": [
       "1.14591559026165e-6"
      ]
     },
     "execution_count": 2,
     "metadata": {},
     "output_type": "execute_result"
    }
   ],
   "source": [
    "u=1/n(pi)*360E-8;u"
   ]
  },
  {
   "cell_type": "code",
   "execution_count": 3,
   "metadata": {},
   "outputs": [
    {
     "data": {
      "text/plain": [
       "8.84194128288307e-12"
      ]
     },
     "execution_count": 3,
     "metadata": {},
     "output_type": "execute_result"
    }
   ],
   "source": [
    "s=1/(n(pi)*360E+8);s"
   ]
  },
  {
   "cell_type": "markdown",
   "metadata": {},
   "source": [
    "Définir $c$ comme vitesse (constante) n'est pas une bonne idée, car la formule de $c$ est analogue à la formule de fréquence de résonance en électronique, il suffit de changer les variables $\\mu$ par L : inductance et $\\epsilon$ par C :  capacitance, la formule devient la résonance de la fréquence angulaire."
   ]
  },
  {
   "cell_type": "code",
   "execution_count": 4,
   "metadata": {},
   "outputs": [],
   "source": [
    "# https://www.e-fermat.org/files/news_views/153375ee326aa5.pdf p 11"
   ]
  },
  {
   "cell_type": "code",
   "execution_count": 29,
   "metadata": {},
   "outputs": [],
   "source": [
    "%display latex\n",
    "var(\"P E M v ct g\");c=299792458"
   ]
  },
  {
   "cell_type": "code",
   "execution_count": 30,
   "metadata": {},
   "outputs": [
    {
     "data": {
      "text/html": [
       "<html><script type=\"math/tex; mode=display\">\\newcommand{\\Bold}[1]{\\mathbf{#1}}-\\frac{1}{299792458}</script></html>"
      ],
      "text/plain": [
       "-1/299792458"
      ]
     },
     "execution_count": 30,
     "metadata": {},
     "output_type": "execute_result"
    }
   ],
   "source": [
    "E=0-1\n",
    "P=E/c;P"
   ]
  },
  {
   "cell_type": "code",
   "execution_count": 34,
   "metadata": {},
   "outputs": [
    {
     "data": {
      "text/html": [
       "<html><script type=\"math/tex; mode=display\">\\newcommand{\\Bold}[1]{\\mathbf{#1}}3.33564095198152 \\times 10^{-9}</script></html>"
      ],
      "text/plain": [
       "3.33564095198152e-9"
      ]
     },
     "execution_count": 34,
     "metadata": {},
     "output_type": "execute_result"
    }
   ],
   "source": [
    "M=0-1\n",
    "V=P/M;n(V)"
   ]
  },
  {
   "cell_type": "code",
   "execution_count": 36,
   "metadata": {},
   "outputs": [
    {
     "data": {
      "text/html": [
       "<html><script type=\"math/tex; mode=display\">\\newcommand{\\Bold}[1]{\\mathbf{#1}}\\left(\\frac{299792458}{v}, \\mathit{ct}\\right)</script></html>"
      ],
      "text/plain": [
       "(299792458/v, ct)"
      ]
     },
     "execution_count": 36,
     "metadata": {},
     "output_type": "execute_result"
    }
   ],
   "source": [
    "g=ct;c/v,g"
   ]
  },
  {
   "cell_type": "markdown",
   "metadata": {},
   "source": [
    "https://tel.archives-ouvertes.fr/tel-00657905/document p15\n",
    "\n",
    "La longueur (distance m ) est l'inverse de la fréquence Hz\n",
    "\n",
    "\n",
    "Lumière visible : 745 nm / 400 nm - 405 THz 750 Thz\n",
    "\n",
    "p 31\n",
    "\n",
    "Vecteur de Poynting  : $\\Pi = E x H $\n",
    "\n",
    "Inverse de $Z = \\frac{E}{H}$\n",
    "\n",
    "Vitesse de phase $\\nu_\\phi$ =$ \\frac{\\omega}{k_0}$ =\n",
    "$\\frac{1}{\\sqrt \\mu \\epsilon}$ $=c$"
   ]
  },
  {
   "cell_type": "code",
   "execution_count": null,
   "metadata": {},
   "outputs": [],
   "source": []
  }
 ],
 "metadata": {
  "kernelspec": {
   "display_name": "SageMath 8.1",
   "language": "",
   "name": "sagemath"
  },
  "language_info": {
   "codemirror_mode": {
    "name": "ipython",
    "version": 2
   },
   "file_extension": ".py",
   "mimetype": "text/x-python",
   "name": "python",
   "nbconvert_exporter": "python",
   "pygments_lexer": "ipython2",
   "version": "2.7.15rc1"
  }
 },
 "nbformat": 4,
 "nbformat_minor": 2
}
