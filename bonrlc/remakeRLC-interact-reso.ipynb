{
 "cells": [
  {
   "cell_type": "markdown",
   "metadata": {
    "deletable": true,
    "editable": true
   },
   "source": [
    "###### An de grâce 2017, mercredi 13 décembre\n",
    "\n"
   ]
  },
  {
   "cell_type": "code",
   "execution_count": 1,
   "metadata": {
    "collapsed": true,
    "deletable": true,
    "editable": true
   },
   "outputs": [],
   "source": [
    "%display latex"
   ]
  },
  {
   "cell_type": "code",
   "execution_count": 2,
   "metadata": {
    "collapsed": false,
    "deletable": true,
    "editable": true
   },
   "outputs": [
    {
     "data": {
      "text/html": [
       "<html><script type=\"math/tex; mode=display\">\\newcommand{\\Bold}[1]{\\mathbf{#1}}R \\frac{\\partial}{\\partial t}q\\left(t\\right) + L \\frac{\\partial^{2}}{(\\partial t)^{2}}q\\left(t\\right) + \\frac{q\\left(t\\right)}{C} = 0</script></html>"
      ],
      "text/plain": [
       "R*diff(q(t), t) + L*diff(q(t), t, t) + q(t)/C == 0"
      ]
     },
     "execution_count": 2,
     "metadata": {},
     "output_type": "execute_result"
    }
   ],
   "source": [
    "t = var('t') \n",
    "var('R, L, C, t0, q0, I0');q = function('q')(t) \n",
    "assume(R>0);assume(L>0);assume(C>0);assume(t>0);\n",
    "assume(4*L>C*R^2) \n",
    "RLC =R*diff(q,t,1)+L*diff(q,t,2)+q/C == 0\n",
    "LC = L*diff(q,t,2)+q/C == 0;RLC"
   ]
  },
  {
   "cell_type": "code",
   "execution_count": 3,
   "metadata": {
    "collapsed": false,
    "deletable": true,
    "editable": true
   },
   "outputs": [
    {
     "data": {
      "text/html": [
       "<html><script type=\"math/tex; mode=display\">\\newcommand{\\Bold}[1]{\\mathbf{#1}}C \\frac{\\partial}{\\partial t}q\\left(t\\right) + L \\frac{\\partial}{\\partial t}q\\left(t\\right) + R \\frac{\\partial}{\\partial t}q\\left(t\\right)</script></html>"
      ],
      "text/plain": [
       "C*diff(q(t), t) + L*diff(q(t), t) + R*diff(q(t), t)"
      ]
     },
     "execution_count": 3,
     "metadata": {},
     "output_type": "execute_result"
    }
   ],
   "source": [
    "var('U_R, U_L, I_C, t0, q0, I0')\n",
    "U_R=R*diff(q,t,1);U_L=L*diff(q,t,1);\n",
    "I_C=C*diff(q,t,1);\n",
    "U_C=U_L+U_R;U_C\n",
    "LCR=I_C+U_C;LCR"
   ]
  },
  {
   "cell_type": "code",
   "execution_count": 4,
   "metadata": {
    "collapsed": false,
    "deletable": true,
    "editable": true
   },
   "outputs": [
    {
     "data": {
      "text/html": [
       "<html><script type=\"math/tex; mode=display\">\\newcommand{\\Bold}[1]{\\mathbf{#1}}R \\frac{\\partial}{\\partial t}q\\left(t\\right) + L \\frac{\\partial^{2}}{(\\partial t)^{2}}q\\left(t\\right) + \\frac{q\\left(t\\right)}{C} = 0</script></html>"
      ],
      "text/plain": [
       "R*diff(q(t), t) + L*diff(q(t), t, t) + q(t)/C == 0"
      ]
     },
     "execution_count": 4,
     "metadata": {},
     "output_type": "execute_result"
    }
   ],
   "source": [
    "rlc = desolve(RLC, q, ivar=t, ics=[t0,q0,I0])\n",
    "RLC\n",
    "lcr = desolve(LCR, q, ivar=t, ics=[0,1,1]);RLC"
   ]
  },
  {
   "cell_type": "code",
   "execution_count": 5,
   "metadata": {
    "collapsed": false,
    "deletable": true,
    "editable": true
   },
   "outputs": [
    {
     "data": {
      "text/html": [
       "<html><script type=\"math/tex; mode=display\">\\newcommand{\\Bold}[1]{\\mathbf{#1}}{\\left(\\frac{{\\left(L q_{0} \\sqrt{-\\frac{R^{2}}{L^{2}} + \\frac{4}{C L}} \\cos\\left(\\frac{1}{2} \\, t_{0} \\sqrt{-\\frac{R^{2}}{L^{2}} + \\frac{4}{C L}}\\right) e^{\\left(\\frac{R t_{0}}{2 \\, L}\\right)} - {\\left(2 \\, I_{0} L + R q_{0}\\right)} e^{\\left(\\frac{R t_{0}}{2 \\, L}\\right)} \\sin\\left(\\frac{1}{2} \\, t_{0} \\sqrt{-\\frac{R^{2}}{L^{2}} + \\frac{4}{C L}}\\right)\\right)} \\cos\\left(\\frac{1}{2} \\, t \\sqrt{-\\frac{R^{2}}{L^{2}} + \\frac{4}{C L}}\\right)}{L \\sqrt{-\\frac{R^{2}}{L^{2}} + \\frac{4}{C L}} \\cos\\left(\\frac{1}{2} \\, t_{0} \\sqrt{-\\frac{R^{2}}{L^{2}} + \\frac{4}{C L}}\\right)^{2} + L \\sqrt{-\\frac{R^{2}}{L^{2}} + \\frac{4}{C L}} \\sin\\left(\\frac{1}{2} \\, t_{0} \\sqrt{-\\frac{R^{2}}{L^{2}} + \\frac{4}{C L}}\\right)^{2}} + \\frac{{\\left(L q_{0} \\sqrt{-\\frac{R^{2}}{L^{2}} + \\frac{4}{C L}} e^{\\left(\\frac{R t_{0}}{2 \\, L}\\right)} \\sin\\left(\\frac{1}{2} \\, t_{0} \\sqrt{-\\frac{R^{2}}{L^{2}} + \\frac{4}{C L}}\\right) + {\\left(2 \\, I_{0} L + R q_{0}\\right)} \\cos\\left(\\frac{1}{2} \\, t_{0} \\sqrt{-\\frac{R^{2}}{L^{2}} + \\frac{4}{C L}}\\right) e^{\\left(\\frac{R t_{0}}{2 \\, L}\\right)}\\right)} \\sin\\left(\\frac{1}{2} \\, t \\sqrt{-\\frac{R^{2}}{L^{2}} + \\frac{4}{C L}}\\right)}{L \\sqrt{-\\frac{R^{2}}{L^{2}} + \\frac{4}{C L}} \\cos\\left(\\frac{1}{2} \\, t_{0} \\sqrt{-\\frac{R^{2}}{L^{2}} + \\frac{4}{C L}}\\right)^{2} + L \\sqrt{-\\frac{R^{2}}{L^{2}} + \\frac{4}{C L}} \\sin\\left(\\frac{1}{2} \\, t_{0} \\sqrt{-\\frac{R^{2}}{L^{2}} + \\frac{4}{C L}}\\right)^{2}}\\right)} e^{\\left(-\\frac{R t}{2 \\, L}\\right)}</script></html>"
      ],
      "text/plain": [
       "((L*q0*sqrt(-R^2/L^2 + 4/(C*L))*cos(1/2*t0*sqrt(-R^2/L^2 + 4/(C*L)))*e^(1/2*R*t0/L) - (2*I0*L + R*q0)*e^(1/2*R*t0/L)*sin(1/2*t0*sqrt(-R^2/L^2 + 4/(C*L))))*cos(1/2*t*sqrt(-R^2/L^2 + 4/(C*L)))/(L*sqrt(-R^2/L^2 + 4/(C*L))*cos(1/2*t0*sqrt(-R^2/L^2 + 4/(C*L)))^2 + L*sqrt(-R^2/L^2 + 4/(C*L))*sin(1/2*t0*sqrt(-R^2/L^2 + 4/(C*L)))^2) + (L*q0*sqrt(-R^2/L^2 + 4/(C*L))*e^(1/2*R*t0/L)*sin(1/2*t0*sqrt(-R^2/L^2 + 4/(C*L))) + (2*I0*L + R*q0)*cos(1/2*t0*sqrt(-R^2/L^2 + 4/(C*L)))*e^(1/2*R*t0/L))*sin(1/2*t*sqrt(-R^2/L^2 + 4/(C*L)))/(L*sqrt(-R^2/L^2 + 4/(C*L))*cos(1/2*t0*sqrt(-R^2/L^2 + 4/(C*L)))^2 + L*sqrt(-R^2/L^2 + 4/(C*L))*sin(1/2*t0*sqrt(-R^2/L^2 + 4/(C*L)))^2))*e^(-1/2*R*t/L)"
      ]
     },
     "execution_count": 5,
     "metadata": {},
     "output_type": "execute_result"
    }
   ],
   "source": [
    "q_RLC = desolve(RLC, q, ivar=t, ics=[t0,q0,I0]);q_RLC"
   ]
  },
  {
   "cell_type": "code",
   "execution_count": 6,
   "metadata": {
    "collapsed": false,
    "deletable": true,
    "editable": true
   },
   "outputs": [
    {
     "data": {
      "text/html": [
       "<html><script type=\"math/tex; mode=display\">\\newcommand{\\Bold}[1]{\\mathbf{#1}}\\frac{1}{2} \\, {\\left(\\frac{{\\left(L q_{0} \\sqrt{-\\frac{R^{2}}{L^{2}} + \\frac{4}{C L}} e^{\\left(\\frac{R t_{0}}{2 \\, L}\\right)} \\sin\\left(\\frac{1}{2} \\, t_{0} \\sqrt{-\\frac{R^{2}}{L^{2}} + \\frac{4}{C L}}\\right) + {\\left(2 \\, I_{0} L + R q_{0}\\right)} \\cos\\left(\\frac{1}{2} \\, t_{0} \\sqrt{-\\frac{R^{2}}{L^{2}} + \\frac{4}{C L}}\\right) e^{\\left(\\frac{R t_{0}}{2 \\, L}\\right)}\\right)} \\sqrt{-\\frac{R^{2}}{L^{2}} + \\frac{4}{C L}} \\cos\\left(\\frac{1}{2} \\, t \\sqrt{-\\frac{R^{2}}{L^{2}} + \\frac{4}{C L}}\\right)}{L \\sqrt{-\\frac{R^{2}}{L^{2}} + \\frac{4}{C L}} \\cos\\left(\\frac{1}{2} \\, t_{0} \\sqrt{-\\frac{R^{2}}{L^{2}} + \\frac{4}{C L}}\\right)^{2} + L \\sqrt{-\\frac{R^{2}}{L^{2}} + \\frac{4}{C L}} \\sin\\left(\\frac{1}{2} \\, t_{0} \\sqrt{-\\frac{R^{2}}{L^{2}} + \\frac{4}{C L}}\\right)^{2}} - \\frac{{\\left(L q_{0} \\sqrt{-\\frac{R^{2}}{L^{2}} + \\frac{4}{C L}} \\cos\\left(\\frac{1}{2} \\, t_{0} \\sqrt{-\\frac{R^{2}}{L^{2}} + \\frac{4}{C L}}\\right) e^{\\left(\\frac{R t_{0}}{2 \\, L}\\right)} - {\\left(2 \\, I_{0} L + R q_{0}\\right)} e^{\\left(\\frac{R t_{0}}{2 \\, L}\\right)} \\sin\\left(\\frac{1}{2} \\, t_{0} \\sqrt{-\\frac{R^{2}}{L^{2}} + \\frac{4}{C L}}\\right)\\right)} \\sqrt{-\\frac{R^{2}}{L^{2}} + \\frac{4}{C L}} \\sin\\left(\\frac{1}{2} \\, t \\sqrt{-\\frac{R^{2}}{L^{2}} + \\frac{4}{C L}}\\right)}{L \\sqrt{-\\frac{R^{2}}{L^{2}} + \\frac{4}{C L}} \\cos\\left(\\frac{1}{2} \\, t_{0} \\sqrt{-\\frac{R^{2}}{L^{2}} + \\frac{4}{C L}}\\right)^{2} + L \\sqrt{-\\frac{R^{2}}{L^{2}} + \\frac{4}{C L}} \\sin\\left(\\frac{1}{2} \\, t_{0} \\sqrt{-\\frac{R^{2}}{L^{2}} + \\frac{4}{C L}}\\right)^{2}}\\right)} e^{\\left(-\\frac{R t}{2 \\, L}\\right)} - \\frac{R {\\left(\\frac{{\\left(L q_{0} \\sqrt{-\\frac{R^{2}}{L^{2}} + \\frac{4}{C L}} \\cos\\left(\\frac{1}{2} \\, t_{0} \\sqrt{-\\frac{R^{2}}{L^{2}} + \\frac{4}{C L}}\\right) e^{\\left(\\frac{R t_{0}}{2 \\, L}\\right)} - {\\left(2 \\, I_{0} L + R q_{0}\\right)} e^{\\left(\\frac{R t_{0}}{2 \\, L}\\right)} \\sin\\left(\\frac{1}{2} \\, t_{0} \\sqrt{-\\frac{R^{2}}{L^{2}} + \\frac{4}{C L}}\\right)\\right)} \\cos\\left(\\frac{1}{2} \\, t \\sqrt{-\\frac{R^{2}}{L^{2}} + \\frac{4}{C L}}\\right)}{L \\sqrt{-\\frac{R^{2}}{L^{2}} + \\frac{4}{C L}} \\cos\\left(\\frac{1}{2} \\, t_{0} \\sqrt{-\\frac{R^{2}}{L^{2}} + \\frac{4}{C L}}\\right)^{2} + L \\sqrt{-\\frac{R^{2}}{L^{2}} + \\frac{4}{C L}} \\sin\\left(\\frac{1}{2} \\, t_{0} \\sqrt{-\\frac{R^{2}}{L^{2}} + \\frac{4}{C L}}\\right)^{2}} + \\frac{{\\left(L q_{0} \\sqrt{-\\frac{R^{2}}{L^{2}} + \\frac{4}{C L}} e^{\\left(\\frac{R t_{0}}{2 \\, L}\\right)} \\sin\\left(\\frac{1}{2} \\, t_{0} \\sqrt{-\\frac{R^{2}}{L^{2}} + \\frac{4}{C L}}\\right) + {\\left(2 \\, I_{0} L + R q_{0}\\right)} \\cos\\left(\\frac{1}{2} \\, t_{0} \\sqrt{-\\frac{R^{2}}{L^{2}} + \\frac{4}{C L}}\\right) e^{\\left(\\frac{R t_{0}}{2 \\, L}\\right)}\\right)} \\sin\\left(\\frac{1}{2} \\, t \\sqrt{-\\frac{R^{2}}{L^{2}} + \\frac{4}{C L}}\\right)}{L \\sqrt{-\\frac{R^{2}}{L^{2}} + \\frac{4}{C L}} \\cos\\left(\\frac{1}{2} \\, t_{0} \\sqrt{-\\frac{R^{2}}{L^{2}} + \\frac{4}{C L}}\\right)^{2} + L \\sqrt{-\\frac{R^{2}}{L^{2}} + \\frac{4}{C L}} \\sin\\left(\\frac{1}{2} \\, t_{0} \\sqrt{-\\frac{R^{2}}{L^{2}} + \\frac{4}{C L}}\\right)^{2}}\\right)} e^{\\left(-\\frac{R t}{2 \\, L}\\right)}}{2 \\, L}</script></html>"
      ],
      "text/plain": [
       "1/2*((L*q0*sqrt(-R^2/L^2 + 4/(C*L))*e^(1/2*R*t0/L)*sin(1/2*t0*sqrt(-R^2/L^2 + 4/(C*L))) + (2*I0*L + R*q0)*cos(1/2*t0*sqrt(-R^2/L^2 + 4/(C*L)))*e^(1/2*R*t0/L))*sqrt(-R^2/L^2 + 4/(C*L))*cos(1/2*t*sqrt(-R^2/L^2 + 4/(C*L)))/(L*sqrt(-R^2/L^2 + 4/(C*L))*cos(1/2*t0*sqrt(-R^2/L^2 + 4/(C*L)))^2 + L*sqrt(-R^2/L^2 + 4/(C*L))*sin(1/2*t0*sqrt(-R^2/L^2 + 4/(C*L)))^2) - (L*q0*sqrt(-R^2/L^2 + 4/(C*L))*cos(1/2*t0*sqrt(-R^2/L^2 + 4/(C*L)))*e^(1/2*R*t0/L) - (2*I0*L + R*q0)*e^(1/2*R*t0/L)*sin(1/2*t0*sqrt(-R^2/L^2 + 4/(C*L))))*sqrt(-R^2/L^2 + 4/(C*L))*sin(1/2*t*sqrt(-R^2/L^2 + 4/(C*L)))/(L*sqrt(-R^2/L^2 + 4/(C*L))*cos(1/2*t0*sqrt(-R^2/L^2 + 4/(C*L)))^2 + L*sqrt(-R^2/L^2 + 4/(C*L))*sin(1/2*t0*sqrt(-R^2/L^2 + 4/(C*L)))^2))*e^(-1/2*R*t/L) - 1/2*R*((L*q0*sqrt(-R^2/L^2 + 4/(C*L))*cos(1/2*t0*sqrt(-R^2/L^2 + 4/(C*L)))*e^(1/2*R*t0/L) - (2*I0*L + R*q0)*e^(1/2*R*t0/L)*sin(1/2*t0*sqrt(-R^2/L^2 + 4/(C*L))))*cos(1/2*t*sqrt(-R^2/L^2 + 4/(C*L)))/(L*sqrt(-R^2/L^2 + 4/(C*L))*cos(1/2*t0*sqrt(-R^2/L^2 + 4/(C*L)))^2 + L*sqrt(-R^2/L^2 + 4/(C*L))*sin(1/2*t0*sqrt(-R^2/L^2 + 4/(C*L)))^2) + (L*q0*sqrt(-R^2/L^2 + 4/(C*L))*e^(1/2*R*t0/L)*sin(1/2*t0*sqrt(-R^2/L^2 + 4/(C*L))) + (2*I0*L + R*q0)*cos(1/2*t0*sqrt(-R^2/L^2 + 4/(C*L)))*e^(1/2*R*t0/L))*sin(1/2*t*sqrt(-R^2/L^2 + 4/(C*L)))/(L*sqrt(-R^2/L^2 + 4/(C*L))*cos(1/2*t0*sqrt(-R^2/L^2 + 4/(C*L)))^2 + L*sqrt(-R^2/L^2 + 4/(C*L))*sin(1/2*t0*sqrt(-R^2/L^2 + 4/(C*L)))^2))*e^(-1/2*R*t/L)/L"
      ]
     },
     "execution_count": 6,
     "metadata": {},
     "output_type": "execute_result"
    }
   ],
   "source": [
    "I=diff(q_RLC, t, 1);I"
   ]
  },
  {
   "cell_type": "code",
   "execution_count": 7,
   "metadata": {
    "collapsed": true,
    "deletable": true,
    "editable": true
   },
   "outputs": [],
   "source": [
    "plotq_RLC=q_RLC.substitute(t0=0,\n",
    "                           q0=1e-6,\n",
    "                           I0=0, L=12e-2, \n",
    "                           C=1.5e-6, R=40);"
   ]
  },
  {
   "cell_type": "code",
   "execution_count": 8,
   "metadata": {
    "collapsed": false,
    "deletable": true,
    "editable": true
   },
   "outputs": [
    {
     "data": {
      "text/html": [
       "<html><script type=\"math/tex; mode=display\">\\newcommand{\\Bold}[1]{\\mathbf{#1}}{\\left(\\left(1.00000000000000 \\times 10^{-6}\\right) \\, \\cos\\left(2351.12266327765 \\, t\\right) + \\left(7.08881205008336 \\times 10^{-8}\\right) \\, \\sin\\left(2351.12266327765 \\, t\\right)\\right)} e^{\\left(-166.666666666667 \\, t\\right)}</script></html>"
      ],
      "text/plain": [
       "((1.00000000000000e-6)*cos(2351.12266327765*t) + (7.08881205008336e-8)*sin(2351.12266327765*t))*e^(-166.666666666667*t)"
      ]
     },
     "execution_count": 8,
     "metadata": {},
     "output_type": "execute_result"
    }
   ],
   "source": [
    "plotq_RLC"
   ]
  },
  {
   "cell_type": "code",
   "execution_count": 9,
   "metadata": {
    "collapsed": false,
    "deletable": true,
    "editable": true
   },
   "outputs": [
    {
     "data": {
      "image/png": "[encoded data removed]",
      "text/plain": [
       "Graphics object consisting of 1 graphics primitive"
      ]
     },
     "metadata": {},
     "output_type": "display_data"
    }
   ],
   "source": [
    "qRLC=plotq_RLC\n",
    "show(plot(plotq_RLC, (0, 0.01)),frame=True,figsize=4,axes=True) "
   ]
  },
  {
   "cell_type": "code",
   "execution_count": 10,
   "metadata": {
    "collapsed": false,
    "deletable": true,
    "editable": true
   },
   "outputs": [],
   "source": [
    "lc = desolve(LC, q, ivar=t)"
   ]
  },
  {
   "cell_type": "code",
   "execution_count": 11,
   "metadata": {
    "collapsed": false,
    "deletable": true,
    "editable": true
   },
   "outputs": [
    {
     "data": {
      "text/html": [
       "<html><script type=\"math/tex; mode=display\">\\newcommand{\\Bold}[1]{\\mathbf{#1}}K_{2} \\cos\\left(\\frac{t}{\\sqrt{C} \\sqrt{L}}\\right) + K_{1} \\sin\\left(\\frac{t}{\\sqrt{C} \\sqrt{L}}\\right)</script></html>"
      ],
      "text/plain": [
       "_K2*cos(t/(sqrt(C)*sqrt(L))) + _K1*sin(t/(sqrt(C)*sqrt(L)))"
      ]
     },
     "execution_count": 11,
     "metadata": {},
     "output_type": "execute_result"
    }
   ],
   "source": [
    "LC_0 = desolve(LC, q, ivar=t);LC_0"
   ]
  },
  {
   "cell_type": "code",
   "execution_count": 12,
   "metadata": {
    "collapsed": false,
    "deletable": true,
    "editable": true
   },
   "outputs": [
    {
     "data": {
      "text/html": [
       "<html><script type=\"math/tex; mode=display\">\\newcommand{\\Bold}[1]{\\mathbf{#1}}\\left(1.00000000000000 \\times 10^{-6}\\right) \\, \\cos\\left(2357.02260395516 \\, t\\right)</script></html>"
      ],
      "text/plain": [
       "(1.00000000000000e-6)*cos(2357.02260395516*t)"
      ]
     },
     "execution_count": 12,
     "metadata": {},
     "output_type": "execute_result"
    }
   ],
   "source": [
    "q_LC = desolve(LC, q, ivar=t, ics=[t0,q0,I0])\n",
    "Ilc=diff(q_LC, t, 1)\n",
    "qLC=q_LC.substitute(t0=0, \n",
    "                    q0=1e-6, \n",
    "                    I0=0, L=12e-2, \n",
    "                    C=1.5e-6);qLC"
   ]
  },
  {
   "cell_type": "code",
   "execution_count": 13,
   "metadata": {
    "collapsed": false,
    "deletable": true,
    "editable": true
   },
   "outputs": [],
   "source": [
    "a=plot(qRLC, 0, 0.01,color=\"red\",legend_label='$RLC$')\n",
    "b=plot(qLC, 0, 0.01,legend_label='$LC$')"
   ]
  },
  {
   "cell_type": "code",
   "execution_count": 14,
   "metadata": {
    "collapsed": false,
    "deletable": true,
    "editable": true
   },
   "outputs": [
    {
     "data": {
      "image/png": "[encoded data removed]",
      "text/plain": [
       "Graphics object consisting of 2 graphics primitives"
      ]
     },
     "metadata": {},
     "output_type": "display_data"
    }
   ],
   "source": [
    "show(a+b,figsize=4,gridlines=\"major\",\n",
    "frame=True,fontsize=6,axes=False)"
   ]
  },
  {
   "cell_type": "code",
   "execution_count": null,
   "metadata": {
    "collapsed": false,
    "deletable": true,
    "editable": true
   },
   "outputs": [],
   "source": []
  },
  {
   "cell_type": "code",
   "execution_count": null,
   "metadata": {
    "collapsed": true,
    "deletable": true,
    "editable": true
   },
   "outputs": [],
   "source": []
  }
 ],
 "metadata": {
  "kernelspec": {
   "display_name": "SageMath 8.1",
   "language": "",
   "name": "sagemath"
  },
  "language_info": {
   "codemirror_mode": {
    "name": "ipython",
    "version": 2
   },
   "file_extension": ".py",
   "mimetype": "text/x-python",
   "name": "python",
   "nbconvert_exporter": "python",
   "pygments_lexer": "ipython2",
   "version": "2.7.14"
  }
 },
 "nbformat": 4,
 "nbformat_minor": 2
}
