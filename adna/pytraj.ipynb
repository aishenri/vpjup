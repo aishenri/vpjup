{
 "cells": [
  {
   "cell_type": "markdown",
   "metadata": {},
   "source": [
    "## <center> AMBER Tutorial </center>\n",
    "# <center> Interactive data analysis with pytraj/cpptraj and Jupyter notebook </center>\n",
    "### <center> By Hai Nguyen (BSD 2-clause) </center>"
   ]
  },
  {
   "cell_type": "markdown",
   "metadata": {},
   "source": [
    "## What is Jupyter notebook?\n",
    "\n",
    "Direct introduction and figure from [Jupyter notebook website](http://jupyter.org/):\n",
    "\n",
    "\"The Jupyter Notebook is a web application that allows you to create and share documents that contain live code, equations, visualizations and explanatory text. Uses include: data cleaning and transformation, numerical simulation, statistical modeling, machine learning and much more.\"\n",
    "\n",
    "<img src=\"images/jupyterpreview.png\", width=500>\n",
    "\n"
   ]
  },
  {
   "cell_type": "markdown",
   "metadata": {},
   "source": [
    "## What is pytraj?\n",
    "\n",
    "**pytraj** is a Python package binding to the popular **cpptraj** program. pytraj is written do extend the flexibility of cpptraj and to expose cpptraj's functionality to Python's ecosystem, such as numpy, pandas, matplotlib, ..."
   ]
  },
  {
   "cell_type": "markdown",
   "metadata": {},
   "source": [
    "## What can you learn from this tutorial\n",
    "\n",
    "- Use Jupyter notebook for interactive  data exploration\n",
    "\n",
    "- Use pytraj to perform basis analysis such loading files to memory and do computing RMSD\n",
    "\n",
    "- Use matplotlib and pandas for analyzing output from pytraj\n"
   ]
  },
  {
   "cell_type": "markdown",
   "metadata": {},
   "source": [
    "## Requirement\n",
    "\n",
    "- [AmberTools >= 16](http://ambermd.org/#AmberTools)\n",
    "- If you allow AMBER to install Python distribution from Miniconda, you have most needed packages (except pandas) for this tutorial.\n",
    "- If not, you need to install (either using `pip` or `conda`)\n",
    "    - matplotlib\n",
    "    - jupyter notebook\n",
    "- Install [pandas](http://pandas.pydata.org/): \n",
    "    ```bash\n",
    "     amber.conda install pandas\n",
    "    ```\n",
    "- You know how to use Linux command line. If not, please check [basic AMBER tutorial](http://ambermd.org/tutorials/basic/tutorial0/)"
   ]
  },
  {
   "cell_type": "markdown",
   "metadata": {},
   "source": [
    "## Download required trajectories, topology\n",
    "\n",
    "All files used in this tutorial, including this notebook, is here: [tutorial_files.zip](tutorial_files.zip)\n",
    "\n",
    "- Download it, then\n",
    "\n",
    "```bash\n",
    "mkdir tutorial\n",
    "cd tutorial\n",
    "unzip ../tutorial_files.zip\n",
    "```"
   ]
  },
  {
   "cell_type": "markdown",
   "metadata": {},
   "source": [
    "## Start notebook\n",
    "\n",
    "```bash\n",
    "$ amber.jupyter notebook\n",
    "(or jupyter notebook if you did not allow AMBER to install Miniconda)\n",
    "```\n",
    "\n",
    "- You should expect to see a blank directory (or with a list of files)\n",
    "\n",
    "![](images/jupyter_open.png)\n",
    "\n",
    "- Choose **New --> Python 2** (or Python 3, depending on which version you're using)\n",
    "\n",
    "- You should expect to see\n",
    "![](images/jupyter_new.png)\n",
    "\n",
    "\n",
    "- How to follow this tutorial? Copy and paste each command in this tutorial to the notebook, hit \"**Shift-Enter**\" to run and to create new Cell. Check **Tips** in the end of this tutorial for useful commands.\n",
    "\n",
    "- If you want to use the notebook remotely (run it in your remote cluster and view it in your desktop), please check [remote notebook tutorial](http://amber-md.github.io/pytraj/latest/tutorials/remote_jupyter_notebook)\n",
    "\n",
    "- **Note**: This tutorial is written in the Jupyter notebook, so you can [download](./notebook.ipynb) and run it too."
   ]
  },
  {
   "cell_type": "code",
   "execution_count": 1,
   "metadata": {},
   "outputs": [
    {
     "data": {
      "text/html": [
       "<style type=\"text/css\">\n",
       "table.dataframe td, table.dataframe th{border: 1px \n",
       "black solid ! important;color:black !important;}\n"
      ],
      "text/plain": [
       "<IPython.core.display.HTML object>"
      ]
     },
     "metadata": {},
     "output_type": "display_data"
    }
   ],
   "source": [
    "%%HTML\n",
    "<style type=\"text/css\">\n",
    "table.dataframe td, table.dataframe th{border: 1px \n",
    "black solid ! important;color:black !important;}"
   ]
  },
  {
   "cell_type": "markdown",
   "metadata": {},
   "source": [
    "## Load trajectory to memory"
   ]
  },
  {
   "cell_type": "code",
   "execution_count": 2,
   "metadata": {},
   "outputs": [],
   "source": [
    "from __future__ import print_function\n",
    "import warnings\n",
    "warnings.filterwarnings(\"ignore\", category=DeprecationWarning) # avoid warning message to make the notebook nicer\n",
    "\n",
    "import pytraj as pt\n",
    "\n",
    "traj = pt.load('data/trpzip2.gb.nc',\n",
    "               top='data/trpzip2.ff10.mbondi.parm7')"
   ]
  },
  {
   "cell_type": "markdown",
   "metadata": {},
   "source": [
    "## Get some basic information about the trajectory"
   ]
  },
  {
   "cell_type": "code",
   "execution_count": 3,
   "metadata": {},
   "outputs": [
    {
     "name": "stdout",
     "output_type": "stream",
     "text": [
      "pytraj.Trajectory, 1201 frames: \n",
      "Size: 0.005906 (GB)\n",
      "<Topology: 220 atoms, 13 residues, 1 mols, non-PBC>\n",
      "           \n"
     ]
    }
   ],
   "source": [
    "print(traj)"
   ]
  },
  {
   "cell_type": "markdown",
   "metadata": {},
   "source": [
    "## Computing RMSD, using 1st frame as reference\n",
    "\n",
    "In this case we are computing mass-weighted RMSD, using all non-hydrogen atoms in residues 1 to 13"
   ]
  },
  {
   "cell_type": "code",
   "execution_count": 4,
   "metadata": {},
   "outputs": [
    {
     "name": "stdout",
     "output_type": "stream",
     "text": [
      "[2.30050392e-07 7.92393865e-01 9.72257525e-01 ... 2.51047183e+00\n",
      " 2.44805673e+00 2.33894156e+00]\n"
     ]
    }
   ],
   "source": [
    "data_rmsd_first = pt.rmsd(traj, ref=0, \n",
    "                          mask=\":1-13&!@H*\")\n",
    "\n",
    "print(data_rmsd_first)"
   ]
  },
  {
   "cell_type": "markdown",
   "metadata": {},
   "source": [
    "### Using matplotlib to plot"
   ]
  },
  {
   "cell_type": "code",
   "execution_count": 5,
   "metadata": {},
   "outputs": [
    {
     "data": {
      "text/plain": [
       "Text(0, 0.5, 'RMSD (Angstrom)')"
      ]
     },
     "execution_count": 5,
     "metadata": {},
     "output_type": "execute_result"
    },
    {
     "data": {
      "image/png": "[encoded data removed]",
      "text/plain": [
       "<Figure size 432x288 with 1 Axes>"
      ]
     },
     "metadata": {
      "needs_background": "light"
     },
     "output_type": "display_data"
    }
   ],
   "source": [
    "%matplotlib inline\n",
    "\n",
    "from matplotlib import pyplot as plt\n",
    "\n",
    "plt.plot(data_rmsd_first)\n",
    "plt.xlabel('Frame')\n",
    "plt.ylabel('RMSD (Angstrom)')"
   ]
  },
  {
   "cell_type": "markdown",
   "metadata": {},
   "source": [
    "### Loading reference structure\n",
    "\n",
    "In this case, we are loading the NMR structure for trpzip2"
   ]
  },
  {
   "cell_type": "code",
   "execution_count": 6,
   "metadata": {},
   "outputs": [
    {
     "name": "stdout",
     "output_type": "stream",
     "text": [
      "pytraj.Trajectory, 1 frames: \n",
      "Size: 0.000005 (GB)\n",
      "<Topology: 220 atoms, 13 residues, 1 mols, non-PBC>\n",
      "           \n"
     ]
    }
   ],
   "source": [
    "# we can reuse loaded topology from `traj`\n",
    "ref = pt.load('data/trpzip2.1LE1.1.rst7', \n",
    "              top=traj.top)\n",
    "print(ref)"
   ]
  },
  {
   "cell_type": "markdown",
   "metadata": {},
   "source": [
    "## Computing RMSD to a Reference"
   ]
  },
  {
   "cell_type": "code",
   "execution_count": 7,
   "metadata": {},
   "outputs": [
    {
     "name": "stdout",
     "output_type": "stream",
     "text": [
      "[1.28171363 0.98184973 0.95976186 ... 2.1723379  2.21177339 2.10760399]\n"
     ]
    }
   ],
   "source": [
    "data_rmsd_ref = pt.rmsd(traj, ref=ref,\n",
    "                        mask=\":1-13&!@H*\")\n",
    "print(data_rmsd_ref)"
   ]
  },
  {
   "cell_type": "markdown",
   "metadata": {},
   "source": [
    "## Plotting two RMSDs\n",
    "\n",
    "We can plot rmsd to 1st frame (previously calculated) and rmsd to reference (NMR)"
   ]
  },
  {
   "cell_type": "code",
   "execution_count": 8,
   "metadata": {
    "scrolled": true
   },
   "outputs": [
    {
     "data": {
      "text/plain": [
       "<matplotlib.legend.Legend at 0x7fafd6439570>"
      ]
     },
     "execution_count": 8,
     "metadata": {},
     "output_type": "execute_result"
    },
    {
     "data": {
      "image/png": "[encoded data removed]",
      "text/plain": [
       "<Figure size 432x288 with 1 Axes>"
      ]
     },
     "metadata": {
      "needs_background": "light"
     },
     "output_type": "display_data"
    }
   ],
   "source": [
    "plt.plot(data_rmsd_first, label='to first')\n",
    "plt.plot(data_rmsd_ref, label='to NMR')\n",
    "plt.xlabel('Frame')\n",
    "plt.ylabel('RMSD (Angstrom)')\n",
    "plt.legend()"
   ]
  },
  {
   "cell_type": "markdown",
   "metadata": {},
   "source": [
    "## Computing pairwise RMSD for specific snapshots"
   ]
  },
  {
   "cell_type": "code",
   "execution_count": 9,
   "metadata": {},
   "outputs": [
    {
     "name": "stdout",
     "output_type": "stream",
     "text": [
      "[[0.         0.81742334 0.88945633 ... 2.525405   2.447465   2.8338962 ]\n",
      " [0.81742334 0.         0.92505556 ... 2.4251018  2.3271756  2.8215697 ]\n",
      " [0.88945633 0.92505556 0.         ... 2.3470259  2.2649097  2.6031551 ]\n",
      " ...\n",
      " [2.525405   2.4251018  2.3470259  ... 0.         1.0093889  1.4123441 ]\n",
      " [2.447465   2.3271756  2.2649097  ... 1.0093889  0.         1.3965123 ]\n",
      " [2.8338962  2.8215697  2.6031551  ... 1.4123441  1.3965123  0.        ]]\n"
     ]
    }
   ],
   "source": [
    "# compute pairwise RMSD for first 50 snapshots and skip every 10 frames\n",
    "mat = pt.pairwise_rmsd(traj, mask=\":1-13&!@H*\",\n",
    "            frame_indices=range(0, 500, 10))\n",
    "print(mat)"
   ]
  },
  {
   "cell_type": "code",
   "execution_count": 10,
   "metadata": {},
   "outputs": [
    {
     "data": {
      "text/plain": [
       "<matplotlib.colorbar.Colorbar at 0x7fafce38c220>"
      ]
     },
     "execution_count": 10,
     "metadata": {},
     "output_type": "execute_result"
    },
    {
     "data": {
      "image/png": "[encoded data removed]",
      "text/plain": [
       "<Figure size 432x288 with 2 Axes>"
      ]
     },
     "metadata": {
      "needs_background": "light"
     },
     "output_type": "display_data"
    }
   ],
   "source": [
    "plt.imshow(mat, cmap='jet')\n",
    "plt.xlabel('Frame')\n",
    "plt.ylabel('Frame')\n",
    "plt.colorbar()"
   ]
  },
  {
   "cell_type": "markdown",
   "metadata": {},
   "source": [
    "## Computing dihedral angles\n",
    "\n",
    "In this case, we are computing phi and psi angle for residues 2 to 12. We tell pytraj to convert raw data to pandas's DataFrame\n",
    "to better visualization in notebook"
   ]
  },
  {
   "cell_type": "code",
   "execution_count": 11,
   "metadata": {},
   "outputs": [],
   "source": [
    "phipsi = pt.multidihedral(traj, resrange='1-12', dihedral_types=\"phi psi\", dtype='dataframe')"
   ]
  },
  {
   "cell_type": "markdown",
   "metadata": {},
   "source": [
    "### Pretty display data\n",
    "\n",
    "In this case, we only display a part of the data"
   ]
  },
  {
   "cell_type": "code",
   "execution_count": 12,
   "metadata": {},
   "outputs": [
    {
     "data": {
      "text/html": [
       "<div>\n",
       "<style scoped>\n",
       "    .dataframe tbody tr th:only-of-type {\n",
       "        vertical-align: middle;\n",
       "    }\n",
       "\n",
       "    .dataframe tbody tr th {\n",
       "        vertical-align: top;\n",
       "    }\n",
       "\n",
       "    .dataframe thead th {\n",
       "        text-align: right;\n",
       "    }\n",
       "</style>\n",
       "<table border=\"1\" class=\"dataframe\">\n",
       "  <thead>\n",
       "    <tr style=\"text-align: right;\">\n",
       "      <th></th>\n",
       "      <th>phi_4</th>\n",
       "      <th>psi_4</th>\n",
       "      <th>phi_5</th>\n",
       "      <th>psi_5</th>\n",
       "    </tr>\n",
       "  </thead>\n",
       "  <tbody>\n",
       "    <tr>\n",
       "      <th>0</th>\n",
       "      <td>-75.439203</td>\n",
       "      <td>136.828950</td>\n",
       "      <td>-166.265268</td>\n",
       "      <td>142.963215</td>\n",
       "    </tr>\n",
       "    <tr>\n",
       "      <th>1</th>\n",
       "      <td>-83.644329</td>\n",
       "      <td>130.036725</td>\n",
       "      <td>-149.613451</td>\n",
       "      <td>140.469441</td>\n",
       "    </tr>\n",
       "    <tr>\n",
       "      <th>2</th>\n",
       "      <td>-97.466250</td>\n",
       "      <td>138.200851</td>\n",
       "      <td>-152.872485</td>\n",
       "      <td>122.812971</td>\n",
       "    </tr>\n",
       "    <tr>\n",
       "      <th>3</th>\n",
       "      <td>-90.913898</td>\n",
       "      <td>115.232213</td>\n",
       "      <td>-126.890970</td>\n",
       "      <td>132.339599</td>\n",
       "    </tr>\n",
       "    <tr>\n",
       "      <th>4</th>\n",
       "      <td>-94.040970</td>\n",
       "      <td>131.921428</td>\n",
       "      <td>-140.411407</td>\n",
       "      <td>151.705385</td>\n",
       "    </tr>\n",
       "  </tbody>\n",
       "</table>\n",
       "</div>"
      ],
      "text/plain": [
       "       phi_4       psi_4       phi_5       psi_5\n",
       "0 -75.439203  136.828950 -166.265268  142.963215\n",
       "1 -83.644329  130.036725 -149.613451  140.469441\n",
       "2 -97.466250  138.200851 -152.872485  122.812971\n",
       "3 -90.913898  115.232213 -126.890970  132.339599\n",
       "4 -94.040970  131.921428 -140.411407  151.705385"
      ]
     },
     "execution_count": 12,
     "metadata": {},
     "output_type": "execute_result"
    }
   ],
   "source": [
    "phipsi[['phi_4', 'psi_4', 'phi_5', 'psi_5']].head(5)"
   ]
  },
  {
   "cell_type": "markdown",
   "metadata": {},
   "source": [
    "### Getting some basic info"
   ]
  },
  {
   "cell_type": "code",
   "execution_count": 13,
   "metadata": {},
   "outputs": [
    {
     "data": {
      "text/html": [
       "<div>\n",
       "<style scoped>\n",
       "    .dataframe tbody tr th:only-of-type {\n",
       "        vertical-align: middle;\n",
       "    }\n",
       "\n",
       "    .dataframe tbody tr th {\n",
       "        vertical-align: top;\n",
       "    }\n",
       "\n",
       "    .dataframe thead th {\n",
       "        text-align: right;\n",
       "    }\n",
       "</style>\n",
       "<table border=\"1\" class=\"dataframe\">\n",
       "  <thead>\n",
       "    <tr style=\"text-align: right;\">\n",
       "      <th></th>\n",
       "      <th>phi_4</th>\n",
       "      <th>psi_4</th>\n",
       "      <th>phi_5</th>\n",
       "      <th>psi_5</th>\n",
       "    </tr>\n",
       "  </thead>\n",
       "  <tbody>\n",
       "    <tr>\n",
       "      <th>count</th>\n",
       "      <td>1201.000000</td>\n",
       "      <td>1201.000000</td>\n",
       "      <td>1201.000000</td>\n",
       "      <td>1201.000000</td>\n",
       "    </tr>\n",
       "    <tr>\n",
       "      <th>mean</th>\n",
       "      <td>-84.227620</td>\n",
       "      <td>131.166893</td>\n",
       "      <td>-143.707816</td>\n",
       "      <td>105.065698</td>\n",
       "    </tr>\n",
       "    <tr>\n",
       "      <th>std</th>\n",
       "      <td>16.317879</td>\n",
       "      <td>12.427970</td>\n",
       "      <td>13.340660</td>\n",
       "      <td>39.313901</td>\n",
       "    </tr>\n",
       "    <tr>\n",
       "      <th>min</th>\n",
       "      <td>-147.577326</td>\n",
       "      <td>80.866604</td>\n",
       "      <td>-176.154622</td>\n",
       "      <td>-179.166655</td>\n",
       "    </tr>\n",
       "    <tr>\n",
       "      <th>25%</th>\n",
       "      <td>-94.353636</td>\n",
       "      <td>123.182218</td>\n",
       "      <td>-152.771024</td>\n",
       "      <td>71.362192</td>\n",
       "    </tr>\n",
       "    <tr>\n",
       "      <th>50%</th>\n",
       "      <td>-82.585343</td>\n",
       "      <td>131.887478</td>\n",
       "      <td>-145.219714</td>\n",
       "      <td>115.641876</td>\n",
       "    </tr>\n",
       "    <tr>\n",
       "      <th>75%</th>\n",
       "      <td>-73.350432</td>\n",
       "      <td>140.019820</td>\n",
       "      <td>-136.516230</td>\n",
       "      <td>134.998512</td>\n",
       "    </tr>\n",
       "    <tr>\n",
       "      <th>max</th>\n",
       "      <td>-37.436428</td>\n",
       "      <td>166.331044</td>\n",
       "      <td>-64.705252</td>\n",
       "      <td>176.879019</td>\n",
       "    </tr>\n",
       "  </tbody>\n",
       "</table>\n",
       "</div>"
      ],
      "text/plain": [
       "             phi_4        psi_4        phi_5        psi_5\n",
       "count  1201.000000  1201.000000  1201.000000  1201.000000\n",
       "mean    -84.227620   131.166893  -143.707816   105.065698\n",
       "std      16.317879    12.427970    13.340660    39.313901\n",
       "min    -147.577326    80.866604  -176.154622  -179.166655\n",
       "25%     -94.353636   123.182218  -152.771024    71.362192\n",
       "50%     -82.585343   131.887478  -145.219714   115.641876\n",
       "75%     -73.350432   140.019820  -136.516230   134.998512\n",
       "max     -37.436428   166.331044   -64.705252   176.879019"
      ]
     },
     "execution_count": 13,
     "metadata": {},
     "output_type": "execute_result"
    }
   ],
   "source": [
    "phipsi[['phi_4', 'psi_4', 'phi_5', 'psi_5']].describe()"
   ]
  },
  {
   "cell_type": "markdown",
   "metadata": {},
   "source": [
    "### Plotting dihedral\n",
    "\n",
    "In this case, we are plotting Psi dihedral for residue 4 (TRP)"
   ]
  },
  {
   "cell_type": "code",
   "execution_count": 14,
   "metadata": {},
   "outputs": [
    {
     "data": {
      "text/plain": [
       "Text(0, 0.5, 'Phi4')"
      ]
     },
     "execution_count": 14,
     "metadata": {},
     "output_type": "execute_result"
    },
    {
     "data": {
      "image/png": "[encoded data removed]",
      "text/plain": [
       "<Figure size 432x288 with 1 Axes>"
      ]
     },
     "metadata": {
      "needs_background": "light"
     },
     "output_type": "display_data"
    }
   ],
   "source": [
    "plt.plot(phipsi['psi_8'], '-bo', markersize=3, linewidth=0)\n",
    "plt.xlabel('Frame')\n",
    "plt.ylabel('Phi4')"
   ]
  },
  {
   "cell_type": "markdown",
   "metadata": {},
   "source": [
    "# Get some information about the structure"
   ]
  },
  {
   "cell_type": "code",
   "execution_count": 15,
   "metadata": {
    "scrolled": false
   },
   "outputs": [
    {
     "name": "stdout",
     "output_type": "stream",
     "text": [
      "<SER0, 13 atoms>\n",
      "<TRP1, 24 atoms>\n",
      "<THR2, 14 atoms>\n",
      "<TRP3, 24 atoms>\n",
      "<GLU4, 15 atoms>\n",
      "<ASN5, 14 atoms>\n",
      "<GLY6, 7 atoms>\n",
      "<LYS7, 22 atoms>\n",
      "<TRP8, 24 atoms>\n",
      "<THR9, 14 atoms>\n",
      "<TRP10, 24 atoms>\n",
      "<LYS11, 22 atoms>\n",
      "<NHE12, 3 atoms>\n"
     ]
    }
   ],
   "source": [
    "top = traj.top\n",
    "\n",
    "for residue in top.residues:\n",
    "    # Note: In python, 0-based index is used.\n",
    "    # For example: SER0 should be first residue\n",
    "    print(residue)"
   ]
  },
  {
   "cell_type": "code",
   "execution_count": 16,
   "metadata": {
    "scrolled": false
   },
   "outputs": [
    {
     "data": {
      "text/plain": [
       "[Atom(name=N, type=N3, atomic_number=7, index=0, resid=0),\n",
       " Atom(name=H1, type=H, atomic_number=1, index=1, resid=0),\n",
       " Atom(name=H2, type=H, atomic_number=1, index=2, resid=0),\n",
       " Atom(name=H3, type=H, atomic_number=1, index=3, resid=0),\n",
       " Atom(name=CA, type=CX, atomic_number=6, index=4, resid=0),\n",
       " Atom(name=HA, type=HP, atomic_number=1, index=5, resid=0),\n",
       " Atom(name=CB, type=CT, atomic_number=6, index=6, resid=0),\n",
       " Atom(name=HB2, type=H1, atomic_number=1, index=7, resid=0),\n",
       " Atom(name=HB3, type=H1, atomic_number=1, index=8, resid=0),\n",
       " Atom(name=OG, type=OH, atomic_number=8, index=9, resid=0)]"
      ]
     },
     "execution_count": 16,
     "metadata": {},
     "output_type": "execute_result"
    }
   ],
   "source": [
    "list(traj.top.atoms)[:10]"
   ]
  },
  {
   "cell_type": "markdown",
   "metadata": {},
   "source": [
    "## Tips\n",
    "\n",
    "- Run bash command: Use !"
   ]
  },
  {
   "cell_type": "code",
   "execution_count": 17,
   "metadata": {},
   "outputs": [
    {
     "name": "stdout",
     "output_type": "stream",
     "text": [
      "Hello\r\n"
     ]
    }
   ],
   "source": [
    "! echo Hello"
   ]
  },
  {
   "cell_type": "markdown",
   "metadata": {},
   "source": [
    "- How to run this notebook?\n",
    "    \n",
    "    - Run all commands: **Cell -> Run All**\n",
    "    - Run each Cell: **Ctrl-Enter**\n",
    "    - Run each Cell and jump to next Cell: **Shift-Enter**\n",
    "- How to save all commands to Python script: Choose **File -> Download as -> Python (.py)**\n",
    "- How to save figures in this notebook: Right click and choose **Save image as** (or similiar command)\n",
    "- More info? Choose **Help -> Keyboard Shortcuts**"
   ]
  },
  {
   "cell_type": "markdown",
   "metadata": {
    "collapsed": true
   },
   "source": [
    "## See also\n",
    "\n",
    "If you would like to learn more about ``pytraj``, please see unofficial AMBER tutorials for pytraj in [pytraj website](http://amber-md.github.io/pytraj/latest/tutorials/index.html)"
   ]
  },
  {
   "cell_type": "code",
   "execution_count": 18,
   "metadata": {},
   "outputs": [
    {
     "name": "stdout",
     "output_type": "stream",
     "text": [
      "--2022-10-25 16:30:36--  http://ambermd.org/tutorials/basic/tutorial3/files/production.tar.gz\n",
      "Résolution de ambermd.org (ambermd.org)… 128.6.241.202\n",
      "Connexion à ambermd.org (ambermd.org)|128.6.241.202|:80… connecté.\n",
      "requête HTTP transmise, en attente de la réponse… 200 OK\n",
      "Taille : 135482912 (129M) [application/x-gzip]\n",
      "Enregistre : ‘production.tar.gz.3’\n",
      "\n",
      "production.tar.gz.3 100%[===================>] 129,21M  14,3MB/s    ds 8,4s    \n",
      "\n",
      "2022-10-25 16:30:44 (15,4 MB/s) - ‘production.tar.gz.3’ enregistré [135482912/135482912]\n",
      "\n"
     ]
    }
   ],
   "source": [
    "#!wget http://ambermd.org/tutorials/basic/tutorial3/files/production.tar.gz"
   ]
  },
  {
   "cell_type": "code",
   "execution_count": 19,
   "metadata": {},
   "outputs": [
    {
     "name": "stdout",
     "output_type": "stream",
     "text": [
      "--2022-10-25 16:30:44--  http://ambermd.org/tutorials/basic/tutorial3/files/TC5b.prmtop\n",
      "Résolution de ambermd.org (ambermd.org)… 128.6.241.202\n",
      "Connexion à ambermd.org (ambermd.org)|128.6.241.202|:80… connecté.\n",
      "requête HTTP transmise, en attente de la réponse… 200 OK\n",
      "Taille : 131123 (128K)\n",
      "Enregistre : ‘TC5b.prmtop’\n",
      "\n",
      "TC5b.prmtop         100%[===================>] 128,05K   509KB/s    ds 0,3s    \n",
      "\n",
      "2022-10-25 16:30:45 (509 KB/s) - ‘TC5b.prmtop’ enregistré [131123/131123]\n",
      "\n"
     ]
    }
   ],
   "source": [
    "#!wget http://ambermd.org/tutorials/basic/tutorial3/files/TC5b.prmtop"
   ]
  },
  {
   "cell_type": "code",
   "execution_count": 20,
   "metadata": {},
   "outputs": [],
   "source": [
    "!tar -xf ./production.tar.gz\n",
    "!mv TC5b.prmtop production/"
   ]
  },
  {
   "cell_type": "code",
   "execution_count": 21,
   "metadata": {},
   "outputs": [
    {
     "name": "stdout",
     "output_type": "stream",
     "text": [
      "--2022-10-25 16:30:46--  http://ambermd.org/tutorials/basic/tutorial3/files/lowest_energy_struct.pdb.2455\n",
      "Résolution de ambermd.org (ambermd.org)… 128.6.241.202\n",
      "Connexion à ambermd.org (ambermd.org)|128.6.241.202|:80… connecté.\n",
      "requête HTTP transmise, en attente de la réponse… 200 OK\n",
      "Taille : 20368 (20K) [application/vnd.palm]\n",
      "Enregistre : ‘lowest_energy_struct.pdb.2455’\n",
      "\n",
      "lowest_energy_struc 100%[===================>]  19,89K  --.-KB/s    ds 0,08s   \n",
      "\n",
      "2022-10-25 16:30:47 (239 KB/s) - ‘lowest_energy_struct.pdb.2455’ enregistré [20368/20368]\n",
      "\n"
     ]
    }
   ],
   "source": [
    "#!wget http://ambermd.org/tutorials/basic/tutorial3/files/lowest_energy_struct.pdb.2455"
   ]
  },
  {
   "cell_type": "code",
   "execution_count": 22,
   "metadata": {},
   "outputs": [],
   "source": [
    "!mv lowest_energy_struct.pdb.2455 production/"
   ]
  },
  {
   "cell_type": "code",
   "execution_count": 23,
   "metadata": {},
   "outputs": [
    {
     "name": "stdout",
     "output_type": "stream",
     "text": [
      "equil10.mdcrd.gz  equil3.rst\t   equil7.out\r\n",
      "equil10.out\t  equil4.mdcrd.gz  equil7.rst\r\n",
      "equil10.rst\t  equil4.out\t   equil8.mdcrd.gz\r\n",
      "equil1.mdcrd.gz   equil4.rst\t   equil8.out\r\n",
      "equil1.out\t  equil5.mdcrd.gz  equil8.rst\r\n",
      "equil1.rst\t  equil5.out\t   equil9.mdcrd.gz\r\n",
      "equil2.mdcrd.gz   equil5.rst\t   equil9.out\r\n",
      "equil2.out\t  equil6.mdcrd.gz  equil9.rst\r\n",
      "equil2.rst\t  equil6.out\t   lowest_energy_struct.pdb.2455\r\n",
      "equil3.mdcrd.gz   equil6.rst\t   TC5b.prmtop\r\n",
      "equil3.out\t  equil7.mdcrd.gz\r\n"
     ]
    }
   ],
   "source": [
    "!ls production"
   ]
  },
  {
   "cell_type": "code",
   "execution_count": 24,
   "metadata": {},
   "outputs": [
    {
     "data": {
      "text/plain": [
       "pytraj.Trajectory, 50000 frames: \n",
       "Size: 0.339746 (GB)\n",
       "<Topology: 304 atoms, 20 residues, 1 mols, non-PBC>\n",
       "           "
      ]
     },
     "execution_count": 24,
     "metadata": {},
     "output_type": "execute_result"
    }
   ],
   "source": [
    "import pytraj as pt\n",
    "traj = pt.load('production/equil*.mdcrd.gz', top='production/TC5b.prmtop')\n",
    "traj"
   ]
  },
  {
   "cell_type": "code",
   "execution_count": 25,
   "metadata": {},
   "outputs": [
    {
     "data": {
      "application/vnd.jupyter.widget-view+json": {
       "model_id": "a3dbbb70835b4526811a22b1cd958467",
       "version_major": 2,
       "version_minor": 0
      },
      "text/plain": []
     },
     "metadata": {},
     "output_type": "display_data"
    },
    {
     "data": {
      "application/vnd.jupyter.widget-view+json": {
       "model_id": "1721dc58dd82457fa19dc29d9488dd7d",
       "version_major": 2,
       "version_minor": 0
      },
      "text/plain": [
       "NGLWidget(max_frame=49999)"
      ]
     },
     "metadata": {},
     "output_type": "display_data"
    }
   ],
   "source": [
    "import nglview as nv\n",
    "\n",
    "view = nv.show_pytraj(traj)\n",
    "view"
   ]
  },
  {
   "cell_type": "code",
   "execution_count": 26,
   "metadata": {},
   "outputs": [],
   "source": [
    "view.representations = []\n",
    "view.parameters = {'theme': 'dark'}\n",
    "view.add_representation('licorice', selection='not hydrogen')\n",
    "view.add_representation('cartoon')"
   ]
  },
  {
   "cell_type": "code",
   "execution_count": 27,
   "metadata": {},
   "outputs": [],
   "source": [
    "view.frame = 2000"
   ]
  },
  {
   "cell_type": "code",
   "execution_count": 28,
   "metadata": {},
   "outputs": [],
   "source": [
    "from IPython.display import Image\n",
    "#Image('nglview_trpcage_amber_tutorial_3.png', width=600)"
   ]
  },
  {
   "cell_type": "code",
   "execution_count": 29,
   "metadata": {},
   "outputs": [
    {
     "data": {
      "text/plain": [
       "pytraj.Trajectory, 1 frames: \n",
       "Size: 0.000007 (GB)\n",
       "<Topology: 304 atoms, 20 residues, 1 mols, non-PBC>\n",
       "           "
      ]
     },
     "execution_count": 29,
     "metadata": {},
     "output_type": "execute_result"
    }
   ],
   "source": [
    "lowest_energy_pdb = pt.load('production/lowest_energy_struct.pdb.2455')\n",
    "lowest_energy_pdb"
   ]
  },
  {
   "cell_type": "code",
   "execution_count": 30,
   "metadata": {},
   "outputs": [
    {
     "data": {
      "text/plain": [
       "array([5.27339494, 5.14608589, 4.98715608, ..., 3.73567383, 3.52249127,\n",
       "       3.46483843])"
      ]
     },
     "execution_count": 30,
     "metadata": {},
     "output_type": "execute_result"
    }
   ],
   "source": [
    "rmsd_to_lowest_pdb = pt.rmsd(traj, ref=lowest_energy_pdb, mask='@N,CA,C')\n",
    "rmsd_to_lowest_pdb"
   ]
  },
  {
   "cell_type": "code",
   "execution_count": 31,
   "metadata": {},
   "outputs": [
    {
     "data": {
      "text/plain": [
       "Text(0, 0.5, 'RMSD (angstrom)')"
      ]
     },
     "execution_count": 31,
     "metadata": {},
     "output_type": "execute_result"
    },
    {
     "data": {
      "image/png": "[encoded data removed]",
      "text/plain": [
       "<Figure size 432x288 with 1 Axes>"
      ]
     },
     "metadata": {
      "needs_background": "light"
     },
     "output_type": "display_data"
    }
   ],
   "source": [
    "%matplotlib inline\n",
    "\n",
    "from matplotlib import pyplot as plt\n",
    "\n",
    "plt.plot(rmsd_to_lowest_pdb)\n",
    "plt.xlabel('Time (ps)')\n",
    "plt.ylabel('RMSD (angstrom)')\n"
   ]
  },
  {
   "cell_type": "code",
   "execution_count": null,
   "metadata": {},
   "outputs": [],
   "source": []
  }
 ],
 "metadata": {
  "kernelspec": {
   "display_name": "Python 3 (ipykernel)",
   "language": "python",
   "name": "python3"
  },
  "language_info": {
   "codemirror_mode": {
    "name": "ipython",
    "version": 3
   },
   "file_extension": ".py",
   "mimetype": "text/x-python",
   "name": "python",
   "nbconvert_exporter": "python",
   "pygments_lexer": "ipython3",
   "version": "3.10.7"
  }
 },
 "nbformat": 4,
 "nbformat_minor": 1
}
