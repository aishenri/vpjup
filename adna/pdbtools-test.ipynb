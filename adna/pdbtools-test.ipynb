{
 "cells": [
  {
   "cell_type": "markdown",
   "id": "58d96c38",
   "metadata": {},
   "source": [
    "Télécharger une structure"
   ]
  },
  {
   "cell_type": "code",
   "execution_count": 4,
   "id": "de4a0509",
   "metadata": {},
   "outputs": [],
   "source": [
    "%%bash\n",
    "pdb_fetch 1brs > 1brs.pdb\n",
    "pdb_fetch 1ctf > 1ctf.pdb\n",
    "pdb_fetch -biounit 1brs > 1brs.pdb "
   ]
  },
  {
   "cell_type": "markdown",
   "id": "766d4d50",
   "metadata": {},
   "source": [
    "Re-nummérer une structure"
   ]
  },
  {
   "cell_type": "code",
   "execution_count": 5,
   "id": "e01b968a",
   "metadata": {},
   "outputs": [],
   "source": [
    "%%bash\n",
    "pdb_reres -1 1ctf.pdb > 1ctf_renumbered.pdb"
   ]
  },
  {
   "cell_type": "markdown",
   "id": "edeb1c11",
   "metadata": {},
   "source": [
    "Sélectionner une chaine "
   ]
  },
  {
   "cell_type": "code",
   "execution_count": 9,
   "id": "b90bb201",
   "metadata": {},
   "outputs": [],
   "source": [
    "%%bash \n",
    "pdb_selchain -A 1brs.pdb > 1brs_A.pdb\n",
    "pdb_selchain -A,D 1brs.pdb > 1brs_AD.pdb"
   ]
  },
  {
   "cell_type": "markdown",
   "id": "e88d5792",
   "metadata": {},
   "source": [
    "Effacer l'hydrogène"
   ]
  },
  {
   "cell_type": "code",
   "execution_count": 10,
   "id": "efcca666",
   "metadata": {},
   "outputs": [],
   "source": [
    "%%bash\n",
    "pdb_delelem -H 1brs.pdb > 1brs_noH.pdb"
   ]
  },
  {
   "cell_type": "markdown",
   "id": "d93f5c7f",
   "metadata": {},
   "source": [
    "Sélectionner le squelette "
   ]
  },
  {
   "cell_type": "code",
   "execution_count": 12,
   "id": "be254234",
   "metadata": {},
   "outputs": [],
   "source": [
    "%%bash\n",
    "pdb_selatom -CA,C,N,O 1brs.pdb > 1brs_bb.pdb"
   ]
  },
  {
   "cell_type": "markdown",
   "id": "1af66d6e",
   "metadata": {},
   "source": [
    "Sélectionner des chaines effacer HETATM produire un pdb"
   ]
  },
  {
   "cell_type": "code",
   "execution_count": null,
   "id": "8285a58b",
   "metadata": {},
   "outputs": [],
   "source": [
    "%%"
   ]
  }
 ],
 "metadata": {
  "kernelspec": {
   "display_name": "Python 3 (ipykernel)",
   "language": "python",
   "name": "python3"
  },
  "language_info": {
   "codemirror_mode": {
    "name": "ipython",
    "version": 3
   },
   "file_extension": ".py",
   "mimetype": "text/x-python",
   "name": "python",
   "nbconvert_exporter": "python",
   "pygments_lexer": "ipython3",
   "version": "3.10.7"
  }
 },
 "nbformat": 4,
 "nbformat_minor": 5
}
