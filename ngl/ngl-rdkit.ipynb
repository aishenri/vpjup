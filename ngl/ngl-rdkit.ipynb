{
 "cells": [
  {
   "cell_type": "code",
   "execution_count": 1,
   "id": "violent-chinese",
   "metadata": {},
   "outputs": [],
   "source": [
    "#import nglview as nv;view = nv.show_pdbid(\"1l2y\");view"
   ]
  },
  {
   "cell_type": "code",
   "execution_count": 2,
   "id": "coordinated-burke",
   "metadata": {},
   "outputs": [
    {
     "data": {
      "application/vnd.jupyter.widget-view+json": {
       "model_id": "c6bd212f4d0c48a9aa44405d0f1a1565",
       "version_major": 2,
       "version_minor": 0
      },
      "text/plain": []
     },
     "metadata": {},
     "output_type": "display_data"
    }
   ],
   "source": [
    "import nglview as nv\n",
    "view = nv.show_structure_file(nv.datafiles.PDB)"
   ]
  },
  {
   "cell_type": "code",
   "execution_count": 3,
   "id": "surrounded-latest",
   "metadata": {},
   "outputs": [],
   "source": [
    "view.clear_representations()\n",
    "view.add_licorice('not hydrogen')"
   ]
  },
  {
   "cell_type": "code",
   "execution_count": 4,
   "id": "billion-prisoner",
   "metadata": {},
   "outputs": [],
   "source": [
    "view.clear_representations()\n",
    "view.add_licorice('not hydrogen', color='blue')"
   ]
  },
  {
   "cell_type": "code",
   "execution_count": 5,
   "id": "interracial-breathing",
   "metadata": {
    "scrolled": true
   },
   "outputs": [
    {
     "data": {
      "application/vnd.jupyter.widget-view+json": {
       "model_id": "c6ab27d675bc4571bc1cb37b01da671f",
       "version_major": 2,
       "version_minor": 0
      },
      "text/plain": [
       "NGLWidget()"
      ]
     },
     "metadata": {},
     "output_type": "display_data"
    }
   ],
   "source": [
    "view.clear_representations()\n",
    "view.add_surface('.GLY', opacity=0.3)\n",
    "view.add_licorice('not hydrogen');view"
   ]
  },
  {
   "cell_type": "code",
   "execution_count": 6,
   "id": "sapphire-registration",
   "metadata": {},
   "outputs": [
    {
     "data": {
      "application/vnd.jupyter.widget-view+json": {
       "model_id": "04cc3ea739804d59bfed2943b4420986",
       "version_major": 2,
       "version_minor": 0
      },
      "text/plain": [
       "Image(value=b'', width='99%')"
      ]
     },
     "metadata": {},
     "output_type": "display_data"
    }
   ],
   "source": [
    "view.clear_representations()\n",
    "view.add_ball_and_stick()\n",
    "view.add_surface(opacity=0.3)\n",
    "view.render_image()"
   ]
  },
  {
   "cell_type": "code",
   "execution_count": 7,
   "id": "conservative-workshop",
   "metadata": {},
   "outputs": [
    {
     "data": {
      "image/png": "\n",
      "text/plain": [
       "<IPython.core.display.Image object>"
      ]
     },
     "execution_count": 7,
     "metadata": {},
     "output_type": "execute_result"
    }
   ],
   "source": [
    "view._display_image()"
   ]
  },
  {
   "cell_type": "code",
   "execution_count": 8,
   "id": "black-ensemble",
   "metadata": {},
   "outputs": [
    {
     "data": {
      "application/vnd.jupyter.widget-view+json": {
       "model_id": "c6ab27d675bc4571bc1cb37b01da671f",
       "version_major": 2,
       "version_minor": 0
      },
      "text/plain": [
       "NGLWidget()"
      ]
     },
     "metadata": {},
     "output_type": "display_data"
    }
   ],
   "source": [
    "view.add_representation('ball+stick',\n",
    "    selection='SER', color='gold')\n",
    "view.add_representation('licorice',\n",
    "selection=[3, 8, 9, 11], color='ball+stick')\n",
    "view "
   ]
  },
  {
   "cell_type": "code",
   "execution_count": 9,
   "id": "utility-extent",
   "metadata": {
    "scrolled": true
   },
   "outputs": [
    {
     "data": {
      "application/vnd.jupyter.widget-view+json": {
       "model_id": "979f911e4b3e46ef8485bbd352c6be02",
       "version_major": 2,
       "version_minor": 0
      },
      "text/plain": [
       "NGLWidget()"
      ]
     },
     "metadata": {},
     "output_type": "display_data"
    }
   ],
   "source": [
    "import nglview as nv\n",
    "view = nv.show_pdbid(\"1l2y\");view"
   ]
  },
  {
   "cell_type": "code",
   "execution_count": 10,
   "id": "stunning-defendant",
   "metadata": {},
   "outputs": [
    {
     "data": {
      "application/vnd.jupyter.widget-view+json": {
       "model_id": "979f911e4b3e46ef8485bbd352c6be02",
       "version_major": 2,
       "version_minor": 0
      },
      "text/plain": [
       "NGLWidget()"
      ]
     },
     "metadata": {},
     "output_type": "display_data"
    }
   ],
   "source": [
    "view.add_representation('ball+stick',\n",
    "    selection='SER', color='gold')\n",
    "view.add_representation('licorice',\n",
    "selection=[3, 8, 9, 11], color='ball+stick')\n",
    "view "
   ]
  },
  {
   "cell_type": "code",
   "execution_count": 23,
   "id": "passive-italic",
   "metadata": {},
   "outputs": [],
   "source": [
    "def show_numpy_trajectory(traj, box, aspect_ratio=5):\n",
    "    # create an argon topology\n",
    "    top = md.Topology()\n",
    "    chain = top.add_chain()\n",
    "    for i in range(traj.shape[2]):\n",
    "        residue = top.add_residue('AR', chain)\n",
    "        top.add_atom('Ar', md.element.argon, residue)\n",
    "    # create trajectory\n",
    "    n_frames = len(traj)\n",
    "    t = md.Trajectory(traj.swapaxes(1, 2), topology=top,\n",
    "                      unitcell_lengths=np.repeat(box[np.newaxis, ...], n_frames, axis=0),\n",
    "                      unitcell_angles=np.ones((n_frames, 3))*90.0)\n",
    "    # create view and show trajectory\n",
    "    view = nv.show.show_mdtraj(t)\n",
    "    view.clear_representations()\n",
    "    view.add_representation('ball+stick',\n",
    "                    aspectRatio=0.2)\n",
    "    view.add_unitcell()\n",
    "    return view"
   ]
  },
  {
   "cell_type": "code",
   "execution_count": 24,
   "id": "hungry-workshop",
   "metadata": {
    "scrolled": true
   },
   "outputs": [
    {
     "data": {
      "application/vnd.jupyter.widget-view+json": {
       "model_id": "979f911e4b3e46ef8485bbd352c6be02",
       "version_major": 2,
       "version_minor": 0
      },
      "text/plain": [
       "NGLWidget(n_components=1)"
      ]
     },
     "metadata": {},
     "output_type": "display_data"
    }
   ],
   "source": [
    "view"
   ]
  },
  {
   "cell_type": "code",
   "execution_count": 26,
   "id": "olympic-bunch",
   "metadata": {},
   "outputs": [],
   "source": [
    " view.add_representation(\"ball+stick\",color= \"rainbow\")"
   ]
  },
  {
   "cell_type": "code",
   "execution_count": null,
   "id": "documented-coaching",
   "metadata": {},
   "outputs": [],
   "source": []
  }
 ],
 "metadata": {
  "kernelspec": {
   "display_name": "Python 3",
   "language": "python",
   "name": "python3"
  },
  "language_info": {
   "codemirror_mode": {
    "name": "ipython",
    "version": 3
   },
   "file_extension": ".py",
   "mimetype": "text/x-python",
   "name": "python",
   "nbconvert_exporter": "python",
   "pygments_lexer": "ipython3",
   "version": "3.9.4"
  }
 },
 "nbformat": 4,
 "nbformat_minor": 5
}
