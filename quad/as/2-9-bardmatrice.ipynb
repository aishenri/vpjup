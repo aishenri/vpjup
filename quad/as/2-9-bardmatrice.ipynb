{
 "cells": [
  {
   "cell_type": "code",
   "execution_count": 1,
   "metadata": {},
   "outputs": [],
   "source": [
    "%display latex"
   ]
  },
  {
   "cell_type": "code",
   "execution_count": 4,
   "metadata": {},
   "outputs": [
    {
     "data": {
      "text/html": [
       "<html><script type=\"math/tex; mode=display\">\\newcommand{\\Bold}[1]{\\mathbf{#1}}\\verb|p=| 3.14159265300000 \\times 10^{8}</script></html>"
      ],
      "text/plain": [
       "'p=' 3.14159265300000e8"
      ]
     },
     "metadata": {},
     "output_type": "display_data"
    },
    {
     "data": {
      "text/html": [
       "<html><script type=\"math/tex; mode=display\">\\newcommand{\\Bold}[1]{\\mathbf{#1}}\\verb|u=| 1.14591559026165 \\times 10^{-6}</script></html>"
      ],
      "text/plain": [
       "'u=' 1.14591559026165e-6"
      ]
     },
     "metadata": {},
     "output_type": "display_data"
    },
    {
     "data": {
      "text/html": [
       "<html><script type=\"math/tex; mode=display\">\\newcommand{\\Bold}[1]{\\mathbf{#1}}\\verb|s=| 8.84194128288307 \\times 10^{-12}</script></html>"
      ],
      "text/plain": [
       "'s=' 8.84194128288307e-12"
      ]
     },
     "metadata": {},
     "output_type": "display_data"
    }
   ],
   "source": [
    "p=314159265.3;u=1/n(pi)*360E-8;s=1/(n(pi)*360E+8)\n",
    "show(\"p=\",p);show(\"u=\",u);show(\"s=\",s)"
   ]
  },
  {
   "cell_type": "code",
   "execution_count": 5,
   "metadata": {},
   "outputs": [
    {
     "data": {
      "text/html": [
       "<html><script type=\"math/tex; mode=display\">\\newcommand{\\Bold}[1]{\\mathbf{#1}}872664.625997165</script></html>"
      ],
      "text/plain": [
       "872664.625997165"
      ]
     },
     "execution_count": 5,
     "metadata": {},
     "output_type": "execute_result"
    }
   ],
   "source": [
    "1/u"
   ]
  },
  {
   "cell_type": "code",
   "execution_count": 6,
   "metadata": {},
   "outputs": [
    {
     "data": {
      "text/html": [
       "<html><script type=\"math/tex; mode=display\">\\newcommand{\\Bold}[1]{\\mathbf{#1}}1.13097335529233 \\times 10^{11}</script></html>"
      ],
      "text/plain": [
       "1.13097335529233e11"
      ]
     },
     "execution_count": 6,
     "metadata": {},
     "output_type": "execute_result"
    }
   ],
   "source": [
    "1/s"
   ]
  },
  {
   "cell_type": "markdown",
   "metadata": {},
   "source": [
    "L'inverse de $\\mu$ 1/u est proche de la constante de Coulomb ? \n",
    "\n",
    "C=898755 tonnes \n",
    "\n",
    "1/u=872665"
   ]
  },
  {
   "cell_type": "code",
   "execution_count": 9,
   "metadata": {},
   "outputs": [
    {
     "data": {
      "text/html": [
       "<html><script type=\"math/tex; mode=display\">\\newcommand{\\Bold}[1]{\\mathbf{#1}}\\left(\\begin{array}{rrrr}\n",
       "3 & -4 & 5 & 14 \\\\\n",
       "1 & 1 & -8 & -5 \\\\\n",
       "2 & 1 & 1 & 7\n",
       "\\end{array}\\right)</script></html>"
      ],
      "text/plain": [
       "[ 3 -4  5 14]\n",
       "[ 1  1 -8 -5]\n",
       "[ 2  1  1  7]"
      ]
     },
     "execution_count": 9,
     "metadata": {},
     "output_type": "execute_result"
    }
   ],
   "source": [
    "A=matrix(3,4,[3,-4,5,14,1,1,-8,-5,2,1,1,7]);A"
   ]
  },
  {
   "cell_type": "code",
   "execution_count": 10,
   "metadata": {},
   "outputs": [
    {
     "data": {
      "text/html": [
       "<html><script type=\"math/tex; mode=display\">\\newcommand{\\Bold}[1]{\\mathbf{#1}}\\left(\\begin{array}{rrrr}\n",
       "1 & 0 & 0 & 3 \\\\\n",
       "0 & 1 & 0 & 0 \\\\\n",
       "0 & 0 & 1 & 1\n",
       "\\end{array}\\right)</script></html>"
      ],
      "text/plain": [
       "[1 0 0 3]\n",
       "[0 1 0 0]\n",
       "[0 0 1 1]"
      ]
     },
     "metadata": {},
     "output_type": "display_data"
    }
   ],
   "source": [
    "show(A.rref())"
   ]
  },
  {
   "cell_type": "code",
   "execution_count": 14,
   "metadata": {},
   "outputs": [
    {
     "data": {
      "text/html": [
       "<html><script type=\"math/tex; mode=display\">\\newcommand{\\Bold}[1]{\\mathbf{#1}}\\left(14, -5, 7\\right)</script></html>"
      ],
      "text/plain": [
       "(14, -5, 7)"
      ]
     },
     "execution_count": 14,
     "metadata": {},
     "output_type": "execute_result"
    }
   ],
   "source": [
    "3*3+-4*0+5*1,1*3+1*0-8*1,2*3+1*0+1*1"
   ]
  },
  {
   "cell_type": "code",
   "execution_count": 15,
   "metadata": {},
   "outputs": [],
   "source": [
    "B = matrix( 4, 5, [-1, 2, 1, -5, 6, 0, 0, -1, 1, -5, 1, 3, 3,\n",
    "-1, 0, -1, 5, -1, 0, -1 ] )"
   ]
  },
  {
   "cell_type": "code",
   "execution_count": 16,
   "metadata": {},
   "outputs": [
    {
     "data": {
      "text/html": [
       "<html><script type=\"math/tex; mode=display\">\\newcommand{\\Bold}[1]{\\mathbf{#1}}\\left(\\begin{array}{rrrrr}\n",
       "-1 & 2 & 1 & -5 & 6 \\\\\n",
       "0 & 0 & -1 & 1 & -5 \\\\\n",
       "1 & 3 & 3 & -1 & 0 \\\\\n",
       "-1 & 5 & -1 & 0 & -1\n",
       "\\end{array}\\right)</script></html>"
      ],
      "text/plain": [
       "[-1  2  1 -5  6]\n",
       "[ 0  0 -1  1 -5]\n",
       "[ 1  3  3 -1  0]\n",
       "[-1  5 -1  0 -1]"
      ]
     },
     "metadata": {},
     "output_type": "display_data"
    }
   ],
   "source": [
    "show(B)"
   ]
  },
  {
   "cell_type": "code",
   "execution_count": 17,
   "metadata": {},
   "outputs": [
    {
     "data": {
      "text/html": [
       "<html><script type=\"math/tex; mode=display\">\\newcommand{\\Bold}[1]{\\mathbf{#1}}\\left(\\begin{array}{rrrrr}\n",
       "1 & 0 & 0 & 0 & -\\frac{107}{7} \\\\\n",
       "0 & 1 & 0 & 0 & -\\frac{12}{7} \\\\\n",
       "0 & 0 & 1 & 0 & \\frac{54}{7} \\\\\n",
       "0 & 0 & 0 & 1 & \\frac{19}{7}\n",
       "\\end{array}\\right)</script></html>"
      ],
      "text/plain": [
       "[     1      0      0      0 -107/7]\n",
       "[     0      1      0      0  -12/7]\n",
       "[     0      0      1      0   54/7]\n",
       "[     0      0      0      1   19/7]"
      ]
     },
     "metadata": {},
     "output_type": "display_data"
    }
   ],
   "source": [
    "show(B.rref())"
   ]
  },
  {
   "cell_type": "code",
   "execution_count": 20,
   "metadata": {},
   "outputs": [
    {
     "data": {
      "text/html": [
       "<html><script type=\"math/tex; mode=display\">\\newcommand{\\Bold}[1]{\\mathbf{#1}}\\verb|Question|\\phantom{\\verb!x!}\\verb|:| \\left(\\begin{array}{rrrrr}\n",
       "-1 & 2 & 1 & -5 & 6 \\\\\n",
       "0 & 0 & -1 & 1 & -5 \\\\\n",
       "1 & 3 & 3 & -1 & 0 \\\\\n",
       "-1 & 5 & -1 & 0 & -1\n",
       "\\end{array}\\right)</script></html>"
      ],
      "text/plain": [
       "'Question :' [-1  2  1 -5  6]\n",
       "[ 0  0 -1  1 -5]\n",
       "[ 1  3  3 -1  0]\n",
       "[-1  5 -1  0 -1]"
      ]
     },
     "metadata": {},
     "output_type": "display_data"
    },
    {
     "data": {
      "text/html": [
       "<html><script type=\"math/tex; mode=display\">\\newcommand{\\Bold}[1]{\\mathbf{#1}}\\verb|Reponse|\\phantom{\\verb!x!}\\verb|:| \\left(\\begin{array}{rrrrr}\n",
       "1 & 0 & 0 & 0 & -\\frac{107}{7} \\\\\n",
       "0 & 1 & 0 & 0 & -\\frac{12}{7} \\\\\n",
       "0 & 0 & 1 & 0 & \\frac{54}{7} \\\\\n",
       "0 & 0 & 0 & 1 & \\frac{19}{7}\n",
       "\\end{array}\\right)</script></html>"
      ],
      "text/plain": [
       "'Reponse :' [     1      0      0      0 -107/7]\n",
       "[     0      1      0      0  -12/7]\n",
       "[     0      0      1      0   54/7]\n",
       "[     0      0      0      1   19/7]"
      ]
     },
     "metadata": {},
     "output_type": "display_data"
    }
   ],
   "source": [
    "B = matrix( 4, 5, [-1, 2, 1, -5, 6, 0, 0, -1, 1, -5, 1, 3, 3,\n",
    "-1, 0, -1, 5, -1, 0, -1 ] )\n",
    "show(\"Question :\",B)\n",
    "show(\"Reponse :\",B.rref())"
   ]
  },
  {
   "cell_type": "code",
   "execution_count": 33,
   "metadata": {},
   "outputs": [
    {
     "data": {
      "image/png": "[encoded data removed]",
      "text/plain": [
       "Graphics object consisting of 4 graphics primitives"
      ]
     },
     "execution_count": 33,
     "metadata": {},
     "output_type": "execute_result"
    }
   ],
   "source": [
    "f(x) = 0.0000875*x^2 - 0.025075*x + 2.0448375\n",
    "plot( f, 55, 130, gridlines=\"minor\") + point( [59, 0.87],\n",
    "size=50 ) + point([79, 0.61], size=50) + point([99, 0.42],\n",
    "size=50,figsize=4,frame=True,fontsize=6)"
   ]
  },
  {
   "cell_type": "code",
   "execution_count": 34,
   "metadata": {},
   "outputs": [],
   "source": [
    "C1 = matrix(3,4, [1, 2, 3, 7, 4, 5, 6, 16, 7, 8, 9, 24])"
   ]
  },
  {
   "cell_type": "code",
   "execution_count": 35,
   "metadata": {},
   "outputs": [
    {
     "data": {
      "text/html": [
       "<html><script type=\"math/tex; mode=display\">\\newcommand{\\Bold}[1]{\\mathbf{#1}}\\left(\\begin{array}{rrrr}\n",
       "1 & 0 & -1 & 0 \\\\\n",
       "0 & 1 & 2 & 0 \\\\\n",
       "0 & 0 & 0 & 1\n",
       "\\end{array}\\right)</script></html>"
      ],
      "text/plain": [
       "[ 1  0 -1  0]\n",
       "[ 0  1  2  0]\n",
       "[ 0  0  0  1]"
      ]
     },
     "execution_count": 35,
     "metadata": {},
     "output_type": "execute_result"
    }
   ],
   "source": [
    "C1.rref( )"
   ]
  },
  {
   "cell_type": "code",
   "execution_count": 36,
   "metadata": {},
   "outputs": [],
   "source": [
    "C2 = matrix(3,4, [1, 2, 3, 7, 4, 5, 6, 16, 7, 8, 9, 25])"
   ]
  },
  {
   "cell_type": "code",
   "execution_count": 37,
   "metadata": {},
   "outputs": [
    {
     "data": {
      "text/html": [
       "<html><script type=\"math/tex; mode=display\">\\newcommand{\\Bold}[1]{\\mathbf{#1}}\\left(\\begin{array}{rrrr}\n",
       "1 & 0 & -1 & -1 \\\\\n",
       "0 & 1 & 2 & 4 \\\\\n",
       "0 & 0 & 0 & 0\n",
       "\\end{array}\\right)</script></html>"
      ],
      "text/plain": [
       "[ 1  0 -1 -1]\n",
       "[ 0  1  2  4]\n",
       "[ 0  0  0  0]"
      ]
     },
     "execution_count": 37,
     "metadata": {},
     "output_type": "execute_result"
    }
   ],
   "source": [
    "C2.rref( )"
   ]
  },
  {
   "cell_type": "code",
   "execution_count": 39,
   "metadata": {},
   "outputs": [
    {
     "data": {
      "text/html": [
       "<html><script type=\"math/tex; mode=display\">\\newcommand{\\Bold}[1]{\\mathbf{#1}}3.14159292035398</script></html>"
      ],
      "text/plain": [
       "3.14159292035398"
      ]
     },
     "execution_count": 39,
     "metadata": {},
     "output_type": "execute_result"
    }
   ],
   "source": [
    "k=355/113.0;k"
   ]
  },
  {
   "cell_type": "code",
   "execution_count": 40,
   "metadata": {},
   "outputs": [
    {
     "data": {
      "text/html": [
       "<html><script type=\"math/tex; mode=display\">\\newcommand{\\Bold}[1]{\\mathbf{#1}}\\left[x = \\left(-2\\right), x = \\left(-1\\right)\\right]</script></html>"
      ],
      "text/plain": [
       "[x == -2, x == -1]"
      ]
     },
     "execution_count": 40,
     "metadata": {},
     "output_type": "execute_result"
    }
   ],
   "source": [
    "solve(x^2 + 3*x+2, x)"
   ]
  },
  {
   "cell_type": "code",
   "execution_count": 41,
   "metadata": {},
   "outputs": [
    {
     "data": {
      "text/html": [
       "<html><script type=\"math/tex; mode=display\">\\newcommand{\\Bold}[1]{\\mathbf{#1}}\\left[x = -\\frac{1}{2} \\, \\sqrt{21} - \\frac{9}{2}, x = \\frac{1}{2} \\, \\sqrt{21} - \\frac{9}{2}\\right]</script></html>"
      ],
      "text/plain": [
       "[x == -1/2*sqrt(21) - 9/2, x == 1/2*sqrt(21) - 9/2]"
      ]
     },
     "execution_count": 41,
     "metadata": {},
     "output_type": "execute_result"
    }
   ],
   "source": [
    "solve(x^2+9*x+15==0,x)"
   ]
  },
  {
   "cell_type": "code",
   "execution_count": 43,
   "metadata": {},
   "outputs": [
    {
     "data": {
      "text/html": [
       "<html><script type=\"math/tex; mode=display\">\\newcommand{\\Bold}[1]{\\mathbf{#1}}\\left[\\theta = \\frac{1}{6} \\, \\pi\\right]</script></html>"
      ],
      "text/plain": [
       "[theta == 1/6*pi]"
      ]
     },
     "execution_count": 43,
     "metadata": {},
     "output_type": "execute_result"
    }
   ],
   "source": [
    "var(\"theta\");solve(sin(theta)==1/2, theta)"
   ]
  },
  {
   "cell_type": "code",
   "execution_count": 44,
   "metadata": {},
   "outputs": [
    {
     "data": {
      "text/html": [
       "<html><script type=\"math/tex; mode=display\">\\newcommand{\\Bold}[1]{\\mathbf{#1}}\\left(a, b, c\\right)</script></html>"
      ],
      "text/plain": [
       "(a, b, c)"
      ]
     },
     "execution_count": 44,
     "metadata": {},
     "output_type": "execute_result"
    }
   ],
   "source": [
    "var(\"a b c\")"
   ]
  },
  {
   "cell_type": "code",
   "execution_count": 45,
   "metadata": {},
   "outputs": [
    {
     "data": {
      "text/html": [
       "<html><script type=\"math/tex; mode=display\">\\newcommand{\\Bold}[1]{\\mathbf{#1}}\\left[x = -\\frac{b + \\sqrt{b^{2} - 4 \\, a c}}{2 \\, a}, x = -\\frac{b - \\sqrt{b^{2} - 4 \\, a c}}{2 \\, a}\\right]</script></html>"
      ],
      "text/plain": [
       "[x == -1/2*(b + sqrt(b^2 - 4*a*c))/a, x == -1/2*(b - sqrt(b^2 - 4*a*c))/a]"
      ]
     },
     "execution_count": 45,
     "metadata": {},
     "output_type": "execute_result"
    }
   ],
   "source": [
    "solve( a*x^2 + b*x + c == 0, x )"
   ]
  },
  {
   "cell_type": "code",
   "execution_count": 46,
   "metadata": {},
   "outputs": [
    {
     "data": {
      "text/html": [
       "<html><script type=\"math/tex; mode=display\">\\newcommand{\\Bold}[1]{\\mathbf{#1}}\\left[\\left[x = 5, b = 1\\right]\\right]</script></html>"
      ],
      "text/plain": [
       "[[x == 5, b == 1]]"
      ]
     },
     "execution_count": 46,
     "metadata": {},
     "output_type": "execute_result"
    }
   ],
   "source": [
    "solve( [x+b == 6, x-b == 4], x, b )"
   ]
  },
  {
   "cell_type": "code",
   "execution_count": 47,
   "metadata": {},
   "outputs": [
    {
     "data": {
      "text/html": [
       "<html><script type=\"math/tex; mode=display\">\\newcommand{\\Bold}[1]{\\mathbf{#1}}\\left[\\left[a = 4, b = \\left(-3\\right), c = 5\\right]\\right]</script></html>"
      ],
      "text/plain": [
       "[[a == 4, b == -3, c == 5]]"
      ]
     },
     "execution_count": 47,
     "metadata": {},
     "output_type": "execute_result"
    }
   ],
   "source": [
    "solve( [9*a + 3*b + c == 32, 4*a + 2*b + c == 15,\n",
    "a + b + c == 6], a, b, c )"
   ]
  },
  {
   "cell_type": "code",
   "execution_count": 48,
   "metadata": {},
   "outputs": [
    {
     "data": {
      "text/html": [
       "<html><script type=\"math/tex; mode=display\">\\newcommand{\\Bold}[1]{\\mathbf{#1}}\\left[x = \\left(\\frac{1}{2} i + \\frac{1}{2}\\right) \\, \\sqrt{2} \\left(-1\\right)^{\\frac{1}{8}}, x = i \\, \\left(-1\\right)^{\\frac{1}{8}}, x = \\left(\\frac{1}{2} i - \\frac{1}{2}\\right) \\, \\sqrt{2} \\left(-1\\right)^{\\frac{1}{8}}, x = -\\left(-1\\right)^{\\frac{1}{8}}, x = -\\left(\\frac{1}{2} i + \\frac{1}{2}\\right) \\, \\sqrt{2} \\left(-1\\right)^{\\frac{1}{8}}, x = -i \\, \\left(-1\\right)^{\\frac{1}{8}}, x = -\\left(\\frac{1}{2} i - \\frac{1}{2}\\right) \\, \\sqrt{2} \\left(-1\\right)^{\\frac{1}{8}}, x = \\left(-1\\right)^{\\frac{1}{8}}\\right]</script></html>"
      ],
      "text/plain": [
       "[x == (1/2*I + 1/2)*sqrt(2)*(-1)^(1/8), x == I*(-1)^(1/8), x == (1/2*I - 1/2)*sqrt(2)*(-1)^(1/8), x == -(-1)^(1/8), x == -(1/2*I + 1/2)*sqrt(2)*(-1)^(1/8), x == -I*(-1)^(1/8), x == -(1/2*I - 1/2)*sqrt(2)*(-1)^(1/8), x == (-1)^(1/8)]"
      ]
     },
     "execution_count": 48,
     "metadata": {},
     "output_type": "execute_result"
    }
   ],
   "source": [
    "solve(x^8==-1, x)"
   ]
  },
  {
   "cell_type": "code",
   "execution_count": 52,
   "metadata": {},
   "outputs": [],
   "source": [
    "#solve(x^3 + b*x + c==0, x)"
   ]
  },
  {
   "cell_type": "code",
   "execution_count": 51,
   "metadata": {},
   "outputs": [],
   "source": [
    "#var(\"d\");solve(a*x^3 + b*x^2 + c*x + d == 0, x)"
   ]
  },
  {
   "cell_type": "code",
   "execution_count": 53,
   "metadata": {},
   "outputs": [
    {
     "data": {
      "image/png": "[encoded data removed]",
      "text/plain": [
       "Graphics object consisting of 1 graphics primitive"
      ]
     },
     "execution_count": 53,
     "metadata": {},
     "output_type": "execute_result"
    }
   ],
   "source": [
    "plot( e^x - 1/x, -3, 3, ymin=-10, ymax=10)"
   ]
  },
  {
   "cell_type": "code",
   "execution_count": 54,
   "metadata": {},
   "outputs": [
    {
     "data": {
      "text/html": [
       "<html><script type=\"math/tex; mode=display\">\\newcommand{\\Bold}[1]{\\mathbf{#1}}0.5671432904097954</script></html>"
      ],
      "text/plain": [
       "0.5671432904097954"
      ]
     },
     "execution_count": 54,
     "metadata": {},
     "output_type": "execute_result"
    }
   ],
   "source": [
    "find_root(e^x-1/x,-1, 1)"
   ]
  },
  {
   "cell_type": "code",
   "execution_count": 55,
   "metadata": {},
   "outputs": [
    {
     "data": {
      "text/html": [
       "<html><script type=\"math/tex; mode=display\">\\newcommand{\\Bold}[1]{\\mathbf{#1}}0.7853981633974484</script></html>"
      ],
      "text/plain": [
       "0.7853981633974484"
      ]
     },
     "execution_count": 55,
     "metadata": {},
     "output_type": "execute_result"
    }
   ],
   "source": [
    "find_root( cos(x) == sin(x), 0, pi/2 )"
   ]
  },
  {
   "cell_type": "code",
   "execution_count": 60,
   "metadata": {},
   "outputs": [
    {
     "data": {
      "text/html": [
       "<html><script type=\"math/tex; mode=display\">\\newcommand{\\Bold}[1]{\\mathbf{#1}}6 \\, x</script></html>"
      ],
      "text/plain": [
       "6*x"
      ]
     },
     "execution_count": 60,
     "metadata": {},
     "output_type": "execute_result"
    }
   ],
   "source": [
    "diff( x^3-x,2)"
   ]
  }
 ],
 "metadata": {
  "kernelspec": {
   "display_name": "SageMath 8.4.beta3",
   "language": "",
   "name": "sagemath"
  },
  "language_info": {
   "codemirror_mode": {
    "name": "ipython",
    "version": 2
   },
   "file_extension": ".py",
   "mimetype": "text/x-python",
   "name": "python",
   "nbconvert_exporter": "python",
   "pygments_lexer": "ipython2",
   "version": "2.7.15"
  }
 },
 "nbformat": 4,
 "nbformat_minor": 2
}
