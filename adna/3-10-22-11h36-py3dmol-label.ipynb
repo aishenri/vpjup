{
 "cells": [
  {
   "cell_type": "code",
   "execution_count": 5,
   "id": "c9be9224",
   "metadata": {
    "scrolled": true
   },
   "outputs": [
    {
     "data": {
      "application/3dmoljs_load.v0": "<div id=\"3dmolviewer_1666708607000911\"  style=\"position: relative; width: 300px; height: 200px\">\n        <p id=\"3dmolwarning_1666708607000911\" style=\"background-color:#ffcccc;color:black\">You appear to be running in JupyterLab (or JavaScript failed to load for some other reason).  You need to install the 3dmol extension: <br>\n        <tt>jupyter labextension install jupyterlab_3dmol</tt></p>\n        </div>\n<script>\n\nvar loadScriptAsync = function(uri){\n  return new Promise((resolve, reject) => {\n    var tag = document.createElement('script');\n    tag.src = uri;\n    tag.async = true;\n    tag.onload = () => {\n      resolve();\n    };\n  var firstScriptTag = document.getElementsByTagName('script')[0];\n  firstScriptTag.parentNode.insertBefore(tag, firstScriptTag);\n});\n};\n\nif(typeof $3Dmolpromise === 'undefined') {\n$3Dmolpromise = null;\n  $3Dmolpromise = loadScriptAsync('https://3dmol.org/build/3Dmol.js');\n}\n\nvar viewer_1666708607000911 = null;\nvar warn = document.getElementById(\"3dmolwarning_1666708607000911\");\nif(warn) {\n    warn.parentNode.removeChild(warn);\n}\n$3Dmolpromise.then(function() {\nviewer_1666708607000911 = $3Dmol.createViewer($(\"#3dmolviewer_1666708607000911\"),{backgroundColor:\"white\"});\n$3Dmol.download(\"adna.pdb\", viewer_1666708607000911, {}, function() {\nviewer_1666708607000911.setStyle({\"cartoon\": {}});\nviewer_1666708607000911.zoomTo();\n\tviewer_1666708607000911.setHoverable({},true,\"function(atom,viewer,event,container) {\\n                   if(!atom.label) {\\n                    atom.label = viewer.addLabel(atom.resn+\\\":\\\"+atom.atom,{position: atom, backgroundColor: 'mintcream', fontColor:'black'});\\n                   }}\",\"function(atom,viewer) { \\n                   if(atom.label) {\\n                    viewer.removeLabel(atom.label);\\n                    delete atom.label;\\n                   }\\n                }\");\nviewer_1666708607000911.render();\n})\n});\n</script>",
      "text/html": [
       "<div id=\"3dmolviewer_1666708607000911\"  style=\"position: relative; width: 300px; height: 200px\">\n",
       "        <p id=\"3dmolwarning_1666708607000911\" style=\"background-color:#ffcccc;color:black\">You appear to be running in JupyterLab (or JavaScript failed to load for some other reason).  You need to install the 3dmol extension: <br>\n",
       "        <tt>jupyter labextension install jupyterlab_3dmol</tt></p>\n",
       "        </div>\n",
       "<script>\n",
       "\n",
       "var loadScriptAsync = function(uri){\n",
       "  return new Promise((resolve, reject) => {\n",
       "    var tag = document.createElement('script');\n",
       "    tag.src = uri;\n",
       "    tag.async = true;\n",
       "    tag.onload = () => {\n",
       "      resolve();\n",
       "    };\n",
       "  var firstScriptTag = document.getElementsByTagName('script')[0];\n",
       "  firstScriptTag.parentNode.insertBefore(tag, firstScriptTag);\n",
       "});\n",
       "};\n",
       "\n",
       "if(typeof $3Dmolpromise === 'undefined') {\n",
       "$3Dmolpromise = null;\n",
       "  $3Dmolpromise = loadScriptAsync('https://3dmol.org/build/3Dmol.js');\n",
       "}\n",
       "\n",
       "var viewer_1666708607000911 = null;\n",
       "var warn = document.getElementById(\"3dmolwarning_1666708607000911\");\n",
       "if(warn) {\n",
       "    warn.parentNode.removeChild(warn);\n",
       "}\n",
       "$3Dmolpromise.then(function() {\n",
       "viewer_1666708607000911 = $3Dmol.createViewer($(\"#3dmolviewer_1666708607000911\"),{backgroundColor:\"white\"});\n",
       "$3Dmol.download(\"adna.pdb\", viewer_1666708607000911, {}, function() {\n",
       "viewer_1666708607000911.setStyle({\"cartoon\": {}});\n",
       "viewer_1666708607000911.zoomTo();\n",
       "\tviewer_1666708607000911.setHoverable({},true,\"function(atom,viewer,event,container) {\\n                   if(!atom.label) {\\n                    atom.label = viewer.addLabel(atom.resn+\\\":\\\"+atom.atom,{position: atom, backgroundColor: 'mintcream', fontColor:'black'});\\n                   }}\",\"function(atom,viewer) { \\n                   if(atom.label) {\\n                    viewer.removeLabel(atom.label);\\n                    delete atom.label;\\n                   }\\n                }\");\n",
       "viewer_1666708607000911.render();\n",
       "})\n",
       "});\n",
       "</script>"
      ]
     },
     "metadata": {},
     "output_type": "display_data"
    },
    {
     "data": {
      "text/plain": [
       "<py3Dmol.view at 0x7f2e9c1f4ee0>"
      ]
     },
     "execution_count": 5,
     "metadata": {},
     "output_type": "execute_result"
    }
   ],
   "source": [
    "import py3Dmol\n",
    "v = py3Dmol.view(query=\"adna.pdb\",width=300,height=200,style={'cartoon':{'color':'spectrum'},'cartoon':{}})\n",
    "v.setHoverable({},True,'''function(atom,viewer,event,container) {\n",
    "                   if(!atom.label) {\n",
    "                    atom.label = viewer.addLabel(atom.resn+\":\"+atom.atom,{position: atom, backgroundColor: 'mintcream', fontColor:'black'});\n",
    "                   }}''',\n",
    "               '''function(atom,viewer) { \n",
    "                   if(atom.label) {\n",
    "                    viewer.removeLabel(atom.label);\n",
    "                    delete atom.label;\n",
    "                   }\n",
    "                }''')"
   ]
  },
  {
   "cell_type": "code",
   "execution_count": 6,
   "id": "6ef85dbf",
   "metadata": {
    "scrolled": true
   },
   "outputs": [
    {
     "data": {
      "application/3dmoljs_load.v0": "<div id=\"3dmolviewer_16667086283937895\"  style=\"position: relative; width: 300px; height: 200px\">\n        <p id=\"3dmolwarning_16667086283937895\" style=\"background-color:#ffcccc;color:black\">You appear to be running in JupyterLab (or JavaScript failed to load for some other reason).  You need to install the 3dmol extension: <br>\n        <tt>jupyter labextension install jupyterlab_3dmol</tt></p>\n        </div>\n<script>\n\nvar loadScriptAsync = function(uri){\n  return new Promise((resolve, reject) => {\n    var tag = document.createElement('script');\n    tag.src = uri;\n    tag.async = true;\n    tag.onload = () => {\n      resolve();\n    };\n  var firstScriptTag = document.getElementsByTagName('script')[0];\n  firstScriptTag.parentNode.insertBefore(tag, firstScriptTag);\n});\n};\n\nif(typeof $3Dmolpromise === 'undefined') {\n$3Dmolpromise = null;\n  $3Dmolpromise = loadScriptAsync('https://3dmol.org/build/3Dmol.js');\n}\n\nvar viewer_16667086283937895 = null;\nvar warn = document.getElementById(\"3dmolwarning_16667086283937895\");\nif(warn) {\n    warn.parentNode.removeChild(warn);\n}\n$3Dmolpromise.then(function() {\nviewer_16667086283937895 = $3Dmol.createViewer($(\"#3dmolviewer_16667086283937895\"),{backgroundColor:\"white\"});\n$3Dmol.download(\"hbond.pdb\", viewer_16667086283937895, {}, function() {\nviewer_16667086283937895.setStyle({\"cartoon\": {}});\nviewer_16667086283937895.zoomTo();\n\tviewer_16667086283937895.setHoverable({},true,\"function(atom,viewer,event,\\ncontainer) {if(!atom.label) {atom.label = viewer.addLabel(\\natom.resn+\\\":\\\"+atom.atom,{position: atom,\\nbackgroundColor: 'mintcream', fontColor:'black'});}}\",\"function(atom,viewer) {if(atom.label) {\\nviewer.removeLabel(atom.label);delete atom.label;}}\");\nviewer_16667086283937895.render();\n})\n});\n</script>",
      "text/html": [
       "<div id=\"3dmolviewer_16667086283937895\"  style=\"position: relative; width: 300px; height: 200px\">\n",
       "        <p id=\"3dmolwarning_16667086283937895\" style=\"background-color:#ffcccc;color:black\">You appear to be running in JupyterLab (or JavaScript failed to load for some other reason).  You need to install the 3dmol extension: <br>\n",
       "        <tt>jupyter labextension install jupyterlab_3dmol</tt></p>\n",
       "        </div>\n",
       "<script>\n",
       "\n",
       "var loadScriptAsync = function(uri){\n",
       "  return new Promise((resolve, reject) => {\n",
       "    var tag = document.createElement('script');\n",
       "    tag.src = uri;\n",
       "    tag.async = true;\n",
       "    tag.onload = () => {\n",
       "      resolve();\n",
       "    };\n",
       "  var firstScriptTag = document.getElementsByTagName('script')[0];\n",
       "  firstScriptTag.parentNode.insertBefore(tag, firstScriptTag);\n",
       "});\n",
       "};\n",
       "\n",
       "if(typeof $3Dmolpromise === 'undefined') {\n",
       "$3Dmolpromise = null;\n",
       "  $3Dmolpromise = loadScriptAsync('https://3dmol.org/build/3Dmol.js');\n",
       "}\n",
       "\n",
       "var viewer_16667086283937895 = null;\n",
       "var warn = document.getElementById(\"3dmolwarning_16667086283937895\");\n",
       "if(warn) {\n",
       "    warn.parentNode.removeChild(warn);\n",
       "}\n",
       "$3Dmolpromise.then(function() {\n",
       "viewer_16667086283937895 = $3Dmol.createViewer($(\"#3dmolviewer_16667086283937895\"),{backgroundColor:\"white\"});\n",
       "$3Dmol.download(\"hbond.pdb\", viewer_16667086283937895, {}, function() {\n",
       "viewer_16667086283937895.setStyle({\"cartoon\": {}});\n",
       "viewer_16667086283937895.zoomTo();\n",
       "\tviewer_16667086283937895.setHoverable({},true,\"function(atom,viewer,event,\\ncontainer) {if(!atom.label) {atom.label = viewer.addLabel(\\natom.resn+\\\":\\\"+atom.atom,{position: atom,\\nbackgroundColor: 'mintcream', fontColor:'black'});}}\",\"function(atom,viewer) {if(atom.label) {\\nviewer.removeLabel(atom.label);delete atom.label;}}\");\n",
       "viewer_16667086283937895.render();\n",
       "})\n",
       "});\n",
       "</script>"
      ]
     },
     "metadata": {},
     "output_type": "display_data"
    },
    {
     "data": {
      "text/plain": [
       "<py3Dmol.view at 0x7f2e9c1f7520>"
      ]
     },
     "execution_count": 6,
     "metadata": {},
     "output_type": "execute_result"
    }
   ],
   "source": [
    "import py3Dmol\n",
    "v = py3Dmol.view(width=300,height=200,query=\"hbond.pdb\",style={'cartoon':\n",
    "{'color':'spectrum'},'cartoon':{}})\n",
    "v.setHoverable({},True,'''function(atom,viewer,event,\n",
    "container) {if(!atom.label) {atom.label = viewer.addLabel(\n",
    "atom.resn+\":\"+atom.atom,{position: atom,\n",
    "backgroundColor: 'mintcream', fontColor:'black'});}}''',\n",
    "'''function(atom,viewer) {if(atom.label) {\n",
    "viewer.removeLabel(atom.label);delete atom.label;}}''')"
   ]
  },
  {
   "cell_type": "code",
   "execution_count": 2,
   "id": "e84cfe4f",
   "metadata": {},
   "outputs": [
    {
     "data": {
      "application/3dmoljs_load.v0": "<div id=\"3dmolviewer_16648443372694716\"  style=\"position: relative; width: 300px; height: 200px\">\n        <p id=\"3dmolwarning_16648443372694716\" style=\"background-color:#ffcccc;color:black\">You appear to be running in JupyterLab (or JavaScript failed to load for some other reason).  You need to install the 3dmol extension: <br>\n        <tt>jupyter labextension install jupyterlab_3dmol</tt></p>\n        </div>\n<script>\n\nvar loadScriptAsync = function(uri){\n  return new Promise((resolve, reject) => {\n    var tag = document.createElement('script');\n    tag.src = uri;\n    tag.async = true;\n    tag.onload = () => {\n      resolve();\n    };\n  var firstScriptTag = document.getElementsByTagName('script')[0];\n  firstScriptTag.parentNode.insertBefore(tag, firstScriptTag);\n});\n};\n\nif(typeof $3Dmolpromise === 'undefined') {\n$3Dmolpromise = null;\n  $3Dmolpromise = loadScriptAsync('https://3dmol.org/build/3Dmol.js');\n}\n\nvar viewer_16648443372694716 = null;\nvar warn = document.getElementById(\"3dmolwarning_16648443372694716\");\nif(warn) {\n    warn.parentNode.removeChild(warn);\n}\n$3Dmolpromise.then(function() {\nviewer_16648443372694716 = $3Dmol.createViewer($(\"#3dmolviewer_16648443372694716\"),{backgroundColor:\"white\"});\n$3Dmol.download(\"adenine.pdb\", viewer_16648443372694716, {}, function() {\nviewer_16648443372694716.setStyle({\"cartoon\": {\"color\": \"spectrum\"}, \"stick\": {}});\nviewer_16648443372694716.zoomTo();\n\tviewer_16648443372694716.setHoverable({},true,\"function(atom,viewer,event,container) {\\n                   if(!atom.label) {\\n                    atom.label = viewer.addLabel(atom.resn+\\\":\\\"+atom.atom,{position: atom, backgroundColor: 'mintcream', fontColor:'black'});\\n                   }}\",\"function(atom,viewer) { \\n                   if(atom.label) {\\n                    viewer.removeLabel(atom.label);\\n                    delete atom.label;\\n                   }\\n                }\");\nviewer_16648443372694716.render();\n})\n});\n</script>",
      "text/html": [
       "<div id=\"3dmolviewer_16648443372694716\"  style=\"position: relative; width: 300px; height: 200px\">\n",
       "        <p id=\"3dmolwarning_16648443372694716\" style=\"background-color:#ffcccc;color:black\">You appear to be running in JupyterLab (or JavaScript failed to load for some other reason).  You need to install the 3dmol extension: <br>\n",
       "        <tt>jupyter labextension install jupyterlab_3dmol</tt></p>\n",
       "        </div>\n",
       "<script>\n",
       "\n",
       "var loadScriptAsync = function(uri){\n",
       "  return new Promise((resolve, reject) => {\n",
       "    var tag = document.createElement('script');\n",
       "    tag.src = uri;\n",
       "    tag.async = true;\n",
       "    tag.onload = () => {\n",
       "      resolve();\n",
       "    };\n",
       "  var firstScriptTag = document.getElementsByTagName('script')[0];\n",
       "  firstScriptTag.parentNode.insertBefore(tag, firstScriptTag);\n",
       "});\n",
       "};\n",
       "\n",
       "if(typeof $3Dmolpromise === 'undefined') {\n",
       "$3Dmolpromise = null;\n",
       "  $3Dmolpromise = loadScriptAsync('https://3dmol.org/build/3Dmol.js');\n",
       "}\n",
       "\n",
       "var viewer_16648443372694716 = null;\n",
       "var warn = document.getElementById(\"3dmolwarning_16648443372694716\");\n",
       "if(warn) {\n",
       "    warn.parentNode.removeChild(warn);\n",
       "}\n",
       "$3Dmolpromise.then(function() {\n",
       "viewer_16648443372694716 = $3Dmol.createViewer($(\"#3dmolviewer_16648443372694716\"),{backgroundColor:\"white\"});\n",
       "$3Dmol.download(\"adenine.pdb\", viewer_16648443372694716, {}, function() {\n",
       "viewer_16648443372694716.setStyle({\"cartoon\": {\"color\": \"spectrum\"}, \"stick\": {}});\n",
       "viewer_16648443372694716.zoomTo();\n",
       "\tviewer_16648443372694716.setHoverable({},true,\"function(atom,viewer,event,container) {\\n                   if(!atom.label) {\\n                    atom.label = viewer.addLabel(atom.resn+\\\":\\\"+atom.atom,{position: atom, backgroundColor: 'mintcream', fontColor:'black'});\\n                   }}\",\"function(atom,viewer) { \\n                   if(atom.label) {\\n                    viewer.removeLabel(atom.label);\\n                    delete atom.label;\\n                   }\\n                }\");\n",
       "viewer_16648443372694716.render();\n",
       "})\n",
       "});\n",
       "</script>"
      ]
     },
     "metadata": {},
     "output_type": "display_data"
    },
    {
     "data": {
      "text/plain": [
       "<py3Dmol.view at 0x7f7dbab991b0>"
      ]
     },
     "execution_count": 2,
     "metadata": {},
     "output_type": "execute_result"
    }
   ],
   "source": [
    "import py3Dmol\n",
    "va = py3Dmol.view(width=300,height=200,query=\"adenine.pdb\",style=\n",
    "{'cartoon':{'color':'spectrum'},'stick':{}})\n",
    "va.setHoverable({},True,'''function(atom,viewer,event,container) {\n",
    "                   if(!atom.label) {\n",
    "                    atom.label = viewer.addLabel(atom.resn+\":\"+atom.atom,{position: atom, backgroundColor: 'mintcream', fontColor:'black'});\n",
    "                   }}''',\n",
    "               '''function(atom,viewer) { \n",
    "                   if(atom.label) {\n",
    "                    viewer.removeLabel(atom.label);\n",
    "                    delete atom.label;\n",
    "                   }\n",
    "                }''')"
   ]
  },
  {
   "cell_type": "code",
   "execution_count": 4,
   "id": "c63648a1",
   "metadata": {
    "scrolled": true
   },
   "outputs": [
    {
     "data": {
      "application/3dmoljs_load.v0": "<div id=\"3dmolviewer_16648342557829137\"  style=\"position: relative; width: 300px; height: 200px\">\n        <p id=\"3dmolwarning_16648342557829137\" style=\"background-color:#ffcccc;color:black\">You appear to be running in JupyterLab (or JavaScript failed to load for some other reason).  You need to install the 3dmol extension: <br>\n        <tt>jupyter labextension install jupyterlab_3dmol</tt></p>\n        </div>\n<script>\n\nvar loadScriptAsync = function(uri){\n  return new Promise((resolve, reject) => {\n    var tag = document.createElement('script');\n    tag.src = uri;\n    tag.async = true;\n    tag.onload = () => {\n      resolve();\n    };\n  var firstScriptTag = document.getElementsByTagName('script')[0];\n  firstScriptTag.parentNode.insertBefore(tag, firstScriptTag);\n});\n};\n\nif(typeof $3Dmolpromise === 'undefined') {\n$3Dmolpromise = null;\n  $3Dmolpromise = loadScriptAsync('https://3dmol.org/build/3Dmol.js');\n}\n\nvar viewer_16648342557829137 = null;\nvar warn = document.getElementById(\"3dmolwarning_16648342557829137\");\nif(warn) {\n    warn.parentNode.removeChild(warn);\n}\n$3Dmolpromise.then(function() {\nviewer_16648342557829137 = $3Dmol.createViewer($(\"#3dmolviewer_16648342557829137\"),{backgroundColor:\"white\"});\n$3Dmol.download(\"thymine.pdb\", viewer_16648342557829137, {}, function() {\nviewer_16648342557829137.setStyle({\"cartoon\": {\"color\": \"spectrum\"}, \"stick\": {}});\nviewer_16648342557829137.zoomTo();\n\tviewer_16648342557829137.setHoverable({},true,\"function(atom,viewer,event,\\ncontainer) {if(!atom.label) {atom.label = viewer.addLabel(\\natom.resn+\\\":\\\"+atom.atom,{position: atom,\\nbackgroundColor: 'mintcream', fontColor:'black'});}}\",\"function(atom,viewer) {if(atom.label) {\\nviewer.removeLabel(atom.label);delete atom.label;}}\");\nviewer_16648342557829137.render();\n})\n});\n</script>",
      "text/html": [
       "<div id=\"3dmolviewer_16648342557829137\"  style=\"position: relative; width: 300px; height: 200px\">\n",
       "        <p id=\"3dmolwarning_16648342557829137\" style=\"background-color:#ffcccc;color:black\">You appear to be running in JupyterLab (or JavaScript failed to load for some other reason).  You need to install the 3dmol extension: <br>\n",
       "        <tt>jupyter labextension install jupyterlab_3dmol</tt></p>\n",
       "        </div>\n",
       "<script>\n",
       "\n",
       "var loadScriptAsync = function(uri){\n",
       "  return new Promise((resolve, reject) => {\n",
       "    var tag = document.createElement('script');\n",
       "    tag.src = uri;\n",
       "    tag.async = true;\n",
       "    tag.onload = () => {\n",
       "      resolve();\n",
       "    };\n",
       "  var firstScriptTag = document.getElementsByTagName('script')[0];\n",
       "  firstScriptTag.parentNode.insertBefore(tag, firstScriptTag);\n",
       "});\n",
       "};\n",
       "\n",
       "if(typeof $3Dmolpromise === 'undefined') {\n",
       "$3Dmolpromise = null;\n",
       "  $3Dmolpromise = loadScriptAsync('https://3dmol.org/build/3Dmol.js');\n",
       "}\n",
       "\n",
       "var viewer_16648342557829137 = null;\n",
       "var warn = document.getElementById(\"3dmolwarning_16648342557829137\");\n",
       "if(warn) {\n",
       "    warn.parentNode.removeChild(warn);\n",
       "}\n",
       "$3Dmolpromise.then(function() {\n",
       "viewer_16648342557829137 = $3Dmol.createViewer($(\"#3dmolviewer_16648342557829137\"),{backgroundColor:\"white\"});\n",
       "$3Dmol.download(\"thymine.pdb\", viewer_16648342557829137, {}, function() {\n",
       "viewer_16648342557829137.setStyle({\"cartoon\": {\"color\": \"spectrum\"}, \"stick\": {}});\n",
       "viewer_16648342557829137.zoomTo();\n",
       "\tviewer_16648342557829137.setHoverable({},true,\"function(atom,viewer,event,\\ncontainer) {if(!atom.label) {atom.label = viewer.addLabel(\\natom.resn+\\\":\\\"+atom.atom,{position: atom,\\nbackgroundColor: 'mintcream', fontColor:'black'});}}\",\"function(atom,viewer) {if(atom.label) {\\nviewer.removeLabel(atom.label);delete atom.label;}}\");\n",
       "viewer_16648342557829137.render();\n",
       "})\n",
       "});\n",
       "</script>"
      ]
     },
     "metadata": {},
     "output_type": "display_data"
    },
    {
     "data": {
      "text/plain": [
       "<py3Dmol.view at 0x7f465a4e0b20>"
      ]
     },
     "execution_count": 4,
     "metadata": {},
     "output_type": "execute_result"
    }
   ],
   "source": [
    "import py3Dmol\n",
    "vt = py3Dmol.view(width=300,height=200,\n",
    "query=\"thymine.pdb\",style={'cartoon':\n",
    "{'color':'spectrum'},'stick':{}})\n",
    "vt.setHoverable({},True,'''function(atom,viewer,event,\n",
    "container) {if(!atom.label) {atom.label = viewer.addLabel(\n",
    "atom.resn+\":\"+atom.atom,{position: atom,\n",
    "backgroundColor: 'mintcream', fontColor:'black'});}}''',\n",
    "'''function(atom,viewer) {if(atom.label) {\n",
    "viewer.removeLabel(atom.label);delete atom.label;}}''')\n"
   ]
  },
  {
   "cell_type": "code",
   "execution_count": 5,
   "id": "e807eb3e",
   "metadata": {},
   "outputs": [
    {
     "data": {
      "application/3dmoljs_load.v0": "<div id=\"3dmolviewer_1664834255789441\"  style=\"position: relative; width: 300px; height: 200px\">\n        <p id=\"3dmolwarning_1664834255789441\" style=\"background-color:#ffcccc;color:black\">You appear to be running in JupyterLab (or JavaScript failed to load for some other reason).  You need to install the 3dmol extension: <br>\n        <tt>jupyter labextension install jupyterlab_3dmol</tt></p>\n        </div>\n<script>\n\nvar loadScriptAsync = function(uri){\n  return new Promise((resolve, reject) => {\n    var tag = document.createElement('script');\n    tag.src = uri;\n    tag.async = true;\n    tag.onload = () => {\n      resolve();\n    };\n  var firstScriptTag = document.getElementsByTagName('script')[0];\n  firstScriptTag.parentNode.insertBefore(tag, firstScriptTag);\n});\n};\n\nif(typeof $3Dmolpromise === 'undefined') {\n$3Dmolpromise = null;\n  $3Dmolpromise = loadScriptAsync('https://3dmol.org/build/3Dmol.js');\n}\n\nvar viewer_1664834255789441 = null;\nvar warn = document.getElementById(\"3dmolwarning_1664834255789441\");\nif(warn) {\n    warn.parentNode.removeChild(warn);\n}\n$3Dmolpromise.then(function() {\nviewer_1664834255789441 = $3Dmol.createViewer($(\"#3dmolviewer_1664834255789441\"),{backgroundColor:\"white\"});\n$3Dmol.download(\"cytosine.pdb\", viewer_1664834255789441, {}, function() {\nviewer_1664834255789441.setStyle({\"cartoon\": {\"color\": \"spectrum\"}, \"stick\": {}});\nviewer_1664834255789441.zoomTo();\n\tviewer_1664834255789441.setHoverable({},true,\"function(atom,viewer,event,container) {\\n                   if(!atom.label) {\\n                    atom.label = viewer.addLabel(atom.resn+\\\":\\\"+atom.atom,{position: atom, backgroundColor: 'mintcream', fontColor:'black'});\\n                   }}\",\"function(atom,viewer) { \\n                   if(atom.label) {\\n                    viewer.removeLabel(atom.label);\\n                    delete atom.label;\\n                   }\\n                }\");\nviewer_1664834255789441.render();\n})\n});\n</script>",
      "text/html": [
       "<div id=\"3dmolviewer_1664834255789441\"  style=\"position: relative; width: 300px; height: 200px\">\n",
       "        <p id=\"3dmolwarning_1664834255789441\" style=\"background-color:#ffcccc;color:black\">You appear to be running in JupyterLab (or JavaScript failed to load for some other reason).  You need to install the 3dmol extension: <br>\n",
       "        <tt>jupyter labextension install jupyterlab_3dmol</tt></p>\n",
       "        </div>\n",
       "<script>\n",
       "\n",
       "var loadScriptAsync = function(uri){\n",
       "  return new Promise((resolve, reject) => {\n",
       "    var tag = document.createElement('script');\n",
       "    tag.src = uri;\n",
       "    tag.async = true;\n",
       "    tag.onload = () => {\n",
       "      resolve();\n",
       "    };\n",
       "  var firstScriptTag = document.getElementsByTagName('script')[0];\n",
       "  firstScriptTag.parentNode.insertBefore(tag, firstScriptTag);\n",
       "});\n",
       "};\n",
       "\n",
       "if(typeof $3Dmolpromise === 'undefined') {\n",
       "$3Dmolpromise = null;\n",
       "  $3Dmolpromise = loadScriptAsync('https://3dmol.org/build/3Dmol.js');\n",
       "}\n",
       "\n",
       "var viewer_1664834255789441 = null;\n",
       "var warn = document.getElementById(\"3dmolwarning_1664834255789441\");\n",
       "if(warn) {\n",
       "    warn.parentNode.removeChild(warn);\n",
       "}\n",
       "$3Dmolpromise.then(function() {\n",
       "viewer_1664834255789441 = $3Dmol.createViewer($(\"#3dmolviewer_1664834255789441\"),{backgroundColor:\"white\"});\n",
       "$3Dmol.download(\"cytosine.pdb\", viewer_1664834255789441, {}, function() {\n",
       "viewer_1664834255789441.setStyle({\"cartoon\": {\"color\": \"spectrum\"}, \"stick\": {}});\n",
       "viewer_1664834255789441.zoomTo();\n",
       "\tviewer_1664834255789441.setHoverable({},true,\"function(atom,viewer,event,container) {\\n                   if(!atom.label) {\\n                    atom.label = viewer.addLabel(atom.resn+\\\":\\\"+atom.atom,{position: atom, backgroundColor: 'mintcream', fontColor:'black'});\\n                   }}\",\"function(atom,viewer) { \\n                   if(atom.label) {\\n                    viewer.removeLabel(atom.label);\\n                    delete atom.label;\\n                   }\\n                }\");\n",
       "viewer_1664834255789441.render();\n",
       "})\n",
       "});\n",
       "</script>"
      ]
     },
     "metadata": {},
     "output_type": "display_data"
    },
    {
     "data": {
      "text/plain": [
       "<py3Dmol.view at 0x7f465a4e5b40>"
      ]
     },
     "execution_count": 5,
     "metadata": {},
     "output_type": "execute_result"
    }
   ],
   "source": [
    "import py3Dmol\n",
    "vc = py3Dmol.view(width=300,height=200,query=\"cytosine.pdb\",style=\n",
    "{'cartoon':{'color':'spectrum'},'stick':{}})\n",
    "vc.setHoverable({},True,'''function(atom,viewer,event,container) {\n",
    "                   if(!atom.label) {\n",
    "                    atom.label = viewer.addLabel(atom.resn+\":\"+atom.atom,{position: atom, backgroundColor: 'mintcream', fontColor:'black'});\n",
    "                   }}''',\n",
    "               '''function(atom,viewer) { \n",
    "                   if(atom.label) {\n",
    "                    viewer.removeLabel(atom.label);\n",
    "                    delete atom.label;\n",
    "                   }\n",
    "                }''')"
   ]
  },
  {
   "cell_type": "code",
   "execution_count": 6,
   "id": "9be55f41",
   "metadata": {},
   "outputs": [
    {
     "data": {
      "application/3dmoljs_load.v0": "<div id=\"3dmolviewer_1664834255797781\"  style=\"position: relative; width: 300px; height: 200px\">\n        <p id=\"3dmolwarning_1664834255797781\" style=\"background-color:#ffcccc;color:black\">You appear to be running in JupyterLab (or JavaScript failed to load for some other reason).  You need to install the 3dmol extension: <br>\n        <tt>jupyter labextension install jupyterlab_3dmol</tt></p>\n        </div>\n<script>\n\nvar loadScriptAsync = function(uri){\n  return new Promise((resolve, reject) => {\n    var tag = document.createElement('script');\n    tag.src = uri;\n    tag.async = true;\n    tag.onload = () => {\n      resolve();\n    };\n  var firstScriptTag = document.getElementsByTagName('script')[0];\n  firstScriptTag.parentNode.insertBefore(tag, firstScriptTag);\n});\n};\n\nif(typeof $3Dmolpromise === 'undefined') {\n$3Dmolpromise = null;\n  $3Dmolpromise = loadScriptAsync('https://3dmol.org/build/3Dmol.js');\n}\n\nvar viewer_1664834255797781 = null;\nvar warn = document.getElementById(\"3dmolwarning_1664834255797781\");\nif(warn) {\n    warn.parentNode.removeChild(warn);\n}\n$3Dmolpromise.then(function() {\nviewer_1664834255797781 = $3Dmol.createViewer($(\"#3dmolviewer_1664834255797781\"),{backgroundColor:\"white\"});\n$3Dmol.download(\"guanine.pdb\", viewer_1664834255797781, {}, function() {\nviewer_1664834255797781.setStyle({\"cartoon\": {\"color\": \"spectrum\"}, \"stick\": {}});\nviewer_1664834255797781.zoomTo();\n\tviewer_1664834255797781.setHoverable({},true,\"function(atom,viewer,event,container) {\\n                   if(!atom.label) {\\n                    atom.label = viewer.addLabel(atom.resn+\\\":\\\"+atom.atom,{position: atom, backgroundColor: 'mintcream', fontColor:'black'});\\n                   }}\",\"function(atom,viewer) { \\n                   if(atom.label) {\\n                    viewer.removeLabel(atom.label);\\n                    delete atom.label;\\n                   }\\n                }\");\nviewer_1664834255797781.render();\n})\n});\n</script>",
      "text/html": [
       "<div id=\"3dmolviewer_1664834255797781\"  style=\"position: relative; width: 300px; height: 200px\">\n",
       "        <p id=\"3dmolwarning_1664834255797781\" style=\"background-color:#ffcccc;color:black\">You appear to be running in JupyterLab (or JavaScript failed to load for some other reason).  You need to install the 3dmol extension: <br>\n",
       "        <tt>jupyter labextension install jupyterlab_3dmol</tt></p>\n",
       "        </div>\n",
       "<script>\n",
       "\n",
       "var loadScriptAsync = function(uri){\n",
       "  return new Promise((resolve, reject) => {\n",
       "    var tag = document.createElement('script');\n",
       "    tag.src = uri;\n",
       "    tag.async = true;\n",
       "    tag.onload = () => {\n",
       "      resolve();\n",
       "    };\n",
       "  var firstScriptTag = document.getElementsByTagName('script')[0];\n",
       "  firstScriptTag.parentNode.insertBefore(tag, firstScriptTag);\n",
       "});\n",
       "};\n",
       "\n",
       "if(typeof $3Dmolpromise === 'undefined') {\n",
       "$3Dmolpromise = null;\n",
       "  $3Dmolpromise = loadScriptAsync('https://3dmol.org/build/3Dmol.js');\n",
       "}\n",
       "\n",
       "var viewer_1664834255797781 = null;\n",
       "var warn = document.getElementById(\"3dmolwarning_1664834255797781\");\n",
       "if(warn) {\n",
       "    warn.parentNode.removeChild(warn);\n",
       "}\n",
       "$3Dmolpromise.then(function() {\n",
       "viewer_1664834255797781 = $3Dmol.createViewer($(\"#3dmolviewer_1664834255797781\"),{backgroundColor:\"white\"});\n",
       "$3Dmol.download(\"guanine.pdb\", viewer_1664834255797781, {}, function() {\n",
       "viewer_1664834255797781.setStyle({\"cartoon\": {\"color\": \"spectrum\"}, \"stick\": {}});\n",
       "viewer_1664834255797781.zoomTo();\n",
       "\tviewer_1664834255797781.setHoverable({},true,\"function(atom,viewer,event,container) {\\n                   if(!atom.label) {\\n                    atom.label = viewer.addLabel(atom.resn+\\\":\\\"+atom.atom,{position: atom, backgroundColor: 'mintcream', fontColor:'black'});\\n                   }}\",\"function(atom,viewer) { \\n                   if(atom.label) {\\n                    viewer.removeLabel(atom.label);\\n                    delete atom.label;\\n                   }\\n                }\");\n",
       "viewer_1664834255797781.render();\n",
       "})\n",
       "});\n",
       "</script>"
      ]
     },
     "metadata": {},
     "output_type": "display_data"
    },
    {
     "data": {
      "text/plain": [
       "<py3Dmol.view at 0x7f465a663c70>"
      ]
     },
     "execution_count": 6,
     "metadata": {},
     "output_type": "execute_result"
    }
   ],
   "source": [
    "import py3Dmol\n",
    "vg = py3Dmol.view(width=300,height=200,query=\"guanine.pdb\",style=\n",
    "{'cartoon':{'color':'spectrum'},'stick':{}})\n",
    "vg.setHoverable({},True,'''function(atom,viewer,event,container) {\n",
    "                   if(!atom.label) {\n",
    "                    atom.label = viewer.addLabel(atom.resn+\":\"+atom.atom,{position: atom, backgroundColor: 'mintcream', fontColor:'black'});\n",
    "                   }}''',\n",
    "               '''function(atom,viewer) { \n",
    "                   if(atom.label) {\n",
    "                    viewer.removeLabel(atom.label);\n",
    "                    delete atom.label;\n",
    "                   }\n",
    "                }''')"
   ]
  },
  {
   "cell_type": "code",
   "execution_count": 3,
   "id": "6d695d24",
   "metadata": {},
   "outputs": [
    {
     "data": {
      "application/3dmoljs_load.v0": "<div id=\"3dmolviewer_16648444468950448\"  style=\"position: relative; width: 300px; height: 200px\">\n        <p id=\"3dmolwarning_16648444468950448\" style=\"background-color:#ffcccc;color:black\">You appear to be running in JupyterLab (or JavaScript failed to load for some other reason).  You need to install the 3dmol extension: <br>\n        <tt>jupyter labextension install jupyterlab_3dmol</tt></p>\n        </div>\n<script>\n\nvar loadScriptAsync = function(uri){\n  return new Promise((resolve, reject) => {\n    var tag = document.createElement('script');\n    tag.src = uri;\n    tag.async = true;\n    tag.onload = () => {\n      resolve();\n    };\n  var firstScriptTag = document.getElementsByTagName('script')[0];\n  firstScriptTag.parentNode.insertBefore(tag, firstScriptTag);\n});\n};\n\nif(typeof $3Dmolpromise === 'undefined') {\n$3Dmolpromise = null;\n  $3Dmolpromise = loadScriptAsync('https://3dmol.org/build/3Dmol.js');\n}\n\nvar viewer_16648444468950448 = null;\nvar warn = document.getElementById(\"3dmolwarning_16648444468950448\");\nif(warn) {\n    warn.parentNode.removeChild(warn);\n}\n$3Dmolpromise.then(function() {\nviewer_16648444468950448 = $3Dmol.createViewer($(\"#3dmolviewer_16648444468950448\"),{backgroundColor:\"white\"});\n$3Dmol.download(\"uracil.pdb\", viewer_16648444468950448, {}, function() {\nviewer_16648444468950448.setStyle({\"cartoon\": {\"color\": \"spectrum\"}, \"stick\": {}});\nviewer_16648444468950448.zoomTo();\n\tviewer_16648444468950448.setHoverable({},true,\"function(atom,viewer,event,container) {\\n                   if(!atom.label) {\\n                    atom.label = viewer.addLabel(atom.resn+\\\":\\\"+atom.atom,{position: atom, backgroundColor: 'mintcream', fontColor:'black'});\\n                   }}\",\"function(atom,viewer) { \\n                   if(atom.label) {\\n                    viewer.removeLabel(atom.label);\\n                    delete atom.label;\\n                   }\\n                }\");\nviewer_16648444468950448.render();\n})\n});\n</script>",
      "text/html": [
       "<div id=\"3dmolviewer_16648444468950448\"  style=\"position: relative; width: 300px; height: 200px\">\n",
       "        <p id=\"3dmolwarning_16648444468950448\" style=\"background-color:#ffcccc;color:black\">You appear to be running in JupyterLab (or JavaScript failed to load for some other reason).  You need to install the 3dmol extension: <br>\n",
       "        <tt>jupyter labextension install jupyterlab_3dmol</tt></p>\n",
       "        </div>\n",
       "<script>\n",
       "\n",
       "var loadScriptAsync = function(uri){\n",
       "  return new Promise((resolve, reject) => {\n",
       "    var tag = document.createElement('script');\n",
       "    tag.src = uri;\n",
       "    tag.async = true;\n",
       "    tag.onload = () => {\n",
       "      resolve();\n",
       "    };\n",
       "  var firstScriptTag = document.getElementsByTagName('script')[0];\n",
       "  firstScriptTag.parentNode.insertBefore(tag, firstScriptTag);\n",
       "});\n",
       "};\n",
       "\n",
       "if(typeof $3Dmolpromise === 'undefined') {\n",
       "$3Dmolpromise = null;\n",
       "  $3Dmolpromise = loadScriptAsync('https://3dmol.org/build/3Dmol.js');\n",
       "}\n",
       "\n",
       "var viewer_16648444468950448 = null;\n",
       "var warn = document.getElementById(\"3dmolwarning_16648444468950448\");\n",
       "if(warn) {\n",
       "    warn.parentNode.removeChild(warn);\n",
       "}\n",
       "$3Dmolpromise.then(function() {\n",
       "viewer_16648444468950448 = $3Dmol.createViewer($(\"#3dmolviewer_16648444468950448\"),{backgroundColor:\"white\"});\n",
       "$3Dmol.download(\"uracil.pdb\", viewer_16648444468950448, {}, function() {\n",
       "viewer_16648444468950448.setStyle({\"cartoon\": {\"color\": \"spectrum\"}, \"stick\": {}});\n",
       "viewer_16648444468950448.zoomTo();\n",
       "\tviewer_16648444468950448.setHoverable({},true,\"function(atom,viewer,event,container) {\\n                   if(!atom.label) {\\n                    atom.label = viewer.addLabel(atom.resn+\\\":\\\"+atom.atom,{position: atom, backgroundColor: 'mintcream', fontColor:'black'});\\n                   }}\",\"function(atom,viewer) { \\n                   if(atom.label) {\\n                    viewer.removeLabel(atom.label);\\n                    delete atom.label;\\n                   }\\n                }\");\n",
       "viewer_16648444468950448.render();\n",
       "})\n",
       "});\n",
       "</script>"
      ]
     },
     "metadata": {},
     "output_type": "display_data"
    },
    {
     "data": {
      "text/plain": [
       "<py3Dmol.view at 0x7f7dbab9a080>"
      ]
     },
     "execution_count": 3,
     "metadata": {},
     "output_type": "execute_result"
    }
   ],
   "source": [
    "import py3Dmol\n",
    "vu = py3Dmol.view(width=300,height=200,query=\"uracil.pdb\",style=\n",
    "{'cartoon':{'color':'spectrum'},'stick':{}})\n",
    "vu.setHoverable({},True,'''function(atom,viewer,event,container) {\n",
    "                   if(!atom.label) {\n",
    "                    atom.label = viewer.addLabel(atom.resn+\":\"+atom.atom,{position: atom, backgroundColor: 'mintcream', fontColor:'black'});\n",
    "                   }}''',\n",
    "               '''function(atom,viewer) { \n",
    "                   if(atom.label) {\n",
    "                    viewer.removeLabel(atom.label);\n",
    "                    delete atom.label;\n",
    "                   }\n",
    "                }''')"
   ]
  },
  {
   "cell_type": "code",
   "execution_count": 8,
   "id": "b671cf32",
   "metadata": {},
   "outputs": [
    {
     "data": {
      "text/html": [
       "<style type=\"text/css\">\n",
       "table.dataframe td, table.dataframe th{border: 1px \n",
       "black solid ! important;color:black !important;}\n"
      ],
      "text/plain": [
       "<IPython.core.display.HTML object>"
      ]
     },
     "metadata": {},
     "output_type": "display_data"
    }
   ],
   "source": [
    "%%HTML\n",
    "<style type=\"text/css\">\n",
    "table.dataframe td, table.dataframe th{border: 1px \n",
    "black solid ! important;color:black !important;}"
   ]
  },
  {
   "cell_type": "code",
   "execution_count": 9,
   "id": "0f8b281f",
   "metadata": {
    "scrolled": true
   },
   "outputs": [],
   "source": [
    "import pandas as pd\n",
    "from rdkit import Chem\n",
    "from rdkit.Chem import PandasTools\n",
    "\n",
    "smiles = ['c1ccccc1', 'c1ccccc1O', 'c1cc(O)ccc1O']\n",
    "df = pd.DataFrame({'ID':['Benzene', 'Phenol', 'Hydroquinone'], 'SMILES':smiles})\n",
    "\n",
    "df['Mol Image'] = [Chem.MolFromSmiles(s) for s in df['SMILES']]\n",
    "\n",
    "PandasTools.SaveXlsxFromFrame(df, 'test.xlsx', molCol='Mol Image')\n"
   ]
  },
  {
   "cell_type": "code",
   "execution_count": 10,
   "id": "a740e610",
   "metadata": {},
   "outputs": [],
   "source": [
    "molX = Chem.MolFromSmiles('Fc1cNc2ccccc12')"
   ]
  },
  {
   "cell_type": "code",
   "execution_count": 11,
   "id": "8229b1bf",
   "metadata": {},
   "outputs": [],
   "source": [
    "import pandas as pd\n",
    "from rdkit.Chem import PandasTools\n",
    "url = 'https://raw.githubusercontent.com/XinhaoLi74/molds/master/clean_data/ESOL.csv'"
   ]
  },
  {
   "cell_type": "code",
   "execution_count": 12,
   "id": "62d069bf",
   "metadata": {},
   "outputs": [
    {
     "data": {
      "text/html": [
       "<div>\n",
       "<style scoped>\n",
       "    .dataframe tbody tr th:only-of-type {\n",
       "        vertical-align: middle;\n",
       "    }\n",
       "\n",
       "    .dataframe tbody tr th {\n",
       "        vertical-align: top;\n",
       "    }\n",
       "\n",
       "    .dataframe thead th {\n",
       "        text-align: right;\n",
       "    }\n",
       "</style>\n",
       "<table border=\"1\" class=\"dataframe\">\n",
       "  <thead>\n",
       "    <tr style=\"text-align: right;\">\n",
       "      <th></th>\n",
       "      <th>smiles</th>\n",
       "      <th>logSolubility</th>\n",
       "    </tr>\n",
       "  </thead>\n",
       "  <tbody>\n",
       "    <tr>\n",
       "      <th>0</th>\n",
       "      <td>N#CC(OC1OC(COC2OC(CO)C(O)C(O)C2O)C(O)C(O)C1O)c...</td>\n",
       "      <td>-0.77</td>\n",
       "    </tr>\n",
       "    <tr>\n",
       "      <th>1</th>\n",
       "      <td>Cc1occc1C(=O)Nc1ccccc1</td>\n",
       "      <td>-3.30</td>\n",
       "    </tr>\n",
       "  </tbody>\n",
       "</table>\n",
       "</div>"
      ],
      "text/plain": [
       "                                              smiles  logSolubility\n",
       "0  N#CC(OC1OC(COC2OC(CO)C(O)C(O)C2O)C(O)C(O)C1O)c...          -0.77\n",
       "1                             Cc1occc1C(=O)Nc1ccccc1          -3.30"
      ]
     },
     "execution_count": 12,
     "metadata": {},
     "output_type": "execute_result"
    }
   ],
   "source": [
    "esol_data = pd.read_csv(url)\n",
    "esol_data.head(2)"
   ]
  },
  {
   "cell_type": "code",
   "execution_count": 13,
   "id": "c6617d87",
   "metadata": {
    "scrolled": false
   },
   "outputs": [
    {
     "data": {
      "text/html": [
       "<div>\n",
       "<style scoped>\n",
       "    .dataframe tbody tr th:only-of-type {\n",
       "        vertical-align: middle;\n",
       "    }\n",
       "\n",
       "    .dataframe tbody tr th {\n",
       "        vertical-align: top;\n",
       "    }\n",
       "\n",
       "    .dataframe thead th {\n",
       "        text-align: right;\n",
       "    }\n",
       "</style>\n",
       "<table border=\"1\" class=\"dataframe\">\n",
       "  <thead>\n",
       "    <tr style=\"text-align: right;\">\n",
       "      <th></th>\n",
       "      <th>smiles</th>\n",
       "      <th>logSolubility</th>\n",
       "      <th>ROMol</th>\n",
       "    </tr>\n",
       "  </thead>\n",
       "  <tbody>\n",
       "    <tr>\n",
       "      <th>0</th>\n",
       "      <td>N#CC(OC1OC(COC2OC(CO)C(O)C(O)C2O)C(O)C(O)C1O)c...</td>\n",
       "      <td>-0.77</td>\n",
       "      <td style=\"text-align: center;\"><img data-content=\"rdkit/molecule\" src=\"data:image/png;base64,iVBORw0KGgoAAAANSUhEUgAAAMgAAADICAIAAAAiOjnJAAAABmJLR0QA/wD/AP+gvaeTAAAclElEQVR4nO2de1xU5dbHf8MAM3KTi4p4R1LkqmkX8pKW4CUxP6W+580CL5Em6nTTzN5zRPMUlZ7AU6RHMyV9zUyPBXbUQEtRUV9MEeSoyAERRYw7OAzMZb1/7HEkBYSZ/TDD8Hz/2uzZrL0Yfz77edZ+1loSIgKHIzY25naAY51wYXGYwIXFYQIXFocJXFgcJnBhcZjAhcVhAhcWhwlcWBwmcGFxmMCFxWECFxaHCVxYHCZwYXGYwIXFYQIXFocJXFgcJnBhcZjAhcVhAhcWhwlcWBwmcGFxmMCFxWECFxaHCVxYHCZwYXGYwIXFYQIXFocJXFgcJnBhcZjAhcVhAhcWhwlcWBwmcGFxmGBdwqqqwrx5WLwY//3f+O03LFqEqioAOHQI27eb27nOha25HRCVuDhEROCZZ1Bbi5kz0aMHdDoAaGiASmVu5zoX1iWsrCwsWwYATk4Qiva++y5kMhQUYNo087rW2bAuYfXsiaIi+PqCCFotAHz6KdzckJyMW7fM7VznwrrmWIsXY8UK7N6NN97ArFnm9qZTI7G2Ou8VFcjMhESCgABUVWHAAEilqKxEQwN69DC3c50I6xqxALi5YdcujBuH776Djw+kUgBwdeWqamesTlgAAgMB4LffzO1Hp8YahTV8OACcO2duPzo1VjfHAqBUwsUFNjaoroZcbm5vOinWOGI5OMDXF2o1Ll40tyudF2sUFu4+DZlOs27dQnExAKhUqKnRn/z9d4Z37FBYV4DUwKOPYscOhtOshQvh4QEilJZixgz8+99QKABg3jwkJ7O6aYfCOkes/CeemBcQMCE7m4n1jAy4uOCvf8WHH8LVFZcuMblLB8c6RyyP4OBtOTkymUytVtvZ2YlsvbAQPj7640GDUFiIX3/F5csA+KtuA9Y5Yrm4uPj4+KhUqksshpPBg2EYC7Oy0KcPZsxAQgISEvgi1IB1CgvA8OHDAfwm7vy9uBixsQgMhLMzoqOxaBGcnODtLeYtrAayUmJjYwG88cYbolnMyqJ+/QighAQiIpWKVCoiIp2OtFr9NWq1aLfr4PARq3UcOYIxY1BYiJAQzJwJADIZZDIAkEhgc/drtLXOOasRWK2wRowYASAjI+PKlSum2vrmG0yejMpKTJ+OI0fQvbsI/lk7ViusHTt22NnZ2dvb+/r6BgQErFq1Ki8vr61GiIhWr8acOWhowLJl2L0bXbqw8NYKMfezWHzUavWCBQsA2NjYhISEuLi4CH+pRCIZPXr0559/fuvWrVbamT9//s/jxpFUSl98wdptK8PahFVbWxseHg5AJpPt2rWLiFQqVVJSUkREhJOTk6AwGxubUaNGxcfHl5SUNGensrJy/PjxAJycnG4dOtSOf4GV0L7Cqq7WH9TV6RdQ9fV0+7ZY5m/evClMrTw8PNLS0u77VKlUCgpzcHAQFCaVSkNDQxMTE6uqqhpfWVRUNGzYMAA9e/bMyMgQy71ORfsKa+pU/UF8PKWmUmIivfIKrVxJL7xwT3PGkp2d3b9/fwA+Pj6XL19u4crKysrExMTw8HBDUF4ul4eHhycmJtbU1GRmZvbp0weAv79/QUGBiV51WswnrJ9/ptBQ/Y/79lF8vCmGU1NTu3btCiAkJOR2q4fA27dvf/nll2PHjrW5Gy9wdHSUyWQAnn322YqKClNc6uS0r7BCQyk6mqKjafRo2rOHIiL05//9b3rjDTp1ivLzjbC6bds2YeyZPn26Uqk0wkJRUVF8fPyoUaMkEomXl9ezzz5bX19vhB2OAfONWCkpfxix/v53Gj6cAPL3p48/phs3WmNPp9PFxMRIJBIACoVCa4iAG8tbb70FYOnSpSba4Zh1jrVtG82eTatX0/TpVFpKs2aRkxMBBJCNDY0bRxs20O+/N2dMrVa/9tprwhz8C5HCAfv37xeeg6JY68y0r7BqavQHKpV+VVhXR8XF9y6oq6OkJIqIIEdHQWE/jRsnhAZ+/6PCqqurJ02aJMyKkpOTxXLw1q1bAFxdXXU6nVg2OyeWGseqqqJvvqEpU8YOGCBMq2Uy2bRp07799tva2lpDOMDLy0v0cICXlxeAvLw8cc12NixVWHcpKyvbvHnz+PHjpULqKdClSxchmB4YGHjt2jXR7zhlyhQA33//veiWOxWW/q7Q3d09KioqNTW1pKQkMTExNDRUpVK5urr6+fmlpaX169dP9Ds++uijAM7xtETTsHRhGfDw8IiMjExJSVm7dm1hYWFQUJCrqyuLGwnCEnmHYOejwwjLQFhYGFiOKEy2nnY+Ol4mtEajcXFxUalUFRUVQrRddLp3715aWlpUVNS7d28W9jsDHW/EsrW1DQwMJKLz588zuoWw5OSDlil0PGHh7tOKPw0tmQ4pLNYLN74wNJ0OKSzWIwofsUyn403eAdTX1zs7O+t0uurqasOuPREhIjc3t6qqqtu3b3fnqRNG0SFHLJlM5u/vr9VqL1y4wMK+RCIZOnQoLGrQysnBhx/i889RU4P/+z8UFABATQ0OHDCzY83QIYWFzvY0/M9/8P77mD0bjz+OWbNw4gSuXgWA6mr8+KO5nWuajios1vPrvn37Ati8efOBAwfUajWju7SWpCQsXIg+fRASgl69UFGB06exfz8OHzazY83TUYXFdETJyMj45JNPHB0d8/Pzn3vuOU9Pz8jIyOTkZI1Gw+J2D0ethqFmjr09dDrY2EAqvZeBbYGY9x240dTW1kqlUnt7e5VQQEE8Dh486OzsDGDUqFF//vOfA4UazAAALy8vhUJx4sSJ9t6tdfYsRUWRTkdlZTRhAn32GaWkEBEVFdGCBe3qSavpqMIiIj8/PwBnz54V0eamTZtsbW0BzJkzp6GhQTh58eLFmJgYX19fg8L69u2rUCjS0tLaT2H//Ce9/jotXky5ufSvf1FWFhFReTlt3txODrSRDiysWbNmAdgs0jcrbJ8HIJFIYmJimrwmOzs7JibGx1B1DRgwYIBCoRBX3M1y/Dj913/R3/7WHvcymQ4srLVr1wKIjo4WwZZSWfXKKwGPPGJvb799+/aHXp6RkaFQKIS9pgL+/v4xMTEt5zOayg8/EEATJjC8hXh0YGH98MMPAHr27JmUlGRSttbt2/TUUwQU+Pv/+ssvrf89jUaTmpoaFRXl7u5uUFhOTo7xnrRMYSEB5OHByr6odFRh5efn+/r62tvbC/+crq6uERERSUlJholRa7l6lXx9CaABA8hYTTQ0NOzfvz8iIsLZ2dnOzo5hpqunJwHEYEO26HRIYZ05c8bT0xPAkCFD3nvvPWGXi0D37t2jo6NvnThBrckxTE+n7t0JoKFDqajIdMdCQkIAHDlyxHRTTTNxIgG0bx8r++LR8YRlCAeEhoZWVlYKJ/Pz8z/++GNhnehgZ6dzd6fevUmhoLQ0am7hduAAyeUE0NSpVFsrim/R0dEA1q1bJ4q1JlixggBauZKVffHoYMJqMhzQmPPnz38fG0ve3vrEV4AGDqT336fMTCKiqiratIm++IKKiujmTerfn6KiRCwcunnzZgAvv/yyWAbvZ/duAig8nJX9vDxSKOj11+l//5dqaujzz/XnY2PbaqnjCEurVS9bNiooSCKRrFmz5uHXnzpFb75JvXvfU9j+/fTcc3T8OGVmUlgYlZW1kGZtHGfPngXg5+cnrlkDmqtXi598MsWQUC4uOh1NmKD/TpYsoaQkmj1b/1Hb79hBhKVU0vTpBPzes+eenTvb8ItaLaWlkUJBgwbRyZP03nv689u20Y4dortZX18vk8lsbGxqDDnfoqLT6dzc3AAUN04fF4uiInr1Vf3x6dO0dCkNG0arV9Pq1RQU1FZjFvyyyUBZGSZOxN69cHPr9u230196qQ2/a2OD0aOxfj2uXAERDJu3HBxQXy+6p/b29gEBATqdLjMzU3TjACQSCcP9+HI56ur0x3V1kMvh64sFC7BgAdqeVGLxwsrLw8iRSEvDgAE4cQLjxhlvKigI6elQqaDT4Ycf8PTTojnZiHWTJ18dPTooJ4eFcbBLeywuhocHGhpw7BiKivD3v+P55yGXw9MTnp4wom2MyMOpuJw7Rx4eBNBjj5Eog/+pU7RgAS1YQD/+KIK1JklIIIDmzmVkfvv27QBefPFFMY0mJpJcTvv2kVJJX35Ja9ZQVhbV1dFPP+kv2Lu3rSYtT1gNDbRzJyUkUF4eVVXR0KE0caLphSTbj/R0fWCMDRcvXgTg7e0tjjmdjlatIomEAPrLX8SxSUSWKKxZsyg5mS5coClTKC+Pbt8mjcbcPrUFpZJsbcnWlurqWJjXarVOTk4SiaSsrMxUW2o1zZ9PAIt64xYmrNJSeukl/XFqqhHhE4sgMJAAOnOGhe2amhpPT8+uXbv6+/vHx8ffvHnTSEPV1TR5MgHk6EhJSaL6SGRxq0KlEo6O+mMnp3uLlI4Fs8bBN2/efPrpp0tKSjQaTU5Ozptvvtm3b9+wsLAtW7aUl5e33k5hYWHevHk4cABeXjh6FFOniu6qhY1YWi2FhelnVO++S+xeujElLo4A0fd2Nq43npmZ2cqa9Q/y22+/9erVy1UuLwkPJ2b1xi1MWESUnU3z59Prr9OGDeZ2xVhOnqSRI0nUN4aHDx8WyjbdV2+85Zr1D9o5dOiQULaOdb1xyxMWEdXW0ooVFBlpbj+MRamkNWsoOprWrxdl5bFt2zZhg1AL9cbLysoEhdnebW3XpUuX8PDw3bt3GzarffXVV4L+IiMjWdcbt0hhabXk5EQSCZm+8DELixfTr78SEW3dSp98YoolI+qNFxUVxcXFPfnkk8JvAXBzc3v11Vfnzp0r/KhQKNphq75FCouIRo4kgFJTze2HUUyapD/QamnyZKPNCO3HYGy98WvXrgldEQQ99ejRw9bWduvWrUb70yYsVViLFxNAn35qbj+MYuJE/UFDA4WH07p1NGoUxcdT69rZCYhYbzwnJ2fatGkAxo8fb4qdNmGpwtqyhYB7Ma2Oxf/8D+3YQUolffghffWVfvQFyNaWJk2irVvp7v7E5hC93rhQpG7w4MGmm2olliqsc+cIIF9fc/thFFotbd1K77xD//wn0b2a9WRnp1eYTHY5KkqoWf/gbxvajwUEBIjVfkytVsvlcolEUvkwTYuFpQqroYHkcpJI6GFRmY5EeTklJlJ4ONnavjt2bOPQwJ07d4RL2IUDHn/8cQBHjx4V0WYLWKqwiGrCw/NGjSo4edLcjjCguHjHxo1CszFhZt21a9c5c+a8/fbbQrCARThAaGccFxcnrtnmsFxhCQuieNP6GFo4169fN7SzA9C9e3chD5tFOGDjxo2CZEW33CSWK6wNGzYAmG3Ydm3VXLlyZfbs2WC5X/7MmTMAhILT7YDlloo8c+bMk08+GRQUxKhsn6VRUVHh4eHh4OBQVVVlaBwkIqzra96Hhe1uaERwcLCdnV1OTo5SqTS3L+2Bm5tb//7979y5c+XKFRb2WdfXvA/LFZZcLvfz89NqtVlZWeb2pZ2wpvqXlissWFohUPZYU/1623a4h9EQka2tbUxMTElJycsvvzxo0CBze8QWaxqxLHdVGBsbK5FIDPVkJBJJSEhIXFzcjdb1Ie+IFBcXA+jm7t5svQnTYFdf80EsUVgajUaoriGRSFauXJmSkhIRESHEowHY2NgIXaJvteWdbkehdNw4naMjXb3KyD6L+ppNYnHCqqmpEZrnyuXyXbt2Gc7X1dUJm3Ed726Kl0qlTfYhb8yGDRvi4uKKxChR1E6EhxNAu3czMi9ufc0WsCxh3bx5U5gHeHh4pKWlNXmNUqlMSkqaOXOm4Skpk8mEN27Vf0w/1Ol0AwYMaDzIMSl5IC4rVxJAK1YwMi9mfc0WsSBhZWVlCT2efXx8WlPM88E+5A4ODn/605/27dtXV1dHRBqN5vvvv58+fXqXLl2EC2xtbefNe//rr4nlbm/T2LePgHs7usTm8OHDAIYOHaphnK1pqrCOHj26adOm4cOHr1mzJjc312g7qampQrvUp556qnGyQGsoLS0V+pALb9ycnJzc3d1nzpxpqE3aeJAbPXoLQDIZhYdTYqLlpVhfu0YAdevGyPz69eudnZ1lMpmHh8f8+fPZVRQ3SVg7d+6UyWSN3z+MGDFi7dq119pYJHPr1q3CJv8ZM2Y0lyzQGq5du7Z27VphGiHg4eGxYMGCI0eOCLvFy8rKtm6tDQ0lqVS/M8rB4V7pHkuhWzcC6Pp1ca1qtdqlS5cKS6KePXsavqL+/fsvW7ZM9Om88cKKj4+3sbEBsGTJkqNHjyoUim7dujVWWGvydI1IFmgNubm5a9asua+pxJo1KSdP6hfypaWUmEihoWRjQ+zq7xlJWBgB4pYtUalUL730EgB7e/tvvvmGiDIyMpYuXSrMPQSKpk6lv/yFLl4U5Y7GCEuj0SxcuFDQ/scff9zYe2HhJtQIbTxrLikpedBOfX19RESEsL5LSEgw/o9oHqHkv6+vr0Qi6dMnH6C+ff9QmrSwkEx4gLNh926Ki6P//Ecse2VlZWPGjAHg7Ox84MCBxh/pdLrjx48vWbJkjJ8f2drqh3F/f4qJocbTXK2WDKEvw3/+FmdpbRZW43DAd999Zzi/a9eu++Y09+Xpjho16h//+IchT7eiouKZZ54RpkQmJgs8SENDQ1hY2GeffXb97gPl7NnspUupX797hSMHD6aVKyknhyZM0P8jLl0qrhfG8u23FBlJ8+fTBx+YbiwvL09o1tK7d+/z5883e51GQ4cP02uvkbv7ve/oiSfo6FHatIkiIkihoLlzKS+PDCvKFkuhtk1YjcMBx48fN5w3LOzvq7deWVm5devWSZMmGbIo5XL5iy++uHHjxuDgYIiXLHAfP/30031DpiHQkJFBCgV5eem/uldfpXHjaNYsIiJxa04ZSWkpvfCC/nj5cmr0JRtBenp6jx49AAQHB19v5aRNo6G0NJo/n1xcCKBjx2jaNP1HCQmUkCC+sAzhgEceeeTKlSuNP1KpVLGxsY3rrffo0WPRokXHjh0Tpk3l5eWN83QlEolEIgkKCiosLGy9A61HqVTu2bNnxowZhkCDVCqNijq2ZQuVlxMRaTSUmkpRUfTrrzRjBsXF0Z49liGsEydo9Wr9cVISffEF5ee3qmb9A+zdu1f48ydOnPjQgg5NUFdHycmUnU1vv60/c+wYLV1KgYEUHU3R0S0XJm2tsBqHA1qIdDeuty7Qu3fvxo2ybty4ER8fLzwiGXYHuYsh0ODh0a1LF6VQCio09A+BhhkzSK2m8PB7eabmJDeXXn9df7xhA+3eTf37P7xm/QMYllZRUVFqU+qNl5fT9On64y1baP16MUcsI8IB58+ff++997y9vQ0K8/HxOXjwoPBpWFgYgB/Z1Wt8gPJy1ZYtFBZ2L9DQpYu+JduMGUREx4+TXN5u7rTIvHmUkEA7d9LUqZSXRwMH/qFm/YoV+pr1zaDRaBYvXowW25i1jQ8/pLfeorVr6cUXKTdXHGEZmq0ZHQ4Q1mWCws6dOyecXL58OQBx/uw2UlamT8GSSunYMSIiQx7Qzz+3vztNodPRqVN05Mi9hdjp0/TWW41r1sfMnLl69eoH30/U1tZOnToVgEwm29mmuuUtU1JCubmk1ZJGc6+gRlMrfQMtCau+vv6VV14RJihffvmlKY5ptdoTJ04Yfty1axeA559/3hSbJnL9unFTF/Nxt2a9ql+/rnf3egjt7IR3HsXFxY899hgAd3f3Y8J/GvPRrLDKy8vHjRsnhAP2798v7l2Fbd19+vQR12wnQaNWHzx4cO7cuULFLOGpN3z4cGEB+ODSyiw0K6yUlBSpVNqrVy/D80tEdDqdsBSwyj1V7cZ9EemePXsGBQU1GYtuf5oV1hNPPAFgH7MOZmPHjgVwXyCYYxx37twJDw8317S1SZpNphBetN24cQOARqPJysqqrq5u7mIjYNVhoVMi7BcCkJ2dbW5f9DQrrMYZHS+88EJwcLCwlUcs2jNjpDNgaRlNzQqrsaPC6xdxRWBpX0RHx9fX19HRsaCgoE11udnRrLCGDRsmlUovXrxYX1/P4rHl5+fn4OCQn59fUVEhotlOi1QqHTp0KBFZyEOgWWE5ODj4+vo2NDRkZ2cLo0tGRoaIN5ZKpcHBwXS32BzHdCzqIdBSJrTBUW9vb3d395KSEiHxTSws6ouwAixq2tqSsAyOMuq/aFFfhBVgUQvtVo1YYOM0H7HEJTAwUC6X5+bm1tTUmNuXhwlLIpFkZmaq1WoWo0tgYKBMJrt8+XJtba2IZjstdnZ2TBsHt4mWhOXi4uLj46NSqS5duiSMLqYL6/Dhw88//3x9fT3Yd1DuhFjOQ+AhZYwMjvr6+jo5ORUUFJSWlhp9s23btk2ePDk5Ofmrr74CUFFRUVZW9thjjxk2LnNMxHKmrQ8RlsFRGxuboUOHAjAuOkBEq1atmjdvnlqtVigUCxcuzM/PHzly5LVr15RKpbDZg2M6ljNiPWSj36FDhwCMGTOGiJYsWQLgk7Z3Haqvr4+MjESjNK/Tp097enoCYLftvXNSV1dnZ2dna2trSt6vKDxEWMKDz8nJSavVnjx5cvPmzVfbWGHnwZ4w+/btE/a8h4aGtlujhM5DUFAQgNOnT5vXjYfveRcycy5dumSE9aKiIuEBakjzio+PF1Ly586dK6SIccRFKOu9wdxtRB9eg1R4bKenp7f1IXvhwoWQkJDMzMyAgID09PThw4evWrXqzTffFPbRf/3114amoBwR8ff3hyXM3x8qvXXr1vn5+dnb29/X9aVlDD1hxo8fX1FRUVdXJ2wYsre33759u8n/HzhNc/PmzYCAAC8vr+aqi7UbrUr/Wr58+X1dXw4cONBCtlplZaW7uzuAOXPmNDQ0lJaWjh49GoCbm9uvQutRDgMMGcWDBw8Wq22Y0bQ2YfW+ri+CSoRs+iYVlpKS8sEHH+h0uqtXrw4ePBiAt7d3O2SodlpMKTDGgjYXBSkoKIiPjxcmXgLdunVrroTXyZMnu3fvDuDxxx/neRPsMGQUt9CNvJ0xvj6WkIkqjEYCffv2FbLphQv27Nkj1A6YNm1aK2dmnDaj09V+9JG3qyuA5cuXt0MX8VYiQg3SM2fOvPPOO3379jUobMiQIWFhYcJDc8mSJazLXXZe6uspMpKA8hEjNm7caG5v/oCYxW0zMjIUCoVQhnDgwIE2NjaWk41khVRX06RJBJCTE4ldYMx0xG8rp9Vqf/nlF61W279//yFDhohrnKPnxg1MmYLMTHh5ITkZI0aY26H7sdx+hZxmuXABU6agqAgBAfjXv9CojqjlYNHdvzo1OTn6gytXoNFAp0NGBk6dglqN+nqUl2P8eJw4YZmqAheW5bJ8uf7go49QVYU5c3D6NC5exMyZGDYMv/yCAwfQtatZXWwJvsPOUtFqIWxd12iQnY0ePbBoEQBUViIlBc89Z17vHgoXlqVy7Ro++ggALlxAaSm8vPTne/XC77+b0a9WwoVlqQwciNhYACguxpAh2LtXfz49HVFRZvSrlXBhWSpubvqDrl3RqxeefRZz58LWFoMGITjYrJ61Ch5u4DCBrwo5TODC4jCBC4vDBC4sDhO4sDhM4MLiMIELi8MELiwOE7iwOEzgwuIwgQuLwwQuLA4TuLA4TODC4jCBC4vDBC4sDhO4sDhM4MLiMIELi8MELiwOE7iwOEzgwuIwgQuLwwQuLA4TuLA4TODC4jCBC4vDBC4sDhO4sDhM4MLiMIELi8MELiwOE7iwOEzgwuIw4f8BiXVOfkRHJ7MAAAIhelRYdHJka2l0UEtMIHJka2l0IDIwMjIuMDMuMgAAeJx7v2/tPQYg4GWAAEYgVgBiJSBuYGRn0ADSTMxsEJqFjSEBSDMzcoDVMOHgQmgmJmJVgWhGRoQyGvEdQH5gZmFzyADRQAcQweBmYORgZmQCBgFQJwMLKwMrGwMbOwM7BwMHJwMnFwMXNwM3DwMPLwM3HwMfPwOfAIOAIIOAEIOQMAObCIOIKIOIGIOYOIOYBIOEJAOTFIOUdAaTtEyCjGwGk6xcgpx8BpMEC4O8VIIQJ4MIMxsrm4iYBAsbFzefgBAnm7SMrJy8lHgXIyRWwEAh5B//fheGJ/tBnC2T/+43nrMUzJafEnnArcAPzFb7mn0gvlTLHsR+0a18oMjzMpjt3jxxf9LTKWD2tNMbdgtVcTqA2Pseb7EXmXAFLH526U17rlcOdiC29lx3BxvpmftAbON/kQ6Ldj4Cm2+TMsvhZp/AARB7/5TFDk4n8sBsxwN1DpeeTwOzb8/Y5/CebzFY/d+/rx0Yih+C2eEZWx2k5L3B5n+bc9NhWdF0sL0mzB0Oz/v1weykpbUOybJcYLdlnJ66r3pzOpjttD/MPi92Mpidwn57/6GiZjC76OT//WX9m8DsD29MDyjdcwezZ0V3HNASgOhd92/CgWduT8FuuJi878DVR8vA7PwZjw6cqRACu/lN+s0DppsKwOyTTGsOyH9qB7O1z7UfuHMnAMwWAwAQzaDR1GdoIwAAAux6VFh0TU9MIHJka2l0IDIwMjIuMDMuMgAAeJx9VduOGzEIfc9X+AdimYsxfuxeVFXVZqV223/oe/9fPXh2PVkJdRKjCcPAAQ7kUuL68fT9z9+yL366XEpp//nOOctvaa1dXkrclIfnr99u5fHty8OH5vH11+3tZxEuongHn8+2X95eXz40VG7l2mo31qHlSnU4cffSalvX+S6Xx3g+ndpoccdTnGdiKWEpVeY0s/DuzbRRYqnlNSzNzSVimnXvkhj2cMm1966khar1ZiOLbeGRKok5TRiSCfeWGI7wGOousxeupN6GJYYOQ6pKwtAisiGZkdhNREb5WpPBeEzuMrNUCA0qUol8mgcEnrNJFpkILqVqM9JV8TGIZ5YMRXO0OpooPQqFFg7K6kPRnI7oNJtH7Ye0OVKcuqJPb+pghtZBfcyMGdSXz9mN+lzMGOJ57tGeUWXo6AfbDHXlzHIsn2Y+PapN08UyCpHDpYFiTSn6Qy7kaTXnqhHYIDMcmSOdrJjcjsTBHLwDZnSUQDNDOjjEkztaCR5zE0ldMlxiDsS9G0BY69R7ZijHlA00yASWGLaRj6MeTJ8oDHreK1A2ykrJ78PjClZYUI8xull7eE0PamRgJ0dCBGamPtf4aO1CzVfPx4TbrO4cA3QFPRR8X00XjMjMRoijRddRmxMFO8Fjd+MMaqy5cjWExZTZIrI1H5lXoQOAjC4xR8hPXVqGVfhIixUcGeGVTbAYEtPn29OnRXqs1ofX29O5WgWHz/2JH0XOJRnP9dyEhNPPfUc4dm41whnn7iIcPzcU4cxzEVGc+4VDS9DdYqElNjgKdCE2PgqAITbEWLzLZqOkgBliAyV712ysFGBDbLjk75qNODZ1CL6fwUiRN2QOyBB81pPfNRsyr3oLRuNuSA7NhswBGYI3ZLbVCd6IwW0NwRsxKKwheCMGUzWE3BNSy2LbHe80hGzIwkfwjQZTqKE9g4sepaBPRLunVfz++LfH/eUfLcyIBzitMS0AAAFxelRYdFNNSUxFUyByZGtpdCAyMDIyLjAzLjIAAHicTVFJjuMwEPvKAHNJAKVQ+4IcfZ88or/Rj29K7sMYMCwTLLJI/ft7XY/PJZ/rcX0uPZ8nkPvV/87yeX7J137kz/fjxRSpXr5eQtWiud44TQvXhnSsDZCRzSQgpuZ0loNlZ/tiyoyOTVOKCJcllMHZR0ssW4FImgYQJuawCculJN4MmpCLbVImZ+z/YraCtHTbQNpIpOcsoDOMYUDOKffmJTrr7dR3FiWNLl3vwJiMLCxbxpjH1DR7r5dTSfSmTKTkSVvWkCmy8oojnHsvcDJ7Zu8zbYn0iR74JJU2Od4abJuSHTXHCIl1hww4nuQ6GqgFzSkbUqFN645cTskhd/mFlTeCK6jf64CpryDonOaV2jUGOqK620EYTRS0leWUAyRMeE6IEd0kJPWBPSBj27dTxA23U1h3IukrQbfx01hy95mzCiywXRxpbz+30c3SNNT5/P4ByOqCNWrXvYwAAAAASUVORK5CYII=\" alt=\"Mol\"/></td>\n",
       "    </tr>\n",
       "    <tr>\n",
       "      <th>1</th>\n",
       "      <td>Cc1occc1C(=O)Nc1ccccc1</td>\n",
       "      <td>-3.30</td>\n",
       "      <td style=\"text-align: center;\"><img data-content=\"rdkit/molecule\" src=\"data:image/png;base64,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\" alt=\"Mol\"/></td>\n",
       "    </tr>\n",
       "  </tbody>\n",
       "</table>\n",
       "</div>"
      ],
      "text/plain": [
       "                                              smiles  logSolubility  \\\n",
       "0  N#CC(OC1OC(COC2OC(CO)C(O)C(O)C2O)C(O)C(O)C1O)c...          -0.77   \n",
       "1                             Cc1occc1C(=O)Nc1ccccc1          -3.30   \n",
       "\n",
       "                                               ROMol  \n",
       "0  <img data-content=\"rdkit/molecule\" src=\"data:i...  \n",
       "1  <img data-content=\"rdkit/molecule\" src=\"data:i...  "
      ]
     },
     "execution_count": 13,
     "metadata": {},
     "output_type": "execute_result"
    }
   ],
   "source": [
    "PandasTools.AddMoleculeColumnToFrame(esol_data,\n",
    "smilesCol='smiles');esol_data.head(2)\n"
   ]
  },
  {
   "cell_type": "code",
   "execution_count": 14,
   "id": "07837085",
   "metadata": {},
   "outputs": [
    {
     "data": {
      "text/html": [
       "<div>\n",
       "<style scoped>\n",
       "    .dataframe tbody tr th:only-of-type {\n",
       "        vertical-align: middle;\n",
       "    }\n",
       "\n",
       "    .dataframe tbody tr th {\n",
       "        vertical-align: top;\n",
       "    }\n",
       "\n",
       "    .dataframe thead th {\n",
       "        text-align: right;\n",
       "    }\n",
       "</style>\n",
       "<table border=\"1\" class=\"dataframe\">\n",
       "  <thead>\n",
       "    <tr style=\"text-align: right;\">\n",
       "      <th></th>\n",
       "      <th>smiles</th>\n",
       "      <th>logSolubility</th>\n",
       "    </tr>\n",
       "  </thead>\n",
       "  <tbody>\n",
       "    <tr>\n",
       "      <th>0</th>\n",
       "      <td>N#CC(OC1OC(COC2OC(CO)C(O)C(O)C2O)C(O)C(O)C1O)c...</td>\n",
       "      <td>-0.77</td>\n",
       "    </tr>\n",
       "  </tbody>\n",
       "</table>\n",
       "</div>"
      ],
      "text/plain": [
       "                                              smiles  logSolubility\n",
       "0  N#CC(OC1OC(COC2OC(CO)C(O)C(O)C2O)C(O)C(O)C1O)c...          -0.77"
      ]
     },
     "execution_count": 14,
     "metadata": {},
     "output_type": "execute_result"
    }
   ],
   "source": [
    "data = pd.read_csv(\"dat.csv\")\n",
    "data.head(1)"
   ]
  },
  {
   "cell_type": "code",
   "execution_count": 15,
   "id": "b097a9df",
   "metadata": {},
   "outputs": [
    {
     "data": {
      "text/html": [
       "<div>\n",
       "<style scoped>\n",
       "    .dataframe tbody tr th:only-of-type {\n",
       "        vertical-align: middle;\n",
       "    }\n",
       "\n",
       "    .dataframe tbody tr th {\n",
       "        vertical-align: top;\n",
       "    }\n",
       "\n",
       "    .dataframe thead th {\n",
       "        text-align: right;\n",
       "    }\n",
       "</style>\n",
       "<table border=\"1\" class=\"dataframe\">\n",
       "  <thead>\n",
       "    <tr style=\"text-align: right;\">\n",
       "      <th></th>\n",
       "      <th>smiles</th>\n",
       "      <th>logSolubility</th>\n",
       "      <th>ROMol</th>\n",
       "    </tr>\n",
       "  </thead>\n",
       "  <tbody>\n",
       "    <tr>\n",
       "      <th>0</th>\n",
       "      <td>N#CC(OC1OC(COC2OC(CO)C(O)C(O)C2O)C(O)C(O)C1O)c...</td>\n",
       "      <td>-0.77</td>\n",
       "      <td>&lt;img data-content=\"rdkit/molecule\" src=\"data:image/png;base64,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\" alt=\"Mol\"/&gt;</td>\n",
       "    </tr>\n",
       "  </tbody>\n",
       "</table>\n",
       "</div>"
      ],
      "text/plain": [
       "                                              smiles  logSolubility  \\\n",
       "0  N#CC(OC1OC(COC2OC(CO)C(O)C(O)C2O)C(O)C(O)C1O)c...          -0.77   \n",
       "\n",
       "                                               ROMol  \n",
       "0  <img data-content=\"rdkit/molecule\" src=\"data:i...  "
      ]
     },
     "execution_count": 15,
     "metadata": {},
     "output_type": "execute_result"
    }
   ],
   "source": [
    "PandasTools.AddMoleculeColumnToFrame(data,\n",
    "smilesCol='smiles');data.head(1)"
   ]
  },
  {
   "cell_type": "code",
   "execution_count": null,
   "id": "0a5d5e7d",
   "metadata": {},
   "outputs": [],
   "source": []
  }
 ],
 "metadata": {
  "kernelspec": {
   "display_name": "Python 3 (ipykernel)",
   "language": "python",
   "name": "python3"
  },
  "language_info": {
   "codemirror_mode": {
    "name": "ipython",
    "version": 3
   },
   "file_extension": ".py",
   "mimetype": "text/x-python",
   "name": "python",
   "nbconvert_exporter": "python",
   "pygments_lexer": "ipython3",
   "version": "3.10.7"
  }
 },
 "nbformat": 4,
 "nbformat_minor": 5
}
