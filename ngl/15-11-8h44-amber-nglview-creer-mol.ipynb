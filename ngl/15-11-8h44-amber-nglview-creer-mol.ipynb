{
 "cells": [
  {
   "cell_type": "markdown",
   "metadata": {},
   "source": [
    "##### Créer une molecule\n",
    "\n",
    "1)- Avec amber20"
   ]
  },
  {
   "cell_type": "code",
   "execution_count": 1,
   "metadata": {},
   "outputs": [
    {
     "data": {
      "application/vnd.jupyter.widget-view+json": {
       "model_id": "791c1ce2ef07480283ae685256a05811",
       "version_major": 2,
       "version_minor": 0
      },
      "text/plain": []
     },
     "metadata": {},
     "output_type": "display_data"
    },
    {
     "data": {
      "application/vnd.jupyter.widget-view+json": {
       "model_id": "c922b240e38043d28b88c0e51b8cf68d",
       "version_major": 2,
       "version_minor": 0
      },
      "text/plain": [
       "NGLWidget()"
      ]
     },
     "metadata": {},
     "output_type": "display_data"
    }
   ],
   "source": [
    "import warnings;warnings.filterwarnings('ignore')\n",
    "from __future__ import print_function\n",
    "import pytraj as pt;import nglview as nv\n",
    "traj = pt.load('peptide.pdb')\n",
    "#view.clear_representations()\n",
    "view = nv.show_pytraj(traj) \n",
    "view"
   ]
  },
  {
   "cell_type": "code",
   "execution_count": 2,
   "metadata": {},
   "outputs": [
    {
     "data": {
      "application/vnd.jupyter.widget-view+json": {
       "model_id": "545ac6a8794944d8aaad2e54d53e4055",
       "version_major": 2,
       "version_minor": 0
      },
      "text/plain": [
       "NGLWidget()"
      ]
     },
     "metadata": {},
     "output_type": "display_data"
    }
   ],
   "source": [
    "traj2 = pt.load('peptide.crd', 'peptide.top')\n",
    "# superpose to 1st frame, using only CA atoms\n",
    "traj2.superpose(ref=0, mask='@CG')\n",
    "traj2.superpose(ref=0, mask='@CB')\n",
    "#view2.clear_representations()\n",
    "view2 = nv.show_pytraj(traj2)\n",
    "view2.add_representation('ball+stick')\n",
    "view2.add_representation('licorice', selection='not hydrogen')\n",
    "view2"
   ]
  },
  {
   "cell_type": "code",
   "execution_count": 3,
   "metadata": {},
   "outputs": [
    {
     "data": {
      "application/vnd.jupyter.widget-view+json": {
       "model_id": "42594bac65a24dac9880968eb221c6a3",
       "version_major": 2,
       "version_minor": 0
      },
      "text/plain": [
       "NGLWidget()"
      ]
     },
     "metadata": {},
     "output_type": "display_data"
    }
   ],
   "source": [
    "traj3 = pt.load('peptide.pdb')\n",
    "view3 = nv.show_pytraj(traj3);view3.center();view3"
   ]
  },
  {
   "cell_type": "code",
   "execution_count": 4,
   "metadata": {},
   "outputs": [
    {
     "data": {
      "application/vnd.jupyter.widget-view+json": {
       "model_id": "42594bac65a24dac9880968eb221c6a3",
       "version_major": 2,
       "version_minor": 0
      },
      "text/plain": [
       "NGLWidget(n_components=1)"
      ]
     },
     "metadata": {},
     "output_type": "display_data"
    }
   ],
   "source": [
    "view3.add_representation('ball+stick');view3\n",
    "view3.add_representation('licorice', selection='not hydrogen')\n",
    "view3._load_data('6rqs.pdb')\n",
    "view.clear_representations()\n",
    "view3.add_surface(component=1, color='blue', \n",
    "wireframe=True, opacity=0.2, isolevel=3.);view3"
   ]
  },
  {
   "cell_type": "code",
   "execution_count": null,
   "metadata": {},
   "outputs": [],
   "source": []
  },
  {
   "cell_type": "code",
   "execution_count": null,
   "metadata": {},
   "outputs": [],
   "source": []
  },
  {
   "cell_type": "code",
   "execution_count": null,
   "metadata": {},
   "outputs": [],
   "source": []
  },
  {
   "cell_type": "code",
   "execution_count": null,
   "metadata": {},
   "outputs": [],
   "source": []
  }
 ],
 "metadata": {
  "kernelspec": {
   "display_name": "Python 3",
   "language": "python",
   "name": "python3"
  },
  "language_info": {
   "codemirror_mode": {
    "name": "ipython",
    "version": 3
   },
   "file_extension": ".py",
   "mimetype": "text/x-python",
   "name": "python",
   "nbconvert_exporter": "python",
   "pygments_lexer": "ipython3",
   "version": "3.9.4"
  }
 },
 "nbformat": 4,
 "nbformat_minor": 4
}
