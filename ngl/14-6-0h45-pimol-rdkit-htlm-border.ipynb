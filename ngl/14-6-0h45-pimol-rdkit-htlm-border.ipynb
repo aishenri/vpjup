{
 "cells": [
  {
   "cell_type": "code",
   "execution_count": 1,
   "id": "e263c56b",
   "metadata": {},
   "outputs": [],
   "source": [
    "import pymol;from pymol import cmd\n",
    "pymol.pymol_argv = ['pymol', '-qc']\n",
    "PNG_SIZE = (100, 100);"
   ]
  },
  {
   "cell_type": "code",
   "execution_count": 2,
   "id": "1e66f9ba",
   "metadata": {},
   "outputs": [],
   "source": [
    "from rdkit import Chem;from rdkit.Chem import AllChem\n",
    "from rdkit import RDConfig;import os\n",
    "from rdkit.Chem.Draw import IPythonConsole\n",
    "from rdkit.Chem import Draw;import cirpy\n",
    "smi = cirpy.resolve('imatinib', 'smiles',\n",
    "                    ['name_by_chemspider'])"
   ]
  },
  {
   "cell_type": "code",
   "execution_count": 3,
   "id": "7f799e45",
   "metadata": {},
   "outputs": [],
   "source": [
    "from rdkit.Chem import PyMol\n",
    "#mol = Chem.MolFromSmiles(smi)\n",
    "#print(smi);smi= Molecule.from_smiles('c1ccccc1-c1c(C)ccnc1')"
   ]
  },
  {
   "cell_type": "markdown",
   "id": "b4fa5cfe",
   "metadata": {},
   "source": [
    "import ipymol\n",
    "from psikit import Psikit\n",
    "#pk = Psikit()\n",
    "#v = ipymol.viewer\n",
    "#v.start() "
   ]
  },
  {
   "cell_type": "code",
   "execution_count": 4,
   "id": "4a15fe78",
   "metadata": {},
   "outputs": [
    {
     "name": "stdout",
     "output_type": "stream",
     "text": [
      "/home/pi/Documents/ngl\r\n"
     ]
    }
   ],
   "source": [
    "cmd.fragment('ala')\n",
    "!pwd"
   ]
  },
  {
   "cell_type": "markdown",
   "id": "9b0f121a",
   "metadata": {},
   "source": [
    "import os\n",
    "from rdkit import RDConfig\n",
    "from rdkit.Chem import AllChem\n",
    "from rdkit import Chem\n",
    "\n",
    "chain_suppl = Chem.SDMolSupplier('./chain_compounds.sdf', removeHs=False)\n",
    "chain_mols = [x for x in chain_suppl if x is not None]\n",
    "from rdkit.Chem.Features import ShowFeats\n",
    "test_m = chain_mols[0]\n",
    "rawFeats = fdef.GetFeaturesForMol(test_m)\n",
    "len(rawFeats)"
   ]
  },
  {
   "cell_type": "code",
   "execution_count": 5,
   "id": "c5bbfdd6",
   "metadata": {},
   "outputs": [],
   "source": [
    "def showMolFeats(mol,factory,viewer,name=\"mol\",showOnly=True):\n",
    "    featLabel = f'{name}-feats'\n",
    "    dirLabel = f'{name}-feats-dirs'\n",
    "    if(showOnly):\n",
    "        ShowFeats._globalSphereCGO = []\n",
    "        ShowFeats._globalArrowCGO = []\n",
    "    # workaround for what is either a bug in the way pymol handles CGOs\n",
    "    # or a gap in my understanding of how it should work\n",
    "    viewer.server.resetCGO(featLabel)\n",
    "    viewer.server.resetCGO(dirLabel)\n",
    "    viewer.server.sphere((0, 0, 0), .01, (1, 0, 1), featLabel)\n",
    "    viewer.server.cylinder((0, 0, 0), (.01, .01, .01), .01, (1, 0, 1), dirLabel)\n",
    "    ShowFeats.ShowMolFeats(mol,factory,v,name=name,featLabel=featLabel,dirLabel=dirLabel,\n",
    "                           useFeatDirs=False,showOnly=showOnly)\n",
    "    viewer.server.renderCGO(ShowFeats._globalSphereCGO,featLabel,1)\n",
    "    viewer.server.renderCGO(ShowFeats._globalArrowCGO,dirLabel,1)"
   ]
  },
  {
   "cell_type": "code",
   "execution_count": 6,
   "id": "389e653c",
   "metadata": {},
   "outputs": [],
   "source": [
    "from rdkit.Chem import PyMol\n",
    "#mol = Chem.MolFromSmiles(smi)"
   ]
  },
  {
   "cell_type": "code",
   "execution_count": 7,
   "id": "11549cb1",
   "metadata": {},
   "outputs": [],
   "source": [
    "import sys\n",
    "import pymol\n",
    "_stdouterr = sys.stdout, sys.stderr\n",
    "pymol.finish_launching(['pymol', '-q'])\n",
    "sys.stdout, sys.stderr = _stdouterr"
   ]
  },
  {
   "cell_type": "code",
   "execution_count": 8,
   "id": "5d662aee",
   "metadata": {},
   "outputs": [],
   "source": [
    "from pymol import cmd\n",
    "cmd.fragment('ala')"
   ]
  },
  {
   "cell_type": "code",
   "execution_count": 9,
   "id": "8b7db4f8",
   "metadata": {},
   "outputs": [],
   "source": [
    "pymol.pymol_argv = ['pymol','-c']\n",
    "pymol.finish_launching()"
   ]
  },
  {
   "cell_type": "code",
   "execution_count": 10,
   "id": "2a9b2304",
   "metadata": {},
   "outputs": [],
   "source": [
    "#from ipymol import viewer as pymol\n",
    "#pymol.start()"
   ]
  },
  {
   "cell_type": "code",
   "execution_count": 11,
   "id": "4415aa63",
   "metadata": {},
   "outputs": [],
   "source": [
    "cmd.fragment('ala');cmd.show(\"cartoon\")"
   ]
  },
  {
   "cell_type": "code",
   "execution_count": 12,
   "id": "a26953a9",
   "metadata": {},
   "outputs": [
    {
     "data": {
      "text/html": [
       "<table style=\"border:2px solid black;border-collapse:collapse;\"><tr>\n",
       "<th style=\"border:2px solid black;\">un</th><th style=\"border:2px solid\n",
       "black;\">deux</th></tr><tr><td style=\"border:2px solid red;\">Benzene\n",
       "</td><td style=\"border:2px solid red;\">Table cell 2</td></tr><tr>\n",
       "<td style=\"border:2px solid red;\">Table cell 3</td><td \n",
       "style=\"border:2px solid red;\">Table cell 4</td></tr></table>\n"
      ],
      "text/plain": [
       "<IPython.core.display.HTML object>"
      ]
     },
     "metadata": {},
     "output_type": "display_data"
    }
   ],
   "source": [
    "%%html\n",
    "<table style=\"border:2px solid black;border-collapse:collapse;\"><tr>\n",
    "<th style=\"border:2px solid black;\">un</th><th style=\"border:2px solid\n",
    "black;\">deux</th></tr><tr><td style=\"border:2px solid red;\">Benzene\n",
    "</td><td style=\"border:2px solid red;\">Table cell 2</td></tr><tr>\n",
    "<td style=\"border:2px solid red;\">Table cell 3</td><td \n",
    "style=\"border:2px solid red;\">Table cell 4</td></tr></table>"
   ]
  },
  {
   "cell_type": "code",
   "execution_count": 13,
   "id": "278c680b",
   "metadata": {},
   "outputs": [
    {
     "data": {
      "application/3dmoljs_load.v0": "<div id=\"3dmolviewer_16669825359727411\"  style=\"position: relative; width: 100px; height: 100px\">\n        <p id=\"3dmolwarning_16669825359727411\" style=\"background-color:#ffcccc;color:black\">You appear to be running in JupyterLab (or JavaScript failed to load for some other reason).  You need to install the 3dmol extension: <br>\n        <tt>jupyter labextension install jupyterlab_3dmol</tt></p>\n        </div>\n<script>\n\nvar loadScriptAsync = function(uri){\n  return new Promise((resolve, reject) => {\n    var tag = document.createElement('script');\n    tag.src = uri;\n    tag.async = true;\n    tag.onload = () => {\n      resolve();\n    };\n  var firstScriptTag = document.getElementsByTagName('script')[0];\n  firstScriptTag.parentNode.insertBefore(tag, firstScriptTag);\n});\n};\n\nif(typeof $3Dmolpromise === 'undefined') {\n$3Dmolpromise = null;\n  $3Dmolpromise = loadScriptAsync('https://3dmol.org/build/3Dmol.js');\n}\n\nvar viewer_16669825359727411 = null;\nvar warn = document.getElementById(\"3dmolwarning_16669825359727411\");\nif(warn) {\n    warn.parentNode.removeChild(warn);\n}\n$3Dmolpromise.then(function() {\nviewer_16669825359727411 = $3Dmol.createViewer($(\"#3dmolviewer_16669825359727411\"),{backgroundColor:\"white\"});\nviewer_16669825359727411.zoomTo();\n\tviewer_16669825359727411.addModel(\"\\n     RDKit          3D\\n\\n  6  6  0  0  0  0  0  0  0  0999 V2000\\n   -0.9517    0.7811   -0.6622 C   0  0  0  0  0  0  0  0  0  0  0  0\\n    0.2847    1.3329   -0.3121 C   0  0  0  0  0  0  0  0  0  0  0  0\\n    1.2365    0.5518    0.3512 C   0  0  0  0  0  0  0  0  0  0  0  0\\n    0.9517   -0.7811    0.6644 C   0  0  0  0  0  0  0  0  0  0  0  0\\n   -0.2847   -1.3329    0.3144 C   0  0  0  0  0  0  0  0  0  0  0  0\\n   -1.2365   -0.5518   -0.3489 C   0  0  0  0  0  0  0  0  0  0  0  0\\n  1  2  2  0\\n  2  3  1  0\\n  3  4  2  0\\n  4  5  1  0\\n  5  6  2  0\\n  6  1  1  0\\nM  END\\n$$$$\",\"sdf\");\n\tviewer_16669825359727411.setStyle({\"stick\": {}});\n\tviewer_16669825359727411.zoomTo();\nviewer_16669825359727411.render();\n});\n</script><script>$(\"#left\").append($(\"#3dmolviewer_16669825359727411\")); </script>",
      "text/html": [
       "<div id=\"3dmolviewer_16669825359727411\"  style=\"position: relative; width: 100px; height: 100px\">\n",
       "        <p id=\"3dmolwarning_16669825359727411\" style=\"background-color:#ffcccc;color:black\">You appear to be running in JupyterLab (or JavaScript failed to load for some other reason).  You need to install the 3dmol extension: <br>\n",
       "        <tt>jupyter labextension install jupyterlab_3dmol</tt></p>\n",
       "        </div>\n",
       "<script>\n",
       "\n",
       "var loadScriptAsync = function(uri){\n",
       "  return new Promise((resolve, reject) => {\n",
       "    var tag = document.createElement('script');\n",
       "    tag.src = uri;\n",
       "    tag.async = true;\n",
       "    tag.onload = () => {\n",
       "      resolve();\n",
       "    };\n",
       "  var firstScriptTag = document.getElementsByTagName('script')[0];\n",
       "  firstScriptTag.parentNode.insertBefore(tag, firstScriptTag);\n",
       "});\n",
       "};\n",
       "\n",
       "if(typeof $3Dmolpromise === 'undefined') {\n",
       "$3Dmolpromise = null;\n",
       "  $3Dmolpromise = loadScriptAsync('https://3dmol.org/build/3Dmol.js');\n",
       "}\n",
       "\n",
       "var viewer_16669825359727411 = null;\n",
       "var warn = document.getElementById(\"3dmolwarning_16669825359727411\");\n",
       "if(warn) {\n",
       "    warn.parentNode.removeChild(warn);\n",
       "}\n",
       "$3Dmolpromise.then(function() {\n",
       "viewer_16669825359727411 = $3Dmol.createViewer($(\"#3dmolviewer_16669825359727411\"),{backgroundColor:\"white\"});\n",
       "viewer_16669825359727411.zoomTo();\n",
       "\tviewer_16669825359727411.addModel(\"\\n     RDKit          3D\\n\\n  6  6  0  0  0  0  0  0  0  0999 V2000\\n   -0.9517    0.7811   -0.6622 C   0  0  0  0  0  0  0  0  0  0  0  0\\n    0.2847    1.3329   -0.3121 C   0  0  0  0  0  0  0  0  0  0  0  0\\n    1.2365    0.5518    0.3512 C   0  0  0  0  0  0  0  0  0  0  0  0\\n    0.9517   -0.7811    0.6644 C   0  0  0  0  0  0  0  0  0  0  0  0\\n   -0.2847   -1.3329    0.3144 C   0  0  0  0  0  0  0  0  0  0  0  0\\n   -1.2365   -0.5518   -0.3489 C   0  0  0  0  0  0  0  0  0  0  0  0\\n  1  2  2  0\\n  2  3  1  0\\n  3  4  2  0\\n  4  5  1  0\\n  5  6  2  0\\n  6  1  1  0\\nM  END\\n$$$$\",\"sdf\");\n",
       "\tviewer_16669825359727411.setStyle({\"stick\": {}});\n",
       "\tviewer_16669825359727411.zoomTo();\n",
       "viewer_16669825359727411.render();\n",
       "});\n",
       "</script><script>$(\"#left\").append($(\"#3dmolviewer_16669825359727411\")); </script>"
      ]
     },
     "metadata": {},
     "output_type": "display_data"
    }
   ],
   "source": [
    "import py3Dmol\n",
    "\n",
    "benz='''\n",
    "     RDKit          3D\n",
    "\n",
    "  6  6  0  0  0  0  0  0  0  0999 V2000\n",
    "   -0.9517    0.7811   -0.6622 C   0  0  0  0  0  0  0  0  0  0  0  0\n",
    "    0.2847    1.3329   -0.3121 C   0  0  0  0  0  0  0  0  0  0  0  0\n",
    "    1.2365    0.5518    0.3512 C   0  0  0  0  0  0  0  0  0  0  0  0\n",
    "    0.9517   -0.7811    0.6644 C   0  0  0  0  0  0  0  0  0  0  0  0\n",
    "   -0.2847   -1.3329    0.3144 C   0  0  0  0  0  0  0  0  0  0  0  0\n",
    "   -1.2365   -0.5518   -0.3489 C   0  0  0  0  0  0  0  0  0  0  0  0\n",
    "  1  2  2  0\n",
    "  2  3  1  0\n",
    "  3  4  2  0\n",
    "  4  5  1  0\n",
    "  5  6  2  0\n",
    "  6  1  1  0\n",
    "M  END\n",
    "$$$$'''\n",
    "view = py3Dmol.view(width=100,height=100)\n",
    "view.addModel(benz,'sdf')\n",
    "view.setStyle({'stick':{}})\n",
    "view.zoomTo()\n",
    "view.insert('left')"
   ]
  },
  {
   "cell_type": "code",
   "execution_count": 14,
   "id": "41a71afb",
   "metadata": {},
   "outputs": [
    {
     "data": {
      "application/3dmoljs_load.v0": "<div id=\"3dmolviewer_16669825359792993\"  style=\"position: relative; width: 100px; height: 100px\">\n        <p id=\"3dmolwarning_16669825359792993\" style=\"background-color:#ffcccc;color:black\">You appear to be running in JupyterLab (or JavaScript failed to load for some other reason).  You need to install the 3dmol extension: <br>\n        <tt>jupyter labextension install jupyterlab_3dmol</tt></p>\n        </div>\n<script>\n\nvar loadScriptAsync = function(uri){\n  return new Promise((resolve, reject) => {\n    var tag = document.createElement('script');\n    tag.src = uri;\n    tag.async = true;\n    tag.onload = () => {\n      resolve();\n    };\n  var firstScriptTag = document.getElementsByTagName('script')[0];\n  firstScriptTag.parentNode.insertBefore(tag, firstScriptTag);\n});\n};\n\nif(typeof $3Dmolpromise === 'undefined') {\n$3Dmolpromise = null;\n  $3Dmolpromise = loadScriptAsync('https://3dmol.org/build/3Dmol.js');\n}\n\nvar viewer_16669825359792993 = null;\nvar warn = document.getElementById(\"3dmolwarning_16669825359792993\");\nif(warn) {\n    warn.parentNode.removeChild(warn);\n}\n$3Dmolpromise.then(function() {\nviewer_16669825359792993 = $3Dmol.createViewer($(\"#3dmolviewer_16669825359792993\"),{backgroundColor:\"white\"});\n$3Dmol.download(\"mmtf:1ycr\", viewer_16669825359792993, {}, function() {\nviewer_16669825359792993.zoomTo();\n\tviewer_16669825359792993.setStyle({\"cartoon\": {\"color\": \"spectrum\"}});\nviewer_16669825359792993.render();\n})\n});\n</script>",
      "text/html": [
       "<div id=\"3dmolviewer_16669825359792993\"  style=\"position: relative; width: 100px; height: 100px\">\n",
       "        <p id=\"3dmolwarning_16669825359792993\" style=\"background-color:#ffcccc;color:black\">You appear to be running in JupyterLab (or JavaScript failed to load for some other reason).  You need to install the 3dmol extension: <br>\n",
       "        <tt>jupyter labextension install jupyterlab_3dmol</tt></p>\n",
       "        </div>\n",
       "<script>\n",
       "\n",
       "var loadScriptAsync = function(uri){\n",
       "  return new Promise((resolve, reject) => {\n",
       "    var tag = document.createElement('script');\n",
       "    tag.src = uri;\n",
       "    tag.async = true;\n",
       "    tag.onload = () => {\n",
       "      resolve();\n",
       "    };\n",
       "  var firstScriptTag = document.getElementsByTagName('script')[0];\n",
       "  firstScriptTag.parentNode.insertBefore(tag, firstScriptTag);\n",
       "});\n",
       "};\n",
       "\n",
       "if(typeof $3Dmolpromise === 'undefined') {\n",
       "$3Dmolpromise = null;\n",
       "  $3Dmolpromise = loadScriptAsync('https://3dmol.org/build/3Dmol.js');\n",
       "}\n",
       "\n",
       "var viewer_16669825359792993 = null;\n",
       "var warn = document.getElementById(\"3dmolwarning_16669825359792993\");\n",
       "if(warn) {\n",
       "    warn.parentNode.removeChild(warn);\n",
       "}\n",
       "$3Dmolpromise.then(function() {\n",
       "viewer_16669825359792993 = $3Dmol.createViewer($(\"#3dmolviewer_16669825359792993\"),{backgroundColor:\"white\"});\n",
       "$3Dmol.download(\"mmtf:1ycr\", viewer_16669825359792993, {}, function() {\n",
       "viewer_16669825359792993.zoomTo();\n",
       "\tviewer_16669825359792993.setStyle({\"cartoon\": {\"color\": \"spectrum\"}});\n",
       "viewer_16669825359792993.render();\n",
       "})\n",
       "});\n",
       "</script>"
      ]
     },
     "metadata": {},
     "output_type": "display_data"
    },
    {
     "data": {
      "text/plain": [
       "<py3Dmol.view at 0x7fccfd4b17e0>"
      ]
     },
     "execution_count": 14,
     "metadata": {},
     "output_type": "execute_result"
    }
   ],
   "source": [
    "p = py3Dmol.view(query='mmtf:1ycr',width=100,height=100)\n",
    "p.setStyle({'cartoon': {'color':'spectrum'}});p"
   ]
  },
  {
   "cell_type": "code",
   "execution_count": 15,
   "id": "9624e984",
   "metadata": {},
   "outputs": [],
   "source": [
    "xyz = '''4\n",
    "* (null), Energy   -1000.0000000\n",
    "N     0.000005    0.019779   -0.000003   -0.157114    0.000052   -0.012746\n",
    "H     0.931955   -0.364989    0.000003    1.507100   -0.601158   -0.004108\n",
    "H    -0.465975   -0.364992    0.807088    0.283368    0.257996   -0.583024\n",
    "H    -0.465979   -0.364991   -0.807088    0.392764    0.342436    0.764260\n",
    "'''"
   ]
  },
  {
   "cell_type": "code",
   "execution_count": 16,
   "id": "f4735e6f",
   "metadata": {},
   "outputs": [
    {
     "data": {
      "application/3dmoljs_load.v0": "<div id=\"3dmolviewer_16669825359939723\"  style=\"position: relative; width: 100px; height: 100px\">\n        <p id=\"3dmolwarning_16669825359939723\" style=\"background-color:#ffcccc;color:black\">You appear to be running in JupyterLab (or JavaScript failed to load for some other reason).  You need to install the 3dmol extension: <br>\n        <tt>jupyter labextension install jupyterlab_3dmol</tt></p>\n        </div>\n<script>\n\nvar loadScriptAsync = function(uri){\n  return new Promise((resolve, reject) => {\n    var tag = document.createElement('script');\n    tag.src = uri;\n    tag.async = true;\n    tag.onload = () => {\n      resolve();\n    };\n  var firstScriptTag = document.getElementsByTagName('script')[0];\n  firstScriptTag.parentNode.insertBefore(tag, firstScriptTag);\n});\n};\n\nif(typeof $3Dmolpromise === 'undefined') {\n$3Dmolpromise = null;\n  $3Dmolpromise = loadScriptAsync('https://3dmol.org/build/3Dmol.js');\n}\n\nvar viewer_16669825359939723 = null;\nvar warn = document.getElementById(\"3dmolwarning_16669825359939723\");\nif(warn) {\n    warn.parentNode.removeChild(warn);\n}\n$3Dmolpromise.then(function() {\nviewer_16669825359939723 = $3Dmol.createViewer($(\"#3dmolviewer_16669825359939723\"),{backgroundColor:\"white\"});\nviewer_16669825359939723.zoomTo();\n\tviewer_16669825359939723.addModel(\"4\\n* (null), Energy   -1000.0000000\\nN     0.000005    0.019779   -0.000003   -0.157114    0.000052   -0.012746\\nH     0.931955   -0.364989    0.000003    1.507100   -0.601158   -0.004108\\nH    -0.465975   -0.364992    0.807088    0.283368    0.257996   -0.583024\\nH    -0.465979   -0.364991   -0.807088    0.392764    0.342436    0.764260\\n\",\"xyz\",{\"vibrate\": {\"frames\": 10, \"amplitude\": 1}});\n\tviewer_16669825359939723.setStyle({\"stick\": {}});\n\tviewer_16669825359939723.setBackgroundColor(\"0xeeeeee\");\n\tviewer_16669825359939723.animate({\"loop\": \"backAndForth\"});\n\tviewer_16669825359939723.zoomTo();\nviewer_16669825359939723.render();\n});\n</script>",
      "text/html": [
       "<div id=\"3dmolviewer_16669825359939723\"  style=\"position: relative; width: 100px; height: 100px\">\n",
       "        <p id=\"3dmolwarning_16669825359939723\" style=\"background-color:#ffcccc;color:black\">You appear to be running in JupyterLab (or JavaScript failed to load for some other reason).  You need to install the 3dmol extension: <br>\n",
       "        <tt>jupyter labextension install jupyterlab_3dmol</tt></p>\n",
       "        </div>\n",
       "<script>\n",
       "\n",
       "var loadScriptAsync = function(uri){\n",
       "  return new Promise((resolve, reject) => {\n",
       "    var tag = document.createElement('script');\n",
       "    tag.src = uri;\n",
       "    tag.async = true;\n",
       "    tag.onload = () => {\n",
       "      resolve();\n",
       "    };\n",
       "  var firstScriptTag = document.getElementsByTagName('script')[0];\n",
       "  firstScriptTag.parentNode.insertBefore(tag, firstScriptTag);\n",
       "});\n",
       "};\n",
       "\n",
       "if(typeof $3Dmolpromise === 'undefined') {\n",
       "$3Dmolpromise = null;\n",
       "  $3Dmolpromise = loadScriptAsync('https://3dmol.org/build/3Dmol.js');\n",
       "}\n",
       "\n",
       "var viewer_16669825359939723 = null;\n",
       "var warn = document.getElementById(\"3dmolwarning_16669825359939723\");\n",
       "if(warn) {\n",
       "    warn.parentNode.removeChild(warn);\n",
       "}\n",
       "$3Dmolpromise.then(function() {\n",
       "viewer_16669825359939723 = $3Dmol.createViewer($(\"#3dmolviewer_16669825359939723\"),{backgroundColor:\"white\"});\n",
       "viewer_16669825359939723.zoomTo();\n",
       "\tviewer_16669825359939723.addModel(\"4\\n* (null), Energy   -1000.0000000\\nN     0.000005    0.019779   -0.000003   -0.157114    0.000052   -0.012746\\nH     0.931955   -0.364989    0.000003    1.507100   -0.601158   -0.004108\\nH    -0.465975   -0.364992    0.807088    0.283368    0.257996   -0.583024\\nH    -0.465979   -0.364991   -0.807088    0.392764    0.342436    0.764260\\n\",\"xyz\",{\"vibrate\": {\"frames\": 10, \"amplitude\": 1}});\n",
       "\tviewer_16669825359939723.setStyle({\"stick\": {}});\n",
       "\tviewer_16669825359939723.setBackgroundColor(\"0xeeeeee\");\n",
       "\tviewer_16669825359939723.animate({\"loop\": \"backAndForth\"});\n",
       "\tviewer_16669825359939723.zoomTo();\n",
       "viewer_16669825359939723.render();\n",
       "});\n",
       "</script>"
      ]
     },
     "metadata": {},
     "output_type": "display_data"
    }
   ],
   "source": [
    "xyzview = py3Dmol.view(width=100,height=100)\n",
    "xyzview.addModel(xyz,'xyz',{'vibrate': {'frames':10,'amplitude':1}})\n",
    "xyzview.setStyle({'stick':{}});xyzview.setBackgroundColor('0xeeeeee')\n",
    "xyzview.animate({'loop': 'backAndForth'});xyzview.zoomTo();xyzview.show()"
   ]
  },
  {
   "cell_type": "code",
   "execution_count": 17,
   "id": "45c641e5",
   "metadata": {},
   "outputs": [
    {
     "data": {
      "application/3dmoljs_load.v0": "<div id=\"3dmolviewer_16669825360018506\"  style=\"position: relative; width: 100px; height: 100px\">\n        <p id=\"3dmolwarning_16669825360018506\" style=\"background-color:#ffcccc;color:black\">You appear to be running in JupyterLab (or JavaScript failed to load for some other reason).  You need to install the 3dmol extension: <br>\n        <tt>jupyter labextension install jupyterlab_3dmol</tt></p>\n        </div>\n<script>\n\nvar loadScriptAsync = function(uri){\n  return new Promise((resolve, reject) => {\n    var tag = document.createElement('script');\n    tag.src = uri;\n    tag.async = true;\n    tag.onload = () => {\n      resolve();\n    };\n  var firstScriptTag = document.getElementsByTagName('script')[0];\n  firstScriptTag.parentNode.insertBefore(tag, firstScriptTag);\n});\n};\n\nif(typeof $3Dmolpromise === 'undefined') {\n$3Dmolpromise = null;\n  $3Dmolpromise = loadScriptAsync('https://3dmol.org/build/3Dmol.js');\n}\n\nvar viewer_16669825360018506 = null;\nvar warn = document.getElementById(\"3dmolwarning_16669825360018506\");\nif(warn) {\n    warn.parentNode.removeChild(warn);\n}\n$3Dmolpromise.then(function() {\nviewer_16669825360018506 = $3Dmol.createViewer($(\"#3dmolviewer_16669825360018506\"),{backgroundColor:\"white\"});\nviewer_16669825360018506.addModel(\"\\n     RDKit          3D\\n\\n  6  6  0  0  0  0  0  0  0  0999 V2000\\n   -0.9517    0.7811   -0.6622 C   0  0  0  0  0  0  0  0  0  0  0  0\\n    0.2847    1.3329   -0.3121 C   0  0  0  0  0  0  0  0  0  0  0  0\\n    1.2365    0.5518    0.3512 C   0  0  0  0  0  0  0  0  0  0  0  0\\n    0.9517   -0.7811    0.6644 C   0  0  0  0  0  0  0  0  0  0  0  0\\n   -0.2847   -1.3329    0.3144 C   0  0  0  0  0  0  0  0  0  0  0  0\\n   -1.2365   -0.5518   -0.3489 C   0  0  0  0  0  0  0  0  0  0  0  0\\n  1  2  2  0\\n  2  3  1  0\\n  3  4  2  0\\n  4  5  1  0\\n  5  6  2  0\\n  6  1  1  0\\nM  END\\n$$$$\");\nviewer_16669825360018506.setStyle({\"stick\": {\"colorscheme\": \"cyanCarbon\"}});\nviewer_16669825360018506.zoomTo();\nviewer_16669825360018506.render();\n});\n</script>",
      "text/html": [
       "<div id=\"3dmolviewer_16669825360018506\"  style=\"position: relative; width: 100px; height: 100px\">\n",
       "        <p id=\"3dmolwarning_16669825360018506\" style=\"background-color:#ffcccc;color:black\">You appear to be running in JupyterLab (or JavaScript failed to load for some other reason).  You need to install the 3dmol extension: <br>\n",
       "        <tt>jupyter labextension install jupyterlab_3dmol</tt></p>\n",
       "        </div>\n",
       "<script>\n",
       "\n",
       "var loadScriptAsync = function(uri){\n",
       "  return new Promise((resolve, reject) => {\n",
       "    var tag = document.createElement('script');\n",
       "    tag.src = uri;\n",
       "    tag.async = true;\n",
       "    tag.onload = () => {\n",
       "      resolve();\n",
       "    };\n",
       "  var firstScriptTag = document.getElementsByTagName('script')[0];\n",
       "  firstScriptTag.parentNode.insertBefore(tag, firstScriptTag);\n",
       "});\n",
       "};\n",
       "\n",
       "if(typeof $3Dmolpromise === 'undefined') {\n",
       "$3Dmolpromise = null;\n",
       "  $3Dmolpromise = loadScriptAsync('https://3dmol.org/build/3Dmol.js');\n",
       "}\n",
       "\n",
       "var viewer_16669825360018506 = null;\n",
       "var warn = document.getElementById(\"3dmolwarning_16669825360018506\");\n",
       "if(warn) {\n",
       "    warn.parentNode.removeChild(warn);\n",
       "}\n",
       "$3Dmolpromise.then(function() {\n",
       "viewer_16669825360018506 = $3Dmol.createViewer($(\"#3dmolviewer_16669825360018506\"),{backgroundColor:\"white\"});\n",
       "viewer_16669825360018506.addModel(\"\\n     RDKit          3D\\n\\n  6  6  0  0  0  0  0  0  0  0999 V2000\\n   -0.9517    0.7811   -0.6622 C   0  0  0  0  0  0  0  0  0  0  0  0\\n    0.2847    1.3329   -0.3121 C   0  0  0  0  0  0  0  0  0  0  0  0\\n    1.2365    0.5518    0.3512 C   0  0  0  0  0  0  0  0  0  0  0  0\\n    0.9517   -0.7811    0.6644 C   0  0  0  0  0  0  0  0  0  0  0  0\\n   -0.2847   -1.3329    0.3144 C   0  0  0  0  0  0  0  0  0  0  0  0\\n   -1.2365   -0.5518   -0.3489 C   0  0  0  0  0  0  0  0  0  0  0  0\\n  1  2  2  0\\n  2  3  1  0\\n  3  4  2  0\\n  4  5  1  0\\n  5  6  2  0\\n  6  1  1  0\\nM  END\\n$$$$\");\n",
       "viewer_16669825360018506.setStyle({\"stick\": {\"colorscheme\": \"cyanCarbon\"}});\n",
       "viewer_16669825360018506.zoomTo();\n",
       "viewer_16669825360018506.render();\n",
       "});\n",
       "</script>"
      ]
     },
     "metadata": {},
     "output_type": "display_data"
    }
   ],
   "source": [
    "benz='''\n",
    "     RDKit          3D\n",
    "\n",
    "  6  6  0  0  0  0  0  0  0  0999 V2000\n",
    "   -0.9517    0.7811   -0.6622 C   0  0  0  0  0  0  0  0  0  0  0  0\n",
    "    0.2847    1.3329   -0.3121 C   0  0  0  0  0  0  0  0  0  0  0  0\n",
    "    1.2365    0.5518    0.3512 C   0  0  0  0  0  0  0  0  0  0  0  0\n",
    "    0.9517   -0.7811    0.6644 C   0  0  0  0  0  0  0  0  0  0  0  0\n",
    "   -0.2847   -1.3329    0.3144 C   0  0  0  0  0  0  0  0  0  0  0  0\n",
    "   -1.2365   -0.5518   -0.3489 C   0  0  0  0  0  0  0  0  0  0  0  0\n",
    "  1  2  2  0\n",
    "  2  3  1  0\n",
    "  3  4  2  0\n",
    "  4  5  1  0\n",
    "  5  6  2  0\n",
    "  6  1  1  0\n",
    "M  END\n",
    "$$$$'''\n",
    "view = py3Dmol.view(data=benz,style={'stick':\n",
    "{'colorscheme':'cyanCarbon'}},width=100,height=100)\n",
    "view.show()"
   ]
  },
  {
   "cell_type": "code",
   "execution_count": null,
   "id": "64179e04",
   "metadata": {},
   "outputs": [],
   "source": []
  }
 ],
 "metadata": {
  "kernelspec": {
   "display_name": "Python 3 (ipykernel)",
   "language": "python",
   "name": "python3"
  },
  "language_info": {
   "codemirror_mode": {
    "name": "ipython",
    "version": 3
   },
   "file_extension": ".py",
   "mimetype": "text/x-python",
   "name": "python",
   "nbconvert_exporter": "python",
   "pygments_lexer": "ipython3",
   "version": "3.10.7"
  }
 },
 "nbformat": 4,
 "nbformat_minor": 5
}
